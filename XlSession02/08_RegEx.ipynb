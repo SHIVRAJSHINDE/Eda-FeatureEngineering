{
 "cells": [
  {
   "cell_type": "code",
   "execution_count": 2,
   "id": "92b116ce",
   "metadata": {},
   "outputs": [],
   "source": [
    "import re\n",
    "\n",
    "#  full form of regex:regular expression\n",
    "#  work with string , \n",
    "#  RE has more features, Fast\n",
    "#  Scalability \n"
   ]
  },
  {
   "cell_type": "markdown",
   "id": "9eebf29d-495d-4f0f-ba2d-f9ca194088ec",
   "metadata": {},
   "source": [
    "# Search"
   ]
  },
  {
   "cell_type": "code",
   "execution_count": null,
   "id": "45d2d836-6536-4635-8eb9-7a368876c5b2",
   "metadata": {},
   "outputs": [],
   "source": []
  },
  {
   "cell_type": "code",
   "execution_count": null,
   "id": "ea894f31-8246-45be-8b3c-ccda66aaec9f",
   "metadata": {},
   "outputs": [],
   "source": [
    "abc = \"this is python python course\"\n",
    "\n",
    "pattern = \"python\"\n",
    "\n",
    "value = re.search(pattern, abc)\n",
    "print(value)\n",
    "print(value.group())\n",
    "bool(value.group())\n"
   ]
  },
  {
   "cell_type": "code",
   "execution_count": null,
   "id": "36126127-b7e2-46fd-acdf-8eb9fb4bdd42",
   "metadata": {},
   "outputs": [],
   "source": [
    "\n"
   ]
  },
  {
   "cell_type": "markdown",
   "id": "6576c779-7b8f-4f73-913f-135fd9f15ada",
   "metadata": {},
   "source": [
    "# findall"
   ]
  },
  {
   "cell_type": "code",
   "execution_count": 5,
   "id": "5a2b952c-6711-449c-b11d-b514780d3651",
   "metadata": {},
   "outputs": [
    {
     "data": {
      "text/plain": [
       "['python', 'python']"
      ]
     },
     "execution_count": 5,
     "metadata": {},
     "output_type": "execute_result"
    }
   ],
   "source": [
    "\n",
    "abc = \"this is python python course\"\n",
    "pattern = \"python\"\n",
    "\n",
    "value = re.findall(pattern, abc)\n",
    "value\n",
    "# iterable "
   ]
  },
  {
   "cell_type": "markdown",
   "id": "d6c96c25-8060-4b36-897d-5bd4cb805412",
   "metadata": {},
   "source": [
    "# finditer"
   ]
  },
  {
   "cell_type": "code",
   "execution_count": 6,
   "id": "a49f5875-9d11-447b-9e7c-60eb02dbfb5a",
   "metadata": {},
   "outputs": [
    {
     "data": {
      "text/plain": [
       "<callable_iterator at 0x1d89d9f9ff0>"
      ]
     },
     "execution_count": 6,
     "metadata": {},
     "output_type": "execute_result"
    }
   ],
   "source": [
    "pattern = \"python\"\n",
    "abc = \"this is python python course\"\n",
    "\n",
    "value = re.finditer(pattern, abc)\n",
    "value\n",
    "# iterator\n"
   ]
  },
  {
   "cell_type": "code",
   "execution_count": 7,
   "id": "c03ca1cd-4c00-4ab8-b812-9e1c8465eca4",
   "metadata": {},
   "outputs": [
    {
     "name": "stdout",
     "output_type": "stream",
     "text": [
      "<re.Match object; span=(8, 14), match='python'>\n",
      "<re.Match object; span=(15, 21), match='python'>\n"
     ]
    }
   ],
   "source": [
    "pattern = \"python\"\n",
    "abc = \"this is python python course\"\n",
    "\n",
    "value = re.finditer(pattern, abc)\n",
    "for i in value:\n",
    "    print(i)\n"
   ]
  },
  {
   "cell_type": "code",
   "execution_count": 8,
   "id": "d760384f-742d-45fe-8287-713329432c60",
   "metadata": {},
   "outputs": [
    {
     "name": "stdout",
     "output_type": "stream",
     "text": [
      "python\n",
      "python\n"
     ]
    }
   ],
   "source": [
    "pattern = \"python\"\n",
    "abc = \"this is python python course\"\n",
    "\n",
    "value = re.finditer(pattern, abc)\n",
    "for i in value:\n",
    "    print(i.group())\n"
   ]
  },
  {
   "cell_type": "code",
   "execution_count": null,
   "id": "358b960a-98ba-41ca-bd8c-7f3ed9126fb3",
   "metadata": {},
   "outputs": [],
   "source": []
  },
  {
   "cell_type": "code",
   "execution_count": 9,
   "id": "04a329d6-af90-424a-8ba2-bb2daaa7f331",
   "metadata": {},
   "outputs": [
    {
     "name": "stdout",
     "output_type": "stream",
     "text": [
      "8 14\n",
      "15 21\n"
     ]
    }
   ],
   "source": [
    "pattern = \"python\"\n",
    "abc = \"this is python python course\"\n",
    "\n",
    "value = re.finditer(pattern, abc)\n",
    "for i in value:\n",
    "    print(i.start(),i.end())\n"
   ]
  },
  {
   "cell_type": "markdown",
   "id": "d1585842-878a-4200-924c-daddd6e90230",
   "metadata": {},
   "source": [
    "# split"
   ]
  },
  {
   "cell_type": "code",
   "execution_count": 10,
   "id": "4d8fbfd5-6d91-4cae-838b-65ca2439490b",
   "metadata": {},
   "outputs": [
    {
     "data": {
      "text/plain": [
       "['this', 'is', 'python', 'python', 'course']"
      ]
     },
     "execution_count": 10,
     "metadata": {},
     "output_type": "execute_result"
    }
   ],
   "source": [
    "\n",
    "abc = \"this is python python course\"\n",
    "pattern = \" \"\n",
    "\n",
    "re.split(pattern,abc)\n"
   ]
  },
  {
   "cell_type": "code",
   "execution_count": 11,
   "id": "106e3a28-f67b-4c01-9c4a-fc260c566e4b",
   "metadata": {},
   "outputs": [
    {
     "data": {
      "text/plain": [
       "['this', 'is', 'python', 'python', 'course']"
      ]
     },
     "execution_count": 11,
     "metadata": {},
     "output_type": "execute_result"
    }
   ],
   "source": [
    "\n",
    "abc = \"this,is,python,python,course\"\n",
    "\n",
    "pattern = \",\"\n",
    "\n",
    "re.split(pattern,abc)\n"
   ]
  },
  {
   "cell_type": "markdown",
   "id": "3887dc00-86cc-43c5-b710-08d32ddf6b58",
   "metadata": {},
   "source": [
    "# replace (sub)"
   ]
  },
  {
   "cell_type": "code",
   "execution_count": 12,
   "id": "6d996af7-3eb4-48c3-b6d7-3bbb3bb7d825",
   "metadata": {},
   "outputs": [
    {
     "data": {
      "text/plain": [
       "'The dog and the bat sat on the dog mat.'"
      ]
     },
     "execution_count": 12,
     "metadata": {},
     "output_type": "execute_result"
    }
   ],
   "source": [
    "# sub: Replaces one or many matches with a string\n",
    "text = \"The cat and the bat sat on the cat mat.\"\n",
    "\n",
    "re.sub(r'cat', 'dog', text)\n"
   ]
  },
  {
   "cell_type": "markdown",
   "id": "612484c7-2878-4016-909a-14884d3baeb9",
   "metadata": {},
   "source": [
    "# Sets"
   ]
  },
  {
   "cell_type": "code",
   "execution_count": 14,
   "id": "b837d5cd-52c0-4f80-943a-0b1690b1fdc0",
   "metadata": {},
   "outputs": [],
   "source": [
    "aphaNumeric = \"abcdefABCDEF123456789abcdefABCDEF\"\n"
   ]
  },
  {
   "cell_type": "code",
   "execution_count": 18,
   "id": "2c8ed032-7fb6-44aa-bb19-ab290a7c70f9",
   "metadata": {},
   "outputs": [
    {
     "data": {
      "text/plain": [
       "['abcde', 'abcde']"
      ]
     },
     "execution_count": 18,
     "metadata": {},
     "output_type": "execute_result"
    }
   ],
   "source": [
    "pattern = \"[a-e]+\"\n",
    "\n",
    "re.findall(pattern,aphaNumeric)\n"
   ]
  },
  {
   "cell_type": "code",
   "execution_count": null,
   "id": "1ab435b0-978b-4e24-9e0e-753d2a948cc3",
   "metadata": {},
   "outputs": [],
   "source": [
    "\n",
    "re.findall(\"[A-N]\",aphaNumeric)\n"
   ]
  },
  {
   "cell_type": "code",
   "execution_count": null,
   "id": "283f2bb6-7def-4ce3-9701-38c77f6bbfad",
   "metadata": {},
   "outputs": [],
   "source": [
    "re.findall(\"[arn]\",aphaNumeric)\n"
   ]
  },
  {
   "cell_type": "code",
   "execution_count": null,
   "id": "7ad7715b-0fe5-4fdc-a0ec-db03399719ee",
   "metadata": {},
   "outputs": [],
   "source": [
    "re.findall(\"[^a-n]\",aphaNumeric)\n"
   ]
  },
  {
   "cell_type": "code",
   "execution_count": null,
   "id": "af3dbd71-f835-44aa-8bd5-a1442bc63fab",
   "metadata": {},
   "outputs": [],
   "source": [
    "re.findall(\"[^a-nA-N]\",aphaNumeric)\n"
   ]
  },
  {
   "cell_type": "code",
   "execution_count": null,
   "id": "bac1017b-ced8-4118-afcd-ab757ae8fb1d",
   "metadata": {},
   "outputs": [],
   "source": [
    "re.findall(\"[^1-9]\",aphaNumeric)\n"
   ]
  },
  {
   "cell_type": "code",
   "execution_count": null,
   "id": "9c0a6526-5c55-4fa9-87f0-13aa98b9ce32",
   "metadata": {},
   "outputs": [],
   "source": [
    "re.findall(\"[1-4]\",aphaNumeric)\n"
   ]
  },
  {
   "cell_type": "code",
   "execution_count": null,
   "id": "eb96952f-5f00-456f-9280-61168332f19a",
   "metadata": {},
   "outputs": [],
   "source": [
    "re.findall(\"[134]\",aphaNumeric)\n"
   ]
  },
  {
   "cell_type": "code",
   "execution_count": null,
   "id": "ad078423-6443-4835-b267-1c089afb5ad7",
   "metadata": {},
   "outputs": [],
   "source": [
    "\n",
    "re.findall(\"[a-zA-Z]\",aphaNumeric)\n"
   ]
  },
  {
   "cell_type": "code",
   "execution_count": null,
   "id": "1e5be505-8c82-4010-823b-f3539f3cabb5",
   "metadata": {},
   "outputs": [],
   "source": [
    "all_characters = \"abcdefghABCDEFGH0123456789!@#$%^&*()-_=+[{]}\\|;:'\\\",<.>/?`~\"\n",
    "\n",
    "re.findall(\"[^a-zA-Z0-9]\",all_characters)\n"
   ]
  },
  {
   "cell_type": "markdown",
   "id": "5d05c74e-5a29-4da5-b7ec-bf41c88ce290",
   "metadata": {},
   "source": [
    "# Special Sequence"
   ]
  },
  {
   "cell_type": "code",
   "execution_count": null,
   "id": "6c220aa3-93b4-4ae4-9d8d-be3c99436c58",
   "metadata": {},
   "outputs": [],
   "source": [
    "# Word boundary\n",
    "\n",
    "\n"
   ]
  },
  {
   "cell_type": "code",
   "execution_count": null,
   "id": "991e9618-5e9e-4262-9a60-44f30b4187e1",
   "metadata": {},
   "outputs": [],
   "source": [
    "txt01 = \"Rain is coming\"\n",
    "pattern = r\"\\bRain\\b\"\n",
    "re.findall(pattern,txt01)\n"
   ]
  },
  {
   "cell_type": "code",
   "execution_count": null,
   "id": "65c0103f-6f5d-453c-bf1a-6c7fdd6d39c4",
   "metadata": {},
   "outputs": [],
   "source": []
  },
  {
   "cell_type": "code",
   "execution_count": null,
   "id": "12455791-d107-404f-bbda-094a900c4e27",
   "metadata": {},
   "outputs": [],
   "source": [
    "pattern1 = r\"\\bRain\"\n",
    "txt01 = \"RainWash is coming\"\n",
    "re.findall(pattern1,txt01)\n"
   ]
  },
  {
   "cell_type": "code",
   "execution_count": null,
   "id": "2c9da139-856b-4fd6-806d-b1c76fb386e4",
   "metadata": {},
   "outputs": [],
   "source": [
    "pattern1 = r\"Rain\\b\"\n",
    "txt01 = \"WashRain is coming\"\n",
    "re.findall(pattern1,txt01)\n"
   ]
  },
  {
   "cell_type": "code",
   "execution_count": null,
   "id": "269de9db-bda4-4fb0-9cd9-2057b68da49c",
   "metadata": {},
   "outputs": [],
   "source": []
  },
  {
   "cell_type": "code",
   "execution_count": null,
   "id": "f61cf5be-8ea5-468c-bde6-204ff044c8ad",
   "metadata": {},
   "outputs": [],
   "source": [
    "# StartWith\n",
    "txt01 = \"Rain is coming\"\n",
    "pattern1 = r\"\\ARain\"\n",
    "re.findall(pattern1,txt01)\n"
   ]
  },
  {
   "cell_type": "code",
   "execution_count": null,
   "id": "763930d6-c13d-48a9-acb8-f56292d16472",
   "metadata": {},
   "outputs": [],
   "source": [
    "# EndWith\n",
    "txt01 = \"Rain is coming\"\n",
    "pattern1 = r\"coming\\Z\"\n",
    "re.findall(pattern1,txt01)\n"
   ]
  },
  {
   "cell_type": "code",
   "execution_count": null,
   "id": "52b55be0-5b0a-4b07-a695-d42f494f5d6f",
   "metadata": {},
   "outputs": [],
   "source": [
    "# Digits (0-9)\n",
    "pattern = r\"\\d\"\n",
    "txt01 = \"Rain is coming AT 3:30\"\n",
    "re.findall(pattern,txt01)\n"
   ]
  },
  {
   "cell_type": "code",
   "execution_count": null,
   "id": "df4ed243-929a-4f68-ac36-e24ff217922f",
   "metadata": {},
   "outputs": [],
   "source": [
    "# String does not contain digits\n",
    "pattern = r\"\\D\"\n",
    "txt01 = \"Rain is coming AT 3:30\"\n",
    "re.findall(pattern,txt01)\n",
    "\n"
   ]
  },
  {
   "cell_type": "code",
   "execution_count": null,
   "id": "a117228e-6b02-4c4d-a0d8-3453c7e18691",
   "metadata": {},
   "outputs": [],
   "source": [
    "# White space\n",
    "pattern = r\"\\s\"\n",
    "txt01 = \"Rain is coming AT 3:30\"\n",
    "re.findall(pattern,txt01)\n",
    "\n"
   ]
  },
  {
   "cell_type": "code",
   "execution_count": null,
   "id": "efb9c131-0b0a-4aa9-aa00-ae57332090be",
   "metadata": {},
   "outputs": [],
   "source": [
    "# Non-white space\n",
    "pattern = r\"\\S\"\n",
    "txt01 = \"Rain is coming AT 3:30\"\n",
    "re.findall(pattern,txt01)\n"
   ]
  },
  {
   "cell_type": "code",
   "execution_count": null,
   "id": "ada5c4ac-03e7-4b01-a11b-e594e766e1fd",
   "metadata": {},
   "outputs": [],
   "source": [
    "import re\n",
    "# Word characters (a-zA-Z0-9_)\n",
    "pattern = r\"\\w\"\n",
    "txt01 = \"Rain is coming AT 3:30 $%$#()\"\n",
    "re.findall(pattern,txt01)\n",
    "\n"
   ]
  },
  {
   "cell_type": "code",
   "execution_count": null,
   "id": "f6cd08c5-8350-49c0-a139-41aae8207f4b",
   "metadata": {},
   "outputs": [],
   "source": [
    "# String does not contain any word characters\n",
    "pattern = r\"\\W\"\n",
    "txt01 = \"Rain is coming AT 3:30 $%$#()\"\n",
    "re.findall(pattern,txt01)\n"
   ]
  },
  {
   "cell_type": "code",
   "execution_count": null,
   "id": "ac1e4726",
   "metadata": {},
   "outputs": [],
   "source": [
    "import re\n",
    "#Search for a sequence that starts with \"he\", followed by (any) two characters, and an \"o\":\n",
    "# startChar..endChar\n",
    "# planet\n",
    "# pldddt\n",
    "# plffft\n",
    "\n",
    "txt = \"hello planet \"\n",
    "\n",
    "re.findall(\"he..o\", txt)\n",
    "\n"
   ]
  },
  {
   "cell_type": "code",
   "execution_count": null,
   "id": "2f3db53c",
   "metadata": {},
   "outputs": [],
   "source": [
    "import re\n",
    "#Search for a sequence that starts with \"pl\", followed by four (any) characters:\n",
    "# startChar....\n",
    "\n",
    "txt = \"hello planet pldddf plgggg\"\n",
    "\n",
    "x = re.findall(\" ......\",txt)\n",
    "\n",
    "\n",
    "print(x)\n"
   ]
  },
  {
   "cell_type": "code",
   "execution_count": null,
   "id": "3fa66311",
   "metadata": {},
   "outputs": [],
   "source": [
    "'''Starts with'''\n",
    "#Check if the string starts with 'hello':\n",
    "# ^\n",
    "\n",
    "txt = \"hello planet\"\n",
    "re.findall(\"^hello\", txt)\n",
    "\n"
   ]
  },
  {
   "cell_type": "code",
   "execution_count": null,
   "id": "875730a7",
   "metadata": {},
   "outputs": [],
   "source": [
    "'''End With'''\n",
    "# $\n",
    "\n",
    "txt = \"hello planet\"\n",
    "\n",
    "re.findall(\"planet$\",txt)\n",
    "\n"
   ]
  },
  {
   "cell_type": "code",
   "execution_count": null,
   "id": "75c0eaf1-1786-4b7b-8088-a70ed07a9bd3",
   "metadata": {},
   "outputs": [],
   "source": [
    "test_string1 = \"hello\"\n",
    "test_string2 = \"heo\"\n",
    "test_string3 = \"heello\"\n",
    "test_string4 = \"helo\"\n",
    "test_string5 = \"he23o\"\n",
    "test_string6 = \"heXo\"\n",
    "test_string7 = \"he123o\"\n",
    "test_string8 = \"he.o\"\n",
    "test_string9 = \"he?o\"\n",
    "test_string10 = \"heo\"\n",
    "test_string11 = \"heooo\"\n",
    "test_string12 = \"he1234o\"\n",
    "test_string13 = \"heoo123o\"\n"
   ]
  },
  {
   "cell_type": "code",
   "execution_count": null,
   "id": "cbdc9487-7251-41e8-9b71-cfa1451d168b",
   "metadata": {},
   "outputs": [],
   "source": [
    "# Any character (except newline character)\n",
    "pattern = r\"he..o\"\n",
    "test_string1 = \"heero How r you?\"\n",
    "re.findall(pattern,test_string1)\n"
   ]
  },
  {
   "cell_type": "code",
   "execution_count": null,
   "id": "0871173c-9422-4fc4-877c-1dae99b3ea8d",
   "metadata": {},
   "outputs": [],
   "source": [
    "# Any character (except newline character)\n",
    "pattern = r\"he....o\"\n",
    "test_string1 = \"heerrdo How r you?\"\n",
    "re.findall(pattern,test_string1)\n"
   ]
  },
  {
   "cell_type": "code",
   "execution_count": null,
   "id": "55bace8b-3446-41bf-9c85-c785f047b544",
   "metadata": {},
   "outputs": [],
   "source": [
    "# Exactly the specified number of occurrences\n",
    "pattern = r\"he.{2}o\"\n",
    "test_string1 = \"herrro How r you?\"\n",
    "re.findall(pattern,test_string1)\n"
   ]
  },
  {
   "cell_type": "code",
   "execution_count": null,
   "id": "95d4f2a0-4a0e-4670-bd41-48470e7ab173",
   "metadata": {},
   "outputs": [],
   "source": [
    "# Zero or one occurrences\n",
    "pattern = r\"he.?o\"\n",
    "test_string1 = \"heo How r you?\"\n",
    "re.findall(pattern,test_string1)\n"
   ]
  },
  {
   "cell_type": "code",
   "execution_count": null,
   "id": "4dadddf9-00bf-4780-826c-818f86d48a9b",
   "metadata": {},
   "outputs": [],
   "source": [
    "# Zero or more occurrences\n",
    "pattern = r\"he.*o\"\n",
    "test_string1 = \"heffffffo How r you?\"\n",
    "re.findall(pattern,test_string1)\n"
   ]
  },
  {
   "cell_type": "code",
   "execution_count": null,
   "id": "f9f97c6f-684d-4864-9713-4513383a902d",
   "metadata": {},
   "outputs": [],
   "source": [
    "# One or more occurrences\n",
    "pattern = r\"he.+o\"\n",
    "test_string1 = \"heo How r you?\"\n",
    "re.findall(pattern,test_string1)\n"
   ]
  },
  {
   "cell_type": "markdown",
   "id": "0353a4be-55e7-43aa-999e-c548863c40fc",
   "metadata": {},
   "source": [
    "# Extracting Email Addresses"
   ]
  },
  {
   "cell_type": "code",
   "execution_count": null,
   "id": "3a63a216-ed72-448c-ad41-1caaaed71ce0",
   "metadata": {},
   "outputs": [],
   "source": [
    "import re\n",
    "text = \"Send an email to user@example.com and another to support@domain.com\"\n",
    "emails = re.findall(r'\\b[A-Za-z0-9._%+-]+@[A-Za-z0-9.-]+\\.[A-Z|a-z]{2,}\\b', text)\n",
    "print(emails)\n",
    "\n"
   ]
  },
  {
   "cell_type": "code",
   "execution_count": null,
   "id": "b6365f0a-d621-4d45-b021-7e2a29b2b32b",
   "metadata": {},
   "outputs": [],
   "source": [
    "emails = re.findall(r'\\b[A-Za-z0-9._%+-]+@', text)\n",
    "emails\n"
   ]
  },
  {
   "cell_type": "code",
   "execution_count": null,
   "id": "076a0164-9883-4acf-8c32-e39716d9f07d",
   "metadata": {},
   "outputs": [],
   "source": [
    "emails = re.findall(r'@[A-Za-z0-9.-]+\\.', text)\n",
    "emails"
   ]
  },
  {
   "cell_type": "code",
   "execution_count": null,
   "id": "dac6d7bc-81f2-47a4-9cba-66c4f9d72fc7",
   "metadata": {},
   "outputs": [],
   "source": [
    "emails = re.findall(r'\\.[A-Z|a-z]{2,}\\b', text)\n",
    "emails"
   ]
  },
  {
   "cell_type": "code",
   "execution_count": null,
   "id": "fc46893d-c7cb-40ce-a2f6-1285cc2355c8",
   "metadata": {},
   "outputs": [],
   "source": [
    "emails = re.findall(r'\\b[A-Za-z0-9._%+-]+@[A-Za-z0-9.-]+\\.[A-Z|a-z]{2,}\\b', text)\n",
    "print(emails)\n"
   ]
  },
  {
   "cell_type": "code",
   "execution_count": null,
   "id": "8de53682-71bf-405f-9860-9cda06ce1a6c",
   "metadata": {},
   "outputs": [],
   "source": []
  },
  {
   "cell_type": "markdown",
   "id": "0aa3a0f5-63b8-42c3-a4f9-b763f62bb410",
   "metadata": {},
   "source": [
    "# Extract Phone Numbers:"
   ]
  },
  {
   "cell_type": "code",
   "execution_count": null,
   "id": "68092727",
   "metadata": {},
   "outputs": [],
   "source": [
    "import re\n",
    "\n",
    "text = \"My mobile numbers are 9910020443 and 8551234569\"\n",
    "re.findall(r'\\b\\d{10}\\b', text)\n"
   ]
  },
  {
   "cell_type": "code",
   "execution_count": null,
   "id": "fede789a-0c1b-40de-9320-7f3d7a4a268e",
   "metadata": {},
   "outputs": [],
   "source": []
  },
  {
   "cell_type": "code",
   "execution_count": null,
   "id": "234051ed-20f2-4672-8fbb-9e74eade1fa4",
   "metadata": {},
   "outputs": [],
   "source": []
  },
  {
   "cell_type": "code",
   "execution_count": null,
   "id": "a02e1acd-27f3-41c7-a2c5-42e2aa3f376e",
   "metadata": {},
   "outputs": [],
   "source": [
    "import re\n",
    "\n",
    "html = \"<a href='https://example.com'>Link</a> and <a href='http://another-example.com'>Another Link</a>\"\n",
    "\n",
    "pattern = re.compile(r'http[s]?://(?:[a-zA-Z]|[0-9]|[$-_@.&+]|[!*\\\\(\\\\),]|(?:%[0-9a-fA-F][0-9a-fA-F]))+')\n",
    "re.findall(pattern,html)\n"
   ]
  },
  {
   "cell_type": "code",
   "execution_count": null,
   "id": "e80363df-68a5-47cd-9889-d3d0a3ae6ffc",
   "metadata": {},
   "outputs": [],
   "source": []
  },
  {
   "cell_type": "code",
   "execution_count": null,
   "id": "e7177e32-20c0-4092-b506-71ae7f3a587f",
   "metadata": {},
   "outputs": [],
   "source": []
  },
  {
   "cell_type": "code",
   "execution_count": null,
   "id": "ac08a2d7-4252-4837-b0a5-0f8dc08f16a2",
   "metadata": {},
   "outputs": [],
   "source": []
  },
  {
   "cell_type": "code",
   "execution_count": null,
   "id": "09832d2c-265c-44a5-a7e4-ed697f26d055",
   "metadata": {},
   "outputs": [],
   "source": [
    "abc = \"10dfasfsadfd10asdfafds\"\n",
    "\n",
    "import re\n",
    "pattern = \"[a-zAZ]\"\n",
    "re.findall(pattern,abc)\n"
   ]
  },
  {
   "cell_type": "code",
   "execution_count": null,
   "id": "0eabc661-60b0-4163-922b-5f95b282a3d7",
   "metadata": {},
   "outputs": [],
   "source": [
    "import re\n",
    "\n",
    "def longest_substring(s):\n",
    "    substrings = re.findall(r'(?=(\\b\\w*(\\w)\\w*\\2\\w*\\b))', s)\n",
    "    if substrings:\n",
    "        return max(substrings, key=len)[0]\n",
    "    else:\n",
    "        return \"\"\n",
    "\n",
    "# Example usage:\n",
    "abc = \"10dfasfsadfd10asdfafds\"\n",
    "print(longest_substring(abc))  # Output: \"abc\"\n",
    "\n",
    "\n"
   ]
  },
  {
   "cell_type": "code",
   "execution_count": null,
   "id": "889b9688-c5f1-4c82-9875-27046e399e0e",
   "metadata": {},
   "outputs": [],
   "source": [
    "\n",
    "abc = \"10Shivraj10abc\"\n",
    "re.findall('\\D+',abc)\n",
    "\n"
   ]
  },
  {
   "cell_type": "code",
   "execution_count": null,
   "id": "17cdfe31-15bf-41df-b566-d3bce3172842",
   "metadata": {},
   "outputs": [],
   "source": [
    "\n",
    "abc = \"10Shivraj10000abc\"\n",
    "dd = re.split('\\d',abc)\n",
    "for i in dd:\n",
    "    print(len(i))\n",
    "\n"
   ]
  },
  {
   "cell_type": "code",
   "execution_count": null,
   "id": "95292537-e609-4cab-9786-a71dc570ce16",
   "metadata": {},
   "outputs": [],
   "source": [
    "max(dd,key=len)\n"
   ]
  },
  {
   "cell_type": "code",
   "execution_count": null,
   "id": "12fd2040-18e7-4deb-90e8-57c4a0d29ab3",
   "metadata": {},
   "outputs": [],
   "source": []
  },
  {
   "cell_type": "code",
   "execution_count": 18,
   "id": "0509b03e-0f7c-41d8-a7c3-9cc5706fda71",
   "metadata": {},
   "outputs": [
    {
     "name": "stdout",
     "output_type": "stream",
     "text": [
      "D:\\MLProjects\\ZDatasets\\TempData\\nvidia.txt\n",
      "NVIDIA is a global leader in graphics processing technology, renowned for its innovative GPUs and contributions to computing advancements. \n",
      "From gaming to scientific research, NVIDIA's impact is felt across diverse industries worldwide. Let's delve into the multifaceted realm of NVIDIA through the lens of its transformative technologies and influential presence.\n",
      "NVIDIA's journey began in 1993, founded by Jensen Huang, Chris Malachowsky, and Curtis Priem in Santa Clara, California.\n",
      "Initially focused on the gaming market, NVIDIA quickly became synonymous with cutting-edge graphics technology.\n",
      "The GeForce series, introduced in 1999, revolutionized gaming visuals and set new standards for performance and realism.\n",
      "Over the years, NVIDIA expanded into professional visualization with Quadro GPUs, empowering designers, architects, and artists.\n",
      "CUDA (Compute Unified Device Architecture) emerged in 2007, unlocking GPU capabilities for general-purpose computing.\n",
      "This breakthrough facilitated advancements in fields like AI, scientific research, and data analysis.\n",
      "In 2012, NVIDIA entered the mobile market with Tegra processors, powering tablets and smartphones.\n",
      "The launch of the Pascal architecture in 2016 marked another leap forward, enhancing gaming and computational performance.\n",
      "Deep learning surged in prominence, bolstered by NVIDIA's Tesla GPUs optimized for AI training and inference tasks.\n",
      "Autonomous vehicles became a focus area with DRIVE PX platforms, integrating AI to enhance automotive safety and efficiency.\n",
      "The Turing architecture, introduced in 2018, introduced ray tracing to gaming, delivering cinematic-quality visuals.\n",
      "Data centers adopted NVIDIA GPUs for accelerating high-performance computing workloads, transforming industries.\n",
      "In 2020, the Ampere architecture debuted, offering unprecedented performance and efficiency gains for AI and gaming.\n",
      "NVIDIA's acquisition of Arm in 2020 aimed to drive further innovation in mobile and IoT sectors.\n",
      "Omniverse, launched in 2021, introduced a revolutionary platform for collaborative 3D content creation and simulation.\n",
      "NVIDIA continues to pioneer advancements in AI with advancements like the DGX systems for scalable AI infrastructure.\n",
      "Gaming remains at the core of NVIDIA's mission, with the RTX series pushing boundaries in realism and immersion.\n",
      "The introduction of DLSS (Deep Learning Super Sampling) has enhanced gaming performance while maintaining visual fidelity.\n",
      "NVIDIA's commitment to sustainability includes initiatives to reduce environmental impact through energy-efficient technologies.\n",
      "Looking ahead, NVIDIA's research and development efforts promise to shape the future of computing and artificial intelligence.\n",
      "NVIDIA's relentless pursuit of innovation and commitment to pushing technological boundaries have solidified its position as a trailblazer in the GPU industry. \n",
      "As NVIDIA continues to evolve, its impact on gaming, AI, scientific research, and beyond will undoubtedly shape the technological landscape for years to come.\n"
     ]
    }
   ],
   "source": [
    "fileName = r\"D:\\MLProjects\\ZDatasets\\TempData\\nvidia.txt\"  # Use raw string literal for Windows paths\n",
    "print(fileName)\n",
    "\n",
    "with open(fileName, 'r') as file:\n",
    "    data = file.read()\n",
    "    print(data)\n"
   ]
  },
  {
   "cell_type": "code",
   "execution_count": 20,
   "id": "1995f609-9565-4f1b-8abb-70af8f6fe100",
   "metadata": {},
   "outputs": [
    {
     "data": {
      "text/plain": [
       "['NVIDIA',\n",
       " 'NVIDIA',\n",
       " 'NVIDIA',\n",
       " 'NVIDIA',\n",
       " 'NVIDIA',\n",
       " 'NVIDIA',\n",
       " 'NVIDIA',\n",
       " 'NVIDIA',\n",
       " 'NVIDIA',\n",
       " 'NVIDIA',\n",
       " 'NVIDIA',\n",
       " 'NVIDIA',\n",
       " 'NVIDIA',\n",
       " 'NVIDIA',\n",
       " 'NVIDIA',\n",
       " 'NVIDIA']"
      ]
     },
     "execution_count": 20,
     "metadata": {},
     "output_type": "execute_result"
    }
   ],
   "source": [
    "\n",
    "\n",
    "import re\n",
    "pattern = \"NVIDIA\"\n",
    "\n",
    "re.findall(pattern,data)\n"
   ]
  },
  {
   "cell_type": "code",
   "execution_count": 21,
   "id": "ecbfd25b-a7dc-4928-adfd-a0221ad7aa1a",
   "metadata": {},
   "outputs": [
    {
     "data": {
      "text/plain": [
       "['NVIDIA is a global leader in graphics processing technology, renowned for its innovative GPUs and contributions to computing advancements. ',\n",
       " \"From gaming to scientific research, NVIDIA's impact is felt across diverse industries worldwide. Let's delve into the multifaceted realm of NVIDIA through the lens of its transformative technologies and influential presence.\",\n",
       " \"NVIDIA's journey began in 1993, founded by Jensen Huang, Chris Malachowsky, and Curtis Priem in Santa Clara, California.\",\n",
       " 'Initially focused on the gaming market, NVIDIA quickly became synonymous with cutting-edge graphics technology.',\n",
       " 'The GeForce series, introduced in 1999, revolutionized gaming visuals and set new standards for performance and realism.',\n",
       " 'Over the years, NVIDIA expanded into professional visualization with Quadro GPUs, empowering designers, architects, and artists.',\n",
       " 'CUDA (Compute Unified Device Architecture) emerged in 2007, unlocking GPU capabilities for general-purpose computing.',\n",
       " 'This breakthrough facilitated advancements in fields like AI, scientific research, and data analysis.',\n",
       " 'In 2012, NVIDIA entered the mobile market with Tegra processors, powering tablets and smartphones.',\n",
       " 'The launch of the Pascal architecture in 2016 marked another leap forward, enhancing gaming and computational performance.',\n",
       " \"Deep learning surged in prominence, bolstered by NVIDIA's Tesla GPUs optimized for AI training and inference tasks.\",\n",
       " 'Autonomous vehicles became a focus area with DRIVE PX platforms, integrating AI to enhance automotive safety and efficiency.',\n",
       " 'The Turing architecture, introduced in 2018, introduced ray tracing to gaming, delivering cinematic-quality visuals.',\n",
       " 'Data centers adopted NVIDIA GPUs for accelerating high-performance computing workloads, transforming industries.',\n",
       " 'In 2020, the Ampere architecture debuted, offering unprecedented performance and efficiency gains for AI and gaming.',\n",
       " \"NVIDIA's acquisition of Arm in 2020 aimed to drive further innovation in mobile and IoT sectors.\",\n",
       " 'Omniverse, launched in 2021, introduced a revolutionary platform for collaborative 3D content creation and simulation.',\n",
       " 'NVIDIA continues to pioneer advancements in AI with advancements like the DGX systems for scalable AI infrastructure.',\n",
       " \"Gaming remains at the core of NVIDIA's mission, with the RTX series pushing boundaries in realism and immersion.\",\n",
       " 'The introduction of DLSS (Deep Learning Super Sampling) has enhanced gaming performance while maintaining visual fidelity.',\n",
       " \"NVIDIA's commitment to sustainability includes initiatives to reduce environmental impact through energy-efficient technologies.\",\n",
       " \"Looking ahead, NVIDIA's research and development efforts promise to shape the future of computing and artificial intelligence.\",\n",
       " \"NVIDIA's relentless pursuit of innovation and commitment to pushing technological boundaries have solidified its position as a trailblazer in the GPU industry. \",\n",
       " 'As NVIDIA continues to evolve, its impact on gaming, AI, scientific research, and beyond will undoubtedly shape the technological landscape for years to come.']"
      ]
     },
     "execution_count": 21,
     "metadata": {},
     "output_type": "execute_result"
    }
   ],
   "source": [
    "data\n",
    "\n",
    "lines = data.splitlines()\n",
    "\n",
    "lines\n"
   ]
  },
  {
   "cell_type": "code",
   "execution_count": 26,
   "id": "b4b700d7-7eec-4cbc-82a1-e531b2abf482",
   "metadata": {},
   "outputs": [],
   "source": [
    "\n",
    "nvidia_line_numbers = []\n",
    "for i, line in enumerate(lines):\n",
    "    if re.search(r'\\bNVIDIA\\b', line):\n",
    "        nvidia_line_numbers.append(i + 1)  "
   ]
  },
  {
   "cell_type": "code",
   "execution_count": 27,
   "id": "a15d49c3-81c0-4d81-86da-5d6ea090f588",
   "metadata": {},
   "outputs": [
    {
     "name": "stdout",
     "output_type": "stream",
     "text": [
      "The word 'NVIDIA' appears on line(s): 1, 2, 3, 4, 6, 9, 11, 14, 16, 18, 19, 21, 22, 23, 24.\n"
     ]
    }
   ],
   "source": [
    "# Print the line numbers where \"NVIDIA\" appears\n",
    "if nvidia_line_numbers:\n",
    "    print(f\"The word 'NVIDIA' appears on line(s): {', '.join(map(str, nvidia_line_numbers))}.\")\n",
    "else:\n",
    "    print(\"The word 'NVIDIA' does not appear in the text.\")\n",
    "\n"
   ]
  }
 ],
 "metadata": {
  "kernelspec": {
   "display_name": "Python 3 (ipykernel)",
   "language": "python",
   "name": "python3"
  },
  "language_info": {
   "codemirror_mode": {
    "name": "ipython",
    "version": 3
   },
   "file_extension": ".py",
   "mimetype": "text/x-python",
   "name": "python",
   "nbconvert_exporter": "python",
   "pygments_lexer": "ipython3",
   "version": "3.11.7"
  }
 },
 "nbformat": 4,
 "nbformat_minor": 5
}
