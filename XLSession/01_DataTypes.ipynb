{
 "cells": [
  {
   "cell_type": "markdown",
   "id": "4bcd73cb",
   "metadata": {},
   "source": [
    "# Different type of Data Type"
   ]
  },
  {
   "cell_type": "code",
   "execution_count": 3,
   "id": "591fd764",
   "metadata": {},
   "outputs": [
    {
     "data": {
      "text/plain": [
       "int"
      ]
     },
     "execution_count": 3,
     "metadata": {},
     "output_type": "execute_result"
    }
   ],
   "source": [
    "#Numberic\n",
    "# integer\n",
    "\n",
    "a = 5\n",
    "type(a)"
   ]
  },
  {
   "cell_type": "code",
   "execution_count": 5,
   "id": "6ebb090f-6415-4420-950e-10dbee5aaa40",
   "metadata": {},
   "outputs": [
    {
     "data": {
      "text/plain": [
       "float"
      ]
     },
     "execution_count": 5,
     "metadata": {},
     "output_type": "execute_result"
    }
   ],
   "source": [
    "# float\n",
    "\n",
    "abc = 4.5\n",
    "\n",
    "type(abc)"
   ]
  },
  {
   "cell_type": "code",
   "execution_count": 7,
   "id": "cc221d62-afee-43a4-961d-0de75ab1a6df",
   "metadata": {},
   "outputs": [
    {
     "data": {
      "text/plain": [
       "bool"
      ]
     },
     "execution_count": 7,
     "metadata": {},
     "output_type": "execute_result"
    }
   ],
   "source": [
    "# boolean Type\n",
    "\n",
    "abc = True\n",
    "type(abc)"
   ]
  },
  {
   "cell_type": "code",
   "execution_count": 10,
   "id": "bbc24254-860f-4c46-a7a6-ce50c36b31b6",
   "metadata": {},
   "outputs": [
    {
     "name": "stdout",
     "output_type": "stream",
     "text": [
      "(6+9j)\n"
     ]
    }
   ],
   "source": [
    "# complex Type\n",
    "x = 6+9j\n",
    "\n",
    "print(x)"
   ]
  },
  {
   "cell_type": "code",
   "execution_count": 37,
   "id": "8d899073-4bfd-4cb2-b6c2-d235e706f818",
   "metadata": {},
   "outputs": [],
   "source": [
    "'''Sequence Type'''\n",
    "\n",
    "abc = \"AMol\"\n",
    "list1 = [1,2,3,4]\n",
    "range1 = range(4,11)\n",
    "tuple1 = (1,2,3,10)"
   ]
  },
  {
   "cell_type": "code",
   "execution_count": 39,
   "id": "6382d7fe",
   "metadata": {},
   "outputs": [
    {
     "data": {
      "text/plain": [
       "'A'"
      ]
     },
     "execution_count": 39,
     "metadata": {},
     "output_type": "execute_result"
    }
   ],
   "source": [
    "abc[0]"
   ]
  },
  {
   "cell_type": "code",
   "execution_count": 26,
   "id": "22926f31",
   "metadata": {},
   "outputs": [
    {
     "name": "stdout",
     "output_type": "stream",
     "text": [
      "4\n",
      "5\n",
      "6\n",
      "7\n",
      "8\n",
      "9\n",
      "10\n"
     ]
    }
   ],
   "source": [
    "for i in range1:\n",
    "    print(i)"
   ]
  },
  {
   "cell_type": "code",
   "execution_count": 29,
   "id": "9904d57a",
   "metadata": {},
   "outputs": [
    {
     "name": "stdout",
     "output_type": "stream",
     "text": [
      "1\n",
      "2\n",
      "3\n",
      "4\n"
     ]
    },
    {
     "data": {
      "text/plain": [
       "4"
      ]
     },
     "execution_count": 29,
     "metadata": {},
     "output_type": "execute_result"
    }
   ],
   "source": [
    "for i in tuple1:\n",
    "    print(i)\n",
    "\n",
    "tuple1[3]"
   ]
  },
  {
   "cell_type": "code",
   "execution_count": 32,
   "id": "22b652f2",
   "metadata": {},
   "outputs": [
    {
     "name": "stdout",
     "output_type": "stream",
     "text": [
      "1\n",
      "2\n",
      "3\n",
      "4\n"
     ]
    }
   ],
   "source": [
    "'''Set Type'''\n",
    "'''Only UNIQUE VALUE'''\n",
    "'''NO Order'''\n",
    "\n",
    "set1 = {1,2,3,4}\n",
    "abcSet1 = {5,8,3,1}\n",
    "\n",
    "for i in set1:\n",
    "    print(i)"
   ]
  },
  {
   "cell_type": "code",
   "execution_count": 33,
   "id": "4f7129fa",
   "metadata": {},
   "outputs": [
    {
     "ename": "TypeError",
     "evalue": "'set' object is not subscriptable",
     "output_type": "error",
     "traceback": [
      "\u001b[1;31m---------------------------------------------------------------------------\u001b[0m",
      "\u001b[1;31mTypeError\u001b[0m                                 Traceback (most recent call last)",
      "Cell \u001b[1;32mIn[33], line 4\u001b[0m\n\u001b[0;32m      1\u001b[0m set1 \u001b[38;5;241m=\u001b[39m {\u001b[38;5;241m1\u001b[39m,\u001b[38;5;241m2\u001b[39m,\u001b[38;5;241m3\u001b[39m,\u001b[38;5;241m4\u001b[39m}\n\u001b[1;32m----> 4\u001b[0m set1[\u001b[38;5;241m1\u001b[39m]\n",
      "\u001b[1;31mTypeError\u001b[0m: 'set' object is not subscriptable"
     ]
    }
   ],
   "source": [
    "set1 = {1,2,3,4}\n",
    "\n",
    "\n",
    "set1[1]"
   ]
  },
  {
   "cell_type": "code",
   "execution_count": 34,
   "id": "20f579d7",
   "metadata": {},
   "outputs": [
    {
     "ename": "TypeError",
     "evalue": "'set' object is not subscriptable",
     "output_type": "error",
     "traceback": [
      "\u001b[1;31m---------------------------------------------------------------------------\u001b[0m",
      "\u001b[1;31mTypeError\u001b[0m                                 Traceback (most recent call last)",
      "Cell \u001b[1;32mIn[34], line 1\u001b[0m\n\u001b[1;32m----> 1\u001b[0m set1[\u001b[38;5;241m0\u001b[39m]\n",
      "\u001b[1;31mTypeError\u001b[0m: 'set' object is not subscriptable"
     ]
    }
   ],
   "source": [
    "set1[0]"
   ]
  },
  {
   "cell_type": "code",
   "execution_count": 47,
   "id": "db65e719",
   "metadata": {},
   "outputs": [
    {
     "name": "stdout",
     "output_type": "stream",
     "text": [
      "dict_values(['value1', 'value2'])\n",
      "dict_values(['Rajesh', 'AMol', 'Ashok'])\n"
     ]
    }
   ],
   "source": [
    "'''Mapping Type'''\n",
    "'''Key Value Pair'''\n",
    "dictOne = {'key1': 'value1', 'key2': 'value2'}\n",
    "ditTwo = {'Studen1': \"Rajesh\",'Student2':\"AMol\",'Student3':\"Ashok\"}\n",
    "\n",
    "print(dictOne.keys())\n",
    "print(ditTwo.keys())\n",
    "\n",
    "print(dictOne.values())\n",
    "print(ditTwo.values())"
   ]
  },
  {
   "cell_type": "code",
   "execution_count": 30,
   "id": "fd8812d5",
   "metadata": {},
   "outputs": [
    {
     "data": {
      "text/plain": [
       "dict_keys(['key1', 'key2'])"
      ]
     },
     "execution_count": 30,
     "metadata": {},
     "output_type": "execute_result"
    }
   ],
   "source": [
    "dictOne.keys()\n"
   ]
  },
  {
   "cell_type": "code",
   "execution_count": 28,
   "id": "406f720d-127a-482e-b3da-22aa2ff823aa",
   "metadata": {},
   "outputs": [
    {
     "data": {
      "text/plain": [
       "dict_values(['value1', 'value2'])"
      ]
     },
     "execution_count": 28,
     "metadata": {},
     "output_type": "execute_result"
    }
   ],
   "source": [
    "dictOne.values()\n"
   ]
  },
  {
   "cell_type": "code",
   "execution_count": 48,
   "id": "525c4481-a4fb-4234-9273-b8d7c4ae902f",
   "metadata": {},
   "outputs": [
    {
     "data": {
      "text/plain": [
       "dict_items([('key1', 'value1'), ('key2', 'value2')])"
      ]
     },
     "execution_count": 48,
     "metadata": {},
     "output_type": "execute_result"
    }
   ],
   "source": [
    "dictOne.items()"
   ]
  },
  {
   "cell_type": "code",
   "execution_count": 32,
   "id": "3f9e3b13-9e2b-4e49-b3d5-1c847fbc6993",
   "metadata": {},
   "outputs": [
    {
     "name": "stdout",
     "output_type": "stream",
     "text": [
      "None\n"
     ]
    }
   ],
   "source": [
    "abc = None\n",
    "print(abc)"
   ]
  },
  {
   "cell_type": "code",
   "execution_count": null,
   "id": "bcbce152-d665-4503-af87-70885421427d",
   "metadata": {},
   "outputs": [],
   "source": [
    "abc  = \"Amol\""
   ]
  },
  {
   "cell_type": "code",
   "execution_count": 51,
   "id": "4cbb5d05-0afe-44f6-92f8-0074a8204ea3",
   "metadata": {},
   "outputs": [
    {
     "name": "stdout",
     "output_type": "stream",
     "text": [
      "[1, 2, 3, 4]\n"
     ]
    }
   ],
   "source": [
    "abcList = [1,2,3,4]\n",
    "print(abcList)"
   ]
  },
  {
   "cell_type": "code",
   "execution_count": 53,
   "id": "4cfc1754-5c64-4a41-ac1b-949f34122821",
   "metadata": {},
   "outputs": [
    {
     "name": "stdout",
     "output_type": "stream",
     "text": [
      "Sunil\n"
     ]
    }
   ],
   "source": [
    "abcString =  \"Rajesh\"\n",
    "string1 = \"amol\"\n",
    "string2 = \"Sunil\"\n",
    "\n",
    "print(string2)"
   ]
  },
  {
   "cell_type": "code",
   "execution_count": 61,
   "id": "1f276add-5665-4df6-b941-9b8dc246ca63",
   "metadata": {},
   "outputs": [
    {
     "ename": "SyntaxError",
     "evalue": "invalid decimal literal (50869687.py, line 1)",
     "output_type": "error",
     "traceback": [
      "\u001b[1;36m  Cell \u001b[1;32mIn[61], line 1\u001b[1;36m\u001b[0m\n\u001b[1;33m    1a_ = 10\u001b[0m\n\u001b[1;37m    ^\u001b[0m\n\u001b[1;31mSyntaxError\u001b[0m\u001b[1;31m:\u001b[0m invalid decimal literal\n"
     ]
    }
   ],
   "source": [
    "1a_ = 10\n"
   ]
  },
  {
   "cell_type": "code",
   "execution_count": 63,
   "id": "47a013e9-43f5-4860-ba6f-e8e2750489f6",
   "metadata": {},
   "outputs": [
    {
     "data": {
      "text/plain": [
       "1114"
      ]
     },
     "execution_count": 63,
     "metadata": {},
     "output_type": "execute_result"
    }
   ],
   "source": [
    "\n",
    "Account_Number = 1114\n",
    "Account_Number"
   ]
  },
  {
   "cell_type": "code",
   "execution_count": null,
   "id": "69b43d7a-e30c-4859-b3d2-c8defe1720b9",
   "metadata": {},
   "outputs": [],
   "source": [
    "INT TO STRING\n",
    "INT TO FLOAT\n"
   ]
  },
  {
   "cell_type": "code",
   "execution_count": 69,
   "id": "0c6b3cd0-1cd6-412d-bf03-bb6e1e727073",
   "metadata": {},
   "outputs": [
    {
     "name": "stdout",
     "output_type": "stream",
     "text": [
      "<class 'int'>\n",
      "<class 'str'>\n",
      "<class 'float'>\n"
     ]
    }
   ],
   "source": [
    "abc  = 10\n",
    "print(type(abc))\n",
    "print(type(str(abc)))\n",
    "print(type(float(abc)))\n"
   ]
  },
  {
   "cell_type": "code",
   "execution_count": 72,
   "id": "306bdc1b-11bd-4295-a152-5971c7ab7b59",
   "metadata": {},
   "outputs": [
    {
     "name": "stdout",
     "output_type": "stream",
     "text": [
      "10\n"
     ]
    }
   ],
   "source": [
    "xyz = '10'\n",
    "\n",
    "type(xyz)\n",
    "print(int(xyz))"
   ]
  },
  {
   "cell_type": "code",
   "execution_count": null,
   "id": "aeeb6e1a-2f91-4abd-9204-314362048772",
   "metadata": {},
   "outputs": [],
   "source": []
  },
  {
   "cell_type": "code",
   "execution_count": null,
   "id": "3be8e4de-e482-419c-8b0a-b11797c40e10",
   "metadata": {},
   "outputs": [],
   "source": []
  },
  {
   "cell_type": "code",
   "execution_count": null,
   "id": "0885208a-b94e-4545-8b28-fc7ceb2fa722",
   "metadata": {},
   "outputs": [],
   "source": []
  },
  {
   "cell_type": "code",
   "execution_count": null,
   "id": "5f29962d-877e-4e38-8476-4af091d9219f",
   "metadata": {},
   "outputs": [],
   "source": []
  },
  {
   "cell_type": "code",
   "execution_count": null,
   "id": "75c5b788-f7e0-4cb4-9bc9-13e00737732d",
   "metadata": {},
   "outputs": [],
   "source": []
  },
  {
   "cell_type": "code",
   "execution_count": null,
   "id": "03a0d9de-c3eb-453a-b2be-9f6ea4033216",
   "metadata": {},
   "outputs": [],
   "source": []
  },
  {
   "cell_type": "code",
   "execution_count": null,
   "id": "8fba1540-09ea-4525-8fdc-75991f920df4",
   "metadata": {},
   "outputs": [],
   "source": []
  },
  {
   "cell_type": "code",
   "execution_count": null,
   "id": "465cd3d6-4dec-4e73-99be-9fd682cb0e27",
   "metadata": {},
   "outputs": [],
   "source": []
  }
 ],
 "metadata": {
  "kernelspec": {
   "display_name": "Python 3 (ipykernel)",
   "language": "python",
   "name": "python3"
  },
  "language_info": {
   "codemirror_mode": {
    "name": "ipython",
    "version": 3
   },
   "file_extension": ".py",
   "mimetype": "text/x-python",
   "name": "python",
   "nbconvert_exporter": "python",
   "pygments_lexer": "ipython3",
   "version": "3.11.5"
  }
 },
 "nbformat": 4,
 "nbformat_minor": 5
}
