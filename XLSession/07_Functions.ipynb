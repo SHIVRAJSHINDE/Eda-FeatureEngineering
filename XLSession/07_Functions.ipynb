{
 "cells": [
  {
   "cell_type": "code",
   "execution_count": 6,
   "id": "6c174e4b",
   "metadata": {},
   "outputs": [
    {
     "name": "stdout",
     "output_type": "stream",
     "text": [
      "HI\n",
      "6\n",
      "range(1, 10)\n"
     ]
    }
   ],
   "source": [
    "'''Built-in Functions'''\n",
    "\n",
    "print(\"HI\") \n",
    "print(len(\"Raejsh\"))\n",
    "print(range(1,10))\n",
    "\n"
   ]
  },
  {
   "cell_type": "code",
   "execution_count": 8,
   "id": "a3a67f01",
   "metadata": {},
   "outputs": [
    {
     "name": "stdout",
     "output_type": "stream",
     "text": [
      "Hello from a function\n"
     ]
    }
   ],
   "source": [
    "'User-defined Functions:'\n",
    "'No Parameters'\n",
    "def my_function():\n",
    "    print(\"Hello from a function\")\n",
    "my_function()\n"
   ]
  },
  {
   "cell_type": "code",
   "execution_count": 10,
   "id": "9a6266e6",
   "metadata": {},
   "outputs": [
    {
     "name": "stdout",
     "output_type": "stream",
     "text": [
      "Sunil Chavan\n"
     ]
    }
   ],
   "source": [
    "'''With Simple Parameters or Arguments'''\n",
    "def my_function(fname, lname):\n",
    "    print(fname + \" \" + lname)\n",
    "\n",
    "my_function(\"Sunil\", \"Chavan\")"
   ]
  },
  {
   "cell_type": "code",
   "execution_count": 13,
   "id": "18c0615b",
   "metadata": {},
   "outputs": [
    {
     "name": "stdout",
     "output_type": "stream",
     "text": [
      "The youngest child is Rajesh\n"
     ]
    }
   ],
   "source": [
    "'Arbitrary Arguments, *args'\n",
    "def my_function(*kids):\n",
    "    print(\"The youngest child is \" + kids[1])\n",
    "my_function(\"Amol\", \"Rajesh\", \"Sunil\")"
   ]
  },
  {
   "cell_type": "code",
   "execution_count": 14,
   "id": "ed16405a",
   "metadata": {},
   "outputs": [
    {
     "name": "stdout",
     "output_type": "stream",
     "text": [
      "The youngest child is Savita\n"
     ]
    }
   ],
   "source": [
    "'''Keyword Arguments:-'''\n",
    "'You can also send arguments with the “key = value” syntax.'\n",
    "def my_function(child3, child2, child1):\n",
    "    print(\"The youngest child is \" + child3)\n",
    "\n",
    "my_function(child1 = \"Raejsh\", child2 = \"SUnil\", child3 = \"Savita\")\n"
   ]
  },
  {
   "cell_type": "code",
   "execution_count": 1,
   "id": "946814ec",
   "metadata": {},
   "outputs": [
    {
     "name": "stdout",
     "output_type": "stream",
     "text": [
      "The youngest child is SUnil\n"
     ]
    }
   ],
   "source": [
    "'''Arbitrary Keyword Arguments, **kwargs'''\n",
    "'''\n",
    "When programmers don’t know the Exact No. of Arguments in “Key=Value” Syntax \n",
    "Pass ** before the parameter name\n",
    "The function will receive a dictionary of arguments\n",
    "\n",
    "'''\n",
    "\n",
    "def my_function(**kid):\n",
    "    print(\"The youngest child is \" + kid[\"child2\"])\n",
    "\n",
    "my_function(child1 = \"Raejsh\", child2 = \"SUnil\", child3 = \"Savita\")\n"
   ]
  },
  {
   "cell_type": "code",
   "execution_count": 19,
   "id": "df59091f",
   "metadata": {},
   "outputs": [
    {
     "name": "stdout",
     "output_type": "stream",
     "text": [
      "My COuntry is:  India\n",
      "My COuntry is:  China\n"
     ]
    }
   ],
   "source": [
    "'Default Parameter Value'\n",
    "'''If we call the function without argument, it uses the default value, \n",
    "The following example shows how to use a default parameter value.'''\n",
    "\n",
    "def my_function(country=\"India\"):\n",
    "    print(\"My COuntry is:  \" + country)\n",
    "\n",
    "my_function()\n",
    "my_function(\"China\")"
   ]
  },
  {
   "cell_type": "code",
   "execution_count": 22,
   "id": "5ca5ccd7",
   "metadata": {},
   "outputs": [
    {
     "name": "stdout",
     "output_type": "stream",
     "text": [
      "25\n",
      "15\n"
     ]
    }
   ],
   "source": [
    "'''Return Values'''\n",
    "'To let a function return a value, use the return statement.'\n",
    "\n",
    "def my_function(x):\n",
    "    return 5*x\n",
    "\n",
    "print(my_function(5))\n",
    "print(my_function(3))\n"
   ]
  },
  {
   "cell_type": "code",
   "execution_count": 26,
   "id": "bbfb0462",
   "metadata": {},
   "outputs": [],
   "source": [
    "def my_function():\n",
    "    pass\n",
    "\n",
    "my_function()\n"
   ]
  },
  {
   "cell_type": "markdown",
   "id": "59a2be63",
   "metadata": {},
   "source": [
    "# Lambda"
   ]
  },
  {
   "cell_type": "code",
   "execution_count": 27,
   "id": "fb3b2929",
   "metadata": {},
   "outputs": [
    {
     "name": "stdout",
     "output_type": "stream",
     "text": [
      "15\n"
     ]
    }
   ],
   "source": [
    "'Simple FUnction'\n",
    "def x(a):\n",
    "    return a + 10\n",
    "    \n",
    "result = x(5)\n",
    "print(result)\n"
   ]
  },
  {
   "cell_type": "code",
   "execution_count": 34,
   "id": "dba6158a",
   "metadata": {},
   "outputs": [
    {
     "name": "stdout",
     "output_type": "stream",
     "text": [
      "15\n"
     ]
    }
   ],
   "source": [
    "'''Lambda(with only one argument)'''\n",
    "a = lambda a: a + 10\n",
    "\n",
    "print(a(5))"
   ]
  },
  {
   "cell_type": "code",
   "execution_count": 35,
   "id": "3b8eb134",
   "metadata": {},
   "outputs": [
    {
     "name": "stdout",
     "output_type": "stream",
     "text": [
      "(15, 8)\n"
     ]
    }
   ],
   "source": [
    "'''Simple Function with multiple \n",
    "argument and Expression'''\n",
    "\n",
    "def multiply_and_add(x, y):\n",
    "    product = x * y\n",
    "    summation = x + y\n",
    "    return product, summation\n",
    "\n",
    "result = multiply_and_add(3, 5)\n",
    "print(result)"
   ]
  },
  {
   "cell_type": "code",
   "execution_count": 36,
   "id": "36bd831b",
   "metadata": {},
   "outputs": [
    {
     "name": "stdout",
     "output_type": "stream",
     "text": [
      "(15, 8)\n"
     ]
    }
   ],
   "source": [
    "'''Lambda with multiple \n",
    "argument and Expression'''\n",
    "multiply_and_add = lambda x, y: (x * y, x + y)\n",
    "\n",
    "result = multiply_and_add(3, 5)\n",
    "print(result)"
   ]
  },
  {
   "cell_type": "code",
   "execution_count": 37,
   "id": "739a2428",
   "metadata": {},
   "outputs": [
    {
     "name": "stdout",
     "output_type": "stream",
     "text": [
      "22\n"
     ]
    }
   ],
   "source": [
    "'''Use of Lambda function in \n",
    "inside another function.''' \n",
    "def myfunc(n):\n",
    "    return lambda a : a * n\n",
    "\n",
    "mydoubler = myfunc(2)\n",
    "print(mydoubler(11))\n"
   ]
  },
  {
   "cell_type": "markdown",
   "id": "4185107f",
   "metadata": {},
   "source": [
    "# Higher-Order Functions"
   ]
  },
  {
   "cell_type": "code",
   "execution_count": 39,
   "id": "6164aaed",
   "metadata": {},
   "outputs": [
    {
     "name": "stdout",
     "output_type": "stream",
     "text": [
      "[2, 4, 6, 8, 10]\n"
     ]
    }
   ],
   "source": [
    "# Example 1: Filtering even numbers from a list\n",
    "numbers = [1, 2, 3, 4, 5, 6, 7, 8, 9, 10]\n",
    "\n",
    "even_numbers = list(filter(lambda x: x % 2 == 0, numbers))\n",
    "\n",
    "print(even_numbers)\n"
   ]
  },
  {
   "cell_type": "code",
   "execution_count": 40,
   "id": "dc570e5c",
   "metadata": {},
   "outputs": [
    {
     "name": "stdout",
     "output_type": "stream",
     "text": [
      "[1, 4, 9, 16, 25]\n"
     ]
    }
   ],
   "source": [
    "# Example 2: Squaring each number in a list\n",
    "numbers = [1, 2, 3, 4, 5]\n",
    "\n",
    "squared_numbers = list(map(lambda x: x ** 2, numbers))\n",
    "print(squared_numbers)  # Output: [1, 4, 9, 16, 25]\n"
   ]
  },
  {
   "cell_type": "code",
   "execution_count": 42,
   "id": "711f9f6c",
   "metadata": {},
   "outputs": [
    {
     "name": "stdout",
     "output_type": "stream",
     "text": [
      "120\n"
     ]
    }
   ],
   "source": [
    "from functools import reduce\n",
    "\n",
    "# Example 3: Calculating the product of all numbers in a list\n",
    "numbers = [1, 2, 3, 4, 5]\n",
    "\n",
    "product = reduce(lambda x, y: x * y, numbers)\n",
    "print(product)\n"
   ]
  },
  {
   "cell_type": "markdown",
   "id": "894af260",
   "metadata": {},
   "source": [
    "# Recursive Function"
   ]
  },
  {
   "cell_type": "code",
   "execution_count": 44,
   "id": "1e02adeb",
   "metadata": {},
   "outputs": [
    {
     "data": {
      "text/plain": [
       "3628800"
      ]
     },
     "execution_count": 44,
     "metadata": {},
     "output_type": "execute_result"
    }
   ],
   "source": [
    "'''Print Factorial of a Number using Recursive Function'''\n",
    "def factorial(n):\n",
    "    if n == 0:\n",
    "        return 1\n",
    "    else:\n",
    "        return n * factorial(n-1)\n",
    "factorial(10)"
   ]
  },
  {
   "cell_type": "markdown",
   "id": "b0f42761",
   "metadata": {},
   "source": [
    "# Decorators"
   ]
  },
  {
   "cell_type": "code",
   "execution_count": 83,
   "id": "3cc81a48",
   "metadata": {},
   "outputs": [
    {
     "name": "stdout",
     "output_type": "stream",
     "text": [
      "Before the function is called.\n",
      "Hello!\n",
      "Before the function is called.\n"
     ]
    }
   ],
   "source": [
    "def my_decorator(func):\n",
    "    def wrapper():\n",
    "        print(\"Before the function is called.\")\n",
    "        func()\n",
    "        print(\"Before the function is called.\")\n",
    "    return wrapper\n",
    "\n",
    "@my_decorator\n",
    "def say_hello():\n",
    "    print(\"Hello!\")\n",
    "\n",
    "say_hello()"
   ]
  },
  {
   "cell_type": "markdown",
   "id": "0e1292ad",
   "metadata": {},
   "source": [
    "# Generators Function"
   ]
  },
  {
   "cell_type": "code",
   "execution_count": 82,
   "id": "7bad6a73",
   "metadata": {},
   "outputs": [
    {
     "name": "stdout",
     "output_type": "stream",
     "text": [
      "0\n",
      "1\n",
      "2\n",
      "3\n"
     ]
    }
   ],
   "source": [
    "'''Create a Fucntion which will print \n",
    "values until 10 using Generators'''\n",
    "def count_up_to(i,n):\n",
    "    for i in range(n):\n",
    "        yield i\n",
    "\n",
    "gen = count_up_to(i=1, n=10)\n",
    "\n",
    "print(next(gen))\n",
    "print(next(gen))\n",
    "print(next(gen))\n",
    "print(next(gen))\n"
   ]
  },
  {
   "cell_type": "code",
   "execution_count": 74,
   "id": "af0dabe9",
   "metadata": {},
   "outputs": [],
   "source": [
    "for i in gen:\n",
    "    print(i)"
   ]
  },
  {
   "cell_type": "code",
   "execution_count": 3,
   "id": "7a345999",
   "metadata": {},
   "outputs": [
    {
     "name": "stdout",
     "output_type": "stream",
     "text": [
      "Object initialized with x = 10 and y = 20\n"
     ]
    }
   ],
   "source": [
    "class MyClass:\n",
    "    def __init__(self, x, y):\n",
    "        self.x = x\n",
    "        self.y = y\n",
    "        print(\"Object initialized with x =\", x, \"and y =\", y)\n",
    "\n",
    "# Creating an instance of MyClass\n",
    "obj = MyClass(10, 20)"
   ]
  },
  {
   "cell_type": "code",
   "execution_count": 2,
   "id": "0bea097a",
   "metadata": {},
   "outputs": [
    {
     "name": "stdout",
     "output_type": "stream",
     "text": [
      "10\n"
     ]
    }
   ],
   "source": [
    "'''Instance Method'''\n",
    "\n",
    "class MyClass:\n",
    "    def __init__(self, x):\n",
    "        self.x = x\n",
    "    def instance_method(self):\n",
    "        return self.x * 2\n",
    "\n",
    "obj = MyClass(5)\n",
    "print(obj.instance_method())"
   ]
  },
  {
   "cell_type": "code",
   "execution_count": 3,
   "id": "6474f44b",
   "metadata": {},
   "outputs": [
    {
     "name": "stdout",
     "output_type": "stream",
     "text": [
      "20\n"
     ]
    }
   ],
   "source": [
    "'''Class Method'''\n",
    "class MyClass:\n",
    "    class_variable = 10\n",
    "\n",
    "    def __init__(self, x):\n",
    "        self.x = x\n",
    "\n",
    "    @classmethod\n",
    "    def class_method(cls):\n",
    "        return cls.class_variable * 2\n",
    "\n",
    "print(MyClass.class_method())\n"
   ]
  },
  {
   "cell_type": "code",
   "execution_count": null,
   "id": "2c3cb4a1",
   "metadata": {},
   "outputs": [],
   "source": []
  },
  {
   "cell_type": "code",
   "execution_count": null,
   "id": "98351013",
   "metadata": {},
   "outputs": [],
   "source": []
  },
  {
   "cell_type": "code",
   "execution_count": null,
   "id": "a87b3636",
   "metadata": {},
   "outputs": [],
   "source": []
  },
  {
   "cell_type": "code",
   "execution_count": null,
   "id": "024f2a95",
   "metadata": {},
   "outputs": [],
   "source": []
  }
 ],
 "metadata": {
  "kernelspec": {
   "display_name": "Python 3 (ipykernel)",
   "language": "python",
   "name": "python3"
  },
  "language_info": {
   "codemirror_mode": {
    "name": "ipython",
    "version": 3
   },
   "file_extension": ".py",
   "mimetype": "text/x-python",
   "name": "python",
   "nbconvert_exporter": "python",
   "pygments_lexer": "ipython3",
   "version": "3.11.5"
  }
 },
 "nbformat": 4,
 "nbformat_minor": 5
}
