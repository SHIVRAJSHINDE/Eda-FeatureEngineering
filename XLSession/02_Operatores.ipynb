{
 "cells": [
  {
   "cell_type": "code",
   "execution_count": 5,
   "id": "9c1c9861",
   "metadata": {},
   "outputs": [
    {
     "data": {
      "text/plain": [
       "2.0"
      ]
     },
     "execution_count": 5,
     "metadata": {},
     "output_type": "execute_result"
    }
   ],
   "source": [
    "'''Substraction Addition Devistion Multiplication'''\n",
    "\n",
    "x = 6\n",
    "y = 3\n",
    "\n",
    "x/y"
   ]
  },
  {
   "cell_type": "code",
   "execution_count": 15,
   "id": "0ce31f87",
   "metadata": {},
   "outputs": [
    {
     "data": {
      "text/plain": [
       "5.666666666666667"
      ]
     },
     "execution_count": 15,
     "metadata": {},
     "output_type": "execute_result"
    }
   ],
   "source": [
    "x = 17\n",
    "y = 3\n",
    "\n",
    "x/y"
   ]
  },
  {
   "cell_type": "code",
   "execution_count": 14,
   "id": "23553631",
   "metadata": {},
   "outputs": [
    {
     "data": {
      "text/plain": [
       "5"
      ]
     },
     "execution_count": 14,
     "metadata": {},
     "output_type": "execute_result"
    }
   ],
   "source": [
    "'''Floor division and Exponentiation(**)'''\n",
    "\n",
    "x = 17\n",
    "y = 3\n",
    "\n",
    "result = x // y  # result is 3 (integer division)\n",
    "result"
   ]
  },
  {
   "cell_type": "code",
   "execution_count": 17,
   "id": "dd15bf52",
   "metadata": {},
   "outputs": [
    {
     "name": "stdout",
     "output_type": "stream",
     "text": [
      "8\n",
      "8\n"
     ]
    }
   ],
   "source": [
    "x = 2\n",
    "y = 3\n",
    "\n",
    "result = x ** y  # result is 3 (integer division)\n",
    "print(result)\n",
    "print(2*2*2)"
   ]
  },
  {
   "cell_type": "code",
   "execution_count": 18,
   "id": "47fd82be",
   "metadata": {},
   "outputs": [
    {
     "data": {
      "text/plain": [
       "3.3333333333333335"
      ]
     },
     "execution_count": 18,
     "metadata": {},
     "output_type": "execute_result"
    }
   ],
   "source": [
    "'''Modulus (%): Returns the remainder of the division.'''\n",
    "x = 10\n",
    "y = 3\n",
    "x/y"
   ]
  },
  {
   "cell_type": "code",
   "execution_count": 21,
   "id": "e9c6e70b",
   "metadata": {},
   "outputs": [
    {
     "name": "stdout",
     "output_type": "stream",
     "text": [
      "3\n"
     ]
    }
   ],
   "source": [
    "x = 15\n",
    "y = 4\n",
    "\n",
    "result = x % y  # result is 3 (integer division)\n",
    "print(result)\n"
   ]
  },
  {
   "cell_type": "code",
   "execution_count": 24,
   "id": "1c323802",
   "metadata": {},
   "outputs": [
    {
     "name": "stdout",
     "output_type": "stream",
     "text": [
      "False\n"
     ]
    }
   ],
   "source": [
    "'''Equal to (==): Checks if two operands are equal.'''\n",
    "\n",
    "x = 5\n",
    "y = 6\n",
    "\n",
    "print(x == y)\n"
   ]
  },
  {
   "cell_type": "code",
   "execution_count": 26,
   "id": "14d1ca92",
   "metadata": {},
   "outputs": [
    {
     "data": {
      "text/plain": [
       "False"
      ]
     },
     "execution_count": 26,
     "metadata": {},
     "output_type": "execute_result"
    }
   ],
   "source": [
    "'''Not equal to (!=): Checks if two operands are not equal.'''\n",
    "x = 5\n",
    "y = 5\n",
    "\n",
    "x != y\n"
   ]
  },
  {
   "cell_type": "code",
   "execution_count": 28,
   "id": "911193a9",
   "metadata": {},
   "outputs": [
    {
     "data": {
      "text/plain": [
       "False"
      ]
     },
     "execution_count": 28,
     "metadata": {},
     "output_type": "execute_result"
    }
   ],
   "source": [
    "'''Greater than (>): Checks if the left operand is greater than the right.'''\n",
    "x = 7\n",
    "y = 10\n",
    "\n",
    "x > y \n"
   ]
  },
  {
   "cell_type": "code",
   "execution_count": 30,
   "id": "ce4ff7e9",
   "metadata": {},
   "outputs": [
    {
     "data": {
      "text/plain": [
       "False"
      ]
     },
     "execution_count": 30,
     "metadata": {},
     "output_type": "execute_result"
    }
   ],
   "source": [
    "'''Less than (<): Checks if the left operand is less than the right.'''\n",
    "\n",
    "x = 11\n",
    "y = 5\n",
    "\n",
    "\n",
    "x < y\n",
    "\n"
   ]
  },
  {
   "cell_type": "code",
   "execution_count": 32,
   "id": "53a820b3",
   "metadata": {},
   "outputs": [
    {
     "data": {
      "text/plain": [
       "True"
      ]
     },
     "execution_count": 32,
     "metadata": {},
     "output_type": "execute_result"
    }
   ],
   "source": [
    "'''Greater than or equal to (>=): Checks if the left operand is greater than or equal to the right.'''\n",
    "\n",
    "x = 7\n",
    "y = 7\n",
    "\n",
    "\n",
    "x >= y\n"
   ]
  },
  {
   "cell_type": "code",
   "execution_count": 34,
   "id": "78d01b74",
   "metadata": {},
   "outputs": [
    {
     "data": {
      "text/plain": [
       "True"
      ]
     },
     "execution_count": 34,
     "metadata": {},
     "output_type": "execute_result"
    }
   ],
   "source": [
    "'''Less than or equal to (<=): Checks if the left operand is less than or equal to the right.'''\n",
    "x = 3\n",
    "y = 3\n",
    "\n",
    "x <= y\n",
    "\n"
   ]
  },
  {
   "cell_type": "code",
   "execution_count": 35,
   "id": "9692cfcf",
   "metadata": {},
   "outputs": [
    {
     "name": "stdout",
     "output_type": "stream",
     "text": [
      "5\n"
     ]
    }
   ],
   "source": [
    "'''Assignment (=): Assigns the value on the right to the variable on the left.'''\n",
    "x = 5\n",
    "print(x)"
   ]
  },
  {
   "cell_type": "code",
   "execution_count": 38,
   "id": "be76ed51",
   "metadata": {},
   "outputs": [
    {
     "name": "stdout",
     "output_type": "stream",
     "text": [
      "10\n"
     ]
    }
   ],
   "source": [
    "'''Addition Assignment (+=): Adds the value on the right to the variable on the \n",
    "left and assigns the result to the variable.'''\n",
    "x = 5\n",
    "x = x + 5\n",
    "x += 5\n",
    "print(x)"
   ]
  },
  {
   "cell_type": "code",
   "execution_count": 41,
   "id": "8146b8f4",
   "metadata": {},
   "outputs": [
    {
     "name": "stdout",
     "output_type": "stream",
     "text": [
      "0\n"
     ]
    }
   ],
   "source": [
    "'''Subtraction Assignment (-=): Subtracts the value on the right from the variable on the left \n",
    "and assigns the result to the variable.'''\n",
    "x = 8\n",
    "\n",
    "#x = x - 8\n",
    "x -= 8  # equivalent to x = x - 8\n",
    "\n",
    "\n",
    "print(x)\n",
    "\n"
   ]
  },
  {
   "cell_type": "code",
   "execution_count": 44,
   "id": "6ce573f0",
   "metadata": {},
   "outputs": [
    {
     "name": "stdout",
     "output_type": "stream",
     "text": [
      "16\n"
     ]
    }
   ],
   "source": [
    "'''Multiplication Assignment (*=): Multiplies the variable on \n",
    "the left by the value on the right and assigns the result to the variable.'''\n",
    "\n",
    "x = 4\n",
    "\n",
    "#x = x * 4\n",
    "x *= 4  # equivalent to x = x * 6\n",
    "\n",
    "print(x)\n"
   ]
  },
  {
   "cell_type": "code",
   "execution_count": 46,
   "id": "86f04b12",
   "metadata": {},
   "outputs": [
    {
     "name": "stdout",
     "output_type": "stream",
     "text": [
      "1.0\n"
     ]
    }
   ],
   "source": [
    "'''Division Assignment (/=): Divides the variable on the left by the value on the right \n",
    "and assigns the result to the variable.'''\n",
    "x = 10\n",
    "#x = x /10\n",
    "x /= 10  # equivalent to x = x / 2\n",
    "\n",
    "print(x)\n"
   ]
  },
  {
   "cell_type": "markdown",
   "id": "e53a30e6",
   "metadata": {},
   "source": [
    "# Logical Operators"
   ]
  },
  {
   "cell_type": "code",
   "execution_count": 2,
   "id": "3deecf30",
   "metadata": {},
   "outputs": [
    {
     "name": "stdout",
     "output_type": "stream",
     "text": [
      "False\n"
     ]
    }
   ],
   "source": [
    "'''Logical AND (and): Returns True if both operands are True.'''\n",
    "\n",
    "result = (5 > 0) and (12 > 15)  # result is True\n",
    "\n",
    "print(result)"
   ]
  },
  {
   "cell_type": "code",
   "execution_count": 4,
   "id": "bb3b648c",
   "metadata": {},
   "outputs": [
    {
     "name": "stdout",
     "output_type": "stream",
     "text": [
      "False\n"
     ]
    }
   ],
   "source": [
    "'''Logical OR (or): Returns True if at least one of the operands is True.'''\n",
    "\n",
    "result = (5 > 15) or (17 > 20)  # result is True\n",
    "#         True    or True\n",
    "\n",
    "print(result)"
   ]
  },
  {
   "cell_type": "code",
   "execution_count": 6,
   "id": "77751f01",
   "metadata": {},
   "outputs": [
    {
     "name": "stdout",
     "output_type": "stream",
     "text": [
      "False\n"
     ]
    }
   ],
   "source": [
    "'''Logical NOT (not): Returns the opposite of the operand's truth value.'''\n",
    "\n",
    "\n",
    "result = not(-1 < 0)  # result is True\n",
    "\n",
    "\n",
    "print(result)"
   ]
  },
  {
   "cell_type": "markdown",
   "id": "a8bd5c8f",
   "metadata": {},
   "source": [
    "# Identity Operators"
   ]
  },
  {
   "cell_type": "code",
   "execution_count": 8,
   "id": "30427fb2",
   "metadata": {},
   "outputs": [
    {
     "name": "stdout",
     "output_type": "stream",
     "text": [
      "False\n"
     ]
    }
   ],
   "source": [
    "'''is: Returns True if both operands refer to the same object.'''\n",
    "\n",
    "x = 'Sunil'\n",
    "y = 'Rajesh'\n",
    "\n",
    "result1 = x is y  # result1 is False (x and y are different objects)\n",
    "\n",
    "print(result1)\n"
   ]
  },
  {
   "cell_type": "code",
   "execution_count": 10,
   "id": "33f36cdd",
   "metadata": {},
   "outputs": [
    {
     "name": "stdout",
     "output_type": "stream",
     "text": [
      "False\n"
     ]
    }
   ],
   "source": [
    "'''is not: Returns True if both operands do not refer to the same object.'''\n",
    "\n",
    "x = 'Sunil'\n",
    "y = 'Sunil'\n",
    "\n",
    "result1 = x is not y  # result1 is False (x and y are different objects)\n",
    "\n",
    "print(result1)\n"
   ]
  },
  {
   "cell_type": "markdown",
   "id": "51df14a7",
   "metadata": {},
   "source": [
    "# Membership Operators"
   ]
  },
  {
   "cell_type": "code",
   "execution_count": 13,
   "id": "5f08522d",
   "metadata": {},
   "outputs": [
    {
     "data": {
      "text/plain": [
       "False"
      ]
     },
     "execution_count": 13,
     "metadata": {},
     "output_type": "execute_result"
    }
   ],
   "source": [
    "'''in: Returns True if the value is found in the sequence.'''\n",
    "\n",
    "x = \"this is python class\"\n",
    "\n",
    "\n",
    "\"this1\" in x\n"
   ]
  },
  {
   "cell_type": "code",
   "execution_count": 20,
   "id": "db9ff302",
   "metadata": {},
   "outputs": [
    {
     "data": {
      "text/plain": [
       "True"
      ]
     },
     "execution_count": 20,
     "metadata": {},
     "output_type": "execute_result"
    }
   ],
   "source": [
    "list1 = [\"a\",\"b\",\"c\"]\n",
    "\n",
    "\"a\" in list1\n"
   ]
  },
  {
   "cell_type": "code",
   "execution_count": 19,
   "id": "7a0c3c64",
   "metadata": {},
   "outputs": [
    {
     "data": {
      "text/plain": [
       "False"
      ]
     },
     "execution_count": 19,
     "metadata": {},
     "output_type": "execute_result"
    }
   ],
   "source": [
    "'''not in: Returns True if the value is not found in the sequence.'''\n",
    "x = \"this is python class\"\n",
    "\n",
    "\n",
    "\"class\" not in x\n",
    "\n"
   ]
  },
  {
   "cell_type": "code",
   "execution_count": null,
   "id": "63c025cc",
   "metadata": {},
   "outputs": [],
   "source": []
  },
  {
   "cell_type": "code",
   "execution_count": null,
   "id": "3f7388f7",
   "metadata": {},
   "outputs": [],
   "source": []
  },
  {
   "cell_type": "code",
   "execution_count": null,
   "id": "313b6f57",
   "metadata": {},
   "outputs": [],
   "source": []
  },
  {
   "cell_type": "code",
   "execution_count": null,
   "id": "3afb1de0",
   "metadata": {},
   "outputs": [],
   "source": []
  },
  {
   "cell_type": "code",
   "execution_count": null,
   "id": "170c2ea5",
   "metadata": {},
   "outputs": [],
   "source": []
  },
  {
   "cell_type": "code",
   "execution_count": null,
   "id": "83ec7491",
   "metadata": {},
   "outputs": [],
   "source": []
  }
 ],
 "metadata": {
  "kernelspec": {
   "display_name": "Python 3 (ipykernel)",
   "language": "python",
   "name": "python3"
  },
  "language_info": {
   "codemirror_mode": {
    "name": "ipython",
    "version": 3
   },
   "file_extension": ".py",
   "mimetype": "text/x-python",
   "name": "python",
   "nbconvert_exporter": "python",
   "pygments_lexer": "ipython3",
   "version": "3.11.5"
  }
 },
 "nbformat": 4,
 "nbformat_minor": 5
}
