{
 "cells": [
  {
   "cell_type": "code",
   "execution_count": 6,
   "id": "f8734684",
   "metadata": {},
   "outputs": [
    {
     "data": {
      "text/plain": [
       "'my name is ashok my name is ashok my name is ashok my name is \\nashok my name is ashok my name is ashok my name is ashok my name is ashok my name is \\nashok my name is ashok my name is ashok my name is ashok '"
      ]
     },
     "execution_count": 6,
     "metadata": {},
     "output_type": "execute_result"
    }
   ],
   "source": [
    "\n",
    "abc = '''my name is ashok my name '''\n",
    "abc"
   ]
  },
  {
   "cell_type": "code",
   "execution_count": 7,
   "id": "f3d2532e",
   "metadata": {},
   "outputs": [
    {
     "name": "stdout",
     "output_type": "stream",
     "text": [
      "Choose the method that best suits your preference and the version of Python you're using. \n",
      "f-strings are generally preferred for their simplicity and readability, but the \n",
      "other methods are still widely used, especially in older codebases.\n"
     ]
    }
   ],
   "source": [
    "a = \"\"\"Choose the method that best suits your preference and the version of Python you're using. \n",
    "f-strings are generally preferred for their simplicity and readability, but the \n",
    "other methods are still widely used, especially in older codebases.\"\"\"\n",
    "print(a)\n"
   ]
  },
  {
   "cell_type": "code",
   "execution_count": 8,
   "id": "dd562343",
   "metadata": {},
   "outputs": [
    {
     "name": "stdout",
     "output_type": "stream",
     "text": [
      "Choose the method that best suits your preference and the version of Python you're using. \n",
      "f-strings are generally preferred for their simplicity and readability, but the \n",
      "other methods are still widely used, especially in older codebases.\n"
     ]
    }
   ],
   "source": [
    "a = '''Choose the method that best suits your preference and the version of Python you're using. \n",
    "f-strings are generally preferred for their simplicity and readability, but the \n",
    "other methods are still widely used, especially in older codebases.'''\n",
    "print(a)\n"
   ]
  },
  {
   "cell_type": "code",
   "execution_count": null,
   "id": "018eba4e",
   "metadata": {},
   "outputs": [],
   "source": [
    "'''Escape Character'''\n"
   ]
  },
  {
   "cell_type": "code",
   "execution_count": 2,
   "id": "8c48d69b",
   "metadata": {},
   "outputs": [
    {
     "data": {
      "text/plain": [
       "'Its \\\\ alright.'"
      ]
     },
     "execution_count": 2,
     "metadata": {},
     "output_type": "execute_result"
    }
   ],
   "source": [
    "txt = 'Its \\\\ alright.'\n",
    "txt\n"
   ]
  },
  {
   "cell_type": "code",
   "execution_count": 21,
   "id": "497eaf41",
   "metadata": {},
   "outputs": [
    {
     "name": "stdout",
     "output_type": "stream",
     "text": [
      "It's alright.\n"
     ]
    }
   ],
   "source": [
    "'''Single Slash'''\n",
    "txt = 'It\\'s alright.'\n",
    "'\\'\n",
    "print(txt)\n"
   ]
  },
  {
   "cell_type": "code",
   "execution_count": 3,
   "id": "7f7b7fd8",
   "metadata": {},
   "outputs": [
    {
     "name": "stdout",
     "output_type": "stream",
     "text": [
      "This will insert one \\ (backslash).\n"
     ]
    }
   ],
   "source": [
    "txt = \"This will insert one \\\\ (backslash).\"\n",
    "print(txt)\n"
   ]
  },
  {
   "cell_type": "code",
   "execution_count": 4,
   "id": "a49f11d2",
   "metadata": {},
   "outputs": [
    {
     "name": "stdout",
     "output_type": "stream",
     "text": [
      "Hello\n",
      "World!\n"
     ]
    }
   ],
   "source": [
    "'''New Line'''\n",
    "'\\n'\n",
    "\n",
    "txt = \"Hello\\nWorld!\"\n",
    "print(txt)\n"
   ]
  },
  {
   "cell_type": "code",
   "execution_count": 6,
   "id": "1de2be97",
   "metadata": {},
   "outputs": [
    {
     "name": "stdout",
     "output_type": "stream",
     "text": [
      "Hello\r",
      "World!\n"
     ]
    }
   ],
   "source": [
    "'''Carriage Return'''\n",
    "'\\r'\n",
    "txt = \"Hello\\rWorld!\"\n",
    "print(txt)\n",
    "\n"
   ]
  },
  {
   "cell_type": "code",
   "execution_count": 8,
   "id": "bcd5eccb",
   "metadata": {},
   "outputs": [
    {
     "name": "stdout",
     "output_type": "stream",
     "text": [
      "this is with the\ttab\n"
     ]
    }
   ],
   "source": [
    "'''Tab'''\n",
    "'''\\t'''\n",
    "txt = \"Hello\\tWorld!\"\n",
    "\n",
    "txt1 = \"this is with the\\ttab\"\n",
    "print(txt1)\n"
   ]
  },
  {
   "cell_type": "code",
   "execution_count": 11,
   "id": "54fd7e94",
   "metadata": {},
   "outputs": [
    {
     "name": "stdout",
     "output_type": "stream",
     "text": [
      "Hell\bWorld!\n"
     ]
    }
   ],
   "source": [
    "'''Backspace'''\n",
    "'''\\b'''\n",
    "#This example erases one character (backspace):\n",
    "txt = \"Hello\\bWorld!\"\n",
    "\n",
    "print(txt)\n"
   ]
  },
  {
   "cell_type": "markdown",
   "id": "1fd93474",
   "metadata": {},
   "source": [
    "# Sting Formatting"
   ]
  },
  {
   "cell_type": "code",
   "execution_count": 16,
   "id": "2b269902",
   "metadata": {},
   "outputs": [
    {
     "name": "stdout",
     "output_type": "stream",
     "text": [
      "Name: John, Age: 30, Height: 5.913\n",
      "MyName: John, myAge: 30,myHeight: 5.9\n"
     ]
    }
   ],
   "source": [
    "'''Using format() Method:'''\n",
    "name = \"John\"\n",
    "age = 30\n",
    "height = 5.913\n",
    "\n",
    "\n",
    "# Using format() method\n",
    "formatted_string = \"Name: {}, Age: {}, Height: {:.3f}\".format(name, age, height)\n",
    "\n",
    "formatStr1 = \"MyName: {}, myAge: {},myHeight: {:.1f}\".format(name,age,height)\n",
    "\n",
    "\n",
    "print(formatted_string)\n",
    "print(formatStr1)\n",
    "\n"
   ]
  },
  {
   "cell_type": "code",
   "execution_count": 18,
   "id": "dc6000c5",
   "metadata": {},
   "outputs": [
    {
     "name": "stdout",
     "output_type": "stream",
     "text": [
      "Name: John, Age: 30, Height: 5.91\n",
      "Myname:John,age:30,height: 5.9\n"
     ]
    }
   ],
   "source": [
    "'''Using f-Strings (Available in Python 3.6 and later):'''\n",
    "\n",
    "name = \"John\"\n",
    "age = 30\n",
    "height = 5.912\n",
    "\n",
    "# Using f-strings\n",
    "formatted_string = f\"Name: {name}, Age: {age}, Height: {height:.2f}\"\n",
    "\n",
    "formatNEWstr1 = f\"Myname:{name},age:{age},height: {height:.1f}\"\n",
    "\n",
    "print(formatted_string)\n",
    "print(formatNEWstr1)\n",
    "\n",
    "# Output: Name: John, Age: 30, Height: 5.90\n",
    "abc[]"
   ]
  },
  {
   "cell_type": "markdown",
   "id": "2eda8b42",
   "metadata": {},
   "source": [
    "# Indexing, Slicing & Dicing"
   ]
  },
  {
   "cell_type": "code",
   "execution_count": 23,
   "id": "bdf49b87",
   "metadata": {},
   "outputs": [
    {
     "data": {
      "text/plain": [
       "'o'"
      ]
     },
     "execution_count": 23,
     "metadata": {},
     "output_type": "execute_result"
    }
   ],
   "source": [
    "'''Syntax: string[index]'''\n",
    "\n",
    "my_string = \"Hello, World!\"\n",
    "# postion = index +1\n",
    "# index = index\n",
    "\n",
    "my_string[4]\n"
   ]
  },
  {
   "cell_type": "code",
   "execution_count": 30,
   "id": "40171b5e",
   "metadata": {},
   "outputs": [
    {
     "data": {
      "text/plain": [
       "'!dlroW ,olleH'"
      ]
     },
     "execution_count": 30,
     "metadata": {},
     "output_type": "execute_result"
    }
   ],
   "source": [
    "'''Slicing:'''\n",
    "\n",
    "my_string = \"Hello, World!\"\n",
    "\n",
    "my_string[0:5]\n",
    "my_string[1:]\n",
    "my_string[::-1]"
   ]
  },
  {
   "cell_type": "code",
   "execution_count": null,
   "id": "1d232e14",
   "metadata": {},
   "outputs": [],
   "source": [
    "print(my_string[0:5])      # Output: 'Hello'\n",
    "print(my_string[7:])       # Output: 'World!'\n",
    "print(my_string[:5])       # Output: 'Hello'\n",
    "print(my_string[::-1])     # Output: '!dlroW ,olleH' (reversed string)\n"
   ]
  },
  {
   "cell_type": "code",
   "execution_count": null,
   "id": "7a057cdf",
   "metadata": {},
   "outputs": [],
   "source": []
  },
  {
   "cell_type": "markdown",
   "id": "28232a26",
   "metadata": {},
   "source": [
    "# input()"
   ]
  },
  {
   "cell_type": "code",
   "execution_count": null,
   "id": "26cbb0c3",
   "metadata": {},
   "outputs": [],
   "source": [
    "'''In Python, the input()'''\n",
    "\n",
    "user_input = input(\"Enter something: \")\n",
    "print(\"You entered:\", user_input)"
   ]
  },
  {
   "cell_type": "code",
   "execution_count": 34,
   "id": "649a72a4",
   "metadata": {},
   "outputs": [
    {
     "name": "stdout",
     "output_type": "stream",
     "text": [
      "ENTER YOUR Name: Arihant\n"
     ]
    },
    {
     "data": {
      "text/plain": [
       "'Arihant'"
      ]
     },
     "execution_count": 34,
     "metadata": {},
     "output_type": "execute_result"
    }
   ],
   "source": [
    "\n",
    "valueFromUser = input(\"ENTER YOUR Name: \")\n",
    "valueFromUser"
   ]
  },
  {
   "cell_type": "markdown",
   "id": "a36309a3",
   "metadata": {},
   "source": [
    "# String Methods"
   ]
  },
  {
   "cell_type": "code",
   "execution_count": 38,
   "id": "dbad18dc",
   "metadata": {},
   "outputs": [
    {
     "data": {
      "text/plain": [
       "'arihant abc'"
      ]
     },
     "execution_count": 38,
     "metadata": {},
     "output_type": "execute_result"
    }
   ],
   "source": [
    "abc  = \"Arihant abc\"\n",
    "abc.lower()"
   ]
  },
  {
   "cell_type": "code",
   "execution_count": null,
   "id": "6203ea67",
   "metadata": {},
   "outputs": [],
   "source": []
  },
  {
   "cell_type": "code",
   "execution_count": null,
   "id": "1eaaa4d1",
   "metadata": {},
   "outputs": [],
   "source": []
  },
  {
   "cell_type": "code",
   "execution_count": null,
   "id": "ef5205bb",
   "metadata": {},
   "outputs": [],
   "source": []
  },
  {
   "cell_type": "code",
   "execution_count": null,
   "id": "2b169394",
   "metadata": {},
   "outputs": [],
   "source": []
  }
 ],
 "metadata": {
  "kernelspec": {
   "display_name": "Python 3 (ipykernel)",
   "language": "python",
   "name": "python3"
  },
  "language_info": {
   "codemirror_mode": {
    "name": "ipython",
    "version": 3
   },
   "file_extension": ".py",
   "mimetype": "text/x-python",
   "name": "python",
   "nbconvert_exporter": "python",
   "pygments_lexer": "ipython3",
   "version": "3.11.5"
  }
 },
 "nbformat": 4,
 "nbformat_minor": 5
}
