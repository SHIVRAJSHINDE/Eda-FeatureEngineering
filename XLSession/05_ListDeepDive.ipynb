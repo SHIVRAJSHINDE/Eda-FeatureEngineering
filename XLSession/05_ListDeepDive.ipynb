{
 "cells": [
  {
   "cell_type": "code",
   "execution_count": 2,
   "id": "a69c4e41",
   "metadata": {},
   "outputs": [
    {
     "data": {
      "text/plain": [
       "['apple', 'banana', 'cherry', 'orange']"
      ]
     },
     "execution_count": 2,
     "metadata": {},
     "output_type": "execute_result"
    }
   ],
   "source": [
    "'Creating List'\n",
    "\n",
    "'''Method 01'''\n",
    "abc = [\"apple\", \"banana\", \"cherry\", \"orange\"]\n",
    "\n",
    "abc"
   ]
  },
  {
   "cell_type": "code",
   "execution_count": 1,
   "id": "bf320f52",
   "metadata": {},
   "outputs": [
    {
     "data": {
      "text/plain": [
       "['apple', 'banana', 'cherry', 'orange']"
      ]
     },
     "execution_count": 1,
     "metadata": {},
     "output_type": "execute_result"
    }
   ],
   "source": [
    "'''Method 02'''\n",
    "abc = list((\"apple\", \"banana\", \"cherry\", \"orange\"))\n",
    "\n",
    "abc"
   ]
  },
  {
   "cell_type": "code",
   "execution_count": 13,
   "id": "cd4e64ed",
   "metadata": {},
   "outputs": [
    {
     "name": "stdout",
     "output_type": "stream",
     "text": [
      "['banana', 'cherry']\n"
     ]
    }
   ],
   "source": [
    "\n",
    "sliced_list = abc[1:3]\n",
    "print(sliced_list)\n"
   ]
  },
  {
   "cell_type": "code",
   "execution_count": 14,
   "id": "0bcd6a90",
   "metadata": {},
   "outputs": [
    {
     "name": "stdout",
     "output_type": "stream",
     "text": [
      "['apple', 'banana', 'cherry']\n"
     ]
    }
   ],
   "source": [
    "sliced_list = abc[:3]\n",
    "print(sliced_list) "
   ]
  },
  {
   "cell_type": "code",
   "execution_count": null,
   "id": "53a938c6",
   "metadata": {},
   "outputs": [],
   "source": [
    "'''Using -ve index'''"
   ]
  },
  {
   "cell_type": "code",
   "execution_count": null,
   "id": "f844d0e2",
   "metadata": {},
   "outputs": [],
   "source": [
    "'''\n",
    "abc = list((\"apple\", \"banana\", \"cherry\", \"orange\"))\n",
    "               -4       -3        -2       -1\n",
    "'''"
   ]
  },
  {
   "cell_type": "code",
   "execution_count": null,
   "id": "346bc77d",
   "metadata": {},
   "outputs": [],
   "source": []
  },
  {
   "cell_type": "code",
   "execution_count": 12,
   "id": "5d8eef85",
   "metadata": {},
   "outputs": [
    {
     "name": "stdout",
     "output_type": "stream",
     "text": [
      "['banana', 'cherry', 'orange']\n"
     ]
    }
   ],
   "source": [
    "sliced_list = abc[-3:]\n",
    "print(sliced_list)"
   ]
  },
  {
   "cell_type": "code",
   "execution_count": 11,
   "id": "0b6af367",
   "metadata": {},
   "outputs": [
    {
     "name": "stdout",
     "output_type": "stream",
     "text": [
      "['apple', 'banana', 'cherry']\n"
     ]
    }
   ],
   "source": [
    "sliced_list = abc[:-1]\n",
    "print(sliced_list)  "
   ]
  },
  {
   "cell_type": "code",
   "execution_count": null,
   "id": "c9e30f2b",
   "metadata": {},
   "outputs": [],
   "source": []
  },
  {
   "cell_type": "code",
   "execution_count": 8,
   "id": "eeae8378",
   "metadata": {},
   "outputs": [
    {
     "name": "stdout",
     "output_type": "stream",
     "text": [
      "['orange', 'cherry', 'banana', 'apple']\n"
     ]
    }
   ],
   "source": [
    "'''Reversed'''\n",
    "\n",
    "reversed_list = abc[::-1]\n",
    "print(reversed_list)  "
   ]
  },
  {
   "cell_type": "code",
   "execution_count": 15,
   "id": "cf58847c",
   "metadata": {},
   "outputs": [
    {
     "name": "stdout",
     "output_type": "stream",
     "text": [
      "apple\n",
      "banana\n",
      "cherry\n",
      "orange\n"
     ]
    }
   ],
   "source": [
    "'''Iterating over list '''\n",
    "\n",
    "for x in abc:\n",
    "    print(x)"
   ]
  },
  {
   "cell_type": "code",
   "execution_count": null,
   "id": "c1a37345",
   "metadata": {},
   "outputs": [],
   "source": [
    "'''len Of List'''\n",
    "len(abc)"
   ]
  },
  {
   "cell_type": "code",
   "execution_count": null,
   "id": "31961fe3",
   "metadata": {},
   "outputs": [],
   "source": [
    "'''Check if Item Exists'''\n",
    "\n",
    "if \"apple\" in abc:\n",
    "    print(\"Yes, apple is in the fruits list\")"
   ]
  },
  {
   "cell_type": "code",
   "execution_count": 16,
   "id": "2b6dc02c",
   "metadata": {},
   "outputs": [
    {
     "name": "stdout",
     "output_type": "stream",
     "text": [
      "['apple', 'blackcurrant', 'cherry', 'orange']\n"
     ]
    }
   ],
   "source": [
    "'''Changing the item'''\n",
    "\n",
    "abc[1] = \"blackcurrant\"\n",
    "print(abc)"
   ]
  },
  {
   "cell_type": "markdown",
   "id": "f2727819",
   "metadata": {},
   "source": [
    "# Adding an Item\n"
   ]
  },
  {
   "cell_type": "code",
   "execution_count": null,
   "id": "af25e444",
   "metadata": {},
   "outputs": [],
   "source": [
    "'''To add an item at the Last index'''\n",
    "abc.append(\"orange\")"
   ]
  },
  {
   "cell_type": "code",
   "execution_count": null,
   "id": "496c69c2",
   "metadata": {},
   "outputs": [],
   "source": [
    "'''To add an item at the specified index'''\n",
    "abc.insert(1, \"orange\")"
   ]
  },
  {
   "cell_type": "markdown",
   "id": "5762d741",
   "metadata": {},
   "source": [
    "# Remove"
   ]
  },
  {
   "cell_type": "code",
   "execution_count": null,
   "id": "1f105bb7",
   "metadata": {},
   "outputs": [],
   "source": [
    "'''To removes the specified item:'''\n",
    "abc.remove(\"banana\")"
   ]
  },
  {
   "cell_type": "code",
   "execution_count": null,
   "id": "1d458b94",
   "metadata": {},
   "outputs": [],
   "source": [
    "abc.pop(\"banana\")"
   ]
  },
  {
   "cell_type": "code",
   "execution_count": null,
   "id": "fc957aa3",
   "metadata": {},
   "outputs": [],
   "source": [
    "'''To removes the Last item:'''\n",
    "abc.pop()"
   ]
  },
  {
   "cell_type": "code",
   "execution_count": null,
   "id": "3eabb0d0",
   "metadata": {},
   "outputs": [],
   "source": [
    "'''To removes by Index'''\n",
    "\n",
    "del abc[0]"
   ]
  },
  {
   "cell_type": "code",
   "execution_count": null,
   "id": "2c82d1d9",
   "metadata": {},
   "outputs": [],
   "source": [
    "'''Clear'''\n",
    "'''To empty the list:'''\n",
    "abc.clear()"
   ]
  },
  {
   "cell_type": "code",
   "execution_count": null,
   "id": "b4a97bc5",
   "metadata": {},
   "outputs": [],
   "source": [
    "'''Delete'''\n",
    "'''To delete the Data Completely'''\n",
    "del abc"
   ]
  },
  {
   "cell_type": "markdown",
   "id": "9a412262",
   "metadata": {},
   "source": [
    "# Copy"
   ]
  },
  {
   "cell_type": "code",
   "execution_count": null,
   "id": "c5b0ac1a",
   "metadata": {},
   "outputs": [],
   "source": [
    "mylist = abc.copy()\n",
    "print(mylist)"
   ]
  },
  {
   "cell_type": "code",
   "execution_count": null,
   "id": "f186d147",
   "metadata": {},
   "outputs": [],
   "source": [
    "mylist = abc.list()\n",
    "print(mylist)"
   ]
  },
  {
   "cell_type": "markdown",
   "id": "8ad6f93f",
   "metadata": {},
   "source": [
    "# Join"
   ]
  },
  {
   "cell_type": "code",
   "execution_count": 19,
   "id": "04122433",
   "metadata": {},
   "outputs": [],
   "source": [
    "list1 = [\"a\", \"b\" , \"c\"]\n",
    "list2 = [1, 2, 3]"
   ]
  },
  {
   "cell_type": "code",
   "execution_count": 20,
   "id": "19d23060",
   "metadata": {},
   "outputs": [
    {
     "name": "stdout",
     "output_type": "stream",
     "text": [
      "['a', 'b', 'c', 1, 2, 3]\n"
     ]
    }
   ],
   "source": [
    "'''Method 01\n",
    "by + operator'''\n",
    "\n",
    "list3 = list1 + list2\n",
    "print(list3)"
   ]
  },
  {
   "cell_type": "code",
   "execution_count": null,
   "id": "f5d16203",
   "metadata": {},
   "outputs": [],
   "source": [
    "'''Method 02\n",
    "by using append'''\n",
    "for x in list2:\n",
    "    list1.append(x)\n",
    "\n",
    "print(list1)"
   ]
  },
  {
   "cell_type": "code",
   "execution_count": null,
   "id": "11830296",
   "metadata": {},
   "outputs": [],
   "source": [
    "'''Method 03\n",
    "by using extend'''\n",
    "\n",
    "list1.extend(list2)\n",
    "print(list1)"
   ]
  },
  {
   "cell_type": "code",
   "execution_count": 37,
   "id": "6a7d9216",
   "metadata": {},
   "outputs": [
    {
     "name": "stdout",
     "output_type": "stream",
     "text": [
      "1\n",
      "2\n"
     ]
    }
   ],
   "source": [
    "'''Number of elements in dataset'''\n",
    "list1 = [\"a\", \"b\" , \"c\"]\n",
    "list2 = [1, 2, 3,3]\n",
    "\n",
    "print(list1.count(\"a\"))  # Output: 1\n",
    "print(list2.count(3))    # Output: 1\n"
   ]
  },
  {
   "cell_type": "code",
   "execution_count": 32,
   "id": "ff556f1c",
   "metadata": {},
   "outputs": [
    {
     "data": {
      "text/plain": [
       "0"
      ]
     },
     "execution_count": 32,
     "metadata": {},
     "output_type": "execute_result"
    }
   ],
   "source": [
    "'''Index of the first element with the specified value'''\n",
    "list1.index(\"c\")"
   ]
  },
  {
   "cell_type": "code",
   "execution_count": 38,
   "id": "759b1ee8",
   "metadata": {},
   "outputs": [
    {
     "data": {
      "text/plain": [
       "[3, 3, 2, 1]"
      ]
     },
     "execution_count": 38,
     "metadata": {},
     "output_type": "execute_result"
    }
   ],
   "source": [
    "'''Reverses the order'''\n",
    "list2.reverse()\n",
    "list2"
   ]
  },
  {
   "cell_type": "code",
   "execution_count": 39,
   "id": "3dce9e01",
   "metadata": {},
   "outputs": [
    {
     "data": {
      "text/plain": [
       "['c', 'b', 'a']"
      ]
     },
     "execution_count": 39,
     "metadata": {},
     "output_type": "execute_result"
    }
   ],
   "source": []
  },
  {
   "cell_type": "code",
   "execution_count": 44,
   "id": "8e502fd7",
   "metadata": {},
   "outputs": [
    {
     "data": {
      "text/plain": [
       "[3, 3, 2, 1]"
      ]
     },
     "execution_count": 44,
     "metadata": {},
     "output_type": "execute_result"
    }
   ],
   "source": [
    "list2.sort(reverse=True)\n",
    "list2"
   ]
  },
  {
   "cell_type": "code",
   "execution_count": 3,
   "id": "375901a0",
   "metadata": {},
   "outputs": [
    {
     "ename": "NameError",
     "evalue": "name 'list2' is not defined",
     "output_type": "error",
     "traceback": [
      "\u001b[1;31m---------------------------------------------------------------------------\u001b[0m",
      "\u001b[1;31mNameError\u001b[0m                                 Traceback (most recent call last)",
      "Cell \u001b[1;32mIn[3], line 1\u001b[0m\n\u001b[1;32m----> 1\u001b[0m \u001b[38;5;28msorted\u001b[39m(list2,reverse\u001b[38;5;241m=\u001b[39m\u001b[38;5;28;01mTrue\u001b[39;00m)\n",
      "\u001b[1;31mNameError\u001b[0m: name 'list2' is not defined"
     ]
    }
   ],
   "source": [
    "sorted(list2,reverse=True)\n"
   ]
  },
  {
   "cell_type": "code",
   "execution_count": 52,
   "id": "4691bb9d",
   "metadata": {},
   "outputs": [
    {
     "name": "stdout",
     "output_type": "stream",
     "text": [
      "['apple', 'banana', 'cherry', 'kiwi', 'mango']\n"
     ]
    }
   ],
   "source": [
    "'''Iteration over List'''\n",
    "\n",
    "fruits = [\"apple\", \"banana\", \"cherry\", \"kiwi\", \"mango\"]\n",
    "newlist = []\n",
    "\n",
    "for x in fruits:\n",
    "    newlist.append(x)\n",
    "\n",
    "print(newlist)"
   ]
  },
  {
   "cell_type": "code",
   "execution_count": 58,
   "id": "5b44b356",
   "metadata": {},
   "outputs": [
    {
     "data": {
      "text/plain": [
       "['apple', 'banana', 'cherry', 'kiwi', 'mango']"
      ]
     },
     "execution_count": 58,
     "metadata": {},
     "output_type": "execute_result"
    }
   ],
   "source": [
    "'''Using List Comprehension'''\n",
    "newlist = [x for x in fruits]\n",
    "\n",
    "newlist"
   ]
  },
  {
   "cell_type": "code",
   "execution_count": null,
   "id": "9735900b",
   "metadata": {},
   "outputs": [],
   "source": []
  },
  {
   "cell_type": "code",
   "execution_count": 59,
   "id": "626924ae",
   "metadata": {},
   "outputs": [
    {
     "name": "stdout",
     "output_type": "stream",
     "text": [
      "['apple', 'banana', 'cherry', 'kiwi', 'mango', 'apple', 'banana', 'mango']\n"
     ]
    }
   ],
   "source": [
    "'''Loo'''\n",
    "fruits = [\"apple\", \"banana\", \"cherry\", \"kiwi\", \"mango\"]\n",
    "newlistWithA = []\n",
    "\n",
    "for x in fruits:\n",
    "    if \"a\" in x:\n",
    "        newlist.append(x)\n",
    "\n",
    "print(newlist)"
   ]
  },
  {
   "cell_type": "code",
   "execution_count": 63,
   "id": "81ea2def",
   "metadata": {},
   "outputs": [
    {
     "data": {
      "text/plain": [
       "['apple', 'banana', 'mango']"
      ]
     },
     "execution_count": 63,
     "metadata": {},
     "output_type": "execute_result"
    }
   ],
   "source": [
    "[x for x in fruits if \"a\" in x]"
   ]
  },
  {
   "cell_type": "code",
   "execution_count": null,
   "id": "98403c54",
   "metadata": {},
   "outputs": [],
   "source": []
  },
  {
   "cell_type": "code",
   "execution_count": 76,
   "id": "684d1bd5",
   "metadata": {},
   "outputs": [
    {
     "data": {
      "text/plain": [
       "[10, 10, 10, 10, 10, 10, 10, 10, 10, 10]"
      ]
     },
     "execution_count": 76,
     "metadata": {},
     "output_type": "execute_result"
    }
   ],
   "source": [
    "# Example: Filtering numbers less than 2 or greater 5\n",
    "numbers = [1, 2, 3, 4, 5, 6, 7, 8, 9, 10]\n",
    "newLIST = []\n",
    "\n",
    "for x in numbers:\n",
    "    if x <3 or i >5:\n",
    "        newLIST.append(i)\n",
    "newLIST"
   ]
  },
  {
   "cell_type": "code",
   "execution_count": null,
   "id": "f65748f2",
   "metadata": {},
   "outputs": [],
   "source": [
    "# Example: Filtering numbers less than 2 or greater 5\n",
    "numbers = [1, 2, 3, 4, 5, 6, 7, 8, 9, 10]\n",
    "filtered_numbers = [x for x in numbers if x <= 3 or x > 5]\n",
    "print(filtered_numbers)  # Output: [1, 2, 5, 6, 7, 8, 9, 10]\n"
   ]
  },
  {
   "cell_type": "code",
   "execution_count": 78,
   "id": "5040c0cc",
   "metadata": {},
   "outputs": [
    {
     "name": "stdout",
     "output_type": "stream",
     "text": [
      "[1, 4, 9, 16, 25, 36, 49, 64, 81, 100]\n"
     ]
    }
   ],
   "source": [
    "# Using list comprehension to create a new list of squared of each Number\n",
    "original_list = [1, 2, 3, 4, 5, 6, 7, 8, 9, 10]\n",
    "\n",
    "squared_even_numbers = [x**2 for x in original_list]\n",
    "\n",
    "print(squared_even_numbers)\n",
    "\n"
   ]
  },
  {
   "cell_type": "code",
   "execution_count": 5,
   "id": "ecf47759",
   "metadata": {},
   "outputs": [],
   "source": [
    "'''convert list to dict'''\n",
    "\n",
    "abc = [\"apple\", \"banana\", \"cherry\", \"orange\"]\n",
    "original_list = [1, 2, 3, 4]\n",
    "\n",
    "axx = dict(zip(abc,original_list))\n",
    "\n",
    "axx"
   ]
  },
  {
   "cell_type": "code",
   "execution_count": null,
   "id": "8b78ed96",
   "metadata": {},
   "outputs": [],
   "source": []
  },
  {
   "cell_type": "code",
   "execution_count": null,
   "id": "67c6c78c",
   "metadata": {},
   "outputs": [],
   "source": []
  },
  {
   "cell_type": "code",
   "execution_count": null,
   "id": "0bea11c4",
   "metadata": {},
   "outputs": [],
   "source": []
  },
  {
   "cell_type": "code",
   "execution_count": null,
   "id": "845b83be",
   "metadata": {},
   "outputs": [],
   "source": []
  },
  {
   "cell_type": "code",
   "execution_count": null,
   "id": "1c80e51b",
   "metadata": {},
   "outputs": [],
   "source": []
  },
  {
   "cell_type": "code",
   "execution_count": null,
   "id": "d4b40498",
   "metadata": {},
   "outputs": [],
   "source": []
  },
  {
   "cell_type": "code",
   "execution_count": null,
   "id": "f14afa26",
   "metadata": {},
   "outputs": [],
   "source": []
  }
 ],
 "metadata": {
  "kernelspec": {
   "display_name": "Python 3 (ipykernel)",
   "language": "python",
   "name": "python3"
  },
  "language_info": {
   "codemirror_mode": {
    "name": "ipython",
    "version": 3
   },
   "file_extension": ".py",
   "mimetype": "text/x-python",
   "name": "python",
   "nbconvert_exporter": "python",
   "pygments_lexer": "ipython3",
   "version": "3.11.5"
  }
 },
 "nbformat": 4,
 "nbformat_minor": 5
}
