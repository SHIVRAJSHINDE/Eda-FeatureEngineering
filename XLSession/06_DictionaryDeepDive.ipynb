{
 "cells": [
  {
   "cell_type": "code",
   "execution_count": 1,
   "id": "7f2cb9fe",
   "metadata": {},
   "outputs": [
    {
     "data": {
      "text/plain": [
       "{'brand': 'Ford', 'model': 'Mustang', 'year': 1964}"
      ]
     },
     "execution_count": 1,
     "metadata": {},
     "output_type": "execute_result"
    }
   ],
   "source": [
    "'Create Dict'\n",
    "\n",
    "thisdict = {\"brand\": \"Ford\",\"model\": \"Mustang\",\"year\": 1964}\n",
    "\n",
    "\n",
    "thisdict\n"
   ]
  },
  {
   "cell_type": "code",
   "execution_count": 23,
   "id": "ad2c56aa",
   "metadata": {},
   "outputs": [
    {
     "data": {
      "text/plain": [
       "{'brand': 'Ford', 'model': 'Mustang', 'year': 1964}"
      ]
     },
     "execution_count": 23,
     "metadata": {},
     "output_type": "execute_result"
    }
   ],
   "source": [
    "'''by USING Constructor'''\n",
    "\n",
    "thisdict = dict(brand=\"Ford\", model=\"Mustang\", year=1964)\n",
    "thisdict\n"
   ]
  },
  {
   "cell_type": "code",
   "execution_count": 22,
   "id": "78c9006d",
   "metadata": {},
   "outputs": [
    {
     "data": {
      "text/plain": [
       "{'Dict1': {'name': 'Ali', 'age': 19}, 'Dict2': {'name': 'Bob', 'age': 25}}"
      ]
     },
     "execution_count": 22,
     "metadata": {},
     "output_type": "execute_result"
    }
   ],
   "source": [
    "# Nested dictionary having same keys \n",
    "\n",
    "   \n",
    "DictFirst = {'Dict1': {'name': 'Ali', 'age': 19},\n",
    "             'Dict2': {'name': 'Bob', 'age': 25}} \n",
    "DictFirst"
   ]
  },
  {
   "cell_type": "code",
   "execution_count": null,
   "id": "28850931",
   "metadata": {},
   "outputs": [],
   "source": [
    "\n",
    "thisdict = {\n",
    "    \"brand\": \"Ford\",\n",
    "     \"model\": \"Mustang\",\n",
    "     \"year\": 1964\n",
    "       }\n",
    "thisdict\n"
   ]
  },
  {
   "cell_type": "code",
   "execution_count": 24,
   "id": "1f5bb3e2",
   "metadata": {},
   "outputs": [
    {
     "data": {
      "text/plain": [
       "dict_keys(['brand', 'model', 'year'])"
      ]
     },
     "execution_count": 24,
     "metadata": {},
     "output_type": "execute_result"
    }
   ],
   "source": [
    "'''Get keys'''\n",
    "thisdict.keys()"
   ]
  },
  {
   "cell_type": "code",
   "execution_count": 26,
   "id": "08cf1b87",
   "metadata": {},
   "outputs": [
    {
     "data": {
      "text/plain": [
       "dict_values(['Ford', 'Mustang', 1964])"
      ]
     },
     "execution_count": 26,
     "metadata": {},
     "output_type": "execute_result"
    }
   ],
   "source": [
    "'''Get the value '''\n",
    "thisdict.values()"
   ]
  },
  {
   "cell_type": "code",
   "execution_count": 30,
   "id": "82903826",
   "metadata": {},
   "outputs": [
    {
     "name": "stdout",
     "output_type": "stream",
     "text": [
      "brand\n",
      "model\n",
      "year\n",
      "brand\n",
      "model\n",
      "year\n"
     ]
    }
   ],
   "source": [
    "#To Print all key names:\n",
    "for x in thisdict.keys():\n",
    "    print(x)\n",
    "\n",
    "for x in thisdict:\n",
    "    print(x)\n"
   ]
  },
  {
   "cell_type": "code",
   "execution_count": 32,
   "id": "fa929a99",
   "metadata": {},
   "outputs": [
    {
     "name": "stdout",
     "output_type": "stream",
     "text": [
      "Ford\n",
      "Mustang\n",
      "1964\n",
      "Ford\n",
      "Mustang\n",
      "1964\n"
     ]
    }
   ],
   "source": [
    "#To print all value:-\n",
    "\n",
    "for x in thisdict.values():\n",
    "    print(x)\n",
    "    \n",
    "for x in thisdict:\n",
    "    print(thisdict[x])"
   ]
  },
  {
   "cell_type": "code",
   "execution_count": 34,
   "id": "887d80c3",
   "metadata": {},
   "outputs": [
    {
     "name": "stdout",
     "output_type": "stream",
     "text": [
      "brand Ford\n",
      "model Mustang\n",
      "year 1964\n",
      "brand Ford\n",
      "model Mustang\n",
      "year 1964\n"
     ]
    }
   ],
   "source": [
    "#To print all Key & Value:\n",
    "for key, value in thisdict.items():\n",
    "    print(key, value)\n",
    "    \n",
    "for x in thisdict:\n",
    "    print(x,thisdict[x])"
   ]
  },
  {
   "cell_type": "code",
   "execution_count": 37,
   "id": "7b2f0393",
   "metadata": {},
   "outputs": [
    {
     "data": {
      "text/plain": [
       "3"
      ]
     },
     "execution_count": 37,
     "metadata": {},
     "output_type": "execute_result"
    }
   ],
   "source": [
    "'''Length'''\t\t\n",
    "len(thisdict)\n",
    "\n"
   ]
  },
  {
   "cell_type": "code",
   "execution_count": 39,
   "id": "cd38bf19",
   "metadata": {},
   "outputs": [
    {
     "name": "stdout",
     "output_type": "stream",
     "text": [
      "Yes, model is one of the keys in the thisdict dictionary\n"
     ]
    }
   ],
   "source": [
    "# Check if Item Exists\n",
    "if \"model\" in thisdict:\n",
    "    print(\"Yes, model is one of the keys in the thisdict dictionary\")\n"
   ]
  },
  {
   "cell_type": "code",
   "execution_count": 42,
   "id": "4da44fad",
   "metadata": {},
   "outputs": [
    {
     "name": "stdout",
     "output_type": "stream",
     "text": [
      "Yes, Ford is one of the keys in the thisdict dictionary\n"
     ]
    }
   ],
   "source": [
    "# Check if Item Exists\n",
    "if \"Ford\" in thisdict.values():\n",
    "    print(\"Yes, Ford is one of the keys in the thisdict dictionary\")\n"
   ]
  },
  {
   "cell_type": "code",
   "execution_count": 44,
   "id": "9781efbc",
   "metadata": {},
   "outputs": [
    {
     "data": {
      "text/plain": [
       "{'brand': 'Ford', 'model': 'Mustang', 'year': 2018}"
      ]
     },
     "execution_count": 44,
     "metadata": {},
     "output_type": "execute_result"
    }
   ],
   "source": [
    "# Changing the item\n",
    "thisdict[\"year\"] = 2018\n",
    "thisdict"
   ]
  },
  {
   "cell_type": "code",
   "execution_count": 46,
   "id": "62165fc0",
   "metadata": {},
   "outputs": [],
   "source": [
    "# Changing the item\n",
    "thisdict.update({\"brand\": \"tata\"})"
   ]
  },
  {
   "cell_type": "code",
   "execution_count": 48,
   "id": "eb73ed20",
   "metadata": {},
   "outputs": [
    {
     "data": {
      "text/plain": [
       "{'brand': 'tata', 'model': 'Mustang', 'year': 2018, 'color': 'White'}"
      ]
     },
     "execution_count": 48,
     "metadata": {},
     "output_type": "execute_result"
    }
   ],
   "source": [
    "'''To add an item at the Last index'''\n",
    "thisdict.update({\"color\": \"White\"})\n",
    "thisdict"
   ]
  },
  {
   "cell_type": "markdown",
   "id": "3836e6b6",
   "metadata": {},
   "source": [
    "# Remove"
   ]
  },
  {
   "cell_type": "code",
   "execution_count": 49,
   "id": "a7ac973e",
   "metadata": {},
   "outputs": [
    {
     "data": {
      "text/plain": [
       "{'brand': 'tata', 'year': 2018, 'color': 'White'}"
      ]
     },
     "execution_count": 49,
     "metadata": {},
     "output_type": "execute_result"
    }
   ],
   "source": [
    "'''To removes the specified item:'''\n",
    "del thisdict[\"model\"]\n",
    "thisdict"
   ]
  },
  {
   "cell_type": "code",
   "execution_count": 50,
   "id": "b5203ca4",
   "metadata": {},
   "outputs": [
    {
     "data": {
      "text/plain": [
       "{'year': 2018, 'color': 'White'}"
      ]
     },
     "execution_count": 50,
     "metadata": {},
     "output_type": "execute_result"
    }
   ],
   "source": [
    "thisdict.pop(\"brand\")\n",
    "thisdict"
   ]
  },
  {
   "cell_type": "code",
   "execution_count": 51,
   "id": "3b93430b",
   "metadata": {},
   "outputs": [
    {
     "data": {
      "text/plain": [
       "('color', 'White')"
      ]
     },
     "execution_count": 51,
     "metadata": {},
     "output_type": "execute_result"
    }
   ],
   "source": [
    "'''To removes the Last item:'''\n",
    "thisdict.popitem()\n"
   ]
  },
  {
   "cell_type": "code",
   "execution_count": 53,
   "id": "f3cf08e0",
   "metadata": {},
   "outputs": [
    {
     "data": {
      "text/plain": [
       "{}"
      ]
     },
     "execution_count": 53,
     "metadata": {},
     "output_type": "execute_result"
    }
   ],
   "source": [
    "'''To empty the list:'''\n",
    "\n",
    "thisdict = {\n",
    "    \"brand\": \"Ford\",\n",
    "     \"model\": \"Mustang\",\n",
    "     \"year\": 1964\n",
    "       }\n",
    "thisdict\n",
    "\n",
    "thisdict.clear()\n",
    "thisdict"
   ]
  },
  {
   "cell_type": "code",
   "execution_count": 58,
   "id": "08680de4",
   "metadata": {},
   "outputs": [
    {
     "ename": "NameError",
     "evalue": "name 'thisdict' is not defined",
     "output_type": "error",
     "traceback": [
      "\u001b[1;31m---------------------------------------------------------------------------\u001b[0m",
      "\u001b[1;31mNameError\u001b[0m                                 Traceback (most recent call last)",
      "Cell \u001b[1;32mIn[58], line 11\u001b[0m\n\u001b[0;32m      3\u001b[0m thisdict \u001b[38;5;241m=\u001b[39m {\n\u001b[0;32m      4\u001b[0m     \u001b[38;5;124m\"\u001b[39m\u001b[38;5;124mbrand\u001b[39m\u001b[38;5;124m\"\u001b[39m: \u001b[38;5;124m\"\u001b[39m\u001b[38;5;124mFord\u001b[39m\u001b[38;5;124m\"\u001b[39m,\n\u001b[0;32m      5\u001b[0m      \u001b[38;5;124m\"\u001b[39m\u001b[38;5;124mmodel\u001b[39m\u001b[38;5;124m\"\u001b[39m: \u001b[38;5;124m\"\u001b[39m\u001b[38;5;124mMustang\u001b[39m\u001b[38;5;124m\"\u001b[39m,\n\u001b[0;32m      6\u001b[0m      \u001b[38;5;124m\"\u001b[39m\u001b[38;5;124myear\u001b[39m\u001b[38;5;124m\"\u001b[39m: \u001b[38;5;241m1964\u001b[39m\n\u001b[0;32m      7\u001b[0m        }\n\u001b[0;32m     10\u001b[0m \u001b[38;5;28;01mdel\u001b[39;00m thisdict\n\u001b[1;32m---> 11\u001b[0m thisdict\n",
      "\u001b[1;31mNameError\u001b[0m: name 'thisdict' is not defined"
     ]
    }
   ],
   "source": [
    "'''To delete the Data Completely'''\n",
    "\n",
    "thisdict = {\n",
    "    \"brand\": \"Ford\",\n",
    "     \"model\": \"Mustang\",\n",
    "     \"year\": 1964\n",
    "       }\n",
    "\n",
    "\n",
    "del thisdict\n",
    "thisdict"
   ]
  },
  {
   "cell_type": "markdown",
   "id": "fffb8033",
   "metadata": {},
   "source": [
    "# Copy"
   ]
  },
  {
   "cell_type": "code",
   "execution_count": 60,
   "id": "dd3f0de7",
   "metadata": {},
   "outputs": [
    {
     "name": "stdout",
     "output_type": "stream",
     "text": [
      "{'brand': 'Ford', 'model': 'Mustang', 'year': 1964}\n"
     ]
    }
   ],
   "source": [
    "'''Method 01'''\n",
    "\n",
    "thisdict = {\"brand\": \"Ford\",\"model\": \"Mustang\",\"year\": 1964}\n",
    "\n",
    "mydict = thisdict.copy()\n",
    "print(mydict)"
   ]
  },
  {
   "cell_type": "code",
   "execution_count": 62,
   "id": "5e6daa98",
   "metadata": {},
   "outputs": [
    {
     "data": {
      "text/plain": [
       "{'brand': 'Ford', 'model': 'Mustang', 'year': 1964}"
      ]
     },
     "execution_count": 62,
     "metadata": {},
     "output_type": "execute_result"
    }
   ],
   "source": [
    "'''Method 02'''\n",
    "\n",
    "mydict = dict(thisdict)\n",
    "mydict"
   ]
  },
  {
   "cell_type": "markdown",
   "id": "ebe3a878",
   "metadata": {},
   "source": [
    "# Join"
   ]
  },
  {
   "cell_type": "code",
   "execution_count": 65,
   "id": "36ee9bf2",
   "metadata": {},
   "outputs": [
    {
     "name": "stdout",
     "output_type": "stream",
     "text": [
      "{'brand': 'Ford', 'model': 'Mustang', 'year': 1964, 'colour': 'Red', 'Country': 'Germany'}\n"
     ]
    }
   ],
   "source": [
    "thisdict = {\"brand\": \"Ford\", \"model\": \"Mustang\", \"year\": 1964}\n",
    "newDict = {\"colour\": \"Red\", \"Country\": \"Germany\"}\n",
    "\n",
    "thisdict.update(newDict)\n",
    "print(thisdict)\n"
   ]
  },
  {
   "cell_type": "code",
   "execution_count": 68,
   "id": "00472671",
   "metadata": {},
   "outputs": [
    {
     "name": "stdout",
     "output_type": "stream",
     "text": [
      "{'brand': 'Ford', 'model': 'Mustang', 'year': 1964, 'colour': 'Red', 'Country': 'Germany'}\n"
     ]
    }
   ],
   "source": [
    "thisdict = {\"brand\": \"Ford\", \"model\": \"Mustang\", \"year\": 1964}\n",
    "newDict = {\"colour\": \"Red\", \"Country\": \"Germany\"}\n",
    "\n",
    "merged_dict = {**thisdict, **newDict}\n",
    "print(merged_dict)\n"
   ]
  },
  {
   "cell_type": "code",
   "execution_count": 70,
   "id": "da2f3186",
   "metadata": {},
   "outputs": [
    {
     "name": "stdout",
     "output_type": "stream",
     "text": [
      "{'brand': 'Ford', 'model': 'Mustang', 'year': 1964, 'colour': 'Red', 'Country': 'Germany'}\n"
     ]
    }
   ],
   "source": [
    "thisdict = {\"brand\": \"Ford\", \"model\": \"Mustang\", \"year\": 1964}\n",
    "newDict = {\"colour\": \"Red\", \"Country\": \"Germany\"}\n",
    "\n",
    "merged_dict = dict(thisdict, **newDict)\n",
    "print(merged_dict)\n"
   ]
  },
  {
   "cell_type": "code",
   "execution_count": 73,
   "id": "294cbf4c",
   "metadata": {},
   "outputs": [
    {
     "data": {
      "text/plain": [
       "{1: 1, 2: 4, 3: 9, 4: 16, 5: 25}"
      ]
     },
     "execution_count": 73,
     "metadata": {},
     "output_type": "execute_result"
    }
   ],
   "source": [
    "newDict={}\n",
    "for i in range(1,6):\n",
    "    newDict[i] = i*i\n",
    "\n",
    "newDict"
   ]
  },
  {
   "cell_type": "code",
   "execution_count": 74,
   "id": "338b99e8",
   "metadata": {},
   "outputs": [
    {
     "name": "stdout",
     "output_type": "stream",
     "text": [
      "{1: 1, 2: 4, 3: 9, 4: 16, 5: 25}\n"
     ]
    }
   ],
   "source": [
    "'''Dictionary comprehension '''\n",
    "# Create a dictionary of squares of numbers from 1 to 5\n",
    "squares = {x: x*x for x in range(1, 6)}\n",
    "print(squares)  # Output: {1: 1, 2: 4, 3: 9, 4: 16, 5: 25}\n"
   ]
  },
  {
   "cell_type": "code",
   "execution_count": 75,
   "id": "64249745",
   "metadata": {},
   "outputs": [
    {
     "data": {
      "text/plain": [
       "{2: 4, 4: 16}"
      ]
     },
     "execution_count": 75,
     "metadata": {},
     "output_type": "execute_result"
    }
   ],
   "source": [
    "# Create a dictionary of squares of Even numbers\n",
    "\n",
    "\n",
    "newDict={}\n",
    "for i in range(1,6):\n",
    "    if i%2==0:\n",
    "        newDict[i] = i*i\n",
    "\n",
    "newDict"
   ]
  },
  {
   "cell_type": "code",
   "execution_count": 78,
   "id": "54dfe489",
   "metadata": {},
   "outputs": [
    {
     "data": {
      "text/plain": [
       "{2: 4, 4: 16}"
      ]
     },
     "execution_count": 78,
     "metadata": {},
     "output_type": "execute_result"
    }
   ],
   "source": [
    "# Create a dictionary comprehension of squares of Even numbers\n",
    "newDict2 = {x:x*x for x in range(1,6) if x%2==0}\n",
    "newDict2"
   ]
  }
 ],
 "metadata": {
  "kernelspec": {
   "display_name": "Python 3 (ipykernel)",
   "language": "python",
   "name": "python3"
  },
  "language_info": {
   "codemirror_mode": {
    "name": "ipython",
    "version": 3
   },
   "file_extension": ".py",
   "mimetype": "text/x-python",
   "name": "python",
   "nbconvert_exporter": "python",
   "pygments_lexer": "ipython3",
   "version": "3.11.5"
  }
 },
 "nbformat": 4,
 "nbformat_minor": 5
}
