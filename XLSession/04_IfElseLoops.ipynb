{
 "cells": [
  {
   "cell_type": "code",
   "execution_count": 3,
   "id": "f2dae646",
   "metadata": {},
   "outputs": [
    {
     "name": "stdout",
     "output_type": "stream",
     "text": [
      "infant\n"
     ]
    }
   ],
   "source": [
    "'''IF Else'''\n",
    "\n",
    "age = 1\n",
    "\n",
    "if age <=2:\n",
    "    print(\"infant\")\n",
    "else:\n",
    "    print(\"Not Infant\")\n",
    "\n",
    "\n"
   ]
  },
  {
   "cell_type": "code",
   "execution_count": null,
   "id": "7792004a",
   "metadata": {},
   "outputs": [],
   "source": []
  },
  {
   "cell_type": "code",
   "execution_count": 6,
   "id": "5d2f3364",
   "metadata": {},
   "outputs": [
    {
     "name": "stdout",
     "output_type": "stream",
     "text": [
      "Adult\n"
     ]
    }
   ],
   "source": [
    "'''If Else'''\n",
    "\n",
    "age = 18\n",
    "\n",
    "'''inf <=2\n",
    "child<=12\n",
    "adult>12\n",
    "'''\n",
    "\n",
    "if age<=2:\n",
    "    print(\"infant\")\n",
    "elif age<=12:\n",
    "    print(\"Child\")\n",
    "else:\n",
    "    print(\"Adult\")"
   ]
  },
  {
   "cell_type": "code",
   "execution_count": 10,
   "id": "be8e024c",
   "metadata": {},
   "outputs": [
    {
     "name": "stdout",
     "output_type": "stream",
     "text": [
      "pineapple Not Found\n"
     ]
    }
   ],
   "source": [
    "Stall_1 = 'banana'\n",
    "\n",
    "Stall_2 = 'banana'\n",
    "\n",
    "\n",
    "\n",
    "\n",
    "if Stall_1 == \"pineapple\":\n",
    "    print(\"go home with pineapple Stall_1\")\n",
    "elif Stall_2 == \"pineapple\":\n",
    "    print(\"go home with pineapple Stall_2\")\n",
    "\n",
    "else:\n",
    "    print(\"pineapple Not Found\")\n",
    "\n",
    "\n",
    "\n",
    "\n",
    "\n",
    "    \n"
   ]
  },
  {
   "cell_type": "code",
   "execution_count": 14,
   "id": "75ea0f94",
   "metadata": {},
   "outputs": [
    {
     "name": "stdout",
     "output_type": "stream",
     "text": [
      "Go home with pineapple : Stall_1\n"
     ]
    }
   ],
   "source": [
    "'''Nested If'''\n",
    "\n",
    "Stall_1 = 'pineapple'\n",
    "Stall_1_clean = \"Yes\"\n",
    "price = 130\n",
    "\n",
    "if Stall_1 == \"pineapple\":\n",
    "    if Stall_1_clean == \"Yes\":\n",
    "        if price <= 140:\n",
    "            print(\"Go home with pineapple : Stall_1\")\n",
    "        else:\n",
    "            print(\"Price exceeds limit\")\n",
    "    else:\n",
    "        print(\"pineapple Found but Stall not clean\")\n",
    "else:\n",
    "    print(\"pineapple Not found\")\n"
   ]
  },
  {
   "cell_type": "code",
   "execution_count": null,
   "id": "cc731476",
   "metadata": {},
   "outputs": [],
   "source": []
  },
  {
   "cell_type": "code",
   "execution_count": null,
   "id": "f6d57f7c",
   "metadata": {},
   "outputs": [],
   "source": []
  },
  {
   "cell_type": "code",
   "execution_count": null,
   "id": "d2bb1bff",
   "metadata": {},
   "outputs": [],
   "source": []
  },
  {
   "cell_type": "code",
   "execution_count": null,
   "id": "9f631329",
   "metadata": {},
   "outputs": [],
   "source": []
  },
  {
   "cell_type": "code",
   "execution_count": 18,
   "id": "8c8d42c0",
   "metadata": {},
   "outputs": [
    {
     "name": "stdout",
     "output_type": "stream",
     "text": [
      "No stall found has pineapple\n"
     ]
    }
   ],
   "source": [
    "Stall_1 = 'banana'\n",
    "Stall_1_clean = \"Yes\"\n",
    "\n",
    "Stall_2 = \"pineapple\"\n",
    "Stall_2_clean = \"No\"\n",
    "\n",
    "Stall_3 = \"pineapple\"\n",
    "Stall_3_clean = \"No\"\n",
    "\n",
    "if Stall_1 == \"pineapple\" and Stall_1_clean == \"Yes\":\n",
    "    print(\"Go home with pineapple from Stall_1\")\n",
    "elif Stall_2 == \"pineapple\" and Stall_2_clean == \"Yes\":\n",
    "    print(\"Go home with pineapple from Stall_2\")\n",
    "elif Stall_3 == \"pineapple\" and Stall_3_clean == \"Yes\":\n",
    "    print(\"Go home with pineapple from Stall_3\")\n",
    "else:\n",
    "    print(\"No stall found has pineapple\")"
   ]
  },
  {
   "cell_type": "code",
   "execution_count": null,
   "id": "c7063c27",
   "metadata": {},
   "outputs": [],
   "source": [
    "# Stall 1\n",
    "Stall_1 = 'banana'\n",
    "Stall_1_clean = \"NO\"\n",
    "price_1 = 150\n",
    "\n",
    "# Stall 2\n",
    "Stall_2 = 'pineapple'\n",
    "Stall_2_clean = \"Yes\"\n",
    "price_2 = 130\n",
    "\n",
    "if Stall_1 == \"pineapple\" and Stall_1_clean == \"Yes\" and price_1 <= 140:\n",
    "    print(\"Go home with pineapple from Stall_1\")\n",
    "elif Stall_2 == \"pineapple\" and Stall_2_clean == \"Yes\" and price_2 <= 140:\n",
    "    print(\"Go home with pineapple from Stall_2\")\n",
    "else:\n",
    "    print(\"Pineapple not found or conditions not met for any stall\")\n"
   ]
  },
  {
   "cell_type": "code",
   "execution_count": null,
   "id": "16091398",
   "metadata": {},
   "outputs": [],
   "source": []
  },
  {
   "cell_type": "code",
   "execution_count": 21,
   "id": "be6f9075",
   "metadata": {},
   "outputs": [
    {
     "name": "stdout",
     "output_type": "stream",
     "text": [
      "1\n",
      "2\n",
      "3\n",
      "4\n",
      "5\n",
      "6\n",
      "7\n",
      "8\n"
     ]
    }
   ],
   "source": [
    "'''For Loops'''\n",
    "\n",
    "fruits = [\"apple\", \"banana\", \"cherry\",\"kiwi\"]\n",
    "numbers1 = [1,2,3,4,5,6,7,8]\n",
    "\n",
    "for i in numbers1:\n",
    "    print(i)\n"
   ]
  },
  {
   "cell_type": "code",
   "execution_count": 23,
   "id": "6b9d0904",
   "metadata": {},
   "outputs": [
    {
     "name": "stdout",
     "output_type": "stream",
     "text": [
      "0\n",
      "1\n",
      "2\n",
      "3\n",
      "4\n"
     ]
    }
   ],
   "source": [
    "range1 = range(0,5)\n",
    "\n",
    "for x in range1:\n",
    "  print(x)\n"
   ]
  },
  {
   "cell_type": "code",
   "execution_count": 24,
   "id": "8870eb9e",
   "metadata": {},
   "outputs": [
    {
     "name": "stdout",
     "output_type": "stream",
     "text": [
      "a\n",
      "s\n",
      "h\n",
      "o\n",
      "k\n"
     ]
    }
   ],
   "source": [
    "name = \"ashok\"\n",
    "\n",
    "for i in name:\n",
    "    print(i)"
   ]
  },
  {
   "cell_type": "code",
   "execution_count": 25,
   "id": "1025572b",
   "metadata": {},
   "outputs": [
    {
     "name": "stdout",
     "output_type": "stream",
     "text": [
      "1\n",
      "2\n",
      "3\n",
      "4\n",
      "5\n"
     ]
    }
   ],
   "source": [
    "'''While Loops'''\n",
    "\n",
    "i = 1\n",
    "\n",
    "while i<6:\n",
    "    print(i)\n",
    "    i = i+1\n",
    "    "
   ]
  },
  {
   "cell_type": "code",
   "execution_count": 26,
   "id": "78080543",
   "metadata": {},
   "outputs": [
    {
     "name": "stdout",
     "output_type": "stream",
     "text": [
      "Red Apple\n",
      "Red Banana\n",
      "Red Grapes\n",
      "Yellow Apple\n",
      "Yellow Banana\n",
      "Yellow Grapes\n",
      "LightGreen Apple\n",
      "LightGreen Banana\n",
      "LightGreen Grapes\n"
     ]
    }
   ],
   "source": [
    "'''Nested Loop'''\n",
    "\n",
    "adj = [\"Red\", \"Yellow\", \"LightGreen\"]\n",
    "fruits = [\"Apple\", \"Banana\", \"Grapes\"]\n",
    "\n",
    "for i in adj:\n",
    "    for j in fruits:\n",
    "        print(i,j)"
   ]
  },
  {
   "cell_type": "code",
   "execution_count": 28,
   "id": "746c4755",
   "metadata": {},
   "outputs": [
    {
     "name": "stdout",
     "output_type": "stream",
     "text": [
      "3 3\n",
      "2 2\n",
      "1 1\n"
     ]
    }
   ],
   "source": [
    "firstList = [3, 2, 1]\n",
    "secondList = [1, 2, 3]\n",
    "\n",
    "for i in firstList:\n",
    "    for j in secondList:\n",
    "        if i == j:\n",
    "            print(i,j)\n",
    "        "
   ]
  },
  {
   "cell_type": "code",
   "execution_count": null,
   "id": "e263f552",
   "metadata": {},
   "outputs": [],
   "source": []
  },
  {
   "cell_type": "code",
   "execution_count": null,
   "id": "ad1a5aa7",
   "metadata": {},
   "outputs": [],
   "source": []
  },
  {
   "cell_type": "code",
   "execution_count": null,
   "id": "970638ba",
   "metadata": {},
   "outputs": [],
   "source": []
  },
  {
   "cell_type": "code",
   "execution_count": 12,
   "id": "823a6f45",
   "metadata": {},
   "outputs": [
    {
     "data": {
      "text/plain": [
       "'\\n1 2 3 4 5 6 7 8 9 \\n1 2 3 4 5 6 7 8 9 \\n1 2 3 4 5 6 7 8 9 \\n1 2 3 4 5 6 7 8 9 \\n1 2 3 4 5 6 7 8 9 \\n1 2 3 4 5 6 7 8 9 \\n1 2 3 4 5 6 7 8 9 \\n1 2 3 4 5 6 7 8 9 \\n1 2 3 4 5 6 7 8 9 \\n'"
      ]
     },
     "execution_count": 12,
     "metadata": {},
     "output_type": "execute_result"
    }
   ],
   "source": [
    "\n",
    "'''print below pattern'''\n",
    "'''\n",
    "1 2 3 4 5 6 \n",
    "1 2 3 4 5 6 \n",
    "1 2 3 4 5 6 \n",
    "1 2 3 4 5 6 \n",
    "1 2 3 4 5 6 \n",
    "1 2 3 4 5 6    \n",
    "'''"
   ]
  },
  {
   "cell_type": "code",
   "execution_count": 35,
   "id": "1eb6b164",
   "metadata": {},
   "outputs": [
    {
     "name": "stdout",
     "output_type": "stream",
     "text": [
      "1 2 3 4 5 6 \n",
      "1 2 3 4 5 6 \n",
      "1 2 3 4 5 6 \n",
      "1 2 3 4 5 6 \n",
      "1 2 3 4 5 6 \n",
      "1 2 3 4 5 6 \n"
     ]
    }
   ],
   "source": [
    "for i in range(1,7):\n",
    "    for j in range(1,7):\n",
    "        print(j,end=\" \")\n",
    "    print()\n",
    "    \n"
   ]
  },
  {
   "cell_type": "code",
   "execution_count": 39,
   "id": "855cc710",
   "metadata": {},
   "outputs": [
    {
     "name": "stdout",
     "output_type": "stream",
     "text": [
      "1 2 3 4 5 6 \n",
      "1 2 3 4 5 6 \n",
      "1 2 3 4 5 6 \n",
      "1 2 3 4 5 6 \n",
      "1 2 3 4 5 6 \n",
      "1 2 3 4 5 6 \n"
     ]
    }
   ],
   "source": [
    "for i in range(1,7):\n",
    "    for j in range(1,7):\n",
    "        print(j,end=\" \")\n",
    "    print()\n"
   ]
  },
  {
   "cell_type": "code",
   "execution_count": 77,
   "id": "2abf43f9",
   "metadata": {},
   "outputs": [
    {
     "data": {
      "text/plain": [
       "'\\n* * * * * * \\n* * * * * * \\n* * * * * * \\n* * * * * * \\n* * * * * * \\n* * * * * *    '"
      ]
     },
     "execution_count": 77,
     "metadata": {},
     "output_type": "execute_result"
    }
   ],
   "source": [
    "'''\n",
    "* * * * * * \n",
    "* * * * * * \n",
    "* * * * * * \n",
    "* * * * * * \n",
    "* * * * * * \n",
    "* * * * * *    '''"
   ]
  },
  {
   "cell_type": "code",
   "execution_count": 41,
   "id": "658777be",
   "metadata": {},
   "outputs": [
    {
     "name": "stdout",
     "output_type": "stream",
     "text": [
      "* * * * * * \n",
      "* * * * * * \n",
      "* * * * * * \n",
      "* * * * * * \n",
      "* * * * * * \n",
      "* * * * * * \n"
     ]
    }
   ],
   "source": [
    "for i in range(1,7):\n",
    "    for j in range(1,7):\n",
    "        print(\"*\",end=\" \")\n",
    "    print()\n",
    "    "
   ]
  },
  {
   "cell_type": "code",
   "execution_count": 78,
   "id": "db005bc7",
   "metadata": {},
   "outputs": [
    {
     "name": "stdout",
     "output_type": "stream",
     "text": [
      "* * * * * * \n",
      "* * * * * * \n",
      "* * * * * * \n",
      "* * * * * * \n",
      "* * * * * * \n",
      "* * * * * * \n"
     ]
    }
   ],
   "source": [
    "for i in range(1,7):\n",
    "    for j in range(1,7):\n",
    "        print(\"*\",end=\" \")\n",
    "    print()"
   ]
  },
  {
   "cell_type": "code",
   "execution_count": 68,
   "id": "f8388941",
   "metadata": {},
   "outputs": [
    {
     "data": {
      "text/plain": [
       "'\\n* \\n* * \\n* * * \\n* * * *   \\n'"
      ]
     },
     "execution_count": 68,
     "metadata": {},
     "output_type": "execute_result"
    }
   ],
   "source": [
    "'''\n",
    "* \n",
    "* * \n",
    "* * * \n",
    "* * * * \n",
    "* * * * *    \n",
    "'''"
   ]
  },
  {
   "cell_type": "code",
   "execution_count": 79,
   "id": "415019f8",
   "metadata": {},
   "outputs": [
    {
     "name": "stdout",
     "output_type": "stream",
     "text": [
      "\n",
      "* \n",
      "* * \n",
      "* * * \n",
      "* * * * \n",
      "* * * * * \n"
     ]
    }
   ],
   "source": [
    "'''Nested Loop'''\n",
    "for i in range(1,7):\n",
    "    for j in range(1,i):\n",
    "        print(\"*\",end=\" \")\n",
    "    print()"
   ]
  },
  {
   "cell_type": "code",
   "execution_count": 10,
   "id": "b9cffe41",
   "metadata": {},
   "outputs": [
    {
     "name": "stdout",
     "output_type": "stream",
     "text": [
      "\n",
      "* \n",
      "* * \n",
      "* * * \n",
      "* * * * \n",
      "* * * * * \n"
     ]
    }
   ],
   "source": [
    "for j in range(1,2):\n",
    "    print(\"*\",end=\" \")\n",
    "print()\n",
    "\n",
    "for j in range(1,3):\n",
    "    print(\"*\",end=\" \")\n",
    "print()\n",
    "\n",
    "\n",
    "for j in range(1,4):\n",
    "    print(\"*\",end=\" \")\n",
    "print()\n",
    "for j in range(1,5):\n",
    "    print(\"*\",end=\" \")\n",
    "print()\n",
    "for j in range(1,6):\n",
    "    print(\"*\",end=\" \")\n",
    "print()\n",
    "\n"
   ]
  },
  {
   "cell_type": "code",
   "execution_count": 12,
   "id": "07a2aeda",
   "metadata": {},
   "outputs": [
    {
     "name": "stdout",
     "output_type": "stream",
     "text": [
      "\n",
      "* \n",
      "* * \n",
      "* * * \n",
      "* * * * \n",
      "* * * * * \n"
     ]
    }
   ],
   "source": [
    "for i in range(1,7):\n",
    "    for j in range(1,i):\n",
    "        print(\"*\",end=\" \")\n",
    "    print()"
   ]
  },
  {
   "cell_type": "code",
   "execution_count": 86,
   "id": "2af2cfbf",
   "metadata": {},
   "outputs": [
    {
     "name": "stdout",
     "output_type": "stream",
     "text": [
      "\n",
      "* \n",
      "* * \n",
      "* * * \n",
      "* * * * \n",
      "* * * * * \n"
     ]
    }
   ],
   "source": [
    "for i in range(1,7):\n",
    "    for j in range(1,i):\n",
    "        print(\"*\",end=\" \")\n",
    "    print()"
   ]
  },
  {
   "cell_type": "code",
   "execution_count": 18,
   "id": "1287796a",
   "metadata": {},
   "outputs": [
    {
     "data": {
      "text/plain": [
       "'\\n* * * * * * * * * \\n* * * * * * * * \\n* * * * * * * \\n* * * * * * \\n* * * * * \\n* * * * \\n* * * \\n* * \\n* '"
      ]
     },
     "execution_count": 18,
     "metadata": {},
     "output_type": "execute_result"
    }
   ],
   "source": [
    "'''\n",
    "* * * * * * * * * \n",
    "* * * * * * * * \n",
    "* * * * * * * \n",
    "* * * * * * \n",
    "* * * * * \n",
    "* * * * \n",
    "* * * \n",
    "* * \n",
    "* '''"
   ]
  },
  {
   "cell_type": "code",
   "execution_count": 87,
   "id": "7c8629dc",
   "metadata": {},
   "outputs": [
    {
     "name": "stdout",
     "output_type": "stream",
     "text": [
      "* * * * * * \n",
      "* * * * * \n",
      "* * * * \n",
      "* * * \n",
      "* * \n",
      "* \n"
     ]
    }
   ],
   "source": [
    "for i in range(1,7):\n",
    "    for j in range(i,7):\n",
    "        print(\"*\",end=\" \")\n",
    "    print()"
   ]
  },
  {
   "cell_type": "code",
   "execution_count": 88,
   "id": "0d08eaf2",
   "metadata": {},
   "outputs": [
    {
     "name": "stdout",
     "output_type": "stream",
     "text": [
      "* * * * * * \n",
      "* * * * * \n",
      "* * * * \n",
      "* * * \n",
      "* * \n",
      "* \n"
     ]
    }
   ],
   "source": [
    "for j in range(1,7):\n",
    "    print(\"*\",end=\" \")\n",
    "print()\n",
    "for j in range(1,6):\n",
    "    print(\"*\",end=\" \")\n",
    "print()\n",
    "for j in range(1,5):\n",
    "    print(\"*\",end=\" \")\n",
    "print()\n",
    "\n",
    "for j in range(1,4):\n",
    "    print(\"*\",end=\" \")\n",
    "print()\n",
    "for j in range(1,3):\n",
    "    print(\"*\",end=\" \")\n",
    "print()\n",
    "for j in range(1,2):\n",
    "    print(\"*\",end=\" \")\n",
    "print()"
   ]
  },
  {
   "cell_type": "code",
   "execution_count": 15,
   "id": "3200ca31",
   "metadata": {},
   "outputs": [
    {
     "name": "stdout",
     "output_type": "stream",
     "text": [
      "* * * * * * \n",
      "* * * * * \n",
      "* * * * \n",
      "* * * \n",
      "* * \n",
      "* \n"
     ]
    }
   ],
   "source": [
    "for i in range(1,7):\n",
    "    for j in range(i,7):\n",
    "        print(\"*\",end=\" \")\n",
    "    print()"
   ]
  },
  {
   "cell_type": "code",
   "execution_count": 18,
   "id": "e41d523c",
   "metadata": {},
   "outputs": [
    {
     "name": "stdout",
     "output_type": "stream",
     "text": [
      "0\n",
      "1\n",
      "2\n"
     ]
    }
   ],
   "source": [
    "'''break Statement'''\n",
    "''' break statement immediately terminates the loop'''\n",
    "\n",
    "for i in range(6):\n",
    "    if i ==3:\n",
    "        break\n",
    "    print(i)"
   ]
  },
  {
   "cell_type": "code",
   "execution_count": 2,
   "id": "cc1ec963",
   "metadata": {},
   "outputs": [
    {
     "name": "stdout",
     "output_type": "stream",
     "text": [
      "0\n",
      "1\n",
      "2\n",
      "4\n",
      "5\n"
     ]
    }
   ],
   "source": [
    "'''Continue'''\n",
    "'''continue statement skips and jump to the rest iteration of the loop '''\n",
    "\n",
    "for i in range(6):\n",
    "    if i == 3:\n",
    "        continue\n",
    "    print(i)"
   ]
  },
  {
   "cell_type": "code",
   "execution_count": null,
   "id": "304eb1cc",
   "metadata": {},
   "outputs": [],
   "source": [
    "for i in range(1,10):\n",
    "    for j in range(1,10):\n",
    "        print(i,end=\" \")\n",
    "    print()    "
   ]
  },
  {
   "cell_type": "code",
   "execution_count": null,
   "id": "de1edcb6",
   "metadata": {},
   "outputs": [],
   "source": []
  },
  {
   "cell_type": "code",
   "execution_count": null,
   "id": "e858d99a",
   "metadata": {},
   "outputs": [],
   "source": []
  },
  {
   "cell_type": "code",
   "execution_count": null,
   "id": "9e88b08d",
   "metadata": {},
   "outputs": [],
   "source": []
  },
  {
   "cell_type": "code",
   "execution_count": null,
   "id": "07f1c64c",
   "metadata": {},
   "outputs": [],
   "source": [
    "# For Stall_1\n",
    "Stall_1 = 'pineapple'\n",
    "Stall_1_clean = \"Yes\"\n",
    "price = 150\n",
    "\n",
    "# For Stall_2\n",
    "Stall_2 = 'pineapple'\n",
    "Stall_2_clean = \"Yes\"\n",
    "price = 150\n",
    "\n",
    "\n",
    "# Check if Stall_1 has pineapple\n",
    "if Stall_1 == \"pineapple\":\n",
    "    # Check if Stall_1 is clean\n",
    "    if Stall_1_clean == \"Yes\":\n",
    "        # Check if price is within limit\n",
    "        if price <= 140:\n",
    "            print(\"Go home with pineapple : Stall_1\")\n",
    "        else:\n",
    "            print(\"Price exceeds limit Stall_1\")\n",
    "    else:\n",
    "        print(\"Pineapple found but Stall not clean Stall_1\")\n",
    "\n",
    "elif Stall_2 == \"pineapple\":\n",
    "    if Stall_2_clean == \"Yes\":\n",
    "        if price <= 140:\n",
    "            print(\"Go home with pineapple : Stall_2\")\n",
    "        else:\n",
    "            print(\"Price exceeds limit Stall_2\")\n",
    "    else:\n",
    "        print(\"Pineapple found but Stall not clean Stall_2\")\n",
    "else:\n",
    "    print(\"Pineapple Not found Stall_2\")\n"
   ]
  }
 ],
 "metadata": {
  "kernelspec": {
   "display_name": "Python 3 (ipykernel)",
   "language": "python",
   "name": "python3"
  },
  "language_info": {
   "codemirror_mode": {
    "name": "ipython",
    "version": 3
   },
   "file_extension": ".py",
   "mimetype": "text/x-python",
   "name": "python",
   "nbconvert_exporter": "python",
   "pygments_lexer": "ipython3",
   "version": "3.11.5"
  }
 },
 "nbformat": 4,
 "nbformat_minor": 5
}
