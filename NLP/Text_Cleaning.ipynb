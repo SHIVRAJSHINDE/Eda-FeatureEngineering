{
 "cells": [
  {
   "cell_type": "code",
   "execution_count": 1,
   "id": "15403b6a-ea35-478d-915f-f86e39a5869d",
   "metadata": {},
   "outputs": [
    {
     "data": {
      "text/html": [
       "<div>\n",
       "<style scoped>\n",
       "    .dataframe tbody tr th:only-of-type {\n",
       "        vertical-align: middle;\n",
       "    }\n",
       "\n",
       "    .dataframe tbody tr th {\n",
       "        vertical-align: top;\n",
       "    }\n",
       "\n",
       "    .dataframe thead th {\n",
       "        text-align: right;\n",
       "    }\n",
       "</style>\n",
       "<table border=\"1\" class=\"dataframe\">\n",
       "  <thead>\n",
       "    <tr style=\"text-align: right;\">\n",
       "      <th></th>\n",
       "      <th>review</th>\n",
       "      <th>sentiment</th>\n",
       "    </tr>\n",
       "  </thead>\n",
       "  <tbody>\n",
       "    <tr>\n",
       "      <th>0</th>\n",
       "      <td>One of the other reviewers has mentioned that ...</td>\n",
       "      <td>positive</td>\n",
       "    </tr>\n",
       "    <tr>\n",
       "      <th>1</th>\n",
       "      <td>A wonderful little production. &lt;br /&gt;&lt;br /&gt;The...</td>\n",
       "      <td>positive</td>\n",
       "    </tr>\n",
       "    <tr>\n",
       "      <th>2</th>\n",
       "      <td>I thought this was a wonderful way to spend ti...</td>\n",
       "      <td>positive</td>\n",
       "    </tr>\n",
       "    <tr>\n",
       "      <th>3</th>\n",
       "      <td>Basically there's a family where a little boy ...</td>\n",
       "      <td>negative</td>\n",
       "    </tr>\n",
       "    <tr>\n",
       "      <th>4</th>\n",
       "      <td>Petter Mattei's \"Love in the Time of Money\" is...</td>\n",
       "      <td>positive</td>\n",
       "    </tr>\n",
       "    <tr>\n",
       "      <th>...</th>\n",
       "      <td>...</td>\n",
       "      <td>...</td>\n",
       "    </tr>\n",
       "    <tr>\n",
       "      <th>49995</th>\n",
       "      <td>I thought this movie did a down right good job...</td>\n",
       "      <td>positive</td>\n",
       "    </tr>\n",
       "    <tr>\n",
       "      <th>49996</th>\n",
       "      <td>Bad plot, bad dialogue, bad acting, idiotic di...</td>\n",
       "      <td>negative</td>\n",
       "    </tr>\n",
       "    <tr>\n",
       "      <th>49997</th>\n",
       "      <td>I am a Catholic taught in parochial elementary...</td>\n",
       "      <td>negative</td>\n",
       "    </tr>\n",
       "    <tr>\n",
       "      <th>49998</th>\n",
       "      <td>I'm going to have to disagree with the previou...</td>\n",
       "      <td>negative</td>\n",
       "    </tr>\n",
       "    <tr>\n",
       "      <th>49999</th>\n",
       "      <td>No one expects the Star Trek movies to be high...</td>\n",
       "      <td>negative</td>\n",
       "    </tr>\n",
       "  </tbody>\n",
       "</table>\n",
       "<p>50000 rows × 2 columns</p>\n",
       "</div>"
      ],
      "text/plain": [
       "                                                  review sentiment\n",
       "0      One of the other reviewers has mentioned that ...  positive\n",
       "1      A wonderful little production. <br /><br />The...  positive\n",
       "2      I thought this was a wonderful way to spend ti...  positive\n",
       "3      Basically there's a family where a little boy ...  negative\n",
       "4      Petter Mattei's \"Love in the Time of Money\" is...  positive\n",
       "...                                                  ...       ...\n",
       "49995  I thought this movie did a down right good job...  positive\n",
       "49996  Bad plot, bad dialogue, bad acting, idiotic di...  negative\n",
       "49997  I am a Catholic taught in parochial elementary...  negative\n",
       "49998  I'm going to have to disagree with the previou...  negative\n",
       "49999  No one expects the Star Trek movies to be high...  negative\n",
       "\n",
       "[50000 rows x 2 columns]"
      ]
     },
     "execution_count": 1,
     "metadata": {},
     "output_type": "execute_result"
    }
   ],
   "source": [
    "import pandas as pd\n",
    "\n",
    "df = pd.read_csv(r\"D:\\MLProjects\\ZDatasets\\NLP\\IMDB 50k\\IMDB Dataset.csv\")\n",
    "df\n"
   ]
  },
  {
   "cell_type": "markdown",
   "id": "040f1121-0f40-4798-b8ba-31907d5360d6",
   "metadata": {},
   "source": [
    "# LowerCasing"
   ]
  },
  {
   "cell_type": "code",
   "execution_count": 5,
   "id": "ddb95cff-0160-48b8-bb30-97706bde03c7",
   "metadata": {},
   "outputs": [
    {
     "data": {
      "text/plain": [
       "0        one of the other reviewers has mentioned that ...\n",
       "1        a wonderful little production. <br /><br />the...\n",
       "2        i thought this was a wonderful way to spend ti...\n",
       "3        basically there's a family where a little boy ...\n",
       "4        petter mattei's \"love in the time of money\" is...\n",
       "                               ...                        \n",
       "49995    i thought this movie did a down right good job...\n",
       "49996    bad plot, bad dialogue, bad acting, idiotic di...\n",
       "49997    i am a catholic taught in parochial elementary...\n",
       "49998    i'm going to have to disagree with the previou...\n",
       "49999    no one expects the star trek movies to be high...\n",
       "Name: review, Length: 50000, dtype: object"
      ]
     },
     "execution_count": 5,
     "metadata": {},
     "output_type": "execute_result"
    }
   ],
   "source": [
    "df['review'].str.lower()\n"
   ]
  },
  {
   "cell_type": "markdown",
   "id": "6a60a719-51cf-462e-8e48-a38e85ea04fc",
   "metadata": {},
   "source": [
    "# Html Tag Cleaning"
   ]
  },
  {
   "cell_type": "code",
   "execution_count": 39,
   "id": "6858e2f2-df0a-41cf-94fb-fd28efdda55e",
   "metadata": {},
   "outputs": [],
   "source": [
    "import re\n",
    "def remove_html_tags(Text):\n",
    "    pattern = re.compile('<.*?>')\n",
    "    return pattern.sub(r'',Text)\n",
    "    "
   ]
  },
  {
   "cell_type": "code",
   "execution_count": 40,
   "id": "b696a6ff-5bb4-48da-a606-5904a9445aae",
   "metadata": {},
   "outputs": [
    {
     "data": {
      "text/plain": [
       "'This is another paragraph with bold text and italic text. Unordered list item 1'"
      ]
     },
     "execution_count": 40,
     "metadata": {},
     "output_type": "execute_result"
    }
   ],
   "source": [
    "abc = \"\"\"<p>This is another paragraph with <strong>bold text</strong> and <em>italic text</em>.</p><ul> <li>Unordered list item 1</li></ul>\"\"\"\n",
    "\n",
    "remove_html_tags(abc)\n"
   ]
  },
  {
   "cell_type": "markdown",
   "id": "168b3b2d-11b6-4f2f-b2b5-a6eba926a25f",
   "metadata": {},
   "source": [
    "# URL Cleaning"
   ]
  },
  {
   "cell_type": "code",
   "execution_count": 16,
   "id": "414f6e32-1f96-473c-963a-cb7d489e6f42",
   "metadata": {},
   "outputs": [],
   "source": [
    "import re\n",
    "def removeUrl(text):\n",
    "    pattern = re.compile(r'https?://\\S+|www\\.S+')\n",
    "    return pattern.sub(r'',text)\n",
    "    "
   ]
  },
  {
   "cell_type": "code",
   "execution_count": 17,
   "id": "060dba0e-d151-4e58-9fae-5aa1ee634ff1",
   "metadata": {},
   "outputs": [
    {
     "data": {
      "text/plain": [
       "\"Artificial intelligence (AI) is revolutionizing industries worldwide, from healthcare to finance. \\nAt the forefront of this technological revolution is OpenAI. Their groundbreaking \\nresearch in natural language processing (NLP), machine learning, \\n and robotics is setting \\nnew benchmarks in AI capabilities. Stay updated on OpenAI's  \""
      ]
     },
     "execution_count": 17,
     "metadata": {},
     "output_type": "execute_result"
    }
   ],
   "source": [
    "abc = '''Artificial intelligence (AI) is revolutionizing industries worldwide, from healthcare to finance. \n",
    "At the forefront of this technological revolution is OpenAI.https://www.youtube.com/ Their groundbreaking \n",
    "research in natural language processing (NLP), machine learning, \n",
    "https://www.facebook.com/login/?next=https%3A%2F%2Fwww.facebook.com%2F and robotics is setting \n",
    "new benchmarks in AI capabilities. Stay updated on OpenAI's https://openai.com/research/ '''\n",
    "\n",
    "removeUrl(abc)\n"
   ]
  },
  {
   "cell_type": "code",
   "execution_count": null,
   "id": "901c5e66-6a64-4a39-9fec-d34eb67905fc",
   "metadata": {},
   "outputs": [],
   "source": []
  },
  {
   "cell_type": "markdown",
   "id": "0f3500da-c419-441f-8381-0fb38120c73d",
   "metadata": {},
   "source": [
    "# Remove punctuation"
   ]
  },
  {
   "cell_type": "code",
   "execution_count": 41,
   "id": "c4d94eba-a6fd-47b0-b140-c8daa960fcbe",
   "metadata": {},
   "outputs": [
    {
     "name": "stdout",
     "output_type": "stream",
     "text": [
      "string  sdafd  \n"
     ]
    }
   ],
   "source": [
    "# Method one \n",
    "import string, time\n",
    "exclude = string.punctuation\n",
    "\n",
    "def remove_punch(txt):\n",
    "    for char in exclude:\n",
    "        txt = txt.replace(char,'')\n",
    "        \n",
    "    return txt\n",
    "\n",
    "Text = 'string ... sdafd *** ;'\n",
    "print(remove_punch(Text))\n"
   ]
  },
  {
   "cell_type": "code",
   "execution_count": null,
   "id": "9c00a1f5-5159-44cc-9312-4984e9050625",
   "metadata": {},
   "outputs": [],
   "source": []
  },
  {
   "cell_type": "code",
   "execution_count": 42,
   "id": "4618bf1b-1f2e-4333-bde2-cb39c7a8219b",
   "metadata": {},
   "outputs": [
    {
     "name": "stdout",
     "output_type": "stream",
     "text": [
      "string  sdafd  \n"
     ]
    }
   ],
   "source": [
    "# Method Two\n",
    "\n",
    "def remove_punc01(text):\n",
    "    return text.translate(str.maketrans('','',exclude))\n",
    "\n",
    "Text = 'string ... sdafd *** ;'\n",
    "print(remove_punc01(Text))\n"
   ]
  },
  {
   "cell_type": "markdown",
   "id": "21196c7d-5aaf-451d-af45-1f062bb6cedb",
   "metadata": {},
   "source": [
    "# Chat Word treatment"
   ]
  },
  {
   "cell_type": "code",
   "execution_count": 40,
   "id": "8f5c5d17-a520-4e94-9fdc-f2ab69a3b028",
   "metadata": {},
   "outputs": [
    {
     "name": "stdout",
     "output_type": "stream",
     "text": [
      "{'LOL': 'Laugh out loud', 'BRB': 'Be right back', 'OMG': 'Oh my God', 'TTYL': 'Talk to you later', 'AFK': 'Away from keyboard', 'IDK': \"I don't know\", 'BTW': 'By the way', 'IMO/IMHO': 'In my opinion / In my humble opinion', 'ICYMI': 'In case you missed it', 'SMH': 'Shaking my head', 'ROFL/ROFLMAO': 'Rolling on the floor laughing / Rolling on the floor laughing my ass off', 'TBH': 'To be honest', 'NP': 'No problem', 'GG': 'Good game', 'JK': 'Just kidding', 'WTF': 'What the f***', 'FYI': 'For your information', 'NSFW': 'Not safe for work', 'YOLO': 'You only live once', 'FWIW': \"For what it's worth\", 'TL;DR': \"Too long; didn't read\", 'AFAIK': 'As far as I know', 'BFF': 'Best friends forever', 'FOMO': 'Fear of missing out', 'IMO': 'In my opinion', 'IRL': 'In real life', 'OOTD': 'Outfit of the day', 'ROFL': 'Rolling on the floor laughing', 'TBT': 'Throwback Thursday', 'TMI': 'Too much information', 'WTH': 'What the heck', 'FTW': 'For the win', 'IDC': \"I don't care\", 'NM': 'Never mind', 'IDGAF': \"I don't give a f***\", 'ILY/ILYSM': 'I love you / I love you so much', 'OMW': 'On my way', 'GTG': 'Got to go', 'Bae': 'Before anyone else / Babe', 'IMHO': 'In my humble opinion', 'NVM': 'Never mind', 'STFU': 'Shut the f*** up', 'LMAO': 'Laughing my ass off', 'DM': 'Direct message', 'FTFY': 'Fixed that for you', 'HBD': 'Happy birthday', 'OFC': 'Of course', 'AMA': 'Ask me anything', 'GTFO': 'Get the f*** out', 'ILY': 'I love you', 'MFW': 'My face when', 'WYD': 'What are you doing?', 'TLDR': \"Too long; didn't read\"}\n"
     ]
    },
    {
     "data": {
      "text/plain": [
       "'Laugh out loud'"
      ]
     },
     "execution_count": 40,
     "metadata": {},
     "output_type": "execute_result"
    }
   ],
   "source": [
    "import yaml\n",
    "\n",
    "# Corrected path with raw string and double backslashes for Windows\n",
    "yaml_file = r\"C:\\\\Users\\\\SHIVRAJ SHINDE\\\\JupiterWorking\\\\iNuron\\\\NLP\\\\chat_Word.yml\"\n",
    "\n",
    "with open(yaml_file, 'r') as stream:\n",
    "    data = yaml.safe_load(stream)\n",
    "    chat_words = {}\n",
    "    chat_words = data\n",
    "\n",
    "print(chat_words)\n",
    "\n",
    "\n",
    "def chat_converion(text):\n",
    "    new_text=[]\n",
    "    for w in text.split():\n",
    "        if w.upper() in chat_words:\n",
    "            new_text.append(chat_words[w.upper()])\n",
    "        else:\n",
    "            new_text.append(w)\n",
    "        return \" \".join(new_text)\n",
    "\n",
    "\n",
    "chat_converion('LOL')\n",
    "\n"
   ]
  },
  {
   "cell_type": "code",
   "execution_count": null,
   "id": "0f3b2a26-b91e-4014-a44a-bc5a726b9681",
   "metadata": {},
   "outputs": [],
   "source": []
  },
  {
   "cell_type": "code",
   "execution_count": null,
   "id": "d647b71f-e025-4708-ab98-67f49a54f25a",
   "metadata": {},
   "outputs": [],
   "source": [
    "\n"
   ]
  },
  {
   "cell_type": "code",
   "execution_count": null,
   "id": "11db21d9-6824-486f-acce-23d39c906fd6",
   "metadata": {},
   "outputs": [],
   "source": []
  },
  {
   "cell_type": "code",
   "execution_count": null,
   "id": "ed5f39be-9fc5-4c95-b4c5-0e395794bcfa",
   "metadata": {},
   "outputs": [],
   "source": []
  },
  {
   "cell_type": "code",
   "execution_count": null,
   "id": "fe66b637-5908-4267-a365-5070a6874527",
   "metadata": {},
   "outputs": [],
   "source": []
  },
  {
   "cell_type": "code",
   "execution_count": null,
   "id": "a6361868-9985-43df-8181-d24566a38bc0",
   "metadata": {},
   "outputs": [],
   "source": []
  },
  {
   "cell_type": "markdown",
   "id": "742b6f70-64e5-4c4b-8168-422ac3fba497",
   "metadata": {},
   "source": [
    "# Rectify spelling mistakes\n"
   ]
  },
  {
   "cell_type": "code",
   "execution_count": 46,
   "id": "855b7da3-cc1b-414c-bf18-07589ed88347",
   "metadata": {},
   "outputs": [
    {
     "name": "stdout",
     "output_type": "stream",
     "text": [
      "Collecting textblob\n",
      "  Downloading textblob-0.18.0.post0-py3-none-any.whl.metadata (4.5 kB)\n",
      "Requirement already satisfied: nltk>=3.8 in c:\\users\\shivraj shinde\\anaconda3\\lib\\site-packages (from textblob) (3.8.1)\n",
      "Requirement already satisfied: click in c:\\users\\shivraj shinde\\anaconda3\\lib\\site-packages (from nltk>=3.8->textblob) (8.1.7)\n",
      "Requirement already satisfied: joblib in c:\\users\\shivraj shinde\\anaconda3\\lib\\site-packages (from nltk>=3.8->textblob) (1.2.0)\n",
      "Requirement already satisfied: regex>=2021.8.3 in c:\\users\\shivraj shinde\\anaconda3\\lib\\site-packages (from nltk>=3.8->textblob) (2023.10.3)\n",
      "Requirement already satisfied: tqdm in c:\\users\\shivraj shinde\\anaconda3\\lib\\site-packages (from nltk>=3.8->textblob) (4.65.0)\n",
      "Requirement already satisfied: colorama in c:\\users\\shivraj shinde\\anaconda3\\lib\\site-packages (from click->nltk>=3.8->textblob) (0.4.6)\n",
      "Downloading textblob-0.18.0.post0-py3-none-any.whl (626 kB)\n",
      "   ---------------------------------------- 0.0/626.3 kB ? eta -:--:--\n",
      "    --------------------------------------- 10.2/626.3 kB ? eta -:--:--\n",
      "   --- ------------------------------------ 61.4/626.3 kB 1.1 MB/s eta 0:00:01\n",
      "   ------------------------ --------------- 389.1/626.3 kB 4.0 MB/s eta 0:00:01\n",
      "   ---------------------------------------- 626.3/626.3 kB 4.9 MB/s eta 0:00:00\n",
      "Installing collected packages: textblob\n",
      "Successfully installed textblob-0.18.0.post0\n",
      "Note: you may need to restart the kernel to use updated packages.\n"
     ]
    }
   ],
   "source": [
    "pip install textblob"
   ]
  },
  {
   "cell_type": "code",
   "execution_count": 48,
   "id": "3c1a94a0-2d30-4334-ab4b-bdf9aab233df",
   "metadata": {},
   "outputs": [
    {
     "data": {
      "text/plain": [
       "'The thyreoid gland is a butterfly-shaped organ located in the neck, just fellow the adams apple. \\nIt produces mormons like tyrosin and try-iodi-thyronine, which are impotent for regulating \\nmetabolism, growth, and body temperature'"
      ]
     },
     "execution_count": 48,
     "metadata": {},
     "output_type": "execute_result"
    }
   ],
   "source": [
    "from textblob import TextBlob\n",
    "abc = '''The thyroyd gland is a buterfly-shaped organ loceted in the neck, just bellow the adams apple. \n",
    "It producess hormons like thyroxin and tri-iodo-thyronine, which are impotent for regulatting \n",
    "metabbolism, growth, and body temperetur'''\n",
    "\n",
    "textBlb = TextBlob(abc)\n",
    "textBlb.correct().string\n"
   ]
  },
  {
   "cell_type": "code",
   "execution_count": 42,
   "id": "1f8b625f-959f-45b6-9612-dcbf8e8052a8",
   "metadata": {},
   "outputs": [
    {
     "name": "stdout",
     "output_type": "stream",
     "text": [
      "Collecting spellchecker\n",
      "  Downloading spellchecker-0.4.tar.gz (3.9 MB)\n",
      "     ---------------------------------------- 0.0/3.9 MB ? eta -:--:--\n",
      "     ---------------------------------------- 0.0/3.9 MB ? eta -:--:--\n",
      "     ---------------------------------------- 0.0/3.9 MB ? eta -:--:--\n",
      "     ---------------------------------------- 0.0/3.9 MB 165.2 kB/s eta 0:00:24\n",
      "     ---------------------------------------- 0.0/3.9 MB 165.2 kB/s eta 0:00:24\n",
      "     ---------------------------------------- 0.0/3.9 MB 165.2 kB/s eta 0:00:24\n",
      "     ---------------------------------------- 0.0/3.9 MB 119.1 kB/s eta 0:00:33\n",
      "     ---------------------------------------- 0.0/3.9 MB 131.3 kB/s eta 0:00:30\n",
      "      --------------------------------------- 0.1/3.9 MB 172.4 kB/s eta 0:00:23\n",
      "      --------------------------------------- 0.1/3.9 MB 229.7 kB/s eta 0:00:17\n",
      "     - -------------------------------------- 0.1/3.9 MB 300.4 kB/s eta 0:00:13\n",
      "     - -------------------------------------- 0.2/3.9 MB 378.3 kB/s eta 0:00:10\n",
      "     -- ------------------------------------- 0.2/3.9 MB 415.7 kB/s eta 0:00:09\n",
      "     -- ------------------------------------- 0.3/3.9 MB 477.2 kB/s eta 0:00:08\n",
      "     --- ------------------------------------ 0.3/3.9 MB 549.2 kB/s eta 0:00:07\n",
      "     --- ------------------------------------ 0.4/3.9 MB 573.4 kB/s eta 0:00:07\n",
      "     ---- ----------------------------------- 0.4/3.9 MB 624.4 kB/s eta 0:00:06\n",
      "     ---- ----------------------------------- 0.5/3.9 MB 655.5 kB/s eta 0:00:06\n",
      "     ----- ---------------------------------- 0.5/3.9 MB 682.7 kB/s eta 0:00:05\n",
      "     ----- ---------------------------------- 0.6/3.9 MB 719.5 kB/s eta 0:00:05\n",
      "     ------ --------------------------------- 0.7/3.9 MB 765.3 kB/s eta 0:00:05\n",
      "     ------- -------------------------------- 0.7/3.9 MB 793.9 kB/s eta 0:00:05\n",
      "     ------- -------------------------------- 0.8/3.9 MB 819.6 kB/s eta 0:00:04\n",
      "     -------- ------------------------------- 0.9/3.9 MB 884.6 kB/s eta 0:00:04\n",
      "     --------- ------------------------------ 1.0/3.9 MB 923.7 kB/s eta 0:00:04\n",
      "     ---------- ----------------------------- 1.0/3.9 MB 930.9 kB/s eta 0:00:04\n",
      "     ----------- ---------------------------- 1.1/3.9 MB 964.8 kB/s eta 0:00:03\n",
      "     ----------- ---------------------------- 1.1/3.9 MB 969.8 kB/s eta 0:00:03\n",
      "     ----------- ---------------------------- 1.2/3.9 MB 970.4 kB/s eta 0:00:03\n",
      "     ------------ --------------------------- 1.2/3.9 MB 947.1 kB/s eta 0:00:03\n",
      "     ------------ --------------------------- 1.2/3.9 MB 947.4 kB/s eta 0:00:03\n",
      "     ------------- -------------------------- 1.3/3.9 MB 956.9 kB/s eta 0:00:03\n",
      "     ------------- -------------------------- 1.3/3.9 MB 953.2 kB/s eta 0:00:03\n",
      "     ------------- -------------------------- 1.4/3.9 MB 947.8 kB/s eta 0:00:03\n",
      "     -------------- ------------------------- 1.4/3.9 MB 948.7 kB/s eta 0:00:03\n",
      "     -------------- ------------------------- 1.4/3.9 MB 929.7 kB/s eta 0:00:03\n",
      "     --------------- ------------------------ 1.5/3.9 MB 928.0 kB/s eta 0:00:03\n",
      "     --------------- ------------------------ 1.5/3.9 MB 926.3 kB/s eta 0:00:03\n",
      "     --------------- ------------------------ 1.6/3.9 MB 930.9 kB/s eta 0:00:03\n",
      "     ---------------- ----------------------- 1.6/3.9 MB 923.9 kB/s eta 0:00:03\n",
      "     ---------------- ----------------------- 1.6/3.9 MB 928.3 kB/s eta 0:00:03\n",
      "     ----------------- ---------------------- 1.7/3.9 MB 943.8 kB/s eta 0:00:03\n",
      "     ----------------- ---------------------- 1.8/3.9 MB 950.1 kB/s eta 0:00:03\n",
      "     ------------------ --------------------- 1.8/3.9 MB 956.3 kB/s eta 0:00:03\n",
      "     ------------------- -------------------- 1.9/3.9 MB 975.2 kB/s eta 0:00:03\n",
      "     ------------------- -------------------- 1.9/3.9 MB 975.2 kB/s eta 0:00:03\n",
      "     ------------------- -------------------- 1.9/3.9 MB 945.5 kB/s eta 0:00:03\n",
      "     -------------------- ------------------- 2.0/3.9 MB 949.1 kB/s eta 0:00:03\n",
      "     -------------------- ------------------- 2.0/3.9 MB 939.7 kB/s eta 0:00:03\n",
      "     -------------------- ------------------- 2.0/3.9 MB 928.8 kB/s eta 0:00:03\n",
      "     -------------------- ------------------- 2.0/3.9 MB 918.7 kB/s eta 0:00:03\n",
      "     -------------------- ------------------- 2.1/3.9 MB 910.2 kB/s eta 0:00:03\n",
      "     --------------------- ------------------ 2.1/3.9 MB 894.7 kB/s eta 0:00:03\n",
      "     --------------------- ------------------ 2.1/3.9 MB 881.2 kB/s eta 0:00:03\n",
      "     --------------------- ------------------ 2.1/3.9 MB 881.0 kB/s eta 0:00:03\n",
      "     --------------------- ------------------ 2.1/3.9 MB 874.0 kB/s eta 0:00:03\n",
      "     --------------------- ------------------ 2.2/3.9 MB 860.2 kB/s eta 0:00:03\n",
      "     ---------------------- ----------------- 2.2/3.9 MB 853.7 kB/s eta 0:00:03\n",
      "     ---------------------- ----------------- 2.2/3.9 MB 841.2 kB/s eta 0:00:03\n",
      "     ---------------------- ----------------- 2.2/3.9 MB 833.9 kB/s eta 0:00:03\n",
      "     ---------------------- ----------------- 2.2/3.9 MB 823.2 kB/s eta 0:00:03\n",
      "     ---------------------- ----------------- 2.2/3.9 MB 816.5 kB/s eta 0:00:03\n",
      "     ---------------------- ----------------- 2.3/3.9 MB 811.1 kB/s eta 0:00:03\n",
      "     ----------------------- ---------------- 2.3/3.9 MB 804.8 kB/s eta 0:00:03\n",
      "     ----------------------- ---------------- 2.3/3.9 MB 793.7 kB/s eta 0:00:03\n",
      "     ----------------------- ---------------- 2.3/3.9 MB 792.0 kB/s eta 0:00:03\n",
      "     ----------------------- ---------------- 2.4/3.9 MB 790.1 kB/s eta 0:00:02\n",
      "     ------------------------ --------------- 2.4/3.9 MB 794.7 kB/s eta 0:00:02\n",
      "     ------------------------- -------------- 2.5/3.9 MB 799.3 kB/s eta 0:00:02\n",
      "     ------------------------- -------------- 2.5/3.9 MB 800.4 kB/s eta 0:00:02\n",
      "     ------------------------- -------------- 2.5/3.9 MB 805.5 kB/s eta 0:00:02\n",
      "     -------------------------- ------------- 2.6/3.9 MB 808.8 kB/s eta 0:00:02\n",
      "     --------------------------- ------------ 2.7/3.9 MB 816.0 kB/s eta 0:00:02\n",
      "     --------------------------- ------------ 2.7/3.9 MB 820.8 kB/s eta 0:00:02\n",
      "     ---------------------------- ----------- 2.8/3.9 MB 827.7 kB/s eta 0:00:02\n",
      "     ---------------------------- ----------- 2.8/3.9 MB 829.2 kB/s eta 0:00:02\n",
      "     ---------------------------- ----------- 2.8/3.9 MB 822.9 kB/s eta 0:00:02\n",
      "     ----------------------------- ---------- 2.9/3.9 MB 823.8 kB/s eta 0:00:02\n",
      "     ----------------------------- ---------- 2.9/3.9 MB 821.5 kB/s eta 0:00:02\n",
      "     ------------------------------ --------- 2.9/3.9 MB 821.4 kB/s eta 0:00:02\n",
      "     ------------------------------ --------- 3.0/3.9 MB 822.8 kB/s eta 0:00:02\n",
      "     ------------------------------ --------- 3.0/3.9 MB 825.4 kB/s eta 0:00:02\n",
      "     ------------------------------- -------- 3.1/3.9 MB 832.4 kB/s eta 0:00:02\n",
      "     -------------------------------- ------- 3.2/3.9 MB 835.0 kB/s eta 0:00:01\n",
      "     -------------------------------- ------- 3.2/3.9 MB 843.5 kB/s eta 0:00:01\n",
      "     --------------------------------- ------ 3.3/3.9 MB 852.7 kB/s eta 0:00:01\n",
      "     --------------------------------- ------ 3.3/3.9 MB 855.5 kB/s eta 0:00:01\n",
      "     ---------------------------------- ----- 3.4/3.9 MB 858.3 kB/s eta 0:00:01\n",
      "     ----------------------------------- ---- 3.4/3.9 MB 861.0 kB/s eta 0:00:01\n",
      "     ----------------------------------- ---- 3.5/3.9 MB 861.2 kB/s eta 0:00:01\n",
      "     ------------------------------------ --- 3.6/3.9 MB 868.8 kB/s eta 0:00:01\n",
      "     ------------------------------------ --- 3.6/3.9 MB 873.8 kB/s eta 0:00:01\n",
      "     ------------------------------------- -- 3.6/3.9 MB 871.3 kB/s eta 0:00:01\n",
      "     ------------------------------------- -- 3.7/3.9 MB 874.0 kB/s eta 0:00:01\n",
      "     ------------------------------------- -- 3.7/3.9 MB 871.5 kB/s eta 0:00:01\n",
      "     -------------------------------------- - 3.8/3.9 MB 873.9 kB/s eta 0:00:01\n",
      "     -------------------------------------- - 3.8/3.9 MB 876.2 kB/s eta 0:00:01\n",
      "     ---------------------------------------  3.9/3.9 MB 877.0 kB/s eta 0:00:01\n",
      "     ---------------------------------------  3.9/3.9 MB 874.7 kB/s eta 0:00:01\n",
      "     ---------------------------------------  3.9/3.9 MB 872.4 kB/s eta 0:00:01\n",
      "     ---------------------------------------- 3.9/3.9 MB 868.0 kB/s eta 0:00:00\n",
      "  Preparing metadata (setup.py): started\n",
      "  Preparing metadata (setup.py): finished with status 'done'\n",
      "Requirement already satisfied: setuptools in c:\\users\\shivraj shinde\\anaconda3\\lib\\site-packages (from spellchecker) (68.2.2)\n",
      "Collecting inexactsearch (from spellchecker)\n",
      "  Downloading inexactsearch-1.0.2.tar.gz (21 kB)\n",
      "  Preparing metadata (setup.py): started\n",
      "  Preparing metadata (setup.py): finished with status 'done'\n",
      "Collecting soundex>=1.0 (from inexactsearch->spellchecker)\n",
      "  Downloading soundex-1.1.3.tar.gz (9.1 kB)\n",
      "  Preparing metadata (setup.py): started\n",
      "  Preparing metadata (setup.py): finished with status 'done'\n",
      "Collecting silpa_common>=0.3 (from inexactsearch->spellchecker)\n",
      "  Downloading silpa_common-0.3.tar.gz (9.4 kB)\n",
      "  Preparing metadata (setup.py): started\n",
      "  Preparing metadata (setup.py): finished with status 'done'\n",
      "Building wheels for collected packages: spellchecker, inexactsearch, silpa_common, soundex\n",
      "  Building wheel for spellchecker (setup.py): started\n",
      "  Building wheel for spellchecker (setup.py): finished with status 'done'\n",
      "  Created wheel for spellchecker: filename=spellchecker-0.4-py3-none-any.whl size=3966509 sha256=0470fdadb83370d147f05bfe3c85b345b6cba1d606ffe515a12c9f08e6eb3d8f\n",
      "  Stored in directory: c:\\users\\shivraj shinde\\appdata\\local\\pip\\cache\\wheels\\1c\\cb\\0f\\5e7178a807a0648885bca7c40bdf2db39af2d9fc1adc9855c9\n",
      "  Building wheel for inexactsearch (setup.py): started\n",
      "  Building wheel for inexactsearch (setup.py): finished with status 'done'\n",
      "  Created wheel for inexactsearch: filename=inexactsearch-1.0.2-py3-none-any.whl size=7148 sha256=d0decbd60c8da1a3baef5851227e00caa3b42131e2da2a690c85c2026793bdb1\n",
      "  Stored in directory: c:\\users\\shivraj shinde\\appdata\\local\\pip\\cache\\wheels\\e9\\4a\\1f\\f9dd8e4c4b533bf6913f71ca99e3da8ec6b2d15a1a8517bf87\n",
      "  Building wheel for silpa_common (setup.py): started\n",
      "  Building wheel for silpa_common (setup.py): finished with status 'done'\n",
      "  Created wheel for silpa_common: filename=silpa_common-0.3-py3-none-any.whl size=8482 sha256=4f2b18216d3d588f4b037ddd4ae533e279ddf00e1d297dea02d7b855e3d751ab\n",
      "  Stored in directory: c:\\users\\shivraj shinde\\appdata\\local\\pip\\cache\\wheels\\1b\\d2\\97\\c3c282b834d294b58cafd9e3ea4326e15fad90d6018098cddc\n",
      "  Building wheel for soundex (setup.py): started\n",
      "  Building wheel for soundex (setup.py): finished with status 'done'\n",
      "  Created wheel for soundex: filename=soundex-1.1.3-py3-none-any.whl size=8891 sha256=63bde991003d9f139606fb7874d0786f6db998e332db0ead124d498782ed671e\n",
      "  Stored in directory: c:\\users\\shivraj shinde\\appdata\\local\\pip\\cache\\wheels\\65\\12\\78\\4d9a7d5a0522543b94535da7ed2b0fdbc4424add35be211f9e\n",
      "Successfully built spellchecker inexactsearch silpa_common soundex\n",
      "Installing collected packages: silpa_common, soundex, inexactsearch, spellchecker\n",
      "Successfully installed inexactsearch-1.0.2 silpa_common-0.3 soundex-1.1.3 spellchecker-0.4\n",
      "Note: you may need to restart the kernel to use updated packages.\n"
     ]
    }
   ],
   "source": [
    "\n",
    "pip install spellchecker\n"
   ]
  },
  {
   "cell_type": "code",
   "execution_count": 45,
   "id": "11af1d4c-d483-4355-b332-37b2b1086114",
   "metadata": {},
   "outputs": [
    {
     "data": {
      "text/plain": [
       "\"from nltk.tokenize import word_tokenize\\nfrom spellchecker import SpellChecker\\n\\nwords = word_tokenize(abc)\\nspell_checker = SpellChecker()\\ncorrected_text = []\\nfor word in words:\\n    corrected_text.append(spell_checker.correction(word))\\ncorrected_text = ' '.join(corrected_text)\\nprint(corrected_text)\\n\""
      ]
     },
     "execution_count": 45,
     "metadata": {},
     "output_type": "execute_result"
    }
   ],
   "source": [
    "'''from nltk.tokenize import word_tokenize\n",
    "from spellchecker import SpellChecker\n",
    "\n",
    "words = word_tokenize(abc)\n",
    "spell_checker = SpellChecker()\n",
    "corrected_text = []\n",
    "for word in words:\n",
    "    corrected_text.append(spell_checker.correction(word))\n",
    "corrected_text = ' '.join(corrected_text)\n",
    "print(corrected_text)\n",
    "'''"
   ]
  },
  {
   "cell_type": "markdown",
   "id": "2248daf8-ede8-436a-983d-649ff5f0a7ca",
   "metadata": {},
   "source": [
    "# Remove Stop Words"
   ]
  },
  {
   "cell_type": "code",
   "execution_count": 46,
   "id": "77c717b7-d30b-418e-84df-3db39d3711f5",
   "metadata": {},
   "outputs": [],
   "source": [
    "from nltk.corpus import stopwords\n"
   ]
  },
  {
   "cell_type": "code",
   "execution_count": 53,
   "id": "e205d2f7-5858-416b-9d92-350c43d124ec",
   "metadata": {},
   "outputs": [
    {
     "data": {
      "text/plain": [
       "\"Artificial intelligence (AI)  revolutionizing industries worldwide,  healthcare  finance. At  forefront   technological revolution  OpenAI.https://www.youtube.com/ Their groundbreaking research  natural language processing (NLP), machine learning, https://www.facebook.com/login/?next=https%3A%2F%2Fwww.facebook.com%2F  robotics  setting new benchmarks  AI capabilities. Stay updated  OpenAI's https://openai.com/research/\""
      ]
     },
     "execution_count": 53,
     "metadata": {},
     "output_type": "execute_result"
    }
   ],
   "source": [
    "stopwords.words('English')\n",
    "def remove_stopwords(text):\n",
    "    new_text=[]\n",
    "    for word in text.split():\n",
    "        if word in stopwords.words('english'):\n",
    "            new_text.append('')\n",
    "        else:\n",
    "            new_text.append(word)\n",
    "    x = new_text[:]\n",
    "    new_text.clear()\n",
    "    return \" \".join(x)\n",
    "\n",
    "\n",
    "remove_stopwords(abc)\n"
   ]
  },
  {
   "cell_type": "markdown",
   "id": "8e6e0fa3-9d88-48e4-9192-733a758818ed",
   "metadata": {},
   "source": [
    "# Handling Emojis"
   ]
  },
  {
   "cell_type": "code",
   "execution_count": 54,
   "id": "7193f163-653a-4866-888a-74fbdc668433",
   "metadata": {},
   "outputs": [
    {
     "name": "stdout",
     "output_type": "stream",
     "text": [
      "Original text: Hello! How are you? 😀👍\n",
      "Text without emojis: Hello How are you \n"
     ]
    }
   ],
   "source": [
    "import re\n",
    "\n",
    "import re\n",
    "\n",
    "# Example text containing emojis\n",
    "text_with_emoji = \"Hello! How are you? 😀👍\"\n",
    "\n",
    "# Remove emojis using regex\n",
    "text_without_emoji = re.sub(r'[^\\w\\s,]', '', text_with_emoji)\n",
    "\n",
    "print(\"Original text:\", text_with_emoji)\n",
    "print(\"Text without emojis:\", text_without_emoji)\n"
   ]
  },
  {
   "cell_type": "code",
   "execution_count": 55,
   "id": "4722d9f8-88fa-44dd-b156-eb6f3358f52a",
   "metadata": {},
   "outputs": [
    {
     "name": "stdout",
     "output_type": "stream",
     "text": [
      "Original text: Hello! How are you? 😀👍\n",
      "Text without emojis: Hello! How are you? \n"
     ]
    }
   ],
   "source": [
    "import re\n",
    "\n",
    "# Example text containing emojis\n",
    "text_with_emoji = \"Hello! How are you? 😀👍\"\n",
    "\n",
    "# Function to remove emojis from text\n",
    "def remove_emojis(text):\n",
    "    # Emoji pattern (matches all emojis)\n",
    "    emoji_pattern = re.compile(\"[\"\n",
    "                               u\"\\U0001F600-\\U0001F64F\"  # emoticons\n",
    "                               u\"\\U0001F300-\\U0001F5FF\"  # symbols & pictographs\n",
    "                               u\"\\U0001F680-\\U0001F6FF\"  # transport & map symbols\n",
    "                               u\"\\U0001F1E0-\\U0001F1FF\"  # flags (iOS)\n",
    "                               u\"\\U00002500-\\U00002BEF\"  # chinese char\n",
    "                               u\"\\U00002702-\\U000027B0\"\n",
    "                               u\"\\U00002702-\\U000027B0\"\n",
    "                               u\"\\U000024C2-\\U0001F251\"\n",
    "                               u\"\\U0001f926-\\U0001f937\"\n",
    "                               u\"\\U00010000-\\U0010ffff\"\n",
    "                               u\"\\u2640-\\u2642\"\n",
    "                               u\"\\u2600-\\u2B55\"\n",
    "                               u\"\\u200d\"\n",
    "                               u\"\\u23cf\"\n",
    "                               u\"\\u23e9\"\n",
    "                               u\"\\u231a\"\n",
    "                               u\"\\ufe0f\"  # dingbats\n",
    "                               u\"\\u3030\"\n",
    "                               \"]+\", flags=re.UNICODE)\n",
    "    \n",
    "    # Remove emojis from text\n",
    "    return emoji_pattern.sub(r'', text)\n",
    "\n",
    "# Remove emojis from the example text\n",
    "text_without_emoji = remove_emojis(text_with_emoji)\n",
    "\n",
    "print(\"Original text:\", text_with_emoji)\n",
    "print(\"Text without emojis:\", text_without_emoji)\n"
   ]
  },
  {
   "cell_type": "code",
   "execution_count": null,
   "id": "39ffdb30-5c9e-486a-a986-75e719912027",
   "metadata": {},
   "outputs": [],
   "source": []
  },
  {
   "cell_type": "code",
   "execution_count": null,
   "id": "890cddf2-5daa-4cd1-b96f-c4a7a59b6873",
   "metadata": {},
   "outputs": [],
   "source": []
  },
  {
   "cell_type": "code",
   "execution_count": null,
   "id": "6cdc6fc9-687b-46f9-9956-4702d682a81e",
   "metadata": {},
   "outputs": [],
   "source": []
  },
  {
   "cell_type": "code",
   "execution_count": null,
   "id": "4131e04c-fd14-4429-baf1-129d19c02be3",
   "metadata": {},
   "outputs": [],
   "source": []
  },
  {
   "cell_type": "code",
   "execution_count": null,
   "id": "3d88206e-a005-4627-a07d-1e11bb47b38e",
   "metadata": {},
   "outputs": [],
   "source": []
  },
  {
   "cell_type": "code",
   "execution_count": null,
   "id": "32cd5b51-8604-4e21-9b59-3ee5ea726e77",
   "metadata": {},
   "outputs": [],
   "source": []
  },
  {
   "cell_type": "code",
   "execution_count": null,
   "id": "603e05e3-66ce-4b8e-9d9d-15c6b6946476",
   "metadata": {},
   "outputs": [],
   "source": []
  },
  {
   "cell_type": "code",
   "execution_count": null,
   "id": "f38ca88d-d154-423d-b125-1a25b47ff37e",
   "metadata": {},
   "outputs": [],
   "source": []
  },
  {
   "cell_type": "code",
   "execution_count": null,
   "id": "423dc0bd-34d9-4755-9b9e-593d915b26e4",
   "metadata": {},
   "outputs": [],
   "source": []
  },
  {
   "cell_type": "code",
   "execution_count": null,
   "id": "2b037b32-0243-46a4-a486-3b2989ca16a6",
   "metadata": {},
   "outputs": [],
   "source": []
  },
  {
   "cell_type": "code",
   "execution_count": null,
   "id": "78d47c6c-df8d-4fd2-95af-0a0ba5e0a484",
   "metadata": {},
   "outputs": [],
   "source": []
  },
  {
   "cell_type": "code",
   "execution_count": null,
   "id": "b231c826-561b-4d68-bd2e-87f527e83a2c",
   "metadata": {},
   "outputs": [],
   "source": []
  }
 ],
 "metadata": {
  "kernelspec": {
   "display_name": "Python 3 (ipykernel)",
   "language": "python",
   "name": "python3"
  },
  "language_info": {
   "codemirror_mode": {
    "name": "ipython",
    "version": 3
   },
   "file_extension": ".py",
   "mimetype": "text/x-python",
   "name": "python",
   "nbconvert_exporter": "python",
   "pygments_lexer": "ipython3",
   "version": "3.11.7"
  }
 },
 "nbformat": 4,
 "nbformat_minor": 5
}
