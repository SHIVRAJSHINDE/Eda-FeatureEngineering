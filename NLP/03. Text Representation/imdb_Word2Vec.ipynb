{
 "cells": [
  {
   "cell_type": "code",
   "execution_count": 1,
   "id": "086b41b7-9839-40d1-bdc9-dceb0eb4b1c2",
   "metadata": {},
   "outputs": [
    {
     "data": {
      "text/html": [
       "<div>\n",
       "<style scoped>\n",
       "    .dataframe tbody tr th:only-of-type {\n",
       "        vertical-align: middle;\n",
       "    }\n",
       "\n",
       "    .dataframe tbody tr th {\n",
       "        vertical-align: top;\n",
       "    }\n",
       "\n",
       "    .dataframe thead th {\n",
       "        text-align: right;\n",
       "    }\n",
       "</style>\n",
       "<table border=\"1\" class=\"dataframe\">\n",
       "  <thead>\n",
       "    <tr style=\"text-align: right;\">\n",
       "      <th></th>\n",
       "      <th>text</th>\n",
       "      <th>sentiment</th>\n",
       "    </tr>\n",
       "  </thead>\n",
       "  <tbody>\n",
       "    <tr>\n",
       "      <th>0</th>\n",
       "      <td>Now, I won't deny that when I purchased this o...</td>\n",
       "      <td>neg</td>\n",
       "    </tr>\n",
       "    <tr>\n",
       "      <th>1</th>\n",
       "      <td>The saddest thing about this \"tribute\" is that...</td>\n",
       "      <td>neg</td>\n",
       "    </tr>\n",
       "    <tr>\n",
       "      <th>2</th>\n",
       "      <td>Last night I decided to watch the prequel or s...</td>\n",
       "      <td>neg</td>\n",
       "    </tr>\n",
       "    <tr>\n",
       "      <th>3</th>\n",
       "      <td>I have to admit that i liked the first half of...</td>\n",
       "      <td>neg</td>\n",
       "    </tr>\n",
       "    <tr>\n",
       "      <th>4</th>\n",
       "      <td>I was not impressed about this film especially...</td>\n",
       "      <td>neg</td>\n",
       "    </tr>\n",
       "    <tr>\n",
       "      <th>...</th>\n",
       "      <td>...</td>\n",
       "      <td>...</td>\n",
       "    </tr>\n",
       "    <tr>\n",
       "      <th>4995</th>\n",
       "      <td>My god this movie is awfully boring. I am a bi...</td>\n",
       "      <td>neg</td>\n",
       "    </tr>\n",
       "    <tr>\n",
       "      <th>4996</th>\n",
       "      <td>This could have been a rather entertaining fil...</td>\n",
       "      <td>neg</td>\n",
       "    </tr>\n",
       "    <tr>\n",
       "      <th>4997</th>\n",
       "      <td>this film was totally not what i expected. &lt;br...</td>\n",
       "      <td>neg</td>\n",
       "    </tr>\n",
       "    <tr>\n",
       "      <th>4998</th>\n",
       "      <td>I'm getting a little tired of people misusing ...</td>\n",
       "      <td>neg</td>\n",
       "    </tr>\n",
       "    <tr>\n",
       "      <th>4999</th>\n",
       "      <td>I really enjoyed this movie. I am a single dad...</td>\n",
       "      <td>pos</td>\n",
       "    </tr>\n",
       "  </tbody>\n",
       "</table>\n",
       "<p>5000 rows × 2 columns</p>\n",
       "</div>"
      ],
      "text/plain": [
       "                                                   text sentiment\n",
       "0     Now, I won't deny that when I purchased this o...       neg\n",
       "1     The saddest thing about this \"tribute\" is that...       neg\n",
       "2     Last night I decided to watch the prequel or s...       neg\n",
       "3     I have to admit that i liked the first half of...       neg\n",
       "4     I was not impressed about this film especially...       neg\n",
       "...                                                 ...       ...\n",
       "4995  My god this movie is awfully boring. I am a bi...       neg\n",
       "4996  This could have been a rather entertaining fil...       neg\n",
       "4997  this film was totally not what i expected. <br...       neg\n",
       "4998  I'm getting a little tired of people misusing ...       neg\n",
       "4999  I really enjoyed this movie. I am a single dad...       pos\n",
       "\n",
       "[5000 rows x 2 columns]"
      ]
     },
     "execution_count": 1,
     "metadata": {},
     "output_type": "execute_result"
    }
   ],
   "source": [
    "\n",
    "import pandas as pd\n",
    "import re\n",
    "# Ensure that the path is properly formatted\n",
    "file_path = r\"D:\\\\MLProjects\\\\ZDatasets\\\\IMDB\\\\train.csv\"\n",
    "\n",
    "# Read the CSV file into a pandas DataFrame\n",
    "temp_df = pd.read_csv(file_path)\n",
    "\n",
    "# Now you can work with the DataFrame 'df'\n",
    "df = temp_df.iloc[:5000]\n",
    "df\n",
    "\n"
   ]
  },
  {
   "cell_type": "code",
   "execution_count": 2,
   "id": "cfb8cf07-6e01-4c30-97ce-f3942f71b171",
   "metadata": {},
   "outputs": [
    {
     "data": {
      "text/plain": [
       "neg    2531\n",
       "pos    2469\n",
       "Name: sentiment, dtype: int64"
      ]
     },
     "execution_count": 2,
     "metadata": {},
     "output_type": "execute_result"
    }
   ],
   "source": [
    "df['sentiment'].value_counts()\n"
   ]
  },
  {
   "cell_type": "code",
   "execution_count": 3,
   "id": "ef3d543d-c55f-42ab-b932-85d33cd0a0f8",
   "metadata": {},
   "outputs": [
    {
     "data": {
      "text/plain": [
       "3"
      ]
     },
     "execution_count": 3,
     "metadata": {},
     "output_type": "execute_result"
    }
   ],
   "source": [
    "df.duplicated().sum()\n"
   ]
  },
  {
   "cell_type": "code",
   "execution_count": 4,
   "id": "a1b26cfd-ca10-4814-93b4-9a2a09214b99",
   "metadata": {},
   "outputs": [
    {
     "name": "stderr",
     "output_type": "stream",
     "text": [
      "C:\\Users\\SHIVRAJ SHINDE\\AppData\\Local\\Temp\\ipykernel_14212\\3617111529.py:1: SettingWithCopyWarning: \n",
      "A value is trying to be set on a copy of a slice from a DataFrame\n",
      "\n",
      "See the caveats in the documentation: https://pandas.pydata.org/pandas-docs/stable/user_guide/indexing.html#returning-a-view-versus-a-copy\n",
      "  df.drop_duplicates(inplace=True)\n"
     ]
    }
   ],
   "source": [
    "df.drop_duplicates(inplace=True)\n"
   ]
  },
  {
   "cell_type": "code",
   "execution_count": 5,
   "id": "e0c8a61f-1fe8-4097-9112-8dd0fb071961",
   "metadata": {},
   "outputs": [
    {
     "data": {
      "text/html": [
       "<div>\n",
       "<style scoped>\n",
       "    .dataframe tbody tr th:only-of-type {\n",
       "        vertical-align: middle;\n",
       "    }\n",
       "\n",
       "    .dataframe tbody tr th {\n",
       "        vertical-align: top;\n",
       "    }\n",
       "\n",
       "    .dataframe thead th {\n",
       "        text-align: right;\n",
       "    }\n",
       "</style>\n",
       "<table border=\"1\" class=\"dataframe\">\n",
       "  <thead>\n",
       "    <tr style=\"text-align: right;\">\n",
       "      <th></th>\n",
       "      <th>text</th>\n",
       "      <th>sentiment</th>\n",
       "    </tr>\n",
       "  </thead>\n",
       "  <tbody>\n",
       "    <tr>\n",
       "      <th>0</th>\n",
       "      <td>Now, I won't deny that when I purchased this o...</td>\n",
       "      <td>neg</td>\n",
       "    </tr>\n",
       "    <tr>\n",
       "      <th>1</th>\n",
       "      <td>The saddest thing about this \"tribute\" is that...</td>\n",
       "      <td>neg</td>\n",
       "    </tr>\n",
       "    <tr>\n",
       "      <th>2</th>\n",
       "      <td>Last night I decided to watch the prequel or s...</td>\n",
       "      <td>neg</td>\n",
       "    </tr>\n",
       "    <tr>\n",
       "      <th>3</th>\n",
       "      <td>I have to admit that i liked the first half of...</td>\n",
       "      <td>neg</td>\n",
       "    </tr>\n",
       "    <tr>\n",
       "      <th>4</th>\n",
       "      <td>I was not impressed about this film especially...</td>\n",
       "      <td>neg</td>\n",
       "    </tr>\n",
       "    <tr>\n",
       "      <th>...</th>\n",
       "      <td>...</td>\n",
       "      <td>...</td>\n",
       "    </tr>\n",
       "    <tr>\n",
       "      <th>4995</th>\n",
       "      <td>My god this movie is awfully boring. I am a bi...</td>\n",
       "      <td>neg</td>\n",
       "    </tr>\n",
       "    <tr>\n",
       "      <th>4996</th>\n",
       "      <td>This could have been a rather entertaining fil...</td>\n",
       "      <td>neg</td>\n",
       "    </tr>\n",
       "    <tr>\n",
       "      <th>4997</th>\n",
       "      <td>this film was totally not what i expected. &lt;br...</td>\n",
       "      <td>neg</td>\n",
       "    </tr>\n",
       "    <tr>\n",
       "      <th>4998</th>\n",
       "      <td>I'm getting a little tired of people misusing ...</td>\n",
       "      <td>neg</td>\n",
       "    </tr>\n",
       "    <tr>\n",
       "      <th>4999</th>\n",
       "      <td>I really enjoyed this movie. I am a single dad...</td>\n",
       "      <td>pos</td>\n",
       "    </tr>\n",
       "  </tbody>\n",
       "</table>\n",
       "<p>4997 rows × 2 columns</p>\n",
       "</div>"
      ],
      "text/plain": [
       "                                                   text sentiment\n",
       "0     Now, I won't deny that when I purchased this o...       neg\n",
       "1     The saddest thing about this \"tribute\" is that...       neg\n",
       "2     Last night I decided to watch the prequel or s...       neg\n",
       "3     I have to admit that i liked the first half of...       neg\n",
       "4     I was not impressed about this film especially...       neg\n",
       "...                                                 ...       ...\n",
       "4995  My god this movie is awfully boring. I am a bi...       neg\n",
       "4996  This could have been a rather entertaining fil...       neg\n",
       "4997  this film was totally not what i expected. <br...       neg\n",
       "4998  I'm getting a little tired of people misusing ...       neg\n",
       "4999  I really enjoyed this movie. I am a single dad...       pos\n",
       "\n",
       "[4997 rows x 2 columns]"
      ]
     },
     "execution_count": 5,
     "metadata": {},
     "output_type": "execute_result"
    }
   ],
   "source": [
    "df\n"
   ]
  },
  {
   "cell_type": "code",
   "execution_count": 6,
   "id": "a0f79ffa-d730-45a9-b0ad-9899f81c8ac4",
   "metadata": {},
   "outputs": [
    {
     "data": {
      "text/plain": [
       "0"
      ]
     },
     "execution_count": 6,
     "metadata": {},
     "output_type": "execute_result"
    }
   ],
   "source": [
    "df.duplicated().sum()\n"
   ]
  },
  {
   "cell_type": "code",
   "execution_count": 7,
   "id": "d054c9e5-afad-4a12-ac5f-0cd6565e424e",
   "metadata": {},
   "outputs": [],
   "source": [
    "# Remove tags\n",
    "\n",
    "def remove_tags(raw_text):\n",
    "    cleaned_text = re.sub(re.compile('<.*?>'),'',raw_text)\n",
    "    return cleaned_text\n",
    "  "
   ]
  },
  {
   "cell_type": "code",
   "execution_count": 8,
   "id": "af0a2b9e-4e86-4a26-8a59-dabf1b3f8038",
   "metadata": {},
   "outputs": [
    {
     "name": "stderr",
     "output_type": "stream",
     "text": [
      "C:\\Users\\SHIVRAJ SHINDE\\AppData\\Local\\Temp\\ipykernel_14212\\2231308893.py:1: SettingWithCopyWarning: \n",
      "A value is trying to be set on a copy of a slice from a DataFrame.\n",
      "Try using .loc[row_indexer,col_indexer] = value instead\n",
      "\n",
      "See the caveats in the documentation: https://pandas.pydata.org/pandas-docs/stable/user_guide/indexing.html#returning-a-view-versus-a-copy\n",
      "  df['text'] = df['text'].apply(remove_tags)\n"
     ]
    },
    {
     "data": {
      "text/html": [
       "<div>\n",
       "<style scoped>\n",
       "    .dataframe tbody tr th:only-of-type {\n",
       "        vertical-align: middle;\n",
       "    }\n",
       "\n",
       "    .dataframe tbody tr th {\n",
       "        vertical-align: top;\n",
       "    }\n",
       "\n",
       "    .dataframe thead th {\n",
       "        text-align: right;\n",
       "    }\n",
       "</style>\n",
       "<table border=\"1\" class=\"dataframe\">\n",
       "  <thead>\n",
       "    <tr style=\"text-align: right;\">\n",
       "      <th></th>\n",
       "      <th>text</th>\n",
       "      <th>sentiment</th>\n",
       "    </tr>\n",
       "  </thead>\n",
       "  <tbody>\n",
       "    <tr>\n",
       "      <th>0</th>\n",
       "      <td>Now, I won't deny that when I purchased this o...</td>\n",
       "      <td>neg</td>\n",
       "    </tr>\n",
       "    <tr>\n",
       "      <th>1</th>\n",
       "      <td>The saddest thing about this \"tribute\" is that...</td>\n",
       "      <td>neg</td>\n",
       "    </tr>\n",
       "    <tr>\n",
       "      <th>2</th>\n",
       "      <td>Last night I decided to watch the prequel or s...</td>\n",
       "      <td>neg</td>\n",
       "    </tr>\n",
       "    <tr>\n",
       "      <th>3</th>\n",
       "      <td>I have to admit that i liked the first half of...</td>\n",
       "      <td>neg</td>\n",
       "    </tr>\n",
       "    <tr>\n",
       "      <th>4</th>\n",
       "      <td>I was not impressed about this film especially...</td>\n",
       "      <td>neg</td>\n",
       "    </tr>\n",
       "    <tr>\n",
       "      <th>...</th>\n",
       "      <td>...</td>\n",
       "      <td>...</td>\n",
       "    </tr>\n",
       "    <tr>\n",
       "      <th>4995</th>\n",
       "      <td>My god this movie is awfully boring. I am a bi...</td>\n",
       "      <td>neg</td>\n",
       "    </tr>\n",
       "    <tr>\n",
       "      <th>4996</th>\n",
       "      <td>This could have been a rather entertaining fil...</td>\n",
       "      <td>neg</td>\n",
       "    </tr>\n",
       "    <tr>\n",
       "      <th>4997</th>\n",
       "      <td>this film was totally not what i expected. if ...</td>\n",
       "      <td>neg</td>\n",
       "    </tr>\n",
       "    <tr>\n",
       "      <th>4998</th>\n",
       "      <td>I'm getting a little tired of people misusing ...</td>\n",
       "      <td>neg</td>\n",
       "    </tr>\n",
       "    <tr>\n",
       "      <th>4999</th>\n",
       "      <td>I really enjoyed this movie. I am a single dad...</td>\n",
       "      <td>pos</td>\n",
       "    </tr>\n",
       "  </tbody>\n",
       "</table>\n",
       "<p>4997 rows × 2 columns</p>\n",
       "</div>"
      ],
      "text/plain": [
       "                                                   text sentiment\n",
       "0     Now, I won't deny that when I purchased this o...       neg\n",
       "1     The saddest thing about this \"tribute\" is that...       neg\n",
       "2     Last night I decided to watch the prequel or s...       neg\n",
       "3     I have to admit that i liked the first half of...       neg\n",
       "4     I was not impressed about this film especially...       neg\n",
       "...                                                 ...       ...\n",
       "4995  My god this movie is awfully boring. I am a bi...       neg\n",
       "4996  This could have been a rather entertaining fil...       neg\n",
       "4997  this film was totally not what i expected. if ...       neg\n",
       "4998  I'm getting a little tired of people misusing ...       neg\n",
       "4999  I really enjoyed this movie. I am a single dad...       pos\n",
       "\n",
       "[4997 rows x 2 columns]"
      ]
     },
     "execution_count": 8,
     "metadata": {},
     "output_type": "execute_result"
    }
   ],
   "source": [
    "df['text'] = df['text'].apply(remove_tags)\n",
    "df\n"
   ]
  },
  {
   "cell_type": "code",
   "execution_count": 9,
   "id": "1763c7c8-029c-4295-a6c4-53d681c14c19",
   "metadata": {},
   "outputs": [
    {
     "name": "stderr",
     "output_type": "stream",
     "text": [
      "C:\\Users\\SHIVRAJ SHINDE\\AppData\\Local\\Temp\\ipykernel_14212\\2503905265.py:5: SettingWithCopyWarning: \n",
      "A value is trying to be set on a copy of a slice from a DataFrame.\n",
      "Try using .loc[row_indexer,col_indexer] = value instead\n",
      "\n",
      "See the caveats in the documentation: https://pandas.pydata.org/pandas-docs/stable/user_guide/indexing.html#returning-a-view-versus-a-copy\n",
      "  df['text'] = df['text'].apply(lowerCase)\n"
     ]
    },
    {
     "data": {
      "text/html": [
       "<div>\n",
       "<style scoped>\n",
       "    .dataframe tbody tr th:only-of-type {\n",
       "        vertical-align: middle;\n",
       "    }\n",
       "\n",
       "    .dataframe tbody tr th {\n",
       "        vertical-align: top;\n",
       "    }\n",
       "\n",
       "    .dataframe thead th {\n",
       "        text-align: right;\n",
       "    }\n",
       "</style>\n",
       "<table border=\"1\" class=\"dataframe\">\n",
       "  <thead>\n",
       "    <tr style=\"text-align: right;\">\n",
       "      <th></th>\n",
       "      <th>text</th>\n",
       "      <th>sentiment</th>\n",
       "    </tr>\n",
       "  </thead>\n",
       "  <tbody>\n",
       "    <tr>\n",
       "      <th>0</th>\n",
       "      <td>now, i won't deny that when i purchased this o...</td>\n",
       "      <td>neg</td>\n",
       "    </tr>\n",
       "    <tr>\n",
       "      <th>1</th>\n",
       "      <td>the saddest thing about this \"tribute\" is that...</td>\n",
       "      <td>neg</td>\n",
       "    </tr>\n",
       "    <tr>\n",
       "      <th>2</th>\n",
       "      <td>last night i decided to watch the prequel or s...</td>\n",
       "      <td>neg</td>\n",
       "    </tr>\n",
       "    <tr>\n",
       "      <th>3</th>\n",
       "      <td>i have to admit that i liked the first half of...</td>\n",
       "      <td>neg</td>\n",
       "    </tr>\n",
       "    <tr>\n",
       "      <th>4</th>\n",
       "      <td>i was not impressed about this film especially...</td>\n",
       "      <td>neg</td>\n",
       "    </tr>\n",
       "    <tr>\n",
       "      <th>...</th>\n",
       "      <td>...</td>\n",
       "      <td>...</td>\n",
       "    </tr>\n",
       "    <tr>\n",
       "      <th>4995</th>\n",
       "      <td>my god this movie is awfully boring. i am a bi...</td>\n",
       "      <td>neg</td>\n",
       "    </tr>\n",
       "    <tr>\n",
       "      <th>4996</th>\n",
       "      <td>this could have been a rather entertaining fil...</td>\n",
       "      <td>neg</td>\n",
       "    </tr>\n",
       "    <tr>\n",
       "      <th>4997</th>\n",
       "      <td>this film was totally not what i expected. if ...</td>\n",
       "      <td>neg</td>\n",
       "    </tr>\n",
       "    <tr>\n",
       "      <th>4998</th>\n",
       "      <td>i'm getting a little tired of people misusing ...</td>\n",
       "      <td>neg</td>\n",
       "    </tr>\n",
       "    <tr>\n",
       "      <th>4999</th>\n",
       "      <td>i really enjoyed this movie. i am a single dad...</td>\n",
       "      <td>pos</td>\n",
       "    </tr>\n",
       "  </tbody>\n",
       "</table>\n",
       "<p>4997 rows × 2 columns</p>\n",
       "</div>"
      ],
      "text/plain": [
       "                                                   text sentiment\n",
       "0     now, i won't deny that when i purchased this o...       neg\n",
       "1     the saddest thing about this \"tribute\" is that...       neg\n",
       "2     last night i decided to watch the prequel or s...       neg\n",
       "3     i have to admit that i liked the first half of...       neg\n",
       "4     i was not impressed about this film especially...       neg\n",
       "...                                                 ...       ...\n",
       "4995  my god this movie is awfully boring. i am a bi...       neg\n",
       "4996  this could have been a rather entertaining fil...       neg\n",
       "4997  this film was totally not what i expected. if ...       neg\n",
       "4998  i'm getting a little tired of people misusing ...       neg\n",
       "4999  i really enjoyed this movie. i am a single dad...       pos\n",
       "\n",
       "[4997 rows x 2 columns]"
      ]
     },
     "execution_count": 9,
     "metadata": {},
     "output_type": "execute_result"
    }
   ],
   "source": [
    "def lowerCase(rawText):\n",
    "    lowertext = rawText.lower()\n",
    "    return lowertext\n",
    "\n",
    "df['text'] = df['text'].apply(lowerCase)\n",
    "df\n",
    "\n"
   ]
  },
  {
   "cell_type": "code",
   "execution_count": 10,
   "id": "80a4dfc0-ef3e-4d46-8665-e837179c0790",
   "metadata": {},
   "outputs": [
    {
     "name": "stderr",
     "output_type": "stream",
     "text": [
      "[nltk_data] Downloading package stopwords to C:\\Users\\SHIVRAJ\n",
      "[nltk_data]     SHINDE\\AppData\\Roaming\\nltk_data...\n",
      "[nltk_data]   Package stopwords is already up-to-date!\n",
      "C:\\Users\\SHIVRAJ SHINDE\\AppData\\Local\\Temp\\ipykernel_14212\\3198091130.py:11: SettingWithCopyWarning: \n",
      "A value is trying to be set on a copy of a slice from a DataFrame.\n",
      "Try using .loc[row_indexer,col_indexer] = value instead\n",
      "\n",
      "See the caveats in the documentation: https://pandas.pydata.org/pandas-docs/stable/user_guide/indexing.html#returning-a-view-versus-a-copy\n",
      "  df['text'] = df['text'].apply(remove_stopwords_from_review)\n"
     ]
    }
   ],
   "source": [
    "# remove stopwords\n",
    "import nltk\n",
    "from nltk.corpus import stopwords\n",
    "nltk.download('stopwords')\n",
    "\n",
    "def remove_stopwords_from_review(review):\n",
    "    sw_list = stopwords.words('english')\n",
    "    cleaned_review = \" \".join(item for item in review.split() if item not in sw_list)\n",
    "    return cleaned_review\n",
    "\n",
    "df['text'] = df['text'].apply(remove_stopwords_from_review)\n"
   ]
  },
  {
   "cell_type": "code",
   "execution_count": 11,
   "id": "12c22b04-9a09-4d68-b423-a06853dcbf75",
   "metadata": {},
   "outputs": [
    {
     "data": {
      "text/html": [
       "<div>\n",
       "<style scoped>\n",
       "    .dataframe tbody tr th:only-of-type {\n",
       "        vertical-align: middle;\n",
       "    }\n",
       "\n",
       "    .dataframe tbody tr th {\n",
       "        vertical-align: top;\n",
       "    }\n",
       "\n",
       "    .dataframe thead th {\n",
       "        text-align: right;\n",
       "    }\n",
       "</style>\n",
       "<table border=\"1\" class=\"dataframe\">\n",
       "  <thead>\n",
       "    <tr style=\"text-align: right;\">\n",
       "      <th></th>\n",
       "      <th>text</th>\n",
       "      <th>sentiment</th>\n",
       "    </tr>\n",
       "  </thead>\n",
       "  <tbody>\n",
       "    <tr>\n",
       "      <th>0</th>\n",
       "      <td>now, deny purchased ebay, high expectations. i...</td>\n",
       "      <td>neg</td>\n",
       "    </tr>\n",
       "    <tr>\n",
       "      <th>1</th>\n",
       "      <td>saddest thing \"tribute\" almost singers (includ...</td>\n",
       "      <td>neg</td>\n",
       "    </tr>\n",
       "    <tr>\n",
       "      <th>2</th>\n",
       "      <td>last night decided watch prequel shall say cal...</td>\n",
       "      <td>neg</td>\n",
       "    </tr>\n",
       "    <tr>\n",
       "      <th>3</th>\n",
       "      <td>admit liked first half sleepers. looked good, ...</td>\n",
       "      <td>neg</td>\n",
       "    </tr>\n",
       "    <tr>\n",
       "      <th>4</th>\n",
       "      <td>impressed film especially fact went cinema fam...</td>\n",
       "      <td>neg</td>\n",
       "    </tr>\n",
       "    <tr>\n",
       "      <th>...</th>\n",
       "      <td>...</td>\n",
       "      <td>...</td>\n",
       "    </tr>\n",
       "    <tr>\n",
       "      <th>4995</th>\n",
       "      <td>god movie awfully boring. big fan gina gershon...</td>\n",
       "      <td>neg</td>\n",
       "    </tr>\n",
       "    <tr>\n",
       "      <th>4996</th>\n",
       "      <td>could rather entertaining film, instead ranks ...</td>\n",
       "      <td>neg</td>\n",
       "    </tr>\n",
       "    <tr>\n",
       "      <th>4997</th>\n",
       "      <td>film totally expected. film called something e...</td>\n",
       "      <td>neg</td>\n",
       "    </tr>\n",
       "    <tr>\n",
       "      <th>4998</th>\n",
       "      <td>i'm getting little tired people misusing god's...</td>\n",
       "      <td>neg</td>\n",
       "    </tr>\n",
       "    <tr>\n",
       "      <th>4999</th>\n",
       "      <td>really enjoyed movie. single dad 17 year old d...</td>\n",
       "      <td>pos</td>\n",
       "    </tr>\n",
       "  </tbody>\n",
       "</table>\n",
       "<p>4997 rows × 2 columns</p>\n",
       "</div>"
      ],
      "text/plain": [
       "                                                   text sentiment\n",
       "0     now, deny purchased ebay, high expectations. i...       neg\n",
       "1     saddest thing \"tribute\" almost singers (includ...       neg\n",
       "2     last night decided watch prequel shall say cal...       neg\n",
       "3     admit liked first half sleepers. looked good, ...       neg\n",
       "4     impressed film especially fact went cinema fam...       neg\n",
       "...                                                 ...       ...\n",
       "4995  god movie awfully boring. big fan gina gershon...       neg\n",
       "4996  could rather entertaining film, instead ranks ...       neg\n",
       "4997  film totally expected. film called something e...       neg\n",
       "4998  i'm getting little tired people misusing god's...       neg\n",
       "4999  really enjoyed movie. single dad 17 year old d...       pos\n",
       "\n",
       "[4997 rows x 2 columns]"
      ]
     },
     "execution_count": 11,
     "metadata": {},
     "output_type": "execute_result"
    }
   ],
   "source": [
    "df\n"
   ]
  },
  {
   "cell_type": "code",
   "execution_count": 12,
   "id": "f1cb0901-7721-45cc-b48d-26d724cf15fa",
   "metadata": {},
   "outputs": [],
   "source": [
    "import gensim\n",
    "from nltk import sent_tokenize\n",
    "from gensim.utils import simple_preprocess\n"
   ]
  },
  {
   "cell_type": "code",
   "execution_count": 13,
   "id": "844a5451-4f72-495b-893b-3575b76252aa",
   "metadata": {},
   "outputs": [],
   "source": [
    "story = []\n",
    "for doc in df['text']:\n",
    "    raw_sent = sent_tokenize(doc)\n",
    "    for sent in raw_sent:\n",
    "        story.append(simple_preprocess(sent))\n",
    "        "
   ]
  },
  {
   "cell_type": "code",
   "execution_count": 14,
   "id": "162c371b-3492-41eb-9bcf-0dde0c3819be",
   "metadata": {},
   "outputs": [],
   "source": [
    "model = gensim.models.Word2Vec(window=10,min_count=2)\n"
   ]
  },
  {
   "cell_type": "code",
   "execution_count": 15,
   "id": "1f1c4de4-e8cd-47ac-a0fa-fe73704f1e67",
   "metadata": {},
   "outputs": [],
   "source": [
    "model.build_vocab(story)"
   ]
  },
  {
   "cell_type": "code",
   "execution_count": 16,
   "id": "25b2d4cb-a1ba-489e-aee0-8c13d3d6b961",
   "metadata": {},
   "outputs": [
    {
     "data": {
      "text/plain": [
       "(2891188, 3085470)"
      ]
     },
     "execution_count": 16,
     "metadata": {},
     "output_type": "execute_result"
    }
   ],
   "source": [
    "model.train(story,total_examples=model.corpus_count,epochs=model.epochs)\n"
   ]
  },
  {
   "cell_type": "code",
   "execution_count": 17,
   "id": "1c94b436-759f-4751-87b2-2f3e6cefb51b",
   "metadata": {},
   "outputs": [
    {
     "data": {
      "text/plain": [
       "22939"
      ]
     },
     "execution_count": 17,
     "metadata": {},
     "output_type": "execute_result"
    }
   ],
   "source": [
    "len(model.wv.index_to_key)"
   ]
  },
  {
   "cell_type": "code",
   "execution_count": 18,
   "id": "8637601b-65cd-40d1-8ba0-963aa9c84f5a",
   "metadata": {},
   "outputs": [],
   "source": [
    "import numpy as np\n",
    "def document_vector(doc):\n",
    "    doc= [word for word in doc.split() if word in model.wv.index_to_key]\n",
    "    return np.mean(model.wv[doc],axis=0)\n",
    "    "
   ]
  },
  {
   "cell_type": "code",
   "execution_count": 19,
   "id": "750f2957-b604-4705-bd78-e67e0ab9ff11",
   "metadata": {},
   "outputs": [
    {
     "data": {
      "text/plain": [
       "array([-2.03665644e-01,  3.48784685e-01,  5.52436113e-02, -7.56799728e-02,\n",
       "        6.52807131e-02, -9.65048015e-01,  2.35729124e-02,  1.06392920e+00,\n",
       "       -4.49779809e-01, -1.26992822e-01,  8.09599459e-02, -6.00581765e-01,\n",
       "       -2.72485822e-01,  4.07085031e-01,  1.46970544e-02, -2.25348160e-01,\n",
       "        1.17210105e-01, -4.35769260e-01, -4.07906137e-02, -1.02299500e+00,\n",
       "        2.50707924e-01,  2.26938874e-01,  4.57627147e-01, -2.28128910e-01,\n",
       "       -1.55124128e-01,  9.79633555e-02, -4.02057230e-01, -1.52328223e-01,\n",
       "       -3.53037238e-01,  1.13994598e-01,  5.69276929e-01,  1.81828856e-01,\n",
       "        2.12304622e-01, -5.24001122e-01, -2.52566822e-02,  5.58026493e-01,\n",
       "        6.57830462e-02, -5.61023176e-01, -4.40629780e-01, -7.95544028e-01,\n",
       "        1.65489137e-01, -4.69059050e-01, -2.78588831e-01,  1.09992586e-01,\n",
       "        3.51214796e-01, -2.51355946e-01, -2.66959816e-01, -5.82524401e-04,\n",
       "        1.61384583e-01,  3.70288566e-02,  3.00015032e-01, -1.40752673e-01,\n",
       "       -2.25674227e-01, -5.78352585e-02, -4.49963272e-01,  3.44515920e-01,\n",
       "        2.37658933e-01,  1.22415917e-02, -3.91001254e-01,  1.51269674e-01,\n",
       "        4.44837585e-02,  1.58689350e-01, -6.96068406e-02,  2.07565874e-01,\n",
       "       -4.52051073e-01,  5.60417831e-01,  1.46108419e-01,  2.30403572e-01,\n",
       "       -4.98422235e-01,  4.88895804e-01, -3.76659244e-01,  1.10683799e-01,\n",
       "        5.64299166e-01, -2.33228251e-01,  3.70256990e-01,  2.18881279e-01,\n",
       "        1.70852929e-01, -8.07711780e-02, -3.04374754e-01,  2.57226765e-01,\n",
       "       -4.57773209e-01, -7.98929110e-03, -4.71693456e-01,  5.36185682e-01,\n",
       "       -6.59676492e-02, -5.30167520e-02,  2.07954049e-01,  3.51586908e-01,\n",
       "        5.95798373e-01,  8.74189213e-02,  5.52519500e-01,  1.49266601e-01,\n",
       "        4.03328007e-03,  7.86337256e-03,  6.75094306e-01,  4.17037785e-01,\n",
       "        3.37853611e-01, -4.23381954e-01,  2.07606524e-01, -1.31169215e-01],\n",
       "      dtype=float32)"
      ]
     },
     "execution_count": 19,
     "metadata": {},
     "output_type": "execute_result"
    }
   ],
   "source": [
    "\n",
    "document_vector(df['text'].values[0])\n"
   ]
  },
  {
   "cell_type": "code",
   "execution_count": 20,
   "id": "62a7041c-4a9c-46f9-8870-9114895ab805",
   "metadata": {},
   "outputs": [],
   "source": [
    "from tqdm import tqdm"
   ]
  },
  {
   "cell_type": "code",
   "execution_count": 21,
   "id": "54bd52f8-6839-4cbf-b722-f57c304003f9",
   "metadata": {},
   "outputs": [
    {
     "name": "stderr",
     "output_type": "stream",
     "text": [
      "100%|██████████████████████████████████████████████████████████████████████████████| 4997/4997 [02:00<00:00, 41.30it/s]\n"
     ]
    }
   ],
   "source": [
    "X = []\n",
    "for doc in tqdm(df['text'].values):\n",
    "    X.append(document_vector(doc))\n"
   ]
  },
  {
   "cell_type": "code",
   "execution_count": 24,
   "id": "e62771d4-9ce7-487b-9c55-16118f874d7b",
   "metadata": {},
   "outputs": [],
   "source": [
    "from sklearn.preprocessing import LabelEncoder\n",
    "encoder = LabelEncoder()\n",
    "y = encoder.fit_transform(df['sentiment'])\n"
   ]
  },
  {
   "cell_type": "code",
   "execution_count": 25,
   "id": "6420e354-7c57-4a60-a871-69814babc656",
   "metadata": {},
   "outputs": [
    {
     "data": {
      "text/plain": [
       "array([0, 0, 0, ..., 0, 0, 1])"
      ]
     },
     "execution_count": 25,
     "metadata": {},
     "output_type": "execute_result"
    }
   ],
   "source": [
    "y"
   ]
  },
  {
   "cell_type": "code",
   "execution_count": 26,
   "id": "579e1492-627b-42ef-bfa8-bc2ca9f47f80",
   "metadata": {},
   "outputs": [],
   "source": [
    "from sklearn.model_selection import train_test_split\n",
    "X_train,X_test,y_train,y_test = train_test_split(X,y,test_size=0.2,random_state=1)\n"
   ]
  },
  {
   "cell_type": "code",
   "execution_count": 29,
   "id": "6c54f212-cb1b-4239-8ed9-21d5f4b9a4dd",
   "metadata": {},
   "outputs": [],
   "source": [
    "from sklearn.ensemble import RandomForestClassifier\n",
    "from sklearn.metrics import accuracy_score"
   ]
  },
  {
   "cell_type": "code",
   "execution_count": 31,
   "id": "38f9f933-188d-4a36-94da-62373e7a5612",
   "metadata": {},
   "outputs": [
    {
     "data": {
      "text/plain": [
       "0.719"
      ]
     },
     "execution_count": 31,
     "metadata": {},
     "output_type": "execute_result"
    }
   ],
   "source": [
    "\n",
    "rf = RandomForestClassifier()\n",
    "rf.fit(X_train,y_train)\n",
    "y_pred = rf.predict(X_test)\n",
    "accuracy_score(y_test,y_pred)\n"
   ]
  },
  {
   "cell_type": "code",
   "execution_count": null,
   "id": "03d3aa2d-47d0-44ae-b25c-72becd8733fb",
   "metadata": {},
   "outputs": [],
   "source": []
  },
  {
   "cell_type": "code",
   "execution_count": null,
   "id": "d38ef246-f457-4693-8ad9-5ba827dc0d73",
   "metadata": {},
   "outputs": [],
   "source": []
  }
 ],
 "metadata": {
  "kernelspec": {
   "display_name": "Python 3 (ipykernel)",
   "language": "python",
   "name": "python3"
  },
  "language_info": {
   "codemirror_mode": {
    "name": "ipython",
    "version": 3
   },
   "file_extension": ".py",
   "mimetype": "text/x-python",
   "name": "python",
   "nbconvert_exporter": "python",
   "pygments_lexer": "ipython3",
   "version": "3.11.7"
  }
 },
 "nbformat": 4,
 "nbformat_minor": 5
}
