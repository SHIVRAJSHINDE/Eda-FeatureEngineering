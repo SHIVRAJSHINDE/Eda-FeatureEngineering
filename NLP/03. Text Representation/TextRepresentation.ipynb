{
 "cells": [
  {
   "cell_type": "code",
   "execution_count": 33,
   "id": "c64c1c92-e598-4a01-b03f-46987897ee40",
   "metadata": {},
   "outputs": [],
   "source": [
    "import pandas as pd\n",
    "\n",
    "file_path = r\"D:\\MLProjects\\ZDatasets\\NLP\\TextRepresentation\\TexRepre.xlsx\"\n",
    "df = pd.read_excel(file_path)\n"
   ]
  },
  {
   "cell_type": "markdown",
   "id": "365bc5ac-cf49-49d1-a7e4-94810a911565",
   "metadata": {},
   "source": [
    "# BOW"
   ]
  },
  {
   "cell_type": "code",
   "execution_count": 34,
   "id": "d2d2e60a-3be8-40ed-94ab-0db8d7fad1f3",
   "metadata": {},
   "outputs": [
    {
     "name": "stdout",
     "output_type": "stream",
     "text": [
      "{'people': 1, 'watch': 2, 'youtuber': 4, 'write': 3, 'comment': 0}\n",
      "   comment  people  watch  write  youtuber\n",
      "0        0       1      1      0         1\n",
      "1        0       0      1      0         2\n",
      "2        1       1      0      1         0\n",
      "3        1       0      0      1         1\n"
     ]
    }
   ],
   "source": [
    "from sklearn.feature_extraction.text import CountVectorizer\n",
    "cv = CountVectorizer()\n",
    "X = cv.fit_transform(df['Comments'])\n",
    "print(cv.vocabulary_)\n",
    "X_df = pd.DataFrame(X.toarray(), columns=cv.get_feature_names_out())\n",
    "print(X_df.head())\n"
   ]
  },
  {
   "cell_type": "markdown",
   "id": "7c947262-f083-4769-b216-9e275066544e",
   "metadata": {},
   "source": [
    "# nGrams"
   ]
  },
  {
   "cell_type": "code",
   "execution_count": null,
   "id": "38de0a37-f2f1-4a08-a2b5-f918a9f6960d",
   "metadata": {},
   "outputs": [],
   "source": []
  },
  {
   "cell_type": "code",
   "execution_count": 35,
   "id": "330fbe1b-8635-4305-90eb-689180f0d7b5",
   "metadata": {},
   "outputs": [
    {
     "name": "stdout",
     "output_type": "stream",
     "text": [
      "{'people': 1, 'watch': 2, 'youtuber': 4, 'write': 3, 'comment': 0}\n",
      "          0  1  2  3\n",
      "comment   0  0  1  1\n",
      "people    1  0  1  0\n",
      "watch     1  1  0  0\n",
      "write     0  0  1  1\n",
      "youtuber  1  2  0  1\n"
     ]
    }
   ],
   "source": [
    "# Unigrams\n",
    "from sklearn.feature_extraction.text import CountVectorizer\n",
    "cv = CountVectorizer(ngram_range=(1,1))\n",
    "X = cv.fit_transform(df['Comments'])\n",
    "print(cv.vocabulary_)\n",
    "X_df = pd.DataFrame(X.toarray(), columns=cv.get_feature_names_out())\n",
    "print(X_df.head().T)\n"
   ]
  },
  {
   "cell_type": "code",
   "execution_count": 36,
   "id": "c4665625-1c43-4897-aff1-70ef462f12a5",
   "metadata": {},
   "outputs": [
    {
     "name": "stdout",
     "output_type": "stream",
     "text": [
      "{'people watch': 0, 'watch youtuber': 2, 'youtuber watch': 4, 'people write': 1, 'write comment': 3, 'youtuber write': 5}\n",
      "                0  1  2  3\n",
      "people watch    1  0  0  0\n",
      "people write    0  0  1  0\n",
      "watch youtuber  1  1  0  0\n",
      "write comment   0  0  1  1\n",
      "youtuber watch  0  1  0  0\n",
      "youtuber write  0  0  0  1\n"
     ]
    }
   ],
   "source": [
    "# bigrams\n",
    "from sklearn.feature_extraction.text import CountVectorizer\n",
    "cv = CountVectorizer(ngram_range=(2,2))\n",
    "X = cv.fit_transform(df['Comments'])\n",
    "print(cv.vocabulary_)\n",
    "X_df = pd.DataFrame(X.toarray(), columns=cv.get_feature_names_out())\n",
    "print(X_df.head().T)\n"
   ]
  },
  {
   "cell_type": "code",
   "execution_count": 37,
   "id": "b4eb8f15-e59c-42fe-9793-f8ee6e2935e3",
   "metadata": {},
   "outputs": [
    {
     "name": "stdout",
     "output_type": "stream",
     "text": [
      "{'people watch youtuber': 0, 'youtuber watch youtuber': 2, 'people write comment': 1, 'youtuber write comment': 3}\n",
      "                         0  1  2  3\n",
      "people watch youtuber    1  0  0  0\n",
      "people write comment     0  0  1  0\n",
      "youtuber watch youtuber  0  1  0  0\n",
      "youtuber write comment   0  0  0  1\n"
     ]
    }
   ],
   "source": [
    "# Trigrams\n",
    "from sklearn.feature_extraction.text import CountVectorizer\n",
    "cv = CountVectorizer(ngram_range=(3,3))\n",
    "X = cv.fit_transform(df['Comments'])\n",
    "print(cv.vocabulary_)\n",
    "\n",
    "X_df = pd.DataFrame(X.toarray(), columns=cv.get_feature_names_out())\n",
    "print(X_df.head().T)\n"
   ]
  },
  {
   "cell_type": "markdown",
   "id": "b006cb2f-802f-4917-a1e0-b9a5b2e486f3",
   "metadata": {},
   "source": [
    "# TF-IDF "
   ]
  },
  {
   "cell_type": "code",
   "execution_count": 38,
   "id": "86b673dc-f795-4368-9b55-c69b341d2502",
   "metadata": {},
   "outputs": [
    {
     "name": "stdout",
     "output_type": "stream",
     "text": [
      "    comment    people     watch     write  youtuber\n",
      "0  0.000000  0.613667  0.613667  0.000000  0.496816\n",
      "1  0.000000  0.000000  0.525464  0.000000  0.850816\n",
      "2  0.577350  0.577350  0.000000  0.577350  0.000000\n",
      "3  0.613667  0.000000  0.000000  0.613667  0.496816\n"
     ]
    }
   ],
   "source": [
    "from sklearn.feature_extraction.text import TfidfVectorizer\n",
    "tfIdf = TfidfVectorizer()\n",
    "X = tfIdf.fit_transform(df['Comments'])\n",
    "X_df = pd.DataFrame(X.toarray(), columns=tfIdf.get_feature_names_out())\n",
    "print(X_df.head())\n"
   ]
  },
  {
   "cell_type": "code",
   "execution_count": 39,
   "id": "cf3db434-3fa8-4671-8ed5-909692d2216c",
   "metadata": {},
   "outputs": [
    {
     "name": "stdout",
     "output_type": "stream",
     "text": [
      "[1.51082562 1.51082562 1.51082562 1.51082562 1.22314355]\n",
      "['comment' 'people' 'watch' 'write' 'youtuber']\n"
     ]
    }
   ],
   "source": [
    "print(tfIdf.idf_)\n",
    "print(tfIdf.get_feature_names_out())"
   ]
  },
  {
   "cell_type": "code",
   "execution_count": null,
   "id": "26a51dfb-2e69-42b0-8400-c2deb1ccdced",
   "metadata": {},
   "outputs": [],
   "source": []
  },
  {
   "cell_type": "code",
   "execution_count": null,
   "id": "42a8b395-2cbc-4e0e-ba36-3982fb687d41",
   "metadata": {},
   "outputs": [],
   "source": []
  },
  {
   "cell_type": "code",
   "execution_count": null,
   "id": "cff294a1-5479-4943-bf2b-31fa1899091a",
   "metadata": {},
   "outputs": [],
   "source": []
  },
  {
   "cell_type": "code",
   "execution_count": null,
   "id": "6f512037-09b9-4fc8-b4cf-1da36c5df151",
   "metadata": {},
   "outputs": [],
   "source": []
  },
  {
   "cell_type": "code",
   "execution_count": null,
   "id": "4961069b-c6d4-4418-9233-0ea0f0462e0c",
   "metadata": {},
   "outputs": [],
   "source": []
  },
  {
   "cell_type": "code",
   "execution_count": null,
   "id": "858e7bed-3fc5-491a-bc99-c18a163378b0",
   "metadata": {},
   "outputs": [],
   "source": []
  },
  {
   "cell_type": "code",
   "execution_count": null,
   "id": "42087b3a-85f1-46dd-8263-5ffe1e0f469e",
   "metadata": {},
   "outputs": [],
   "source": []
  }
 ],
 "metadata": {
  "kernelspec": {
   "display_name": "Python 3 (ipykernel)",
   "language": "python",
   "name": "python3"
  },
  "language_info": {
   "codemirror_mode": {
    "name": "ipython",
    "version": 3
   },
   "file_extension": ".py",
   "mimetype": "text/x-python",
   "name": "python",
   "nbconvert_exporter": "python",
   "pygments_lexer": "ipython3",
   "version": "3.11.7"
  }
 },
 "nbformat": 4,
 "nbformat_minor": 5
}
