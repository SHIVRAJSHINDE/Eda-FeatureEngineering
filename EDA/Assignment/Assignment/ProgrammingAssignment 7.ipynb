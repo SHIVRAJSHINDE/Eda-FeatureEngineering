{
 "cells": [
  {
   "cell_type": "code",
   "execution_count": 26,
   "metadata": {},
   "outputs": [
    {
     "name": "stdout",
     "output_type": "stream",
     "text": [
      "34\n"
     ]
    }
   ],
   "source": [
    "#1.\tWrite a Python Program to find sum of array?\n",
    "'''Option 01'''\n",
    "arr = [12, 3, 4, 15]\n",
    "\n",
    "sum = 0\n",
    "\n",
    "for i in arr:\n",
    "    sum = i + sum\n",
    "print(sum)"
   ]
  },
  {
   "cell_type": "code",
   "execution_count": 27,
   "metadata": {},
   "outputs": [
    {
     "name": "stdout",
     "output_type": "stream",
     "text": [
      "34\n"
     ]
    }
   ],
   "source": [
    "'''Option 01'''\n",
    "\n",
    "from functools import reduce\n",
    "# Python 3 code to find sum\n",
    "# of elements in given array\n",
    " \n",
    " \n",
    "def Asum(a,b):\n",
    "    return a+b\n",
    "\n",
    "\n",
    "w1 = [12, 3, 4, 15]\n",
    "\n",
    "\n",
    "print(reduce(Asum,w1))\n"
   ]
  },
  {
   "cell_type": "code",
   "execution_count": 28,
   "metadata": {},
   "outputs": [
    {
     "name": "stdout",
     "output_type": "stream",
     "text": [
      "20\n"
     ]
    }
   ],
   "source": [
    "# 2.\tWrite a Python Program to find largest element in an array?\n",
    "arr = [20, 3, 4, 30]\n",
    "ele = arr[0]\n",
    "largestEle = arr[0] \n",
    "\n",
    "for i in arr:\n",
    "    if ele > largestEle:\n",
    "        largestEle == ele\n",
    "\n",
    "if ele > largestEle:\n",
    "    largestEle == ele\n",
    "\n",
    "print(largestEle)\n"
   ]
  },
  {
   "cell_type": "code",
   "execution_count": 29,
   "metadata": {},
   "outputs": [
    {
     "name": "stdout",
     "output_type": "stream",
     "text": [
      "30\n"
     ]
    }
   ],
   "source": [
    "# 2.\tWrite a Python Program to find largest element in an array?\n",
    "arr = [20, 3, 4, 30]\n",
    "ele = arr[0]\n",
    "largestEle = arr[0]\n",
    "\n",
    "for i in arr:\n",
    "    if i > largestEle:\n",
    "        largestEle = i\n",
    "\n",
    "if i > largestEle:\n",
    "    largestEle = i\n",
    "\n",
    "print(largestEle)\n"
   ]
  },
  {
   "cell_type": "code",
   "execution_count": 30,
   "metadata": {},
   "outputs": [
    {
     "name": "stdout",
     "output_type": "stream",
     "text": [
      "Original Array: [1, 2, 3, 4, 5]\n",
      "Rotated Array: [4, 5, 1, 2, 3]\n"
     ]
    }
   ],
   "source": [
    "#3.Write a Python Program for array rotation?\n",
    "\n",
    "def rotate_array_right(arr, num_positions):\n",
    "    if not arr:\n",
    "        return arr\n",
    "    \n",
    "    num_positions = num_positions % len(arr)\n",
    "    return arr[-num_positions:] + arr[:-num_positions]\n",
    "\n",
    "# Input array\n",
    "input_array = [1, 2, 3, 4, 5]\n",
    "\n",
    "# Number of positions to rotate\n",
    "positions_to_rotate = 2\n",
    "\n",
    "# Rotate the array to the right\n",
    "rotated_array = rotate_array_right(input_array, positions_to_rotate)\n",
    "\n",
    "print(\"Original Array:\", input_array)\n",
    "print(\"Rotated Array:\", rotated_array)\n",
    "\n"
   ]
  },
  {
   "cell_type": "code",
   "execution_count": 31,
   "metadata": {},
   "outputs": [
    {
     "name": "stdout",
     "output_type": "stream",
     "text": [
      "Original Array: [1, 2, 3, 4, 5]\n",
      "Resulting Array: [3, 4, 5, 1, 2]\n"
     ]
    }
   ],
   "source": [
    "# 4.Write a Python Program to Split the array and add the first part to the end?\n",
    "\n",
    "def split_and_add_to_end(arr, split_index):\n",
    "    if not arr or split_index <= 0 or split_index >= len(arr):\n",
    "        return arr\n",
    "    \n",
    "    first_part = arr[:split_index]\n",
    "    second_part = arr[split_index:]\n",
    "    \n",
    "    return second_part + first_part\n",
    "\n",
    "# Input array\n",
    "input_array = [1, 2, 3, 4, 5]\n",
    "\n",
    "# Index to split the array\n",
    "split_index = 2\n",
    "\n",
    "# Split and add the first part to the end\n",
    "result_array = split_and_add_to_end(input_array, split_index)\n",
    "\n",
    "print(\"Original Array:\", input_array)\n",
    "print(\"Resulting Array:\", result_array)\n"
   ]
  },
  {
   "cell_type": "code",
   "execution_count": 32,
   "metadata": {},
   "outputs": [
    {
     "name": "stdout",
     "output_type": "stream",
     "text": [
      "The given array is monotonic.\n"
     ]
    }
   ],
   "source": [
    "# 5.\tWrite a Python Program to check if given array is Monotonic?\n",
    "\n",
    "def is_monotonic(arr):\n",
    "    increasing = decreasing = True\n",
    "\n",
    "    for i in range(1, len(arr)):\n",
    "        if arr[i] > arr[i - 1]:\n",
    "            decreasing = False\n",
    "        elif arr[i] < arr[i - 1]:\n",
    "            increasing = False\n",
    "\n",
    "    return increasing or decreasing\n",
    "\n",
    "# Input array\n",
    "input_array = [1, 2, 3, 4, 4, 5]\n",
    "\n",
    "# Check if the array is monotonic\n",
    "result = is_monotonic(input_array)\n",
    "\n",
    "if result:\n",
    "    print(\"The given array is monotonic.\")\n",
    "else:\n",
    "    print(\"The given array is not monotonic.\")\n"
   ]
  },
  {
   "cell_type": "code",
   "execution_count": null,
   "metadata": {},
   "outputs": [],
   "source": []
  },
  {
   "cell_type": "code",
   "execution_count": null,
   "metadata": {},
   "outputs": [],
   "source": []
  },
  {
   "cell_type": "code",
   "execution_count": null,
   "metadata": {},
   "outputs": [],
   "source": []
  },
  {
   "cell_type": "code",
   "execution_count": null,
   "metadata": {},
   "outputs": [],
   "source": []
  },
  {
   "cell_type": "code",
   "execution_count": null,
   "metadata": {},
   "outputs": [],
   "source": []
  }
 ],
 "metadata": {
  "kernelspec": {
   "display_name": "Python 3",
   "language": "python",
   "name": "python3"
  },
  "language_info": {
   "codemirror_mode": {
    "name": "ipython",
    "version": 3
   },
   "file_extension": ".py",
   "mimetype": "text/x-python",
   "name": "python",
   "nbconvert_exporter": "python",
   "pygments_lexer": "ipython3",
   "version": "3.8.5"
  }
 },
 "nbformat": 4,
 "nbformat_minor": 4
}
