{
 "cells": [
  {
   "cell_type": "code",
   "execution_count": 12,
   "metadata": {},
   "outputs": [
    {
     "name": "stdout",
     "output_type": "stream",
     "text": [
      "{1, 2, 3, 4, 6, 'value'}\n"
     ]
    }
   ],
   "source": [
    "#1.\tWrite a Python program to Extract Unique values dictionary values?\n",
    "\n",
    "sample_dict = {\n",
    "    'key1': [1, 2, 3],\n",
    "    'key2': [2, 3, 4],\n",
    "    'key3': (3,4,6),\n",
    "    'key4': 'value',\n",
    "}\n",
    "\n",
    "list1 = list()\n",
    "set1 = set()\n",
    "\n",
    "\n",
    "for i in sample_dict.values():\n",
    "    if isinstance(i,(list,tuple)):\n",
    "        set1.update(i)\n",
    "    else:\n",
    "        set1.add(i)\n",
    "\n",
    "print(set1)"
   ]
  },
  {
   "cell_type": "code",
   "execution_count": 36,
   "metadata": {},
   "outputs": [
    {
     "name": "stdout",
     "output_type": "stream",
     "text": [
      "11\n"
     ]
    }
   ],
   "source": [
    "# 2.Write a Python program to find the sum of all items in a dictionary?\n",
    "\n",
    "sample_dict = {\n",
    "    'key1': 1,\n",
    "    'key2': 10,\n",
    "    'key3': \"a\",\n",
    "\n",
    " }\n",
    "\n",
    "sum1 = 0\n",
    "for i in sample_dict.values():\n",
    "    if str(i).isnumeric():\n",
    "        sum1 = int(i)+sum1\n",
    "print(sum1)"
   ]
  },
  {
   "cell_type": "code",
   "execution_count": 42,
   "metadata": {},
   "outputs": [
    {
     "name": "stdout",
     "output_type": "stream",
     "text": [
      "{'d': 6, 'c': 4, 'a': 10, 'b': 8}\n"
     ]
    }
   ],
   "source": [
    "# 3.Write a Python program to Merging two Dictionaries?\n",
    "# Python code to merge dict using update() method\n",
    "\n",
    "dict1 = {'a': 10, 'b': 8}\n",
    "dict2 = {'d': 6, 'c': 4}\n",
    "\n",
    "dict2.update(dict1)\n",
    "print(dict2)\n"
   ]
  },
  {
   "cell_type": "code",
   "execution_count": 57,
   "metadata": {},
   "outputs": [
    {
     "data": {
      "text/plain": [
       "{1: 'Jan', 2: 'Feb', 3: 'March'}"
      ]
     },
     "execution_count": 57,
     "metadata": {},
     "output_type": "execute_result"
    }
   ],
   "source": [
    "# 4.Write a Python program to convert key-values list to flat dictionary?\n",
    "\n",
    "from itertools import product\n",
    "\n",
    "test_dict = {'month' : [1, 2, 3],\n",
    "             'name' : ['Jan', 'Feb', 'March']}\n",
    "\n",
    "\n",
    "dict(zip(test_dict['month'],test_dict['name']))\n"
   ]
  },
  {
   "cell_type": "code",
   "execution_count": 59,
   "metadata": {},
   "outputs": [
    {
     "name": "stdout",
     "output_type": "stream",
     "text": [
      "OrderedDict([('manjeet', '3'), ('akshat', '1'), ('nikhil', '2')])\n"
     ]
    }
   ],
   "source": [
    "#5.\tWrite a Python program to insertion at the beginning in OrderedDict?\n",
    "\n",
    "from collections import OrderedDict\n",
    "\n",
    "iniordered_dict = OrderedDict([('akshat', '1'), ('nikhil', '2')])\n",
    "\n",
    "iniordered_dict.update({'manjeet': '3'})\n",
    "iniordered_dict.move_to_end('manjeet', last=False)\n",
    "\n",
    "# Printing result\n",
    "print(str(iniordered_dict))\n"
   ]
  },
  {
   "cell_type": "code",
   "execution_count": 60,
   "metadata": {},
   "outputs": [
    {
     "name": "stdout",
     "output_type": "stream",
     "text": [
      "true\n"
     ]
    }
   ],
   "source": [
    "# 6.Write a Python program to check order of character in string using OrderedDict()?\n",
    "\n",
    "# Function to check if string follows order of\n",
    "# characters defined by a pattern\n",
    "from collections import OrderedDict\n",
    "\n",
    "def checkOrder(input, pattern):\n",
    "\t\n",
    "\t# create empty OrderedDict\n",
    "\t# output will be like {'a': None,'b': None, 'c': None}\n",
    "\tdict = OrderedDict.fromkeys(input)\n",
    "\n",
    "\t# traverse generated OrderedDict parallel with\n",
    "\t# pattern string to check if order of characters\n",
    "\t# are same or not\n",
    "\tptrlen = 0\n",
    "\tfor key,value in dict.items():\n",
    "\t\tif (key == pattern[ptrlen]):\n",
    "\t\t\tptrlen = ptrlen + 1\n",
    "\t\t\n",
    "\t\t# check if we have traverse complete\n",
    "\t\t# pattern string\n",
    "\t\tif (ptrlen == (len(pattern))):\n",
    "\t\t\treturn 'true'\n",
    "\n",
    "\t# if we come out from for loop that means\n",
    "\t# order was mismatched\n",
    "\treturn 'false'\n",
    "\n",
    "# Driver program\n",
    "if __name__ == \"__main__\":\n",
    "\tinput = 'engineers rock'\n",
    "\tpattern = 'er'\n",
    "\tprint (checkOrder(input,pattern))\n"
   ]
  },
  {
   "cell_type": "code",
   "execution_count": 80,
   "metadata": {},
   "outputs": [
    {
     "name": "stdout",
     "output_type": "stream",
     "text": [
      "{'rajnish': 9, 'ravi': 10, 'sanjeev': 15, 'suraj': 32, 'yash': 2}\n"
     ]
    }
   ],
   "source": [
    "# 7.\tWrite a Python program to sort Python Dictionaries by Key or Value?\n",
    "\n",
    "myDict = {'ravi': 10, 'rajnish': 9, 'sanjeev': 15, 'yash': 2, 'suraj': 32}\n",
    "\n",
    "myKeys = list(myDict.keys())\n",
    "myKeys.sort()\n",
    "\n",
    "newDict = dict()\n",
    "\n",
    "for i in myKeys:\n",
    "    newDict.update({i: myDict[i]})\n",
    "\n",
    "print(newDict)"
   ]
  },
  {
   "cell_type": "code",
   "execution_count": 81,
   "metadata": {},
   "outputs": [
    {
     "name": "stdout",
     "output_type": "stream",
     "text": [
      "{'rajnish': 9, 'ravi': 10, 'sanjeev': 15, 'suraj': 32, 'yash': 2}\n"
     ]
    }
   ],
   "source": [
    "# 7.\tWrite a Python program to sort Python Dictionaries by Key or Value?\n",
    "\n",
    "myDict = {'ravi': 10, 'rajnish': 9, 'sanjeev': 15, 'yash': 2, 'suraj': 32}\n",
    "\n",
    "myKeys = list(myDict.keys())\n",
    "myKeys.sort()\n",
    "\n",
    "newDict = dict()\n",
    "\n",
    "for i in myKeys:\n",
    "    newDict[i]=myDict[i]\n",
    "\n",
    "print(newDict)"
   ]
  },
  {
   "cell_type": "code",
   "execution_count": null,
   "metadata": {},
   "outputs": [],
   "source": []
  },
  {
   "cell_type": "code",
   "execution_count": null,
   "metadata": {},
   "outputs": [],
   "source": []
  },
  {
   "cell_type": "code",
   "execution_count": null,
   "metadata": {},
   "outputs": [],
   "source": []
  },
  {
   "cell_type": "code",
   "execution_count": null,
   "metadata": {},
   "outputs": [],
   "source": []
  },
  {
   "cell_type": "code",
   "execution_count": null,
   "metadata": {},
   "outputs": [],
   "source": []
  },
  {
   "cell_type": "code",
   "execution_count": null,
   "metadata": {},
   "outputs": [],
   "source": []
  },
  {
   "cell_type": "code",
   "execution_count": null,
   "metadata": {},
   "outputs": [],
   "source": []
  }
 ],
 "metadata": {
  "kernelspec": {
   "display_name": "Python 3",
   "language": "python",
   "name": "python3"
  },
  "language_info": {
   "codemirror_mode": {
    "name": "ipython",
    "version": 3
   },
   "file_extension": ".py",
   "mimetype": "text/x-python",
   "name": "python",
   "nbconvert_exporter": "python",
   "pygments_lexer": "ipython3",
   "version": "3.8.5"
  }
 },
 "nbformat": 4,
 "nbformat_minor": 4
}
