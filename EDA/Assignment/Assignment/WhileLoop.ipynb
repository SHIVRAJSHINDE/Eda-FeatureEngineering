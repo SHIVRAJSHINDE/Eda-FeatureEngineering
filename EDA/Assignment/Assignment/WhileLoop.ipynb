{
 "cells": [
  {
   "cell_type": "code",
   "execution_count": 5,
   "metadata": {},
   "outputs": [
    {
     "name": "stdout",
     "output_type": "stream",
     "text": [
      "1\n",
      "2\n",
      "3\n",
      "4\n",
      "5\n",
      "6\n",
      "7\n",
      "8\n",
      "9\n",
      "10\n"
     ]
    }
   ],
   "source": [
    "a=1\n",
    "b=10\n",
    "while a<=10:\n",
    "    print(a)\n",
    "    a=a+1"
   ]
  },
  {
   "cell_type": "code",
   "execution_count": 6,
   "metadata": {},
   "outputs": [
    {
     "name": "stdout",
     "output_type": "stream",
     "text": [
      "1\n",
      "3\n",
      "5\n",
      "7\n",
      "9\n",
      "print\n"
     ]
    }
   ],
   "source": [
    "a=1\n",
    "b=10\n",
    "while a<=10:\n",
    "    print(a)\n",
    "    a=a+2\n",
    "else:\n",
    "    print(\"print\")"
   ]
  },
  {
   "cell_type": "code",
   "execution_count": 7,
   "metadata": {},
   "outputs": [
    {
     "name": "stdout",
     "output_type": "stream",
     "text": [
      "1\n",
      "2\n",
      "3\n",
      "4\n",
      "5\n"
     ]
    }
   ],
   "source": [
    "a=1\n",
    "b=10\n",
    "while a<=10:\n",
    "    print(a)\n",
    "    if a==5:\n",
    "        break\n",
    "    a=a+1\n",
    "else:\n",
    "    print(\"yes printed\")\n",
    "    "
   ]
  },
  {
   "cell_type": "code",
   "execution_count": 8,
   "metadata": {},
   "outputs": [
    {
     "ename": "IndentationError",
     "evalue": "unexpected indent (<ipython-input-8-a8ebc3d16b89>, line 4)",
     "output_type": "error",
     "traceback": [
      "\u001b[1;36m  File \u001b[1;32m\"<ipython-input-8-a8ebc3d16b89>\"\u001b[1;36m, line \u001b[1;32m4\u001b[0m\n\u001b[1;33m    print(a)\u001b[0m\n\u001b[1;37m    ^\u001b[0m\n\u001b[1;31mIndentationError\u001b[0m\u001b[1;31m:\u001b[0m unexpected indent\n"
     ]
    }
   ],
   "source": [
    "a=1\n",
    "b=10\n",
    "#while a<=10:\n",
    "    print(a)\n",
    "    if a==5:\n",
    "        continue\n",
    "    a=a+1\n",
    "else:\n",
    "    print(\"yes printed\")\n",
    "    "
   ]
  },
  {
   "cell_type": "code",
   "execution_count": 1,
   "metadata": {},
   "outputs": [
    {
     "name": "stdout",
     "output_type": "stream",
     "text": [
      "2\n",
      "3\n",
      "4\n",
      "6\n",
      "7\n",
      "8\n",
      "9\n",
      "10\n",
      "11\n"
     ]
    }
   ],
   "source": [
    "a=1\n",
    "b=10\n",
    "while a<=10:\n",
    "    a=a+1\n",
    "    if a==5:\n",
    "        continue\n",
    "    print(a)\n",
    "\n"
   ]
  },
  {
   "cell_type": "code",
   "execution_count": 2,
   "metadata": {},
   "outputs": [
    {
     "name": "stdout",
     "output_type": "stream",
     "text": [
      "2\n",
      "3\n",
      "4\n",
      "5\n",
      "6\n",
      "7\n",
      "8\n",
      "9\n",
      "10\n",
      "11\n"
     ]
    }
   ],
   "source": [
    "a=1\n",
    "b=10\n",
    "while a<=10:\n",
    "    a=a+1\n",
    "    if a==5:\n",
    "        pass\n",
    "    print(a)\n",
    "\n"
   ]
  },
  {
   "cell_type": "code",
   "execution_count": 6,
   "metadata": {},
   "outputs": [
    {
     "name": "stdout",
     "output_type": "stream",
     "text": [
      "1\n",
      "2\n",
      "3\n",
      "4\n",
      "5\n",
      "6\n",
      "7\n",
      "8\n",
      "9\n",
      "10\n"
     ]
    }
   ],
   "source": [
    "a=1\n",
    "b=10\n",
    "while a<=10:\n",
    "    if a==5:\n",
    "        pass\n",
    "    print(a)\n",
    "    a=a+1\n",
    "\n"
   ]
  },
  {
   "cell_type": "code",
   "execution_count": 11,
   "metadata": {},
   "outputs": [
    {
     "name": "stdout",
     "output_type": "stream",
     "text": [
      "1\n",
      "2\n",
      "3\n",
      "4\n",
      "5\n",
      "6\n",
      "7\n",
      "8\n",
      "9\n",
      "10\n"
     ]
    }
   ],
   "source": [
    "a=1\n",
    "b=10\n",
    "while a<=10:\n",
    "    if a==5:\n",
    "        pass\n",
    "    print(a)\n",
    "    a=a+1\n",
    "\n"
   ]
  },
  {
   "cell_type": "code",
   "execution_count": 2,
   "metadata": {},
   "outputs": [
    {
     "name": "stdout",
     "output_type": "stream",
     "text": [
      "1\n",
      "2\n",
      "3\n",
      "45\n",
      "6\n"
     ]
    }
   ],
   "source": [
    "l=[1,2,3,45,6]\n",
    "a=0\n",
    "while a<len(l):\n",
    "    print(l[a])\n",
    "    a=a+1\n",
    "    "
   ]
  },
  {
   "cell_type": "code",
   "execution_count": 2,
   "metadata": {},
   "outputs": [
    {
     "name": "stdout",
     "output_type": "stream",
     "text": [
      "3\n",
      "4\n"
     ]
    }
   ],
   "source": [
    "t=(3,4,5,6,7,8,9)\n",
    "a=0\n",
    "while a<len(t):\n",
    "    if t[a] == 6 or t[a] == 7:\n",
    "        print(a)\n",
    "    else:\n",
    "        pass\n",
    "    a=a+1\n",
    "    \n"
   ]
  },
  {
   "cell_type": "code",
   "execution_count": 10,
   "metadata": {},
   "outputs": [
    {
     "name": "stdout",
     "output_type": "stream",
     "text": [
      "-3\n",
      "-4\n"
     ]
    }
   ],
   "source": [
    "t=(3,4,5,6,7,8,9)\n",
    "a=-1\n",
    "while a>-len(t):\n",
    "    if t[a]==6 or t[a]==7:\n",
    "        print(a)\n",
    "    else:\n",
    "        pass\n",
    "    a=a-1"
   ]
  },
  {
   "cell_type": "code",
   "execution_count": 12,
   "metadata": {},
   "outputs": [],
   "source": [
    "d = {'k1' :\"sudh\" , \"k2\" :[1,2,3,4] , \"k3\" : (2,3,4,5)}"
   ]
  },
  {
   "cell_type": "code",
   "execution_count": 13,
   "metadata": {},
   "outputs": [
    {
     "data": {
      "text/plain": [
       "dict_values(['sudh', [1, 2, 3, 4], (2, 3, 4, 5)])"
      ]
     },
     "execution_count": 13,
     "metadata": {},
     "output_type": "execute_result"
    }
   ],
   "source": [
    "d.values()"
   ]
  },
  {
   "cell_type": "code",
   "execution_count": 14,
   "metadata": {},
   "outputs": [
    {
     "data": {
      "text/plain": [
       "dict_keys(['k1', 'k2', 'k3'])"
      ]
     },
     "execution_count": 14,
     "metadata": {},
     "output_type": "execute_result"
    }
   ],
   "source": [
    "d.keys()"
   ]
  },
  {
   "cell_type": "code",
   "execution_count": 22,
   "metadata": {},
   "outputs": [
    {
     "name": "stdout",
     "output_type": "stream",
     "text": [
      "sudh\n",
      "[1, 2, 3, 4]\n",
      "(2, 3, 4, 5)\n"
     ]
    }
   ],
   "source": [
    "a=0\n",
    "b=list(d.keys())\n",
    "c=list(d.values())\n",
    "while a<len(d):\n",
    "    print(c[a])\n",
    "    a=a+1"
   ]
  },
  {
   "cell_type": "code",
   "execution_count": 21,
   "metadata": {},
   "outputs": [
    {
     "name": "stdout",
     "output_type": "stream",
     "text": [
      "['k1', 'k2', 'k3']\n",
      "['sudh', [1, 2, 3, 4], (2, 3, 4, 5)]\n"
     ]
    }
   ],
   "source": [
    "print(b)\n",
    "print(c)\n"
   ]
  },
  {
   "cell_type": "code",
   "execution_count": 19,
   "metadata": {},
   "outputs": [
    {
     "name": "stdout",
     "output_type": "stream",
     "text": [
      "*\n",
      "**\n",
      "***\n",
      "****\n",
      "*****\n"
     ]
    }
   ],
   "source": [
    "a=1\n",
    "b=10\n",
    "\n",
    "while a<=5:\n",
    "    j=1\n",
    "    while j<=a:\n",
    "        print(\"*\",end=\"\")\n",
    "        j=j+1\n",
    "    print(\"\")\n",
    "    a=a+1\n",
    "    "
   ]
  },
  {
   "cell_type": "code",
   "execution_count": 1,
   "metadata": {},
   "outputs": [],
   "source": [
    "\n",
    "b=400\n",
    "c=3\n",
    "a=40\n",
    "while a<=b:\n",
    "    if b%c==0:\n",
    "        print(b)\n",
    "    a=a+1"
   ]
  },
  {
   "cell_type": "code",
   "execution_count": 9,
   "metadata": {},
   "outputs": [
    {
     "name": "stdout",
     "output_type": "stream",
     "text": [
      "42\n",
      "45\n",
      "48\n",
      "51\n",
      "54\n",
      "57\n",
      "60\n",
      "63\n",
      "66\n",
      "69\n",
      "72\n",
      "75\n",
      "78\n",
      "81\n",
      "84\n",
      "87\n",
      "90\n",
      "93\n",
      "96\n",
      "99\n",
      "102\n",
      "105\n",
      "108\n",
      "111\n",
      "114\n",
      "117\n",
      "120\n",
      "123\n",
      "126\n",
      "129\n",
      "132\n",
      "135\n",
      "138\n",
      "141\n",
      "144\n",
      "147\n",
      "150\n",
      "153\n",
      "156\n",
      "159\n",
      "162\n",
      "165\n",
      "168\n",
      "171\n",
      "174\n",
      "177\n",
      "180\n",
      "183\n",
      "186\n",
      "189\n",
      "192\n",
      "195\n",
      "198\n",
      "201\n",
      "204\n",
      "207\n",
      "210\n",
      "213\n",
      "216\n",
      "219\n",
      "222\n",
      "225\n",
      "228\n",
      "231\n",
      "234\n",
      "237\n",
      "240\n",
      "243\n",
      "246\n",
      "249\n",
      "252\n",
      "255\n",
      "258\n",
      "261\n",
      "264\n",
      "267\n",
      "270\n",
      "273\n",
      "276\n",
      "279\n",
      "282\n",
      "285\n",
      "288\n",
      "291\n",
      "294\n",
      "297\n",
      "300\n",
      "303\n",
      "306\n",
      "309\n",
      "312\n",
      "315\n",
      "318\n",
      "321\n",
      "324\n",
      "327\n",
      "330\n",
      "333\n",
      "336\n",
      "339\n",
      "342\n",
      "345\n",
      "348\n",
      "351\n",
      "354\n",
      "357\n",
      "360\n",
      "363\n",
      "366\n",
      "369\n",
      "372\n",
      "375\n",
      "378\n",
      "381\n",
      "384\n",
      "387\n",
      "390\n",
      "393\n",
      "396\n",
      "399\n"
     ]
    }
   ],
   "source": [
    "\n",
    "\n",
    "b=400\n",
    "c=3\n",
    "a=40\n",
    "while a<=b:\n",
    "    if a%c==0:\n",
    "        print(a)\n",
    "    a=a+1\n"
   ]
  },
  {
   "cell_type": "code",
   "execution_count": 10,
   "metadata": {},
   "outputs": [
    {
     "ename": "SyntaxError",
     "evalue": "invalid syntax (<ipython-input-10-9ed0343fa1aa>, line 1)",
     "output_type": "error",
     "traceback": [
      "\u001b[1;36m  File \u001b[1;32m\"<ipython-input-10-9ed0343fa1aa>\"\u001b[1;36m, line \u001b[1;32m1\u001b[0m\n\u001b[1;33m    Try to filter out all the vowels form below text by using while loop :\u001b[0m\n\u001b[1;37m        ^\u001b[0m\n\u001b[1;31mSyntaxError\u001b[0m\u001b[1;31m:\u001b[0m invalid syntax\n"
     ]
    }
   ],
   "source": [
    "Try to filter out all the vowels form below text by using while loop : \n",
    " \"\"\"Python is a high-level, interpreted, general-purpose programming language. Its design philosophy emphasizes code readability with the use of significant indentation.[32]\n",
    "\n",
    "Python is dynamically-typed and garbage-collected. It supports multiple programming paradigms, including structured (particularly procedural), object-oriented and functional programming. It is often described as a \"batteries included\" language due to its comprehensive standard library.[33][34]\n",
    "\n",
    "Guido van Rossum began working on Python in the late 1980s as a successor to the ABC programming language and first released it in 1991 as Python 0.9.0.[35] Python 2.0 was released in 2000 and introduced new features such as list comprehensions, cycle-detecting garbage collection, reference counting, and Unicode support. Python 3.0, released in 2008, was a major revision that is not completely backward-compatible with earlier versions. Python 2 was discontinued with version 2.7.18 in 2020.[36]\n",
    "\n",
    "Python consistently ranks as one of the most popular programming languagesc\"\"\" "
   ]
  },
  {
   "cell_type": "code",
   "execution_count": null,
   "metadata": {},
   "outputs": [],
   "source": []
  },
  {
   "cell_type": "code",
   "execution_count": 8,
   "metadata": {},
   "outputs": [
    {
     "name": "stdout",
     "output_type": "stream",
     "text": [
      "Pythn s  hgh-lvl, ntrprtd, gnrl-prps\n"
     ]
    }
   ],
   "source": [
    "\n",
    "newstr=\"Python is a high-level, interpreted, general-purpose\"\n",
    "    \n",
    "vowels = ('a', 'e', 'i', 'o', 'u')\n",
    "\n",
    "for x in newstr.lower():\n",
    "    if x in vowels:\n",
    "        newstr = newstr.replace(x,\"\")\n",
    "\n",
    "print(newstr)"
   ]
  },
  {
   "cell_type": "code",
   "execution_count": 42,
   "metadata": {},
   "outputs": [
    {
     "name": "stdout",
     "output_type": "stream",
     "text": [
      "Python is  high-level, interpreted, generl-purpose\n"
     ]
    }
   ],
   "source": [
    "vowels = ('a', 'e', 'i', 'o', 'u')\n",
    "\n",
    "c=\"Python is a high-level, interpreted, general-purpose\"\n",
    "newstr1 = c.replace(\"a\",\"\")\n",
    "print(newstr1)"
   ]
  },
  {
   "cell_type": "code",
   "execution_count": 44,
   "metadata": {},
   "outputs": [
    {
     "name": "stdout",
     "output_type": "stream",
     "text": [
      "Pythn s  hgh-lvl, ntrprtd, gnrl-prps\n"
     ]
    }
   ],
   "source": [
    "\n",
    "newstr=\"Python is a high-level, interpreted, general-purpose\"\n",
    "    \n",
    "vowels = ('a', 'e', 'i', 'o', 'u','A', 'E', 'I', 'O', 'U')\n",
    "x=0\n",
    "while x <=9:\n",
    "    if vowels[x] in vowels:\n",
    "        newstr = newstr.replace(vowels[x],\"\")\n",
    "    x=x+1\n",
    "print(newstr)"
   ]
  },
  {
   "cell_type": "code",
   "execution_count": 30,
   "metadata": {},
   "outputs": [
    {
     "name": "stdout",
     "output_type": "stream",
     "text": [
      "Python is a high-lvl, intrprtd, gnral-purpos\n"
     ]
    }
   ],
   "source": [
    "newstr=\"Python is a high-level, interpreted, general-purpose\"\n",
    "\n",
    "if 'e' in newstr:\n",
    "    newstr = newstr.replace('e',\"\")\n",
    "print(newstr)"
   ]
  },
  {
   "cell_type": "code",
   "execution_count": 7,
   "metadata": {},
   "outputs": [
    {
     "name": "stdout",
     "output_type": "stream",
     "text": [
      "10\n",
      "12\n",
      "14\n",
      "16\n",
      "18\n",
      "20\n",
      "22\n",
      "24\n",
      "26\n",
      "28\n",
      "30\n"
     ]
    }
   ],
   "source": [
    "#q5 : Try to generate all the even number between 1- 1000\n",
    "\n",
    "def generateEvenNo(i,j):\n",
    "\n",
    "    while i<=j:\n",
    "        if i%2==0:\n",
    "            print(i)\n",
    "        i=i+1\n",
    "    \n",
    "generateEvenNo(10,30)"
   ]
  },
  {
   "cell_type": "code",
   "execution_count": 8,
   "metadata": {},
   "outputs": [
    {
     "name": "stdout",
     "output_type": "stream",
     "text": [
      "Current Time = 18:30:00\n"
     ]
    }
   ],
   "source": [
    "#write a code to get a time of your system\n",
    "from datetime import datetime\n",
    "\n",
    "now = datetime.now()\n",
    "\n",
    "current_time = now.strftime(\"%H:%M:%S\")\n",
    "print(\"Current Time =\", current_time)"
   ]
  },
  {
   "cell_type": "code",
   "execution_count": 11,
   "metadata": {},
   "outputs": [
    {
     "name": "stdout",
     "output_type": "stream",
     "text": [
      "Current Time is: 18:31\n"
     ]
    }
   ],
   "source": [
    "from datetime import datetime\n",
    "now = datetime.now()\n",
    "current_time=now.strftime(\"%H:%M\")\n",
    "print(\"Current Time is:\",current_time)"
   ]
  },
  {
   "cell_type": "code",
   "execution_count": 18,
   "metadata": {},
   "outputs": [
    {
     "name": "stdout",
     "output_type": "stream",
     "text": [
      "Today's date: 2022-07-25\n"
     ]
    }
   ],
   "source": [
    "#q8 : Write a code to fetch date form your system\n",
    "from datetime import date\n",
    "\n",
    "today = date.today()\n",
    "print(\"Today's date:\", today)"
   ]
  },
  {
   "cell_type": "code",
   "execution_count": 22,
   "metadata": {},
   "outputs": [
    {
     "name": "stdout",
     "output_type": "stream",
     "text": [
      "Collecting datetime\n",
      "  Downloading DateTime-4.5-py2.py3-none-any.whl (52 kB)\n",
      "Requirement already satisfied: pytz in c:\\users\\shind\\anaconda3\\lib\\site-packages (from datetime) (2020.1)\n",
      "Requirement already satisfied: zope.interface in c:\\users\\shind\\anaconda3\\lib\\site-packages (from datetime) (5.1.2)\n",
      "Requirement already satisfied: setuptools in c:\\users\\shind\\anaconda3\\lib\\site-packages (from zope.interface->datetime) (50.3.1.post20201107)\n",
      "Installing collected packages: datetime\n",
      "Successfully installed datetime-4.5\n"
     ]
    }
   ],
   "source": [
    "#q10 : write a code to trigger alarm for you at scheduled time \n",
    "\n",
    "!pip install datetime\n"
   ]
  },
  {
   "cell_type": "code",
   "execution_count": 35,
   "metadata": {
    "scrolled": true
   },
   "outputs": [
    {
     "name": "stderr",
     "output_type": "stream",
     "text": [
      "ERROR: Could not find a version that satisfies the requirement NSSound (from versions: none)\n",
      "ERROR: No matching distribution found for NSSound\n"
     ]
    }
   ],
   "source": [
    "!pip install AppKit\n",
    "!pip install NSSound\n",
    "!pip install playsound\n"
   ]
  },
  {
   "cell_type": "code",
   "execution_count": 36,
   "metadata": {},
   "outputs": [],
   "source": [
    "from datetime import datetime\n",
    "from playsound import playsound\n"
   ]
  },
  {
   "cell_type": "code",
   "execution_count": 31,
   "metadata": {},
   "outputs": [
    {
     "name": "stdout",
     "output_type": "stream",
     "text": [
      "Enter time in 'HH:MM:SS AM/PM' format: 06:55 PM\n"
     ]
    }
   ],
   "source": [
    "def validate_time(alarm_time):\n",
    "    if len(alarm_time) != 11:\n",
    "        return \"Invalid time format! Please try again...\"\n",
    "    else:\n",
    "        if int(alarm_time[0:2]) > 12:\n",
    "            return \"Invalid HOUR format! Please try again...\"\n",
    "        elif int(alarm_time[3:5]) > 59:\n",
    "            return \"Invalid MINUTE format! Please try again...\"\n",
    "        elif int(alarm_time[6:8]) > 59:\n",
    "            return \"Invalid SECOND format! Please try again...\"\n",
    "        else:\n",
    "            return \"ok\"\n",
    "        \n",
    "alarm_time = input(\"Enter time in 'HH:MM:SS AM/PM' format: \")\n"
   ]
  },
  {
   "cell_type": "code",
   "execution_count": 34,
   "metadata": {},
   "outputs": [
    {
     "ename": "ModuleNotFoundError",
     "evalue": "No module named 'AppKit'",
     "output_type": "error",
     "traceback": [
      "\u001b[1;31m---------------------------------------------------------------------------\u001b[0m",
      "\u001b[1;31mModuleNotFoundError\u001b[0m                       Traceback (most recent call last)",
      "\u001b[1;32m<ipython-input-34-32bca7a29379>\u001b[0m in \u001b[0;36m<module>\u001b[1;34m\u001b[0m\n\u001b[0;32m      5\u001b[0m \u001b[1;32mimport\u001b[0m \u001b[0mdatetime\u001b[0m\u001b[1;33m\u001b[0m\u001b[1;33m\u001b[0m\u001b[0m\n\u001b[0;32m      6\u001b[0m \u001b[1;32mfrom\u001b[0m \u001b[0mplaysound\u001b[0m \u001b[1;32mimport\u001b[0m \u001b[0mplaysound\u001b[0m\u001b[1;33m\u001b[0m\u001b[1;33m\u001b[0m\u001b[0m\n\u001b[1;32m----> 7\u001b[1;33m \u001b[1;32mfrom\u001b[0m \u001b[0mAppKit\u001b[0m \u001b[1;32mimport\u001b[0m \u001b[0mNSSound\u001b[0m\u001b[1;33m\u001b[0m\u001b[1;33m\u001b[0m\u001b[0m\n\u001b[0m\u001b[0;32m      8\u001b[0m \u001b[0mos\u001b[0m\u001b[1;33m.\u001b[0m \u001b[0msystem\u001b[0m\u001b[1;33m(\u001b[0m\u001b[1;34m'clear'\u001b[0m\u001b[1;33m)\u001b[0m\u001b[1;33m\u001b[0m\u001b[1;33m\u001b[0m\u001b[0m\n\u001b[0;32m      9\u001b[0m \u001b[0malarmH\u001b[0m \u001b[1;33m=\u001b[0m \u001b[0mint\u001b[0m\u001b[1;33m(\u001b[0m\u001b[0minput\u001b[0m\u001b[1;33m(\u001b[0m\u001b[1;34m\"What hour do you want the alarm to ring? \"\u001b[0m\u001b[1;33m)\u001b[0m\u001b[1;33m)\u001b[0m\u001b[1;33m\u001b[0m\u001b[1;33m\u001b[0m\u001b[0m\n",
      "\u001b[1;31mModuleNotFoundError\u001b[0m: No module named 'AppKit'"
     ]
    }
   ],
   "source": [
    "from datetime import datetime\n",
    "from playsound import playsound\n",
    "\n",
    "import os\n",
    "import datetime\n",
    "from playsound import playsound\n",
    "from AppKit import NSSound\n",
    "os. system('clear')\n",
    "alarmH = int(input(\"What hour do you want the alarm to ring? \"))\n",
    "alarmM = int(input(\"What minute do you want the alarm to ring? \"))\n",
    "amPm = str(input(\"am or pm? \"))\n",
    "os. system('clear')\n",
    "print(\"Waiting for alarm\",alarmH,alarmM,amPm)\n",
    "if (amPm == \"pm\"):\n",
    "        alarmH = alarmH + 12\n",
    "while(1 == 1):\n",
    "    if(alarmH == datetime.datetime.now().hour and\n",
    "        alarmM == datetime.datetime.now().minute) :\n",
    "        print(\"Time to wake up\")\n",
    "        playsound('/your/path/to/file/beep-07.mp3')\n",
    "        break"
   ]
  },
  {
   "cell_type": "code",
   "execution_count": 38,
   "metadata": {},
   "outputs": [
    {
     "name": "stdout",
     "output_type": "stream",
     "text": [
      "Your Computer Name is:MSI\n",
      "Your Computer IP Address is:192.168.137.1\n"
     ]
    }
   ],
   "source": [
    "#q11 : write a code to check ip address of your system \n",
    "\n",
    "# Python Program to Get IP Address\n",
    "import socket   \n",
    "hostname = socket.gethostname()   \n",
    "IPAddr = socket.gethostbyname(hostname)   \n",
    "print(\"Your Computer Name is:\" + hostname)   \n",
    "print(\"Your Computer IP Address is:\" + IPAddr)  "
   ]
  },
  {
   "cell_type": "code",
   "execution_count": 40,
   "metadata": {},
   "outputs": [
    {
     "name": "stdout",
     "output_type": "stream",
     "text": [
      "Collecting winapps\n",
      "  Downloading winapps-0.2.0-py3-none-any.whl (9.1 kB)\n",
      "Collecting plumbum<2.0,>=1.6\n",
      "  Downloading plumbum-1.7.2-py2.py3-none-any.whl (117 kB)\n",
      "Requirement already satisfied: pywin32; platform_system == \"Windows\" and platform_python_implementation != \"PyPy\" in c:\\users\\shind\\anaconda3\\lib\\site-packages (from plumbum<2.0,>=1.6->winapps) (227)\n",
      "Installing collected packages: plumbum, winapps\n",
      "Successfully installed plumbum-1.7.2 winapps-0.2.0\n"
     ]
    }
   ],
   "source": [
    "!pip install winapps"
   ]
  },
  {
   "cell_type": "code",
   "execution_count": 41,
   "metadata": {},
   "outputs": [
    {
     "name": "stdout",
     "output_type": "stream",
     "text": [
      "InstalledApplication(name='Windows Driver Package - Barracuda Networks, Inc. Barracuda Virtual Adapter (02/12/2019 5.0.0.11)', version='02/12/2019 5.0.0.11', install_date=None, install_location=None, install_source=None, modify_path=None, publisher='Barracuda Networks, Inc.', uninstall_string='rundll32.exe C:\\\\PROGRA~1\\\\DIFX\\\\4CBAA680AB78144E\\\\DIFxAppA.dll, DIFxARPUninstallDriverPackage C:\\\\WINDOWS\\\\system32\\\\DRVSTORE\\\\cudavpn_FCC4D0505314B60562FDE5AD6D12188208DEAA28\\\\cudavpn.inf')\n",
      "InstalledApplication(name='MSI App Player', version='4.150.10.6302', install_date=datetime.date(2020, 6, 28), install_location=None, install_source=None, modify_path=None, publisher='BlueStack Systems, Inc.', uninstall_string='C:\\\\Program Files\\\\BlueStacks_msi2\\\\BlueStacksUninstaller.exe -tmp')\n",
      "InstalledApplication(name='Git', version='2.36.1', install_date=datetime.date(2022, 6, 9), install_location=WindowsPath('C:/Program Files/Git'), install_source=None, modify_path=None, publisher='The Git Development Community', uninstall_string='\"C:\\\\Program Files\\\\Git\\\\unins000.exe\"')\n",
      "InstalledApplication(name='HxD Hex Editor 2.5', version='2.5', install_date=datetime.date(2022, 3, 30), install_location=WindowsPath('C:/Program Files/HxD'), install_source=None, modify_path=None, publisher='Maël Hörz', uninstall_string='\"C:\\\\Program Files\\\\HxD\\\\unins000.exe\"')\n",
      "InstalledApplication(name='Lumion 8.5', version='8.5', install_date=datetime.date(2021, 9, 21), install_location=WindowsPath('C:/Program Files/Lumion 8.5'), install_source=None, modify_path=None, publisher='Act-3D B.V.', uninstall_string='\"C:\\\\Program Files\\\\Lumion 8.5\\\\unins000.exe\"')\n",
      "InstalledApplication(name='Microsoft Help Viewer 1.1', version='1.1.40219', install_date=None, install_location=WindowsPath('C:/Program Files/Microsoft Help Viewer/v1.0'), install_source=None, modify_path=None, publisher='Microsoft Corporation', uninstall_string='C:\\\\Program Files\\\\Microsoft Help Viewer\\\\v1.0\\\\Microsoft Help Viewer 1.1\\\\install.exe')\n",
      "InstalledApplication(name='Microsoft SQL Server 2014 (64-bit)', version=None, install_date=None, install_location=None, install_source=None, modify_path=None, publisher='Microsoft Corporation', uninstall_string='\"c:\\\\Program Files\\\\Microsoft SQL Server\\\\120\\\\Setup Bootstrap\\\\SQLServer2014\\\\x64\\\\SetupARP.exe\"')\n",
      "InstalledApplication(name='Microsoft Visual Studio 2010 Tools for Office Runtime (x64)', version='10.0.50903', install_date=None, install_location=WindowsPath('c:/Program Files/Common Files/Microsoft Shared/VSTO/10.0'), install_source=None, modify_path='MsiExec.exe /I {9495AEB4-AB97-39DE-8C42-806EEF75ECA7}', publisher='Microsoft Corporation', uninstall_string='c:\\\\Program Files\\\\Common Files\\\\Microsoft Shared\\\\VSTO\\\\10.0\\\\Microsoft Visual Studio 2010 Tools for Office Runtime (x64)\\\\install.exe')\n",
      "InstalledApplication(name='Microsoft Office Professional Plus 2013', version='15.0.4569.1506', install_date=None, install_location=WindowsPath('C:/Program Files/Microsoft Office'), install_source=None, modify_path='\"C:\\\\Program Files\\\\Common Files\\\\Microsoft Shared\\\\OFFICE15\\\\Office Setup Controller\\\\setup.exe\" /modify PROPLUSR /dll OSETUP.DLL', publisher='Microsoft Corporation', uninstall_string='\"C:\\\\Program Files\\\\Common Files\\\\Microsoft Shared\\\\OFFICE15\\\\Office Setup Controller\\\\setup.exe\" /uninstall PROPLUSR /dll OSETUP.DLL')\n",
      "InstalledApplication(name='Pulse Secure Setup Client 64-bit Activex Control', version='3.1.1.1', install_date=None, install_location=None, install_source=None, modify_path=None, publisher='Pulse Secure, LLC', uninstall_string='C:\\\\WINDOWS\\\\Downloaded Program Files\\\\PulseSetupClientCtrlUninstaller64.exe')\n",
      "InstalledApplication(name='SteelSeries GG 22.0.0', version='22.0.0', install_date=None, install_location=None, install_source=None, modify_path=None, publisher='SteelSeries ApS', uninstall_string='C:\\\\Program Files\\\\SteelSeries\\\\GG\\\\uninst.exe')\n",
      "InstalledApplication(name='Sublime Text 3', version=None, install_date=datetime.date(2021, 2, 1), install_location=WindowsPath('C:/Program Files/Sublime Text 3'), install_source=None, modify_path=None, publisher='Sublime HQ Pty Ltd', uninstall_string='\"C:\\\\Program Files\\\\Sublime Text 3\\\\unins000.exe\"')\n",
      "InstalledApplication(name='TeamViewer', version='15.20.6', install_date=None, install_location=WindowsPath('C:/Program Files/TeamViewer'), install_source=None, modify_path=None, publisher='TeamViewer', uninstall_string='\"C:\\\\Program Files\\\\TeamViewer\\\\uninstall.exe\"')\n",
      "InstalledApplication(name='XAMPP', version='7.3.27-0', install_date=datetime.date(2021, 2, 27), install_location=WindowsPath('C:/xampp'), install_source=None, modify_path=None, publisher='Bitnami', uninstall_string='\"C:\\\\xampp\\\\uninstall.exe\"')\n",
      "InstalledApplication(name='WibuKey Setup (WibuKey Remove)', version='Version 6.00d of 2011-Sep-22 (Build 138) (Setup)', install_date=None, install_location=WindowsPath('C:/Program Files (x86)/WIBUKEY'), install_source=WindowsPath('C:/Users/shind/AppData/Local/Temp/WZSE1.TMP'), modify_path=None, publisher='WIBU-SYSTEMS AG', uninstall_string='C:\\\\Program Files (x86)\\\\WIBUKEY\\\\Setup\\\\Setup64.exe /R:{00060000-0000-1004-8002-0000C06B5161}')\n",
      "InstalledApplication(name='Microsoft SQL Server 2014 Transact-SQL ScriptDom ', version='12.0.2000.8', install_date=datetime.date(2021, 5, 19), install_location='', install_source=WindowsPath('C:/Users/shind/Downloads/SQLEXPR_x64_ENU/1033_ENU_LP/x64/setup/x64'), modify_path='MsiExec.exe /I{020CDFE0-C127-4047-B571-37C82396B662}', publisher='Microsoft Corporation', uninstall_string='MsiExec.exe /I{020CDFE0-C127-4047-B571-37C82396B662}')\n",
      "InstalledApplication(name='Microsoft Visual C++ 2010  x64 Redistributable - 10.0.40219', version='10.0.40219', install_date=datetime.date(2021, 5, 22), install_location='', install_source=WindowsPath('C:/Users/shind/Downloads/SQLEXPR_x64_ENU/redist/VisualStudioShell/VC10SP1/x64'), modify_path='MsiExec.exe /X{1D8E6291-B0D5-35EC-8441-6616F567A0F7}', publisher='Microsoft Corporation', uninstall_string='MsiExec.exe /X{1D8E6291-B0D5-35EC-8441-6616F567A0F7}')\n",
      "InstalledApplication(name='MySQL Server 8.0', version='8.0.29', install_date=datetime.date(2022, 7, 18), install_location=WindowsPath('C:/Program Files/MySQL/MySQL Server 8.0'), install_source=WindowsPath('C:/ProgramData/MySQL/MySQL Installer for Windows/Product Cache'), modify_path='MsiExec.exe /I{2ABD2E86-C875-45CB-830F-9D3EC1AE01C6}', publisher='Oracle Corporation', uninstall_string='MsiExec.exe /I{2ABD2E86-C875-45CB-830F-9D3EC1AE01C6}')\n",
      "InstalledApplication(name='Microsoft VSS Writer for SQL Server 2014', version='12.0.2000.8', install_date=datetime.date(2021, 5, 19), install_location='', install_source=WindowsPath('C:/Users/shind/Downloads/SQLEXPR_x64_ENU/1033_ENU_LP/x64/setup/x64'), modify_path='MsiExec.exe /I{366CD715-2FF4-40B4-A8B4-A05E5D21A945}', publisher='Microsoft Corporation', uninstall_string='MsiExec.exe /I{366CD715-2FF4-40B4-A8B4-A05E5D21A945}')\n",
      "InstalledApplication(name='Microsoft SQL Server 2014 Setup (English)', version='12.0.2269.0', install_date=datetime.date(2021, 5, 21), install_location='', install_source=WindowsPath('C:/Program Files/Microsoft SQL Server/120/Setup Bootstrap/Update Cache/KB3045324/GDR/1033_ENU_LP/x64/setup/sqlsupport_msi'), modify_path='MsiExec.exe /X{37C44B5C-E839-4A9D-9E20-A93E1B2FD35A}', publisher='Microsoft Corporation', uninstall_string='MsiExec.exe /X{37C44B5C-E839-4A9D-9E20-A93E1B2FD35A}')\n",
      "InstalledApplication(name='MySQL Router 8.0', version='8.0.29', install_date=datetime.date(2022, 7, 18), install_location=WindowsPath('C:/Program Files/MySQL/MySQL Router 8.0'), install_source=WindowsPath('C:/ProgramData/MySQL/MySQL Installer for Windows/Product Cache'), modify_path='MsiExec.exe /I{39405836-7A90-4297-A314-1ECCE184F9D3}', publisher='Oracle Corporation', uninstall_string='MsiExec.exe /I{39405836-7A90-4297-A314-1ECCE184F9D3}')\n",
      "InstalledApplication(name='psqlODBC_x64', version='09.06.0504', install_date=datetime.date(2021, 2, 20), install_location='', install_source=WindowsPath('C:/ProgramData/Package Cache/{3F8971B0-061B-4163-9D3F-EA94151B2FCF}v09.06.0504'), modify_path='MsiExec.exe /I{3F8971B0-061B-4163-9D3F-EA94151B2FCF}', publisher='PostgreSQL Global Development Group', uninstall_string='MsiExec.exe /I{3F8971B0-061B-4163-9D3F-EA94151B2FCF}')\n",
      "InstalledApplication(name='MySQL Shell 8.0.29', version='8.0.29', install_date=datetime.date(2022, 7, 18), install_location=WindowsPath('C:/Program Files/MySQL/MySQL Shell 8.0'), install_source=WindowsPath('C:/ProgramData/MySQL/MySQL Installer for Windows/Product Cache'), modify_path='MsiExec.exe /X{401F296A-93D8-4D60-B82C-5BFD05255C30}', publisher='Oracle and/or its affiliates', uninstall_string='MsiExec.exe /X{401F296A-93D8-4D60-B82C-5BFD05255C30}')\n",
      "InstalledApplication(name='Intel(R) Rapid Storage Technology', version='17.8.0.1065', install_date=None, install_location=WindowsPath('C:/Program Files/Intel/Intel(R) Rapid Storage Technology'), install_source=None, modify_path=None, publisher='Intel Corporation', uninstall_string='\"C:\\\\Program Files (x86)\\\\Intel\\\\Package Cache\\\\{409CB30E-E457-4008-9B1A-ED1B9EA21140}\\\\Setup.exe\" -uninstall')\n",
      "InstalledApplication(name='Intel® Optane™ Pinning Explorer Extensions', version='17.8.0.1065', install_date=datetime.date(2020, 6, 28), install_location='', install_source=WindowsPath('C:/Users/ADMINI~1/AppData/Local/Temp/IIFFF20.tmp'), modify_path='MsiExec.exe /I{4487026C-A32C-4FF5-858E-8DB890814949}', publisher='Intel Corporation', uninstall_string='MsiExec.exe /I{4487026C-A32C-4FF5-858E-8DB890814949}')\n",
      "InstalledApplication(name='Microsoft SQL Server 2012 Native Client ', version='11.0.2100.60', install_date=datetime.date(2021, 5, 19), install_location='', install_source=WindowsPath('C:/Users/shind/Downloads/SQLEXPR_x64_ENU/1033_ENU_LP/x64/setup/x64'), modify_path='MsiExec.exe /I{49D665A2-4C2A-476E-9AB8-FCC425F526FC}', publisher='Microsoft Corporation', uninstall_string='MsiExec.exe /I{49D665A2-4C2A-476E-9AB8-FCC425F526FC}')\n",
      "InstalledApplication(name='Microsoft Visual C++ 2008 Redistributable - x64 9.0.30729.4148', version='9.0.30729.4148', install_date=datetime.date(2021, 9, 21), install_location='', install_source=WindowsPath('c:/53ff2cd936fd29835f3fe44c'), modify_path='MsiExec.exe /X{4B6C7001-C7D6-3710-913E-5BC23FCE91E6}', publisher='Microsoft Corporation', uninstall_string='MsiExec.exe /X{4B6C7001-C7D6-3710-913E-5BC23FCE91E6}')\n",
      "InstalledApplication(name='Microsoft SQL Server 2014 Transact-SQL Compiler Service ', version='12.0.2269.0', install_date=datetime.date(2021, 5, 21), install_location='', install_source=WindowsPath('C:/Program Files/Microsoft SQL Server/120/Setup Bootstrap/Update Cache/KB3045324/GDR/1033_ENU_LP/x64/setup/x64'), modify_path='MsiExec.exe /I{537203CB-708E-43A3-BA16-3D5C14A587BB}', publisher='Microsoft Corporation', uninstall_string='MsiExec.exe /I{537203CB-708E-43A3-BA16-3D5C14A587BB}')\n",
      "InstalledApplication(name='Microsoft Visual C++ 2008 Redistributable - x64 9.0.30729.6161', version='9.0.30729.6161', install_date=datetime.date(2021, 9, 27), install_location='', install_source=WindowsPath('c:/443753404c3899581d8598bfb3'), modify_path='MsiExec.exe /X{5FCE6D76-F5DC-37AB-B2B8-22AB8CEDB1D4}', publisher='Microsoft Corporation', uninstall_string='MsiExec.exe /X{5FCE6D76-F5DC-37AB-B2B8-22AB8CEDB1D4}')\n",
      "InstalledApplication(name='Microsoft SQL Server 2008 Setup Support Files ', version='10.3.5500.0', install_date=datetime.date(2021, 5, 19), install_location='', install_source=WindowsPath('C:/Users/shind/Downloads/SQLEXPR_x64_ENU/1033_ENU_LP/x64/setup/sql2008support'), modify_path='MsiExec.exe /X{6292D514-17A4-403F-98F9-E150F10C043D}', publisher='Microsoft Corporation', uninstall_string='MsiExec.exe /X{6292D514-17A4-403F-98F9-E150F10C043D}')\n",
      "InstalledApplication(name='Visual Studio 2010 Prerequisites - English', version='10.0.40219', install_date=datetime.date(2021, 5, 19), install_location='', install_source=WindowsPath('C:/Users/shind/Downloads/SQLManagementStudio_x64_ENU/1033_ENU_LP/redist/VisualStudioShell/64bitPrereq'), modify_path='MsiExec.exe /X{662014D2-0450-37ED-ABAE-157C88127BEB}', publisher='Microsoft Corporation', uninstall_string='MsiExec.exe /X{662014D2-0450-37ED-ABAE-157C88127BEB}')\n",
      "InstalledApplication(name='Windows PC Health Check', version='3.6.2204.08001', install_date=datetime.date(2022, 4, 28), install_location='', install_source=WindowsPath('C:/WINDOWS/SoftwareDistribution/Download/8c65a163c8c24c7e95c0237bfc859210/img'), modify_path='MsiExec.exe /X{6798C408-2636-448C-8AC6-F4E341102D27}', publisher='Microsoft Corporation', uninstall_string='MsiExec.exe /X{6798C408-2636-448C-8AC6-F4E341102D27}')\n",
      "InstalledApplication(name='Microsoft Visual Studio Installer', version='2.11.52.58712', install_date=datetime.date(2021, 5, 7), install_location=WindowsPath('\"C:/Program Files (x86)/Microsoft Visual Studio/Installer\"'), install_source=None, modify_path='\"C:\\\\Program Files (x86)\\\\Microsoft Visual Studio\\\\Installer\\\\setup.exe\"', publisher='Microsoft Corporation', uninstall_string='\"C:\\\\Program Files (x86)\\\\Microsoft Visual Studio\\\\Installer\\\\setup.exe\" /uninstall')\n",
      "InstalledApplication(name='Microsoft Update Health Tools', version='3.67.0.0', install_date=datetime.date(2022, 4, 7), install_location='', install_source=WindowsPath('C:/WINDOWS/TEMP/BF4F9841-3C25-453B-88F7-0B855D0D57A1'), modify_path='MsiExec.exe /X{7B1FCD52-8F6B-4F12-A143-361EA39F5E7C}', publisher='Microsoft Corporation', uninstall_string='MsiExec.exe /X{7B1FCD52-8F6B-4F12-A143-361EA39F5E7C}')\n",
      "InstalledApplication(name='Update for Windows 10 for x64-based Systems (KB5001716)', version='4.91.0.0', install_date=datetime.date(2022, 2, 18), install_location='', install_source=WindowsPath('C:/WINDOWS/SoftwareDistribution/Download/77517a7122ab7793783659727e08dab0/img'), modify_path='MsiExec.exe /X{82BD0A1C-815F-487F-9AE7-CE73DA413CFF}', publisher='Microsoft Corporation', uninstall_string='MsiExec.exe /X{82BD0A1C-815F-487F-9AE7-CE73DA413CFF}')\n",
      "InstalledApplication(name='MySQL Connector C++ 8.0', version='8.0.29', install_date=datetime.date(2022, 7, 18), install_location=WindowsPath('C:/Program Files/MySQL/Connector C++ 8.0'), install_source=WindowsPath('C:/ProgramData/MySQL/MySQL Installer for Windows/Product Cache'), modify_path='MsiExec.exe /I{870AAD1A-5CB8-4E2B-B70D-4C2166D5CC56}', publisher='Oracle Corporation', uninstall_string='MsiExec.exe /I{870AAD1A-5CB8-4E2B-B70D-4C2166D5CC56}')\n",
      "InstalledApplication(name='Microsoft System CLR Types for SQL Server 2014', version='12.0.2000.8', install_date=datetime.date(2021, 5, 19), install_location='', install_source=WindowsPath('C:/Users/shind/Downloads/SQLManagementStudio_x64_ENU/1033_ENU_LP/x64/setup/x64'), modify_path='MsiExec.exe /I{8C06D6DB-A391-4686-B050-99CC522A7843}', publisher='Microsoft Corporation', uninstall_string='MsiExec.exe /I{8C06D6DB-A391-4686-B050-99CC522A7843}')\n",
      "InstalledApplication(name='Barracuda Network Access Client 5.1.3', version='9.01.3021', install_date=datetime.date(2021, 8, 19), install_location=WindowsPath('C:/Program Files/Barracuda/Network Access Client'), install_source=WindowsPath('C:/Users/shind/AppData/Local/Downloaded Installations/{6ED897DA-0880-4FBB-AC55-78E8E442A15C}'), modify_path='MsiExec.exe /I{9056E8A6-FE50-459B-835F-9153F2F0D70F}', publisher='Barracuda Networks, Inc.', uninstall_string='MsiExec.exe /I{9056E8A6-FE50-459B-835F-9153F2F0D70F}')\n",
      "InstalledApplication(name='MySQL Workbench 8.0 CE', version='8.0.29', install_date=datetime.date(2022, 7, 18), install_location=WindowsPath('C:/Program Files/MySQL/MySQL Workbench 8.0'), install_source=WindowsPath('C:/ProgramData/MySQL/MySQL Installer for Windows/Product Cache'), modify_path='MsiExec.exe /I{90789BBF-2DB7-4B1F-AD36-B850B683376C}', publisher='Oracle Corporation', uninstall_string='MsiExec.exe /I{90789BBF-2DB7-4B1F-AD36-B850B683376C}')\n",
      "InstalledApplication(name='Amazon Redshift ODBC Driver 64-bit', version='1.4.10.1000', install_date=datetime.date(2021, 2, 20), install_location='', install_source=WindowsPath('C:/ProgramData/Package Cache/{960BF695-03D5-48CF-9DC2-6AC5800C4FBE}v1.4.10.1000'), modify_path='MsiExec.exe /X{960BF695-03D5-48CF-9DC2-6AC5800C4FBE}', publisher='Amazon Web Services, Inc.', uninstall_string='MsiExec.exe /X{960BF695-03D5-48CF-9DC2-6AC5800C4FBE}')\n",
      "InstalledApplication(name='Intel(R) Serial IO', version='30.100.1915.1', install_date=None, install_location=WindowsPath('C:/Program Files/Intel/Intel(R) Serial IO'), install_source=None, modify_path=None, publisher='Intel Corporation', uninstall_string='\"C:\\\\ProgramData\\\\Intel\\\\Package Cache\\\\{9FD91C5C-44AE-4D9D-85BE-AE52816B0294}\\\\Setup.exe\" -uninstall')\n",
      "InstalledApplication(name='Microsoft ODBC Driver 11 for SQL Server', version='12.0.2000.8', install_date=datetime.date(2021, 5, 19), install_location='', install_source=WindowsPath('C:/Users/shind/Downloads/SQLEXPR_x64_ENU/1033_ENU_LP/x64/setup/x64'), modify_path='MsiExec.exe /I{A106FA6F-E94C-44C9-8A0F-C34BD82C9FE6}', publisher='Microsoft Corporation', uninstall_string='MsiExec.exe /I{A106FA6F-E94C-44C9-8A0F-C34BD82C9FE6}')\n",
      "InstalledApplication(name='PowerToys', version='0.11.0', install_date=datetime.date(2022, 1, 26), install_location='', install_source=WindowsPath('C:/Users/shind/Downloads'), modify_path='MsiExec.exe /X{B1D89399-7B59-4256-812C-EA4255AB7A92}', publisher='Microsoft', uninstall_string='MsiExec.exe /X{B1D89399-7B59-4256-812C-EA4255AB7A92}')\n",
      "InstalledApplication(name='NVIDIA Graphics Driver 497.17', version='497.17', install_date=datetime.date(2022, 2, 4), install_location=WindowsPath('C:/Program Files/NVIDIA Corporation/Installer2/Display.Driver.{C350ABE6-2D7E-4C41-8060-48395F864999}'), install_source=WindowsPath('C:/Program Files/NVIDIA Corporation/Installer2/Display.Driver.{C350ABE6-2D7E-4C41-8060-48395F864999}'), modify_path='', publisher='NVIDIA Corporation', uninstall_string='\"C:\\\\WINDOWS\\\\SysWOW64\\\\RunDll32.EXE\" \"C:\\\\Program Files\\\\NVIDIA Corporation\\\\Installer2\\\\InstallerCore\\\\NVI2.DLL\",UninstallPackage Display.Driver')\n",
      "InstalledApplication(name='NVIDIA GeForce Experience 3.20.2.34', version='3.20.2.34', install_date=datetime.date(2020, 6, 28), install_location=WindowsPath('C:/Program Files/NVIDIA Corporation/Installer2/Display.GFExperience.{B0F325B3-5827-4E58-919C-6606E750EE1D}'), install_source=WindowsPath('C:/Program Files/NVIDIA Corporation/Installer2/Display.GFExperience.{B0F325B3-5827-4E58-919C-6606E750EE1D}'), modify_path='', publisher='NVIDIA Corporation', uninstall_string='\"C:\\\\Windows\\\\SysWOW64\\\\RunDll32.EXE\" \"C:\\\\Program Files\\\\NVIDIA Corporation\\\\Installer2\\\\InstallerCore\\\\NVI2.DLL\",UninstallPackage Display.GFExperience')\n",
      "InstalledApplication(name='NVIDIA PhysX System Software 9.19.0218', version='9.19.0218', install_date=datetime.date(2020, 6, 28), install_location=WindowsPath('C:/Program Files (x86)/NVIDIA Corporation/PhysX'), install_source=WindowsPath('C:/Program Files/NVIDIA Corporation/Installer2/Display.PhysX.{2FF24B50-CD8A-4C4F-9CBA-F825533659C5}'), modify_path='', publisher='NVIDIA Corporation', uninstall_string='\"C:\\\\Windows\\\\SysWOW64\\\\RunDll32.EXE\" \"C:\\\\Program Files\\\\NVIDIA Corporation\\\\Installer2\\\\InstallerCore\\\\NVI2.DLL\",UninstallPackage Display.PhysX')\n",
      "InstalledApplication(name='MySQL Connector/ODBC 8.0', version='8.0.29', install_date=datetime.date(2022, 7, 18), install_location=WindowsPath('C:/Program Files/MySQL/Connector ODBC 8.0'), install_source=WindowsPath('C:/ProgramData/MySQL/MySQL Installer for Windows/Product Cache'), modify_path='MsiExec.exe /I{C3E1B2C4-71E4-433D-973E-DD36C9E4A611}', publisher='Oracle Corporation', uninstall_string='MsiExec.exe /I{C3E1B2C4-71E4-433D-973E-DD36C9E4A611}')\n",
      "InstalledApplication(name='MySQL Connector Python v8.0.29', version='8.0.29', install_date=datetime.date(2022, 7, 18), install_location=WindowsPath('C:/Program Files/MySQL/Connector Python 8.0'), install_source=WindowsPath('C:/ProgramData/MySQL/MySQL Installer for Windows/Product Cache'), modify_path='MsiExec.exe /I{D985A768-CAB6-4A81-82BE-38066B2A36D3}', publisher='Oracle', uninstall_string='MsiExec.exe /I{D985A768-CAB6-4A81-82BE-38066B2A36D3}')\n",
      "InstalledApplication(name='SketchUp 2016', version='16.1.1449', install_date=datetime.date(2021, 9, 20), install_location=WindowsPath('C:/Program Files/SketchUp/SketchUp 2016'), install_source=WindowsPath('C:/Users/shind/AppData/Local/Temp/sketchup_install'), modify_path='MsiExec.exe /X{E2B66CF6-ABA0-4E5F-B426-7478B18301AE}', publisher='Trimble Navigation Limited', uninstall_string='MsiExec.exe /X{E2B66CF6-ABA0-4E5F-B426-7478B18301AE}')\n",
      "InstalledApplication(name='Unity Hub 2.4.5', version='2.4.5', install_date=None, install_location=None, install_source=None, modify_path=None, publisher='Unity Technologies Inc.', uninstall_string='\"C:\\\\Program Files\\\\Unity Hub\\\\Uninstall Unity Hub.exe\" /allusers')\n",
      "InstalledApplication(name='Visual Studio Build Tools 2017', version='15.9.28307.1500', install_date=datetime.date(2021, 5, 7), install_location=WindowsPath('C:/Program Files (x86)/Microsoft Visual Studio/2017/BuildTools'), install_source=None, modify_path='\"C:\\\\Program Files (x86)\\\\Microsoft Visual Studio\\\\Installer\\\\setup.exe\" modify --installPath \"C:\\\\Program Files (x86)\\\\Microsoft Visual Studio\\\\2017\\\\BuildTools\"', publisher='Microsoft Corporation', uninstall_string='\"C:\\\\Program Files (x86)\\\\Microsoft Visual Studio\\\\Installer\\\\setup.exe\" uninstall --installPath \"C:\\\\Program Files (x86)\\\\Microsoft Visual Studio\\\\2017\\\\BuildTools\"')\n",
      "InstalledApplication(name='DisplayFusion 9.9', version='9.9.0.0', install_date=datetime.date(2022, 1, 27), install_location=WindowsPath('C:/Program Files (x86)/DisplayFusion'), install_source=None, modify_path=None, publisher='Binary Fortress Software', uninstall_string='\"C:\\\\Program Files (x86)\\\\DisplayFusion\\\\unins000.exe\"')\n",
      "InstalledApplication(name='Citrix Workspace 2109', version='21.9.1.4048', install_date=None, install_location=WindowsPath('C:/PROGRAM FILES (X86)/CITRIX'), install_source=WindowsPath('C:/Users/shind/AppData/Local/Temp/Ctx-612F734F-4BB0-4335-9948-7C54AE3E31C1/Extract'), modify_path=None, publisher='Citrix Systems, Inc.', uninstall_string='\"C:\\\\Program Files (x86)\\\\Citrix\\\\Citrix WorkSpace 2109\\\\TrolleyExpress.exe\" /uninstall /cleanup')\n",
      "InstalledApplication(name='Visual Studio Community 2019', version='16.11.7', install_date=datetime.date(2021, 11, 20), install_location=WindowsPath('C:/Program Files (x86)/Microsoft Visual Studio/2019/Community'), install_source=None, modify_path='\"C:\\\\Program Files (x86)\\\\Microsoft Visual Studio\\\\Installer\\\\setup.exe\" modify --installPath \"C:\\\\Program Files (x86)\\\\Microsoft Visual Studio\\\\2019\\\\Community\"', publisher='Microsoft Corporation', uninstall_string='\"C:\\\\Program Files (x86)\\\\Microsoft Visual Studio\\\\Installer\\\\setup.exe\" uninstall --installPath \"C:\\\\Program Files (x86)\\\\Microsoft Visual Studio\\\\2019\\\\Community\"')\n",
      "InstalledApplication(name='Google Chrome', version='103.0.5060.134', install_date=datetime.date(2022, 7, 20), install_location=WindowsPath('C:/Program Files/Google/Chrome/Application'), install_source=None, modify_path=None, publisher='Google LLC', uninstall_string='\"C:\\\\Program Files\\\\Google\\\\Chrome\\\\Application\\\\103.0.5060.134\\\\Installer\\\\setup.exe\" --uninstall --channel=stable --system-level --verbose-logging')\n",
      "InstalledApplication(name='MSI NBFoundation Service', version='1.0.2010.1201', install_date=datetime.date(2020, 11, 1), install_location='', install_source=WindowsPath('C:/Users/shind/AppData/Local/Temp/{5A288346-F56B-4A23-83BA-247261D9B122}'), modify_path='\"C:\\\\Program Files (x86)\\\\InstallShield Installation Information\\\\{949A5329-B6AF-444F-BCDC-1F39F516D40C}\\\\setup.exe\" -runfromtemp -l0x0409 ', publisher='MSI', uninstall_string='C:\\\\Program Files (x86)\\\\InstallShield Installation Information\\\\{949A5329-B6AF-444F-BCDC-1F39F516D40C}\\\\setup.exe -runfromtemp -l0x0409')\n",
      "InstalledApplication(name='Microsoft Edge', version='103.0.1264.71', install_date=datetime.date(2022, 7, 24), install_location=WindowsPath('C:/Program Files (x86)/Microsoft/Edge/Application'), install_source=None, modify_path='\"C:\\\\Program Files (x86)\\\\Microsoft\\\\EdgeUpdate\\\\MicrosoftEdgeUpdate.exe\" /install appguid={56EB18F8-B008-4CBD-B6D2-8C97FE7E9062}&appname=Microsoft%20Edge&needsadmin=true&repairtype=windowsonlinerepair /installsource taggedmi', publisher='Microsoft Corporation', uninstall_string='\"C:\\\\Program Files (x86)\\\\Microsoft\\\\Edge\\\\Application\\\\103.0.1264.71\\\\Installer\\\\setup.exe\" --uninstall --msedge --channel=stable --system-level --verbose-logging')\n",
      "InstalledApplication(name='Microsoft Edge Update', version='1.3.163.19', install_date=None, install_location=None, install_source=None, modify_path=None, publisher=None, uninstall_string=None)\n",
      "InstalledApplication(name='Microsoft Edge WebView2 Runtime', version='103.0.1264.62', install_date=datetime.date(2022, 7, 17), install_location=WindowsPath('C:/Program Files (x86)/Microsoft/EdgeWebView/Application'), install_source=None, modify_path='\"C:\\\\Program Files (x86)\\\\Microsoft\\\\EdgeUpdate\\\\MicrosoftEdgeUpdate.exe\" /install appguid={F3017226-FE2A-4295-8BDF-00C3A9A7E4C5}&appname=Microsoft%20Edge%20WebView&needsadmin=true&repairtype=windowsonlinerepair /installsource otherinstallcmd', publisher='Microsoft Corporation', uninstall_string='\"C:\\\\Program Files (x86)\\\\Microsoft\\\\EdgeWebView\\\\Application\\\\103.0.1264.62\\\\Installer\\\\setup.exe\" --uninstall --msedgewebview --system-level --verbose-logging')\n",
      "InstalledApplication(name='PyCharm 2020.3.3', version='203.7148.72', install_date=None, install_location=WindowsPath('C:/Program Files/JetBrains/PyCharm 2020.3.3'), install_source=None, modify_path=None, publisher='JetBrains s.r.o.', uninstall_string='C:\\\\Program Files\\\\JetBrains\\\\PyCharm 2020.3.3\\\\bin\\\\Uninstall.exe')\n",
      "InstalledApplication(name='PyCharm Community Edition 2020.3.3', version='203.7148.72', install_date=None, install_location=WindowsPath('C:/Program Files/JetBrains/PyCharm Community Edition 2020.3.3'), install_source=None, modify_path=None, publisher='JetBrains s.r.o.', uninstall_string='C:\\\\Program Files\\\\JetBrains\\\\PyCharm Community Edition 2020.3.3\\\\bin\\\\Uninstall.exe')\n",
      "InstalledApplication(name='Skype version 8.78', version='8.78', install_date=datetime.date(2022, 1, 27), install_location=WindowsPath('C:/Program Files (x86)/Microsoft/Skype for Desktop'), install_source=None, modify_path=None, publisher='Skype Technologies S.A.', uninstall_string='\"C:\\\\Program Files (x86)\\\\Microsoft\\\\Skype for Desktop\\\\unins000.exe\"')\n",
      "InstalledApplication(name='Unity 2020.3.23f1', version='2020.3.23f1', install_date=None, install_location=None, install_source=None, modify_path=None, publisher='Unity Technologies ApS', uninstall_string='C:\\\\Program Files\\\\Unity\\\\Hub\\\\Editor\\\\2020.3.23f1\\\\Editor\\\\Uninstall.exe')\n",
      "InstalledApplication(name='V-Ray for SketchUp adv', version='2.00.25244', install_date=datetime.date(2021, 9, 20), install_location=WindowsPath('C:/Program Files/SketchUp/SketchUp 2016'), install_source=None, modify_path=None, publisher='Chaos Software, Ltd', uninstall_string='C:\\\\ProgramData\\\\ASGVIS\\\\Uninstall_VRayForSketchUp.exe')\n",
      "InstalledApplication(name='VLC media player', version='3.0.12', install_date=None, install_location=WindowsPath('C:/Program Files (x86)/VideoLAN/VLC'), install_source=None, modify_path=None, publisher='VideoLAN', uninstall_string='\"C:\\\\Program Files (x86)\\\\VideoLAN\\\\VLC\\\\uninstall.exe\"')\n",
      "InstalledApplication(name='SketchUp Pro 2021', version='21.1.299', install_date=None, install_location=None, install_source=None, modify_path='\"C:\\\\Program Files (x86)\\\\InstallShield Installation Information\\\\{09480c81-5458-4d69-ab73-ee488fe8c297}\\\\SketchUpPro-2021-1.1.exe\" -modify -runfromtemp', publisher='Trimble, Inc.', uninstall_string='\"C:\\\\Program Files (x86)\\\\InstallShield Installation Information\\\\{09480c81-5458-4d69-ab73-ee488fe8c297}\\\\SketchUpPro-2021-1.1.exe\" -remove -runfromtemp')\n",
      "InstalledApplication(name='Typing Master 10', version='10.00', install_date=datetime.date(2021, 11, 29), install_location=WindowsPath('C:/Program Files (x86)/TypingMaster10'), install_source=None, modify_path=None, publisher='Typing Innovation Group Ltd', uninstall_string='\"C:\\\\Program Files (x86)\\\\TypingMaster10\\\\unins000.exe\"')\n",
      "InstalledApplication(name='Microsoft SQL Server 2014 Policies ', version='12.0.2000.8', install_date=datetime.date(2021, 5, 19), install_location='', install_source=WindowsPath('C:/Users/shind/Downloads/SQLManagementStudio_x64_ENU/1033_ENU_LP/x64/setup'), modify_path='MsiExec.exe /I{1C30FE7E-8A8C-4492-89D6-10CB20C3B0EB}', publisher='Microsoft Corporation', uninstall_string='MsiExec.exe /I{1C30FE7E-8A8C-4492-89D6-10CB20C3B0EB}')\n",
      "InstalledApplication(name='Windows SDK AddOn', version='10.1.0.0', install_date=datetime.date(2021, 5, 7), install_location='', install_source=WindowsPath('C:/ProgramData/Package Cache/{1E76DFA7-96F3-4281-8E41-8A226C3E42EE}v10.1.0.0/Redistributable/10.1.0.0'), modify_path='MsiExec.exe /I{1E76DFA7-96F3-4281-8E41-8A226C3E42EE}', publisher='Microsoft Corporation', uninstall_string='MsiExec.exe /I{1E76DFA7-96F3-4281-8E41-8A226C3E42EE}')\n",
      "InstalledApplication(name='MySQL Installer - Community', version='1.6.2.0', install_date=datetime.date(2022, 7, 18), install_location='', install_source=WindowsPath('C:/Users/shind/Downloads'), modify_path='MsiExec.exe /I{31F353FB-E090-40C9-B802-E0BBBB16792C}', publisher='Oracle Corporation', uninstall_string='MsiExec.exe /I{31F353FB-E090-40C9-B802-E0BBBB16792C}')\n",
      "InstalledApplication(name='SQL Server Browser for SQL Server 2014', version='12.0.2000.8', install_date=datetime.date(2021, 5, 19), install_location='', install_source=WindowsPath('C:/Users/shind/Downloads/SQLEXPR_x64_ENU/1033_ENU_LP/x64/setup'), modify_path='MsiExec.exe /X{3204DE95-97D2-4261-A286-98A262E171D4}', publisher='Microsoft Corporation', uninstall_string='MsiExec.exe /X{3204DE95-97D2-4261-A286-98A262E171D4}')\n",
      "InstalledApplication(name='Microsoft Report Viewer 2014 Runtime', version='12.0.2000.8', install_date=datetime.date(2021, 5, 19), install_location='', install_source=WindowsPath('C:/Users/shind/Downloads/SQLManagementStudio_x64_ENU/1033_ENU_LP/x64/setup'), modify_path='MsiExec.exe /I{327E9C0D-1687-414F-923E-F5979E549548}', publisher='Microsoft Corporation', uninstall_string='MsiExec.exe /I{327E9C0D-1687-414F-923E-F5979E549548}')\n",
      "InstalledApplication(name='Intel(R) Chipset Device Software', version='10.1.18121.8164', install_date=None, install_location=None, install_source=None, modify_path=None, publisher='Intel(R) Corporation', uninstall_string='\"C:\\\\ProgramData\\\\Package Cache\\\\{37942a92-9e3f-4d70-9b5c-5955cbc54505}\\\\SetupChipset.exe\"  /uninstall')\n",
      "InstalledApplication(name='MySQL Connector J', version='8.0.29', install_date=datetime.date(2022, 7, 18), install_location=WindowsPath('C:/Program Files (x86)/MySQL/Connector J 8.0'), install_source=WindowsPath('C:/ProgramData/MySQL/MySQL Installer for Windows/Product Cache'), modify_path='MsiExec.exe /I{3F18612C-8529-4888-9D68-D6D20AD971CB}', publisher='Oracle Corporation', uninstall_string='MsiExec.exe /I{3F18612C-8529-4888-9D68-D6D20AD971CB}')\n",
      "InstalledApplication(name='Realtek Card Reader', version='10.0.18362.31255', install_date=datetime.date(2020, 6, 28), install_location=WindowsPath('C:/Program Files (x86)/Realtek/Realtek Card Reader'), install_source=WindowsPath('C:/Drivers/CardReader/Realtek/0xe90d52cd/RtsUer_10.0.18362.31255_W19H1_WHQL_20190925'), modify_path='\"C:\\\\Program Files (x86)\\\\InstallShield Installation Information\\\\{5BC2B5AB-80DE-4E83-B8CF-426902051D0A}\\\\setup.exe\" -runfromtemp -l0x0409 ', publisher='Realtek Semiconductor Corp.', uninstall_string='\"C:\\\\Program Files (x86)\\\\InstallShield Installation Information\\\\{5BC2B5AB-80DE-4E83-B8CF-426902051D0A}\\\\setup.exe\" -runfromtemp  -removeonly')\n",
      "InstalledApplication(name='Microsoft Visual C++ 2013 Redistributable (x64) - 12.0.40649', version='12.0.40649.5', install_date=None, install_location=None, install_source=None, modify_path='\"C:\\\\ProgramData\\\\Package Cache\\\\{5d0723d3-cff7-4e07-8d0b-ada737deb5e6}\\\\vcredist_x64.exe\" /modify', publisher='Microsoft Corporation', uninstall_string='\"C:\\\\ProgramData\\\\Package Cache\\\\{5d0723d3-cff7-4e07-8d0b-ada737deb5e6}\\\\vcredist_x64.exe\"  /uninstall')\n",
      "InstalledApplication(name='Microsoft Visual C++ 2010  x86 Runtime - 10.0.40219', version='10.0.40219', install_date=datetime.date(2021, 5, 19), install_location='', install_source=WindowsPath('C:/Users/shind/Downloads/SQLManagementStudio_x64_ENU/redist/VisualStudioShell/VCRuntimes'), modify_path='MsiExec.exe /X{5D9ED403-94DE-3BA0-B1D6-71F4BDA412E6}', publisher='Microsoft Corporation', uninstall_string='MsiExec.exe /X{5D9ED403-94DE-3BA0-B1D6-71F4BDA412E6}')\n",
      "InstalledApplication(name='Windows Software Development Kit - Windows 10.0.17763.132', version='10.1.17763.132', install_date=None, install_location=None, install_source=None, modify_path='\"C:\\\\ProgramData\\\\Package Cache\\\\{5fe95b9d-9219-4d8b-a031-71323ae48a81}\\\\winsdksetup.exe\" /modify', publisher='Microsoft Corporation', uninstall_string='\"C:\\\\ProgramData\\\\Package Cache\\\\{5fe95b9d-9219-4d8b-a031-71323ae48a81}\\\\winsdksetup.exe\"  /uninstall')\n",
      "InstalledApplication(name='Windows Software Development Kit - Windows 10.0.16299.15', version='10.1.16299.15', install_date=None, install_location=None, install_source=None, modify_path='\"C:\\\\ProgramData\\\\Package Cache\\\\{6195c203-b53c-4bb7-983a-6070a902e704}\\\\winsdksetup.exe\" /modify', publisher='Microsoft Corporation', uninstall_string='\"C:\\\\ProgramData\\\\Package Cache\\\\{6195c203-b53c-4bb7-983a-6070a902e704}\\\\winsdksetup.exe\"  /uninstall')\n",
      "InstalledApplication(name='Microsoft Visual C++ 2012 Redistributable (x64) - 11.0.51106', version='11.0.51106.1', install_date=None, install_location=None, install_source=None, modify_path='\"C:\\\\ProgramData\\\\Package Cache\\\\{6e8f74e0-43bd-4dce-8477-6ff6828acc07}\\\\vcredist_x64.exe\" /modify', publisher='Microsoft Corporation', uninstall_string='\"C:\\\\ProgramData\\\\Package Cache\\\\{6e8f74e0-43bd-4dce-8477-6ff6828acc07}\\\\vcredist_x64.exe\"  /uninstall')\n",
      "InstalledApplication(name='Microsoft Visual C++ 2005 Redistributable', version='8.0.61001', install_date=datetime.date(2021, 9, 20), install_location='', install_source=WindowsPath('C:/Users/shind/AppData/Local/Temp/IXP000.TMP'), modify_path='MsiExec.exe /X{710f4c1c-cc18-4c49-8cbf-51240c89a1a2}', publisher='Microsoft Corporation', uninstall_string='MsiExec.exe /X{710f4c1c-cc18-4c49-8cbf-51240c89a1a2}')\n",
      "InstalledApplication(name='MySQL Documents 8.0', version='8.0.29', install_date=datetime.date(2022, 7, 18), install_location=WindowsPath('C:/Program Files (x86)/MySQL/MySQL Documentation 8.0'), install_source=WindowsPath('C:/ProgramData/MySQL/MySQL Installer for Windows/Product Cache'), modify_path='MsiExec.exe /I{79512FBB-08B5-497A-86DD-3772094EE4BB}', publisher='Oracle Corporation', uninstall_string='MsiExec.exe /I{79512FBB-08B5-497A-86DD-3772094EE4BB}')\n",
      "InstalledApplication(name='MySQL Examples and Samples 8.0', version='8.0.29', install_date=datetime.date(2022, 7, 18), install_location=WindowsPath('C:/Program Files (x86)/MySQL/Samples and Examples 8.0'), install_source=WindowsPath('C:/ProgramData/MySQL/MySQL Installer for Windows/Product Cache'), modify_path='MsiExec.exe /I{7A7D3F80-C0E0-4BD0-819F-6C96CCA43664}', publisher='Oracle Corporation', uninstall_string='MsiExec.exe /I{7A7D3F80-C0E0-4BD0-819F-6C96CCA43664}')\n",
      "InstalledApplication(name='Microsoft SQL Server 2008 R2 Management Objects', version='10.51.2500.0', install_date=datetime.date(2021, 5, 19), install_location='', install_source=WindowsPath('C:/Users/shind/Downloads/SQLManagementStudio_x64_ENU/1033_ENU_LP/redist/VisualStudioShell/SMO'), modify_path='MsiExec.exe /I{83F2B8F4-5CF3-4BE9-9772-9543EAE4AC5F}', publisher='Microsoft Corporation', uninstall_string='MsiExec.exe /I{83F2B8F4-5CF3-4BE9-9772-9543EAE4AC5F}')\n",
      "InstalledApplication(name='Realtek Ethernet Controller Driver', version='10.36.701.2019', install_date=datetime.date(2020, 6, 28), install_location=WindowsPath('C:/Program Files (x86)/Realtek/NICDRV_8169'), install_source=WindowsPath('C:/Drivers/LAN/Realtek/0x79aedbc6/Install_Win10_10036_10222019'), modify_path='\"C:\\\\Program Files (x86)\\\\InstallShield Installation Information\\\\{8833FFB6-5B0C-4764-81AA-06DFEED9A476}\\\\setup.exe\" -runfromtemp', publisher='Realtek', uninstall_string='\"C:\\\\Program Files (x86)\\\\InstallShield Installation Information\\\\{8833FFB6-5B0C-4764-81AA-06DFEED9A476}\\\\setup.exe\" -runfromtemp -removeonly')\n",
      "InstalledApplication(name='Microsoft Visual C++ 2013 Redistributable (x86) - 12.0.30501', version='12.0.30501.0', install_date=None, install_location=None, install_source=None, modify_path='\"C:\\\\ProgramData\\\\Package Cache\\\\{8e24fb65-31aa-446d-9c3e-35c5e11cb367}\\\\vcredist_x86.exe\" /modify', publisher='Microsoft Corporation', uninstall_string='\"C:\\\\ProgramData\\\\Package Cache\\\\{8e24fb65-31aa-446d-9c3e-35c5e11cb367}\\\\vcredist_x86.exe\"  /uninstall')\n",
      "InstalledApplication(name='TypingMaster TypingTest', version='6.30', install_date=None, install_location=WindowsPath('C:/Program Files (x86)/TypingMaster/TypingTest'), install_source=None, modify_path=None, publisher='TypingMaster Inc', uninstall_string='\"C:\\\\Program Files (x86)\\\\TypingMaster\\\\TypingTest\\\\unins000.exe\"')\n",
      "InstalledApplication(name='Microsoft Visual C++ 2008 Redistributable - x86 9.0.30729.6161', version='9.0.30729.6161', install_date=datetime.date(2021, 5, 19), install_location='', install_source=WindowsPath('c:/7409201a9290226564fc460f3e'), modify_path='MsiExec.exe /X{9BE518E6-ECC6-35A9-88E4-87755C07200F}', publisher='Microsoft Corporation', uninstall_string='MsiExec.exe /X{9BE518E6-ECC6-35A9-88E4-87755C07200F}')\n",
      "InstalledApplication(name='Microsoft GameInput', version='10.1.22621.1011', install_date=datetime.date(2022, 6, 9), install_location='', install_source=WindowsPath('C:/Program Files/WindowsApps/Microsoft.GamingServices_4.66.2001.0_x64__8wekyb3d8bbwe'), modify_path='MsiExec.exe /I{A9CFD6A1-C0D3-7F37-C220-8B104867EF15}', publisher='Microsoft Corporation', uninstall_string='MsiExec.exe /I{A9CFD6A1-C0D3-7F37-C220-8B104867EF15}')\n",
      "InstalledApplication(name='Python Launcher', version='3.9.7427.0', install_date=datetime.date(2021, 5, 7), install_location='', install_source=WindowsPath('C:/ProgramData/Package Cache/{B6EF11B6-0882-43B1-AA75-4D3BD32A144A}v3.9.7427.0'), modify_path='MsiExec.exe /X{B6EF11B6-0882-43B1-AA75-4D3BD32A144A}', publisher='Python Software Foundation', uninstall_string='MsiExec.exe /X{B6EF11B6-0882-43B1-AA75-4D3BD32A144A}')\n",
      "InstalledApplication(name='Microsoft Visual C++ 2015-2019 Redistributable (x86) - 14.29.30135', version='14.29.30135.0', install_date=None, install_location=None, install_source=None, modify_path='\"C:\\\\ProgramData\\\\Package Cache\\\\{b7a2b241-3f54-4d7d-94d1-8ce0146e03c7}\\\\VC_redist.x86.exe\" /modify', publisher='Microsoft Corporation', uninstall_string='\"C:\\\\ProgramData\\\\Package Cache\\\\{b7a2b241-3f54-4d7d-94d1-8ce0146e03c7}\\\\VC_redist.x86.exe\"  /uninstall')\n",
      "InstalledApplication(name='Microsoft Visual C++ 2008 Redistributable - x86 9.0.30729.4974', version='9.0.30729.4974', install_date=datetime.date(2021, 5, 19), install_location='', install_source=WindowsPath('C:/Users/shind/Downloads/SQLManagementStudio_x64_ENU/redist/VisualStudioShell/VC90SP1'), modify_path='MsiExec.exe /X{B7E38540-E355-3503-AFD7-635B2F2F76E1}', publisher='Microsoft Corporation', uninstall_string='MsiExec.exe /X{B7E38540-E355-3503-AFD7-635B2F2F76E1}')\n",
      "InstalledApplication(name='Microsoft SQL Server System CLR Types', version='10.51.2500.0', install_date=datetime.date(2021, 5, 19), install_location='', install_source=WindowsPath('C:/Users/shind/Downloads/SQLManagementStudio_x64_ENU/1033_ENU_LP/redist/VisualStudioShell/SQLSysClrTypes'), modify_path='MsiExec.exe /I{C3F6F200-6D7B-4879-B9EE-700C0CE1FCDA}', publisher='Microsoft Corporation', uninstall_string='MsiExec.exe /I{C3F6F200-6D7B-4879-B9EE-700C0CE1FCDA}')\n",
      "InstalledApplication(name='Microsoft .NET Framework 4 Multi-Targeting Pack', version='4.0.30319', install_date=datetime.date(2021, 5, 19), install_location='', install_source=WindowsPath('C:/Users/shind/Downloads/SQLManagementStudio_x64_ENU/redist/VisualStudioShell/MTPack'), modify_path='MsiExec.exe /I{CFEF48A8-BFB8-3EAC-8BA5-DE4F8AA267CE}', publisher='Microsoft Corporation', uninstall_string='MsiExec.exe /I{CFEF48A8-BFB8-3EAC-8BA5-DE4F8AA267CE}')\n",
      "InstalledApplication(name='Microsoft Visual Studio 2010 Shell (Isolated) - ENU', version='10.0.40219', install_date=datetime.date(2021, 5, 19), install_location='', install_source=WindowsPath('C:/Users/shind/Downloads/SQLManagementStudio_x64_ENU/1033_ENU_LP/redist/VisualStudioShell/VSSetup'), modify_path='MsiExec.exe /X{D64B6984-242F-32BC-B008-752806E5FC44}', publisher='Microsoft Corporation', uninstall_string='MsiExec.exe /X{D64B6984-242F-32BC-B008-752806E5FC44}')\n",
      "InstalledApplication(name='MySQL Connector Net 8.0.29', version='8.0.29', install_date=datetime.date(2022, 7, 18), install_location=WindowsPath('C:/Program Files (x86)/MySQL/Connector NET 8.0'), install_source=WindowsPath('C:/ProgramData/MySQL/MySQL Installer for Windows/Product Cache'), modify_path='MsiExec.exe /I{DB1815C1-AC6F-4775-809F-4DD2A2AC1DC1}', publisher='Oracle', uninstall_string='MsiExec.exe /I{DB1815C1-AC6F-4775-809F-4DD2A2AC1DC1}')\n",
      "InstalledApplication(name='MSI SDK', version='2.2020.1029.00', install_date=datetime.date(2020, 11, 1), install_location=WindowsPath('C:/Program Files (x86)/MSI/One Dragon Center'), install_source=None, modify_path=None, publisher='MSI', uninstall_string='\"C:\\\\Program Files (x86)\\\\MSI\\\\One Dragon Center\\\\unins000.exe\"')\n",
      "InstalledApplication(name='Tableau 2020.4 (20204.21.0114.0916)', version='20.4.1644', install_date=None, install_location=None, install_source=None, modify_path=None, publisher='Tableau Software', uninstall_string='\"C:\\\\ProgramData\\\\Package Cache\\\\{ee9f5401-5b6a-4e4e-a05f-5d66ccb1d36d}\\\\tableau-setup-online-tableau-2020-4.21.0114.0916-x64.exe\" /modify')\n",
      "InstalledApplication(name='Node.js', version='14.16.1', install_date=datetime.date(2021, 5, 7), install_location='', install_source=WindowsPath('C:/Users/shind/Downloads'), modify_path='MsiExec.exe /I{F007B9DA-08E9-4B4B-9127-B5F39A849397}', publisher='Node.js Foundation', uninstall_string='MsiExec.exe /I{F007B9DA-08E9-4B4B-9127-B5F39A849397}')\n",
      "InstalledApplication(name='Microsoft Visual C++ 2010  x86 Redistributable - 10.0.40219', version='10.0.40219', install_date=datetime.date(2021, 5, 22), install_location='', install_source=WindowsPath('C:/Users/shind/Downloads/SQLEXPR_x64_ENU/redist/VisualStudioShell/VC10SP1/x86'), modify_path='MsiExec.exe /X{F0C3E5D1-1ADE-321E-8167-68EF0DE699A5}', publisher='Microsoft Corporation', uninstall_string='MsiExec.exe /X{F0C3E5D1-1ADE-321E-8167-68EF0DE699A5}')\n",
      "InstalledApplication(name='Realtek Audio Driver', version='6.0.8918.1', install_date=datetime.date(2020, 6, 28), install_location=WindowsPath('C:/Program Files (x86)/Realtek/Audio/Drivers'), install_source=WindowsPath('C:/Drivers/Audio/Realtek/0x020c8868/8918.1_UAD_WHQL_Nahimic_2020_0320_144338'), modify_path='\"C:\\\\Program Files (x86)\\\\InstallShield Installation Information\\\\{F132AF7F-7BCA-4EDE-8A7C-958108FE7DBC}\\\\Setup.exe\" -runfromtemp ', publisher='Realtek Semiconductor Corp.', uninstall_string='\"C:\\\\Program Files (x86)\\\\InstallShield Installation Information\\\\{F132AF7F-7BCA-4EDE-8A7C-958108FE7DBC}\\\\Setup.exe\" -runfromtemp  -removeonly')\n",
      "InstalledApplication(name='Microsoft Visual C++ 2015-2019 Redistributable (x64) - 14.29.30135', version='14.29.30135.0', install_date=None, install_location=None, install_source=None, modify_path='\"C:\\\\ProgramData\\\\Package Cache\\\\{fa7f6d52-f85e-48ef-8f56-a37268aa5772}\\\\VC_redist.x64.exe\" /modify', publisher='Microsoft Corporation', uninstall_string='\"C:\\\\ProgramData\\\\Package Cache\\\\{fa7f6d52-f85e-48ef-8f56-a37268aa5772}\\\\VC_redist.x64.exe\"  /uninstall')\n",
      "InstalledApplication(name='MySQL for Visual Studio 1.2.10', version='1.2.10', install_date=datetime.date(2022, 7, 18), install_location=WindowsPath('C:/Program Files (x86)/MySQL/MySQL for Visual Studio 1.2'), install_source=WindowsPath('C:/ProgramData/MySQL/MySQL Installer for Windows/Product Cache'), modify_path='MsiExec.exe /I{FFB40224-64C0-4D82-ADC4-6B9434B90800}', publisher='Oracle', uninstall_string='MsiExec.exe /I{FFB40224-64C0-4D82-ADC4-6B9434B90800}')\n"
     ]
    }
   ],
   "source": [
    "#q12 : Write a code to check a installation in your system\n",
    "# import modules\n",
    "import winapps\n",
    " \n",
    "# get each application with list_installed()\n",
    "for item in winapps.list_installed():\n",
    "    print(item)"
   ]
  },
  {
   "cell_type": "code",
   "execution_count": 45,
   "metadata": {},
   "outputs": [
    {
     "name": "stdout",
     "output_type": "stream",
     "text": [
      "'playsound' already in sys.modules\n"
     ]
    }
   ],
   "source": [
    "#q12 : Write a code to check a perticular installation in your system\n",
    "import importlib.util\n",
    "import sys\n",
    "\n",
    "# For illustrative purposes.\n",
    "name = 'playsound'\n",
    "\n",
    "if name in sys.modules:\n",
    "    print(f\"{name!r} already in sys.modules\")\n",
    "elif (spec := importlib.util.find_spec(name)) is not None:\n",
    "    # If you choose to perform the actual import ...\n",
    "    module = importlib.util.module_from_spec(spec)\n",
    "    sys.modules[name] = module\n",
    "    spec.loader.exec_module(module)\n",
    "    print(f\"{name!r} has been imported\")\n",
    "else:\n",
    "    print(f\"can't find the {name!r} module\")"
   ]
  },
  {
   "cell_type": "code",
   "execution_count": 47,
   "metadata": {},
   "outputs": [],
   "source": [
    "#q12 : Write a code to check a installation in your system\n",
    "# import modules\n",
    "import winapps\n",
    "\n",
    "name = 'MySQL Documents 8.0'\n",
    "# get each application with list_installed()\n",
    "for item in winapps.list_installed():\n",
    "    if item == name:\n",
    "        print(\"YES\")"
   ]
  },
  {
   "cell_type": "code",
   "execution_count": 60,
   "metadata": {},
   "outputs": [
    {
     "name": "stdout",
     "output_type": "stream",
     "text": [
      "14\n"
     ]
    }
   ],
   "source": [
    "#q14 : you have to write a fun which will take string and return a len of it without using a inbuilt fun len.\n",
    "\n",
    "def findLength(string):\n",
    "    count = 0\n",
    "    for i in string:\n",
    "        count+= 1\n",
    "    return count\n",
    "\n",
    "string = \"asdfasdfsafdfs\"\n",
    "print(findLength(string))"
   ]
  },
  {
   "cell_type": "code",
   "execution_count": 5,
   "metadata": {},
   "outputs": [
    {
     "name": "stdout",
     "output_type": "stream",
     "text": [
      "0\n",
      "1\n",
      "2\n",
      "3\n",
      "4\n"
     ]
    }
   ],
   "source": [
    "#q15 :write a fun which will be able to print an index of all premitive element which you will pass\n",
    "\n",
    "l = [[1,2,3,4,5,6,6],'w','t','y','u']\n",
    "\n",
    "for i in range(len(l)):\n",
    "    print(i)\n",
    "\n"
   ]
  },
  {
   "cell_type": "code",
   "execution_count": 59,
   "metadata": {},
   "outputs": [
    {
     "name": "stdout",
     "output_type": "stream",
     "text": [
      "18\n"
     ]
    }
   ],
   "source": [
    "#q16 : Write a fun which will take input as a dict and give me out as a list of all the values  even in case of 2 level nesting it should work."
   ]
  },
  {
   "cell_type": "code",
   "execution_count": 6,
   "metadata": {},
   "outputs": [],
   "source": [
    "d = {'name': 'John', 'age': '27', 'details':{'name': 'Marie', 'age': '22', 'sex': 'Female'}}\n",
    "\n",
    "   "
   ]
  },
  {
   "cell_type": "code",
   "execution_count": 9,
   "metadata": {},
   "outputs": [],
   "source": [
    "a = {'name': 'Marie', 'age': '22', 'sex': 'Female'}"
   ]
  },
  {
   "cell_type": "code",
   "execution_count": 14,
   "metadata": {},
   "outputs": [
    {
     "data": {
      "text/plain": [
       "dict_values(['Marie', '22', 'Female'])"
      ]
     },
     "execution_count": 14,
     "metadata": {},
     "output_type": "execute_result"
    }
   ],
   "source": [
    "c=a.values()\n",
    "c"
   ]
  },
  {
   "cell_type": "code",
   "execution_count": 16,
   "metadata": {},
   "outputs": [
    {
     "data": {
      "text/plain": [
       "dict_keys(['name', 'age', 'sex'])"
      ]
     },
     "execution_count": 16,
     "metadata": {},
     "output_type": "execute_result"
    }
   ],
   "source": [
    "f=a.keys()\n",
    "f"
   ]
  },
  {
   "cell_type": "code",
   "execution_count": 26,
   "metadata": {},
   "outputs": [
    {
     "name": "stdout",
     "output_type": "stream",
     "text": [
      "['John', '27', {'name': 'Marie', 'age': '22', 'sex': 'Female'}]\n"
     ]
    }
   ],
   "source": [
    "w=[]\n",
    "for i in d.values():\n",
    "    w.append(i)\n",
    "    \n",
    "print(w)"
   ]
  },
  {
   "cell_type": "code",
   "execution_count": 27,
   "metadata": {},
   "outputs": [
    {
     "name": "stdout",
     "output_type": "stream",
     "text": [
      "Collecting opencv.python\n",
      "  Downloading opencv_python-4.6.0.66-cp36-abi3-win_amd64.whl (35.6 MB)\n",
      "Requirement already satisfied: numpy>=1.17.3; python_version >= \"3.8\" in c:\\users\\shind\\anaconda3\\lib\\site-packages (from opencv.python) (1.19.2)\n",
      "Installing collected packages: opencv.python\n",
      "Successfully installed opencv.python\n"
     ]
    }
   ],
   "source": [
    "#q19 : write a function whihc will be able to read a image file and show it to you.\n",
    "!pip install opencv.python"
   ]
  },
  {
   "cell_type": "code",
   "execution_count": null,
   "metadata": {},
   "outputs": [],
   "source": [
    "import cv2 \n",
    "def read_img(b):\n",
    "    import cv2 \n",
    "    a = cv2.imread(b)\n",
    "    cv2.imshow(\"myimg\",a)\n",
    "    cv2.waitKey(5000)\n",
    "    cv2.destroyWindow('myimg')\n"
   ]
  },
  {
   "cell_type": "code",
   "execution_count": 3,
   "metadata": {},
   "outputs": [
    {
     "name": "stdout",
     "output_type": "stream",
     "text": [
      "Collecting PyPDF2\n",
      "  Downloading PyPDF2-2.8.1-py3-none-any.whl (204 kB)\n",
      "Requirement already satisfied: typing-extensions; python_version < \"3.10\" in c:\\users\\shind\\anaconda3\\lib\\site-packages (from PyPDF2) (3.7.4.3)\n",
      "Installing collected packages: PyPDF2\n",
      "Successfully installed PyPDF2-2.8.1\n"
     ]
    }
   ],
   "source": [
    "!pip install PyPDF2"
   ]
  },
  {
   "cell_type": "code",
   "execution_count": 8,
   "metadata": {},
   "outputs": [],
   "source": [
    "read_img('C:/Users/shind/OneDrive/Desktop/Shivraj Shinde Photo1.jpg')"
   ]
  },
  {
   "cell_type": "code",
   "execution_count": 28,
   "metadata": {},
   "outputs": [],
   "source": [
    "#q20 : write a function by which you will be able to append two PDF files.\n",
    "from PyPDF2 import PdfFileMerger\n",
    "\n",
    "\n",
    "def mergePDF1(a,b):\n",
    "    merger = PdfFileMerger()\n",
    "\n",
    "    pdf_files = [a,b]\n",
    "\n",
    "    for pdf_file in pdf_files:\n",
    "        merger.append(pdf_file)\n",
    "\n",
    "    merger.write(\"C:/Users/shind/OneDrive/Desktop/shivraj Resume/New folder/merged_2_pages3.pdf\")\n",
    "    merger.close()\n",
    "    \n",
    "\n",
    "    \n",
    "\n",
    "mergePDF1(\"C:/Users/shind/OneDrive/Desktop/shivraj Resume/New folder/SHIVRAJResume1.pdf\",\"C:/Users/shind/OneDrive/Desktop/shivraj Resume/New folder/SHIVRAJResume2.pdf\")\n",
    "\n"
   ]
  },
  {
   "cell_type": "code",
   "execution_count": null,
   "metadata": {},
   "outputs": [],
   "source": [
    "from PyPDF2 import PdfFileMerger\n",
    "#Create and instance of PdfFileMerger() class\n",
    "merger = PdfFileMerger()\n",
    "#Create a list with file names\n",
    "pdf_files = ['pdf_files/sample_page1.pdf', 'pdf_files/sample_page2.pdf']\n",
    "#Iterate over the list of file names\n",
    "for pdf_file in pdf_files:\n",
    "    #Append PDF files\n",
    "    merger.append(pdf_file)\n",
    "#Write out the merged PDF\n",
    "merger.write(\"merged_2_pages.pdf\")\n",
    "merger.close()"
   ]
  },
  {
   "cell_type": "code",
   "execution_count": 8,
   "metadata": {},
   "outputs": [
    {
     "name": "stdout",
     "output_type": "stream",
     "text": [
      "C:/Users/shind/OneDrive/Desktop/shivraj Resume\\Shivraj Resume Updated.pdf\n",
      "C:/Users/shind/OneDrive/Desktop/shivraj Resume\\SHIVRAJ's Resume (12)(1).pdf\n",
      "C:/Users/shind/OneDrive/Desktop/shivraj Resume\\SHIVRAJ's Resume (12).pdf\n",
      "C:/Users/shind/OneDrive/Desktop/shivraj Resume\\SHIVRAJ's Resume (13).pdf\n",
      "C:/Users/shind/OneDrive/Desktop/shivraj Resume\\SHIVRAJ's Resume Latest.pdf\n",
      "C:/Users/shind/OneDrive/Desktop/shivraj Resume\\New folder\\merged_2_pages3.pdf\n",
      "C:/Users/shind/OneDrive/Desktop/shivraj Resume\\New folder\\SHIVRAJResume1.pdf\n",
      "C:/Users/shind/OneDrive/Desktop/shivraj Resume\\New folder\\SHIVRAJResume2.pdf\n"
     ]
    }
   ],
   "source": [
    "import os\n",
    "# traverse whole directory\n",
    "def printFile(a):\n",
    "    for root, dirs, files in os.walk(a):\n",
    "        # select file name\n",
    "        for file in files:\n",
    "            # check the extension of files\n",
    "            if file.endswith('.pdf'):\n",
    "                # print whole path of files\n",
    "                print(os.path.join(root, file))\n",
    "\n",
    "            \n",
    "printFile('C:/Users/shind/OneDrive/Desktop/shivraj Resume')"
   ]
  },
  {
   "cell_type": "code",
   "execution_count": 2,
   "metadata": {},
   "outputs": [
    {
     "data": {
      "text/plain": [
       "[2, 4, 6, 8, 10, 'hello']"
      ]
     },
     "execution_count": 2,
     "metadata": {},
     "output_type": "execute_result"
    }
   ],
   "source": [
    "spam=[2, 4, 6, 8, 10]\n",
    "\n",
    "spam.append(\"hello\")\n",
    "spam"
   ]
  },
  {
   "cell_type": "code",
   "execution_count": 7,
   "metadata": {},
   "outputs": [
    {
     "ename": "NameError",
     "evalue": "name 'spam1' is not defined",
     "output_type": "error",
     "traceback": [
      "\u001b[1;31m---------------------------------------------------------------------------\u001b[0m",
      "\u001b[1;31mNameError\u001b[0m                                 Traceback (most recent call last)",
      "\u001b[1;32m<ipython-input-7-302feb80acb7>\u001b[0m in \u001b[0;36m<module>\u001b[1;34m\u001b[0m\n\u001b[1;32m----> 1\u001b[1;33m \u001b[0mspam1\u001b[0m\u001b[1;33m[\u001b[0m\u001b[0mint\u001b[0m\u001b[1;33m(\u001b[0m\u001b[0mint\u001b[0m\u001b[1;33m(\u001b[0m\u001b[1;34m'3'\u001b[0m \u001b[1;33m*\u001b[0m \u001b[1;36m2\u001b[0m\u001b[1;33m)\u001b[0m \u001b[1;33m/\u001b[0m \u001b[1;36m11\u001b[0m\u001b[1;33m)\u001b[0m\u001b[1;33m]\u001b[0m\u001b[1;33m\u001b[0m\u001b[1;33m\u001b[0m\u001b[0m\n\u001b[0m",
      "\u001b[1;31mNameError\u001b[0m: name 'spam1' is not defined"
     ]
    }
   ],
   "source": [
    "spam1[int(int('3' * 2) / 11)]"
   ]
  },
  {
   "cell_type": "code",
   "execution_count": 6,
   "metadata": {},
   "outputs": [
    {
     "data": {
      "text/plain": [
       "3"
      ]
     },
     "execution_count": 6,
     "metadata": {},
     "output_type": "execute_result"
    }
   ],
   "source": [
    "int(int('3' * 2)/11)"
   ]
  },
  {
   "cell_type": "code",
   "execution_count": 7,
   "metadata": {},
   "outputs": [
    {
     "data": {
      "text/plain": [
       "[3.14, 'cat', 11, 'cat', True, 99]"
      ]
     },
     "execution_count": 7,
     "metadata": {},
     "output_type": "execute_result"
    }
   ],
   "source": [
    "bacon = [3.14, 'cat', 11, 'cat', True]\n",
    "bacon.append(99)\n",
    "bacon"
   ]
  },
  {
   "cell_type": "code",
   "execution_count": 9,
   "metadata": {},
   "outputs": [
    {
     "data": {
      "text/plain": [
       "[3.14, 11, True, 99]"
      ]
     },
     "execution_count": 9,
     "metadata": {},
     "output_type": "execute_result"
    }
   ],
   "source": [
    "bacon.remove('cat')\n",
    "bacon"
   ]
  },
  {
   "cell_type": "code",
   "execution_count": 11,
   "metadata": {},
   "outputs": [
    {
     "name": "stdout",
     "output_type": "stream",
     "text": [
      "[(10, 50), (20, 'Python'), (30, 'JournalDev')]\n"
     ]
    }
   ],
   "source": [
    "lst1 = [10,20,30]\n",
    "lst2 = [50,\"Python\",\"JournalDev\"]\n",
    "lstOfTuple = list(zip(lst1,lst2))\n",
    "print(lstOfTuple)"
   ]
  },
  {
   "cell_type": "code",
   "execution_count": 3,
   "metadata": {},
   "outputs": [
    {
     "name": "stdout",
     "output_type": "stream",
     "text": [
      "[{'Age': '23', 'Country': 'USA', 'Name': 'John'},\n",
      " {'Age': '44', 'Country': 'Spain', 'Name': 'Jose'},\n",
      " {'Age': '29', 'Country': 'UK', 'Name': 'Anne'},\n",
      " {'Age': '35', 'Country': 'Japan', 'Name': 'Lee'}]\n"
     ]
    }
   ],
   "source": [
    "import pprint\n",
    "\n",
    "dct_arr = [\n",
    "  {'Name': 'John', 'Age': '23', 'Country': 'USA'},\n",
    "  {'Name': 'Jose', 'Age': '44', 'Country': 'Spain'},\n",
    "  {'Name': 'Anne', 'Age': '29', 'Country': 'UK'},\n",
    "  {'Name': 'Lee', 'Age': '35', 'Country': 'Japan'}\n",
    "]\n",
    "\n",
    "pprint.pprint(dct_arr)"
   ]
  },
  {
   "cell_type": "code",
   "execution_count": 4,
   "metadata": {},
   "outputs": [
    {
     "name": "stdout",
     "output_type": "stream",
     "text": [
      "[{'Name': 'John', 'Age': '23', 'Country': 'USA'}, {'Name': 'Jose', 'Age': '44', 'Country': 'Spain'}, {'Name': 'Anne', 'Age': '29', 'Country': 'UK'}, {'Name': 'Lee', 'Age': '35', 'Country': 'Japan'}]\n"
     ]
    }
   ],
   "source": [
    "print(dct_arr)"
   ]
  },
  {
   "cell_type": "code",
   "execution_count": 21,
   "metadata": {},
   "outputs": [
    {
     "name": "stdout",
     "output_type": "stream",
     "text": [
      "       banana       \n"
     ]
    }
   ],
   "source": [
    "\n",
    "x = \"banana\".center(20)\n",
    "\n",
    "print(x)"
   ]
  },
  {
   "cell_type": "code",
   "execution_count": 9,
   "metadata": {},
   "outputs": [
    {
     "data": {
      "text/plain": [
       "'Hello'"
      ]
     },
     "execution_count": 9,
     "metadata": {},
     "output_type": "execute_result"
    }
   ],
   "source": [
    "'Hello, world!'[0:5]\n"
   ]
  },
  {
   "cell_type": "code",
   "execution_count": 22,
   "metadata": {},
   "outputs": [
    {
     "data": {
      "text/plain": [
       "'hello'"
      ]
     },
     "execution_count": 22,
     "metadata": {},
     "output_type": "execute_result"
    }
   ],
   "source": [
    "'Hello'.upper().lower()"
   ]
  },
  {
   "cell_type": "code",
   "execution_count": 25,
   "metadata": {},
   "outputs": [
    {
     "name": "stdout",
     "output_type": "stream",
     "text": [
      "9\n"
     ]
    }
   ],
   "source": [
    "a=0\n",
    "for i in range (10):\n",
    "    if i==2:\n",
    "        pass\n",
    "    else:\n",
    "        a=i\n",
    "print(i)"
   ]
  },
  {
   "cell_type": "code",
   "execution_count": null,
   "metadata": {},
   "outputs": [],
   "source": []
  },
  {
   "cell_type": "code",
   "execution_count": null,
   "metadata": {},
   "outputs": [],
   "source": []
  },
  {
   "cell_type": "code",
   "execution_count": null,
   "metadata": {},
   "outputs": [],
   "source": []
  },
  {
   "cell_type": "code",
   "execution_count": null,
   "metadata": {},
   "outputs": [],
   "source": []
  },
  {
   "cell_type": "code",
   "execution_count": null,
   "metadata": {},
   "outputs": [],
   "source": []
  },
  {
   "cell_type": "code",
   "execution_count": 29,
   "metadata": {},
   "outputs": [
    {
     "name": "stdout",
     "output_type": "stream",
     "text": [
      "{(1, 1), (0, 0)}\n",
      "<zip object at 0x000001EA0D1EE800>\n"
     ]
    }
   ],
   "source": [
    "number_list=[0,1] \n",
    "str_list=[0,1,3]\n",
    "\n",
    "result = zip(number_list, str_list)\n",
    "\n",
    "result_set = set(result)\n",
    "print(result_set)\n",
    "\n",
    "print(result)"
   ]
  },
  {
   "cell_type": "code",
   "execution_count": 41,
   "metadata": {},
   "outputs": [],
   "source": [
    "def a(element,array):\n",
    "    for i, arre in enumerate(array):\n",
    "        return arre == element \n",
    "    return -1\n"
   ]
  },
  {
   "cell_type": "code",
   "execution_count": 43,
   "metadata": {},
   "outputs": [
    {
     "name": "stdout",
     "output_type": "stream",
     "text": [
      "24\n"
     ]
    }
   ],
   "source": [
    "f = lambda n:1 if n<=1 else n*f(n-1)\n",
    "\n",
    "g=f(4)\n",
    "print(g)"
   ]
  },
  {
   "cell_type": "code",
   "execution_count": 50,
   "metadata": {},
   "outputs": [
    {
     "name": "stdout",
     "output_type": "stream",
     "text": [
      "None\n"
     ]
    }
   ],
   "source": [
    "def deletebl(item):\n",
    "    i=0\n",
    "    while i<len(item):\n",
    "        if len(item) == 0:\n",
    "            del items[i]\n",
    "        i +=1\n",
    "    \n",
    "names = ['r','','m','','','','T']\n",
    "print(deletebl(names))\n"
   ]
  },
  {
   "cell_type": "code",
   "execution_count": 54,
   "metadata": {},
   "outputs": [
    {
     "name": "stdout",
     "output_type": "stream",
     "text": [
      "{'Hellow': {'word': {}}}\n"
     ]
    }
   ],
   "source": [
    "def a(b):\n",
    "    root={}\n",
    "    for s in b:\n",
    "        base = root\n",
    "        for word in s.split(' '):\n",
    "            if not base.get(word):\n",
    "                base[word]={}\n",
    "            base = base[word]\n",
    "        return root\n",
    "    \n",
    "tree  = a([\"Hellow word\",\"Hellow word\"])\n",
    "\n",
    "print(tree)\n",
    "        "
   ]
  },
  {
   "cell_type": "code",
   "execution_count": 55,
   "metadata": {},
   "outputs": [
    {
     "name": "stdout",
     "output_type": "stream",
     "text": [
      "0 [1]\n"
     ]
    }
   ],
   "source": [
    "def fun(a,b):\n",
    "    a +=1\n",
    "    b.append(1)\n",
    "\n",
    "a,b = 0,[]\n",
    "fun(a,b)\n",
    "print(a,b)"
   ]
  },
  {
   "cell_type": "code",
   "execution_count": 2,
   "metadata": {},
   "outputs": [
    {
     "name": "stdout",
     "output_type": "stream",
     "text": [
      "Welcome to turing\n"
     ]
    }
   ],
   "source": [
    "print(\"welcome to TURING\".capitalize())"
   ]
  },
  {
   "cell_type": "code",
   "execution_count": 9,
   "metadata": {},
   "outputs": [
    {
     "name": "stdout",
     "output_type": "stream",
     "text": [
      "24\n",
      "86400\n"
     ]
    }
   ],
   "source": [
    "MinutesInDay = 24 * 60\n",
    "secondsInDay = MinutesInDay *60\n",
    "secondsInHour = 60*60\n",
    "print(secondsInDay // secondsInHour)\n",
    "\n",
    "\n",
    "print(secondsInDay)"
   ]
  },
  {
   "cell_type": "code",
   "execution_count": 7,
   "metadata": {},
   "outputs": [
    {
     "name": "stdout",
     "output_type": "stream",
     "text": [
      "60\n"
     ]
    }
   ],
   "source": [
    "\n",
    "\n"
   ]
  },
  {
   "cell_type": "code",
   "execution_count": null,
   "metadata": {},
   "outputs": [],
   "source": []
  },
  {
   "cell_type": "code",
   "execution_count": null,
   "metadata": {},
   "outputs": [],
   "source": []
  },
  {
   "cell_type": "code",
   "execution_count": null,
   "metadata": {},
   "outputs": [],
   "source": []
  }
 ],
 "metadata": {
  "kernelspec": {
   "display_name": "Python 3",
   "language": "python",
   "name": "python3"
  },
  "language_info": {
   "codemirror_mode": {
    "name": "ipython",
    "version": 3
   },
   "file_extension": ".py",
   "mimetype": "text/x-python",
   "name": "python",
   "nbconvert_exporter": "python",
   "pygments_lexer": "ipython3",
   "version": "3.8.5"
  }
 },
 "nbformat": 4,
 "nbformat_minor": 4
}
