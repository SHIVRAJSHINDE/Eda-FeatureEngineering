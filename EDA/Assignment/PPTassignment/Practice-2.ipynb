{
 "cells": [
  {
   "cell_type": "code",
   "execution_count": 14,
   "metadata": {},
   "outputs": [
    {
     "name": "stdout",
     "output_type": "stream",
     "text": [
      "Its not prime Number\n"
     ]
    }
   ],
   "source": [
    "'''Print Prime Numbers'''\n",
    "'''prime number  is a number which is divisible by 1 and itself'''\n",
    "\n",
    "abc = 2\n",
    "abc = abc+1\n",
    "count = 0\n",
    "\n",
    "for i in range(1,abc):\n",
    "    if abc%i==0:\n",
    "        count = count+1\n",
    "if count == 2:\n",
    "    print(\"Its a Prime Nubmer\")\n",
    "else:\n",
    "    print(\"Its not prime Number\")\n",
    "    \n"
   ]
  },
  {
   "cell_type": "code",
   "execution_count": 56,
   "metadata": {},
   "outputs": [
    {
     "name": "stdout",
     "output_type": "stream",
     "text": [
      "1 Its a Prime Nubmer\n",
      "2 Its a Prime Nubmer\n",
      "3 Its a Prime Nubmer\n",
      "5 Its a Prime Nubmer\n",
      "7 Its a Prime Nubmer\n"
     ]
    }
   ],
   "source": [
    "'''Print Prime Numbers for a range'''\n",
    "\n",
    "abc = 10\n",
    "abc = abc\n",
    "\n",
    "count = 0\n",
    "\n",
    "for i in range(1, abc + 1):\n",
    "    for j in range(1, i+1):\n",
    "        if i % j == 0:\n",
    "            count = count + 1\n",
    "    if  (i ==1) or (count == 2):\n",
    "        print(i, \"Its a Prime Nubmer\")\n",
    "    else:\n",
    "        print(i,\"Not a prime\")\n",
    "    count = 0"
   ]
  },
  {
   "cell_type": "code",
   "execution_count": 94,
   "metadata": {},
   "outputs": [
    {
     "name": "stdout",
     "output_type": "stream",
     "text": [
      "\n",
      "* \n",
      "* * \n",
      "* * * \n",
      "* * * * \n",
      "* * * * * \n",
      "* * * * * * \n",
      "* * * * * * * \n",
      "* * * * * * * * \n"
     ]
    }
   ],
   "source": [
    "\"print LEFT Triangle Square\"\n",
    "\n",
    "for i in range(1,10):\n",
    "    for j in range(1,i):\n",
    "        print(\"*\",end=' ')\n",
    "    print()\n"
   ]
  },
  {
   "cell_type": "code",
   "execution_count": 103,
   "metadata": {},
   "outputs": [
    {
     "name": "stdout",
     "output_type": "stream",
     "text": [
      "* * * * * * * * * \n",
      "* * * * * * * * \n",
      "* * * * * * * \n",
      "* * * * * * \n",
      "* * * * * \n",
      "* * * * \n",
      "* * * \n",
      "* * \n",
      "* \n"
     ]
    }
   ],
   "source": [
    "\"print Right Triangle Square\"\n",
    "\n",
    "n = 10\n",
    "\n",
    "for i in range(1,n):\n",
    "    for j in range(i,n):\n",
    "        print(\"*\",end=\" \")\n",
    "    print()\n"
   ]
  },
  {
   "cell_type": "code",
   "execution_count": 112,
   "metadata": {},
   "outputs": [
    {
     "name": "stdout",
     "output_type": "stream",
     "text": [
      "         **\n",
      "        ***\n",
      "       ****\n",
      "      *****\n",
      "     ******\n",
      "    *******\n",
      "   ********\n",
      "  *********\n",
      " **********\n"
     ]
    }
   ],
   "source": [
    "for i in range(1,n):\n",
    "    for  j in range(i,n):\n",
    "        print(\" \",end=\"\")\n",
    "    for  j in range(i+1):\n",
    "        print(\"*\",end=\"\")\n",
    "        \n",
    "        \n",
    "    \n",
    "    print()"
   ]
  },
  {
   "cell_type": "code",
   "execution_count": 116,
   "metadata": {},
   "outputs": [
    {
     "name": "stdout",
     "output_type": "stream",
     "text": [
      "3628800\n"
     ]
    }
   ],
   "source": [
    "'''Factorial using loop'''\n",
    "n= 10\n",
    "Fact = 1\n",
    "for i in range(1,n+1):\n",
    "    Fact = Fact * i\n",
    "    \n",
    "print(Fact)\n",
    "\n"
   ]
  },
  {
   "cell_type": "code",
   "execution_count": 124,
   "metadata": {},
   "outputs": [
    {
     "name": "stdout",
     "output_type": "stream",
     "text": [
      "3628800\n"
     ]
    }
   ],
   "source": [
    "'''Factorial using Recursive Function'''\n",
    "fact = 1\n",
    "def factofNumber(fact):\n",
    "    if fact <=1:\n",
    "        return fact\n",
    "    else:\n",
    "        fact = fact*factofNumber(fact-1)\n",
    "        return fact\n",
    "    \n",
    "print(factofNumber(10))\n",
    "    \n",
    "\n"
   ]
  },
  {
   "cell_type": "code",
   "execution_count": 129,
   "metadata": {},
   "outputs": [
    {
     "name": "stdout",
     "output_type": "stream",
     "text": [
      "1\n",
      "2\n",
      "3\n",
      "5\n",
      "8\n",
      "13\n",
      "21\n",
      "34\n",
      "55\n",
      "89\n"
     ]
    }
   ],
   "source": [
    "'''print Fabonacci Series'''\n",
    "num =10\n",
    "temp1=0\n",
    "temp2=1\n",
    "temp3=0\n",
    "\n",
    "\n",
    "for i in range(0,10):\n",
    "    temp3 = temp2 + temp1\n",
    "    temp1 = temp2\n",
    "    temp2 = temp3 \n",
    "    \n",
    "    print(temp3)"
   ]
  },
  {
   "cell_type": "code",
   "execution_count": 140,
   "metadata": {},
   "outputs": [
    {
     "name": "stdout",
     "output_type": "stream",
     "text": [
      "14\n",
      "-3\n"
     ]
    }
   ],
   "source": [
    "'''Find the Max and Min Value in Array'''\n",
    "\n",
    "abc = [2,7,1,12, 2,8, 3, 4,-3,-2, 5, 6,10,14]\n",
    "maxValue = abc[0]\n",
    "minVlaue = abc[0]\n",
    "for i in abc:\n",
    "    if maxValue<i:\n",
    "        maxValue=i\n",
    "    if minVlaue>i:\n",
    "        minVlaue=i\n",
    "        \n",
    "print(maxValue)\n",
    "print(minVlaue)\n",
    "\n",
    "\n"
   ]
  },
  {
   "cell_type": "code",
   "execution_count": 141,
   "metadata": {},
   "outputs": [
    {
     "name": "stdout",
     "output_type": "stream",
     "text": [
      "[4, 2, 3, 1]\n",
      "[1, 2, 3, 4]\n",
      "[4, 2, 3, 1]\n"
     ]
    },
    {
     "data": {
      "text/plain": [
       "[8, 2, 3, 4, 5, 6, 7, 1]"
      ]
     },
     "execution_count": 141,
     "metadata": {},
     "output_type": "execute_result"
    }
   ],
   "source": [
    "'''Swap the Element'''\n",
    "'''Approach 01'''\n",
    "abc = [1,2,3,4]\n",
    "\n",
    "abc[0]\n",
    "temp = abc[0]\n",
    "abc[0] = abc[3]\n",
    "abc[3] = temp\n",
    "\n",
    "print(abc)\n",
    "'''Approach 02'''\n",
    "\n",
    "abc[0],abc[3] = abc[3],abc[0]\n",
    "\n",
    "print(abc)\n",
    "'''Approach 03 Packing'''\n",
    "get = abc[0],abc[3]\n",
    "abc[3],abc[0] = get\n",
    "print(abc)\n",
    "\n",
    "\n",
    "'''Approach 04 Operand'''\n",
    "abc = [1,2,3,4,5,6,7,8]\n",
    "\n",
    "start,*middle,end = abc\n",
    "abc = [end,*middle,start]\n",
    "abc\n",
    "\n",
    "\n",
    "'''Approach 04 Operand'''\n",
    "abc = [1,2,3,4,5,6,7,8]\n",
    "first = abc.pop(0)\n",
    "last = abc.pop(-1)\n",
    "\n",
    "abc.insert(0,last)\n",
    "abc.append(first)\n",
    "abc\n",
    "\n"
   ]
  },
  {
   "cell_type": "code",
   "execution_count": 147,
   "metadata": {},
   "outputs": [
    {
     "name": "stdout",
     "output_type": "stream",
     "text": [
      "['a', 'd']\n"
     ]
    }
   ],
   "source": [
    "'''Write a programm to find common letters'''\n",
    "\n",
    "\"option 01\"\n",
    "\n",
    "a = \"abcd\"\n",
    "b = \"ddda\"\n",
    "c = []\n",
    "\n",
    "for i in a:\n",
    "    if i in b:\n",
    "        c.append(i) \n",
    "\n",
    "print(c)"
   ]
  },
  {
   "cell_type": "code",
   "execution_count": 148,
   "metadata": {},
   "outputs": [
    {
     "name": "stdout",
     "output_type": "stream",
     "text": [
      "{'a', 'd'}\n"
     ]
    }
   ],
   "source": [
    "\"option 02\"\n",
    "\n",
    "a = \"abcd\"\n",
    "b = \"ddda\"\n",
    "\n",
    "a =set(a)\n",
    "b=set(b)\n",
    "\n",
    "c = a&b\n",
    "print(c)\n",
    "\n"
   ]
  },
  {
   "cell_type": "code",
   "execution_count": 154,
   "metadata": {},
   "outputs": [
    {
     "data": {
      "text/plain": [
       "5"
      ]
     },
     "execution_count": 154,
     "metadata": {},
     "output_type": "execute_result"
    }
   ],
   "source": [
    "'''write write frequency of words aprrearing in string frequency write and len of the same'''\n",
    "\n",
    "a = \"write write frequency of words aprrearing in string frequency write\"\n",
    "\n",
    "a = a.split()\n",
    "dict1 ={}\n",
    "\n",
    "for i in a:\n",
    "    if i in dict1:\n",
    "        dict1[i] = dict1[i] +1\n",
    "    else:\n",
    "        dict1[i] = 1\n",
    "\n",
    "len(max(dict1))"
   ]
  },
  {
   "cell_type": "code",
   "execution_count": 155,
   "metadata": {},
   "outputs": [
    {
     "data": {
      "text/plain": [
       "{'dsfsadf': 1, 'aadf': 1, 'csadf': 3}"
      ]
     },
     "execution_count": 155,
     "metadata": {},
     "output_type": "execute_result"
    }
   ],
   "source": [
    "'''Convert list to Dict'''\n",
    "\n",
    "a = ['dsfsadf','aadf','csadf']\n",
    "b = [1,1,3]\n",
    "\n",
    "dict1 = dict(zip(a,b))\n",
    "\n",
    "dict1\n",
    "\n",
    "    if i not in arr:\n",
    "        unList.append(i)\n",
    "print(unList)\n"
   ]
  },
  {
   "cell_type": "code",
   "execution_count": 169,
   "metadata": {},
   "outputs": [
    {
     "data": {
      "text/plain": [
       "[2, 3, 4, 5, 6, 7, 8]"
      ]
     },
     "execution_count": 169,
     "metadata": {},
     "output_type": "execute_result"
    }
   ],
   "source": [
    "'''remove duplicate from List'''\n",
    "arr = [2,2,3,4,5,6,7,8,2,3,4,5]\n",
    "unList = []\n",
    "\n",
    "for i in arr:\n",
    "    if i not in unList:\n",
    "        unList.append(i)\n",
    "\n",
    "unList"
   ]
  },
  {
   "cell_type": "code",
   "execution_count": null,
   "metadata": {},
   "outputs": [],
   "source": [
    "'''Option2 using dict'''\n",
    "\n",
    "arr = [1,2,3,4,5,6,7,8,2,3,4,5]\n",
    "unList = []\n",
    "dict1 = {}\n",
    "\n",
    "for i in arr:\n",
    "    if i in dict1:\n",
    "        dict1[i] = dict1[i] +1\n",
    "    else:\n",
    "        dict1[i] = +1\n",
    "\n",
    "for key, value in dict1.items():\n",
    "    if value==1:\n",
    "        unList.append(key)\n",
    "        \n",
    "unList"
   ]
  },
  {
   "cell_type": "code",
   "execution_count": 170,
   "metadata": {},
   "outputs": [
    {
     "data": {
      "text/plain": [
       "{2, 3, 4, 5, 6, 7, 8}"
      ]
     },
     "execution_count": 170,
     "metadata": {},
     "output_type": "execute_result"
    }
   ],
   "source": [
    "'''Option2 using Set'''\n",
    "\n",
    "arr = set(arr)\n",
    "arr"
   ]
  },
  {
   "cell_type": "code",
   "execution_count": 175,
   "metadata": {},
   "outputs": [
    {
     "name": "stdout",
     "output_type": "stream",
     "text": [
      "1st abcd\n",
      "2nd bcda\n",
      "Yes Its Match\n"
     ]
    }
   ],
   "source": [
    "''' check the rotated string '''\n",
    "\n",
    "\n",
    "sOne = input(\"1st \")\n",
    "sTwo = input(\"2nd \")\n",
    "\n",
    "lensOneL = len(sOne)\n",
    "lensTwoT = len(sTwo)\n",
    "\n",
    "finalSting = sOne + sOne\n",
    "\n",
    "if lensOneL != lensTwoT:\n",
    "    print('No Match')\n",
    "    \n",
    "if sTwo in finalSting:\n",
    "    print(\"Yes Its Match\")\n",
    "else:\n",
    "    print(\"No Its Match\")\n"
   ]
  },
  {
   "cell_type": "code",
   "execution_count": 192,
   "metadata": {},
   "outputs": [
    {
     "name": "stdout",
     "output_type": "stream",
     "text": [
      "sakharam\n",
      "not\n",
      "is\n",
      "raje\n",
      "sakharam not is raje\n",
      "['sakharam', 'not', 'is', 'raje']\n"
     ]
    }
   ],
   "source": [
    "'''reverse string option 01'''\n",
    "abc = 'raje is not sakharam'\n",
    "\n",
    "reverseString = []\n",
    "abc = abc.split()\n",
    "abc\n",
    "for i in range(len(abc)-1,-1,-1):\n",
    "    print(abc[i])\n",
    "    reverseString.append(abc[i]) \n",
    "\n",
    "abcd = \"\"\n",
    "abcd = \" \".join(reverseString) \n",
    "    \n",
    "print(abcd)\n",
    "print(reverseString)"
   ]
  },
  {
   "cell_type": "code",
   "execution_count": 198,
   "metadata": {},
   "outputs": [
    {
     "data": {
      "text/plain": [
       "'sakharam not is raje'"
      ]
     },
     "execution_count": 198,
     "metadata": {},
     "output_type": "execute_result"
    }
   ],
   "source": [
    "abc = 'raje is not sakharam'\n",
    "reverseString = []\n",
    "abc = abc.split()\n",
    "abc.reverse()\n",
    "reverseString = \" \".join(abc)\n",
    "reverseString"
   ]
  },
  {
   "cell_type": "code",
   "execution_count": 204,
   "metadata": {},
   "outputs": [
    {
     "name": "stdout",
     "output_type": "stream",
     "text": [
      "d 1\n"
     ]
    }
   ],
   "source": [
    "'''FIRST non repeating charactor'''\n",
    "\n",
    "abc = \"chardchar\"\n",
    "dict1 = {}\n",
    "\n",
    "for i in abc:\n",
    "    if i in dict1:\n",
    "        dict1[i] = dict1[i] +1\n",
    "    else:\n",
    "        dict1[i] = + 1\n",
    "\n",
    "for key,value in dict1.items():\n",
    "    if value==1:\n",
    "        print(key,value)\n",
    "        break\n"
   ]
  },
  {
   "cell_type": "code",
   "execution_count": 206,
   "metadata": {},
   "outputs": [
    {
     "name": "stdout",
     "output_type": "stream",
     "text": [
      "[6, 12]\n",
      "[2, 4, 8, 10]\n"
     ]
    }
   ],
   "source": [
    "'''Compare two list optiona 01'''\n",
    "\n",
    "list1 = [2,4,6,8,10,12]\n",
    "list2 = [3,6,9,12,15,18]\n",
    "repeatingChar = []\n",
    "nonRepeatingChar = []\n",
    "\n",
    "\n",
    "for i in list1:\n",
    "    if i in list2:\n",
    "        repeatingChar.append(i)\n",
    "    elif i not in list2:\n",
    "        nonRepeatingChar.append(i)\n",
    "print(repeatingChar)\n",
    "print(nonRepeatingChar)\n",
    "\n",
    "\n"
   ]
  },
  {
   "cell_type": "code",
   "execution_count": null,
   "metadata": {},
   "outputs": [],
   "source": [
    "'''Compare two list optiona 02 Using Dictionary'''\n",
    "list1 = [2,4,6,8,10,12]\n",
    "list2 = [3,6,9,12,15,18]\n",
    "repeatingChar = []\n",
    "nonRepeatingChar = []\n",
    "\n",
    "for i in list1:\n",
    "    if i in list2:\n",
    "        \n",
    "\n"
   ]
  },
  {
   "cell_type": "code",
   "execution_count": 241,
   "metadata": {},
   "outputs": [
    {
     "name": "stdout",
     "output_type": "stream",
     "text": [
      "dff\n"
     ]
    }
   ],
   "source": [
    "'''Find Logest String'''\n",
    "input_string = \"r9ad45dff\"\n",
    "input_stringleng = len(input_string)\n",
    "currentString = \"\"\n",
    "longestString = \"\"\n",
    "\n",
    "for i in input_string:\n",
    "    if i.isalpha():\n",
    "        currentString = currentString + i\n",
    "    elif i.isalnum() :\n",
    "        if len(currentString)>len(longestString):\n",
    "            longestString = currentString\n",
    "        currentString = \"\"\n",
    "if len(currentString) > len(longestString):\n",
    "    longestString = currentString\n",
    "\n",
    "print(longestString)\n",
    "\n",
    "\n",
    "\n"
   ]
  },
  {
   "cell_type": "code",
   "execution_count": 245,
   "metadata": {},
   "outputs": [
    {
     "name": "stdout",
     "output_type": "stream",
     "text": [
      "1\n",
      "18\n",
      "19\n"
     ]
    }
   ],
   "source": [
    "'''Finand the postion of string'''\n",
    "abc = 'raje is not sakharam'\n",
    "\n",
    "print(abc.find(\"a\"))\n",
    "print(abc.rfind(\"a\"))\n",
    "print(abc.index(\"m\"))\n"
   ]
  },
  {
   "cell_type": "code",
   "execution_count": null,
   "metadata": {},
   "outputs": [],
   "source": [
    "''' Write a program that takes a string as input, and counts the frequency of each word in the string, there might\n",
    "be repeated characters in the string. Your task is to find the highest frequency and returns the length of the\n",
    "highest-frequency word. '''"
   ]
  },
  {
   "cell_type": "code",
   "execution_count": 8,
   "metadata": {},
   "outputs": [
    {
     "data": {
      "text/plain": [
       "4"
      ]
     },
     "execution_count": 8,
     "metadata": {},
     "output_type": "execute_result"
    }
   ],
   "source": [
    "abc = \"Write Write a program that takes takes takes\"\n",
    "\n",
    "abc = abc.split()\n",
    "\n",
    "dict1 ={}\n",
    "\n",
    "for i in abc:\n",
    "    if i in dict1:\n",
    "        dict1[i] = dict1[i] +1\n",
    "    else:\n",
    "        dict1[i] = 1\n",
    "\n",
    "len(max(dict1))\n"
   ]
  },
  {
   "cell_type": "code",
   "execution_count": 39,
   "metadata": {},
   "outputs": [
    {
     "name": "stdout",
     "output_type": "stream",
     "text": [
      "YES - Can remove max one char\n",
      "No\n",
      "Yes - Can Remove one char from single char\n",
      "YES - All char have Same count\n",
      "YES - Can remove max one char\n"
     ]
    }
   ],
   "source": [
    "'''Question 2: -\n",
    "Consider a string to be valid if all characters of the string appear the same number of times. It is also valid if\n",
    "he can remove just one character in the string, and the remaining characters will occur the same\n",
    "number of times. Given a string, determine if it is valid. If so, return YES , otherwise return NO . '''\n",
    "\n",
    "def is_valid_string(s):\n",
    "    # Step 1: Count occurrences of each character\n",
    "    char_counts = {}\n",
    "    for char in s:\n",
    "        char_counts[char] = char_counts.get(char, 0) + 1\n",
    "\n",
    "    # Step 2: Check if all characters have the same frequency\n",
    "    freq_counts = list(char_counts.values())\n",
    "    freq_set = set(freq_counts)\n",
    "    maxValue = max(freq_set)\n",
    "    minValue = min(freq_set)\n",
    "    maxCount = freq_counts.count(max(freq_set))\n",
    "    minCount = freq_counts.count(min(freq_set))\n",
    "\n",
    "    # Step 3: If all characters have the same frequency, the string is valid\n",
    "    lenFreq_set = len(freq_set)\n",
    "    if lenFreq_set == 1:\n",
    "        return \"YES - All char have Same count\"\n",
    "\n",
    "    if lenFreq_set == 2 and (maxCount == 1):\n",
    "        return \"YES - Can remove max one char\"\n",
    "    elif lenFreq_set == 2 and (minCount==1) and (minValue == 1):\n",
    "        return \"Yes - Can Remove one char from single char\"\n",
    "    else:\n",
    "        return \"No\"\n",
    "\n",
    "# Test cases\n",
    "print(is_valid_string(\"bbbbccc\"))  # Output: YES (All characters have the same frequency)\n",
    "print(is_valid_string(\"aabbcd\"))   # Output: YES (Remove 'c' to make all characters have the same frequency)\n",
    "print(is_valid_string(\"aabbccd\"))   # Output: YES (Remove 'c' to make all characters have the same frequency)\n",
    "print(is_valid_string(\"aabbcc\"))   # Output: YES (Remove any character to make all characters have the same frequency)\n",
    "print(is_valid_string(\"aabbccc\"))  # Output: NO (Removing any character won't make all characters have the same frequency)\n"
   ]
  },
  {
   "cell_type": "code",
   "execution_count": null,
   "metadata": {},
   "outputs": [],
   "source": []
  },
  {
   "cell_type": "code",
   "execution_count": null,
   "metadata": {},
   "outputs": [],
   "source": []
  },
  {
   "cell_type": "code",
   "execution_count": null,
   "metadata": {},
   "outputs": [],
   "source": []
  },
  {
   "cell_type": "code",
   "execution_count": null,
   "metadata": {},
   "outputs": [],
   "source": []
  },
  {
   "cell_type": "code",
   "execution_count": null,
   "metadata": {},
   "outputs": [],
   "source": []
  },
  {
   "cell_type": "code",
   "execution_count": null,
   "metadata": {},
   "outputs": [],
   "source": []
  },
  {
   "cell_type": "code",
   "execution_count": null,
   "metadata": {},
   "outputs": [],
   "source": []
  },
  {
   "cell_type": "code",
   "execution_count": null,
   "metadata": {},
   "outputs": [],
   "source": []
  },
  {
   "cell_type": "code",
   "execution_count": null,
   "metadata": {},
   "outputs": [],
   "source": []
  },
  {
   "cell_type": "code",
   "execution_count": null,
   "metadata": {},
   "outputs": [],
   "source": []
  },
  {
   "cell_type": "code",
   "execution_count": null,
   "metadata": {},
   "outputs": [],
   "source": []
  },
  {
   "cell_type": "code",
   "execution_count": null,
   "metadata": {},
   "outputs": [],
   "source": []
  },
  {
   "cell_type": "code",
   "execution_count": null,
   "metadata": {},
   "outputs": [],
   "source": []
  },
  {
   "cell_type": "code",
   "execution_count": null,
   "metadata": {},
   "outputs": [],
   "source": []
  }
 ],
 "metadata": {
  "kernelspec": {
   "display_name": "Python 3",
   "language": "python",
   "name": "python3"
  },
  "language_info": {
   "codemirror_mode": {
    "name": "ipython",
    "version": 3
   },
   "file_extension": ".py",
   "mimetype": "text/x-python",
   "name": "python",
   "nbconvert_exporter": "python",
   "pygments_lexer": "ipython3",
   "version": "3.8.5"
  }
 },
 "nbformat": 4,
 "nbformat_minor": 4
}
