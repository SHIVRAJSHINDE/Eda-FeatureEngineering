{
 "cells": [
  {
   "cell_type": "code",
   "execution_count": 14,
   "metadata": {},
   "outputs": [
    {
     "name": "stdout",
     "output_type": "stream",
     "text": [
      "Its not prime Number\n"
     ]
    }
   ],
   "source": [
    "'''Print Prime Numbers'''\n",
    "'''prime number  is a number which is divisible by 1 and itself'''\n",
    "\n",
    "abc = 2\n",
    "abc = abc+1\n",
    "count = 0\n",
    "\n",
    "for i in range(1,abc):\n",
    "    if abc%i==0:\n",
    "        count = count+1\n",
    "if count == 2:\n",
    "    print(\"Its a Prime Nubmer\")\n",
    "else:\n",
    "    print(\"Its not prime Number\")\n",
    "    \n"
   ]
  },
  {
   "cell_type": "code",
   "execution_count": 56,
   "metadata": {},
   "outputs": [
    {
     "name": "stdout",
     "output_type": "stream",
     "text": [
      "1 Its a Prime Nubmer\n",
      "2 Its a Prime Nubmer\n",
      "3 Its a Prime Nubmer\n",
      "5 Its a Prime Nubmer\n",
      "7 Its a Prime Nubmer\n"
     ]
    }
   ],
   "source": [
    "'''Print Prime Numbers for a range'''\n",
    "\n",
    "abc = 10\n",
    "abc = abc\n",
    "\n",
    "count = 0\n",
    "\n",
    "for i in range(1, abc + 1):\n",
    "    for j in range(1, i+1):\n",
    "        if i % j == 0:\n",
    "            count = count + 1\n",
    "    if  (i ==1) or (count == 2):\n",
    "        print(i, \"Its a Prime Nubmer\")\n",
    "    else:\n",
    "        print(i,\"Not a prime\")\n",
    "    count = 0"
   ]
  },
  {
   "cell_type": "code",
   "execution_count": 94,
   "metadata": {},
   "outputs": [
    {
     "name": "stdout",
     "output_type": "stream",
     "text": [
      "\n",
      "* \n",
      "* * \n",
      "* * * \n",
      "* * * * \n",
      "* * * * * \n",
      "* * * * * * \n",
      "* * * * * * * \n",
      "* * * * * * * * \n"
     ]
    }
   ],
   "source": [
    "\"print LEFT Triangle Square\"\n",
    "\n",
    "for i in range(1,10):\n",
    "    for j in range(1,i):\n",
    "        print(\"*\",end=' ')\n",
    "    print()\n"
   ]
  },
  {
   "cell_type": "code",
   "execution_count": 103,
   "metadata": {},
   "outputs": [
    {
     "name": "stdout",
     "output_type": "stream",
     "text": [
      "* * * * * * * * * \n",
      "* * * * * * * * \n",
      "* * * * * * * \n",
      "* * * * * * \n",
      "* * * * * \n",
      "* * * * \n",
      "* * * \n",
      "* * \n",
      "* \n"
     ]
    }
   ],
   "source": [
    "\"print Right Triangle Square\"\n",
    "\n",
    "n = 10\n",
    "\n",
    "for i in range(1,n):\n",
    "    for j in range(i,n):\n",
    "        print(\"*\",end=\" \")\n",
    "    print()\n"
   ]
  },
  {
   "cell_type": "code",
   "execution_count": 112,
   "metadata": {},
   "outputs": [
    {
     "name": "stdout",
     "output_type": "stream",
     "text": [
      "         **\n",
      "        ***\n",
      "       ****\n",
      "      *****\n",
      "     ******\n",
      "    *******\n",
      "   ********\n",
      "  *********\n",
      " **********\n"
     ]
    }
   ],
   "source": [
    "for i in range(1,n):\n",
    "    for  j in range(i,n):\n",
    "        print(\" \",end=\"\")\n",
    "    for  j in range(i+1):\n",
    "        print(\"*\",end=\"\")\n",
    "        \n",
    "        \n",
    "    \n",
    "    print()"
   ]
  },
  {
   "cell_type": "code",
   "execution_count": 116,
   "metadata": {},
   "outputs": [
    {
     "name": "stdout",
     "output_type": "stream",
     "text": [
      "3628800\n"
     ]
    }
   ],
   "source": [
    "'''Factorial using loop'''\n",
    "n= 10\n",
    "Fact = 1\n",
    "for i in range(1,n+1):\n",
    "    Fact = Fact * i\n",
    "    \n",
    "print(Fact)\n",
    "\n"
   ]
  },
  {
   "cell_type": "code",
   "execution_count": 124,
   "metadata": {},
   "outputs": [
    {
     "name": "stdout",
     "output_type": "stream",
     "text": [
      "3628800\n"
     ]
    }
   ],
   "source": [
    "'''Factorial using Recursive Function'''\n",
    "fact = 1\n",
    "def factofNumber(fact):\n",
    "    if fact <=1:\n",
    "        return fact\n",
    "    else:\n",
    "        fact = fact*factofNumber(fact-1)\n",
    "        return fact\n",
    "    \n",
    "print(factofNumber(10))\n",
    "    \n",
    "\n"
   ]
  },
  {
   "cell_type": "code",
   "execution_count": 129,
   "metadata": {},
   "outputs": [
    {
     "name": "stdout",
     "output_type": "stream",
     "text": [
      "1\n",
      "2\n",
      "3\n",
      "5\n",
      "8\n",
      "13\n",
      "21\n",
      "34\n",
      "55\n",
      "89\n"
     ]
    }
   ],
   "source": [
    "'''print Fabonacci Series'''\n",
    "num =10\n",
    "temp1=0\n",
    "temp2=1\n",
    "temp3=0\n",
    "\n",
    "\n",
    "for i in range(0,10):\n",
    "    temp3 = temp2 + temp1\n",
    "    temp1 = temp2\n",
    "    temp2 = temp3 \n",
    "    \n",
    "    print(temp3)"
   ]
  },
  {
   "cell_type": "code",
   "execution_count": 140,
   "metadata": {},
   "outputs": [
    {
     "name": "stdout",
     "output_type": "stream",
     "text": [
      "14\n",
      "-3\n"
     ]
    }
   ],
   "source": [
    "'''Find the Max and Min Value in Array'''\n",
    "\n",
    "abc = [2,7,1,12, 2,8, 3, 4,-3,-2, 5, 6,10,14]\n",
    "maxValue = abc[0]\n",
    "minVlaue = abc[0]\n",
    "for i in abc:\n",
    "    if maxValue<i:\n",
    "        maxValue=i\n",
    "    if minVlaue>i:\n",
    "        minVlaue=i\n",
    "        \n",
    "print(maxValue)\n",
    "print(minVlaue)\n",
    "\n",
    "\n"
   ]
  },
  {
   "cell_type": "code",
   "execution_count": 141,
   "metadata": {},
   "outputs": [
    {
     "name": "stdout",
     "output_type": "stream",
     "text": [
      "[4, 2, 3, 1]\n",
      "[1, 2, 3, 4]\n",
      "[4, 2, 3, 1]\n"
     ]
    },
    {
     "data": {
      "text/plain": [
       "[8, 2, 3, 4, 5, 6, 7, 1]"
      ]
     },
     "execution_count": 141,
     "metadata": {},
     "output_type": "execute_result"
    }
   ],
   "source": [
    "'''Swap the Element'''\n",
    "'''Approach 01'''\n",
    "abc = [1,2,3,4]\n",
    "\n",
    "abc[0]\n",
    "temp = abc[0]\n",
    "abc[0] = abc[3]\n",
    "abc[3] = temp\n",
    "\n",
    "print(abc)\n",
    "'''Approach 02'''\n",
    "\n",
    "abc[0],abc[3] = abc[3],abc[0]\n",
    "\n",
    "print(abc)\n",
    "'''Approach 03 Packing'''\n",
    "get = abc[0],abc[3]\n",
    "abc[3],abc[0] = get\n",
    "print(abc)\n",
    "\n",
    "\n",
    "'''Approach 04 Operand'''\n",
    "abc = [1,2,3,4,5,6,7,8]\n",
    "\n",
    "start,*middle,end = abc\n",
    "abc = [end,*middle,start]\n",
    "abc\n",
    "\n",
    "\n",
    "'''Approach 04 Operand'''\n",
    "abc = [1,2,3,4,5,6,7,8]\n",
    "first = abc.pop(0)\n",
    "last = abc.pop(-1)\n",
    "\n",
    "abc.insert(0,last)\n",
    "abc.append(first)\n",
    "abc\n",
    "\n"
   ]
  },
  {
   "cell_type": "code",
   "execution_count": 147,
   "metadata": {},
   "outputs": [
    {
     "name": "stdout",
     "output_type": "stream",
     "text": [
      "['a', 'd']\n"
     ]
    }
   ],
   "source": [
    "'''Write a programm to find common letters'''\n",
    "\n",
    "\"option 01\"\n",
    "\n",
    "a = \"abcd\"\n",
    "b = \"ddda\"\n",
    "c = []\n",
    "\n",
    "for i in a:\n",
    "    if i in b:\n",
    "        c.append(i) \n",
    "\n",
    "print(c)"
   ]
  },
  {
   "cell_type": "code",
   "execution_count": 148,
   "metadata": {},
   "outputs": [
    {
     "name": "stdout",
     "output_type": "stream",
     "text": [
      "{'a', 'd'}\n"
     ]
    }
   ],
   "source": [
    "\"option 02\"\n",
    "\n",
    "a = \"abcd\"\n",
    "b = \"ddda\"\n",
    "\n",
    "a =set(a)\n",
    "b=set(b)\n",
    "\n",
    "c = a&b\n",
    "print(c)\n",
    "\n"
   ]
  },
  {
   "cell_type": "code",
   "execution_count": 154,
   "metadata": {},
   "outputs": [
    {
     "data": {
      "text/plain": [
       "5"
      ]
     },
     "execution_count": 154,
     "metadata": {},
     "output_type": "execute_result"
    }
   ],
   "source": [
    "'''write write frequency of words aprrearing in string frequency write and len of the same'''\n",
    "\n",
    "a = \"write write frequency of words aprrearing in string frequency write\"\n",
    "\n",
    "a = a.split()\n",
    "dict1 ={}\n",
    "\n",
    "for i in a:\n",
    "    if i in dict1:\n",
    "        dict1[i] = dict1[i] +1\n",
    "    else:\n",
    "        dict1[i] = 1\n",
    "\n",
    "len(max(dict1))"
   ]
  },
  {
   "cell_type": "code",
   "execution_count": 155,
   "metadata": {},
   "outputs": [
    {
     "data": {
      "text/plain": [
       "{'dsfsadf': 1, 'aadf': 1, 'csadf': 3}"
      ]
     },
     "execution_count": 155,
     "metadata": {},
     "output_type": "execute_result"
    }
   ],
   "source": [
    "'''Convert list to Dict'''\n",
    "\n",
    "a = ['dsfsadf','aadf','csadf']\n",
    "b = [1,1,3]\n",
    "\n",
    "dict1 = dict(zip(a,b))\n",
    "\n",
    "dict1\n",
    "\n",
    "    if i not in arr:\n",
    "        unList.append(i)\n",
    "print(unList)\n"
   ]
  },
  {
   "cell_type": "code",
   "execution_count": 169,
   "metadata": {},
   "outputs": [
    {
     "data": {
      "text/plain": [
       "[2, 3, 4, 5, 6, 7, 8]"
      ]
     },
     "execution_count": 169,
     "metadata": {},
     "output_type": "execute_result"
    }
   ],
   "source": [
    "'''remove duplicate from List'''\n",
    "arr = [2,2,3,4,5,6,7,8,2,3,4,5]\n",
    "unList = []\n",
    "\n",
    "for i in arr:\n",
    "    if i not in unList:\n",
    "        unList.append(i)\n",
    "\n",
    "unList"
   ]
  },
  {
   "cell_type": "code",
   "execution_count": null,
   "metadata": {},
   "outputs": [],
   "source": [
    "'''Option2 using dict'''\n",
    "\n",
    "arr = [1,2,3,4,5,6,7,8,2,3,4,5]\n",
    "unList = []\n",
    "dict1 = {}\n",
    "\n",
    "for i in arr:\n",
    "    if i in dict1:\n",
    "        dict1[i] = dict1[i] +1\n",
    "    else:\n",
    "        dict1[i] = +1\n",
    "\n",
    "for key, value in dict1.items():\n",
    "    if value==1:\n",
    "        unList.append(key)\n",
    "        \n",
    "unList"
   ]
  },
  {
   "cell_type": "code",
   "execution_count": 170,
   "metadata": {},
   "outputs": [
    {
     "data": {
      "text/plain": [
       "{2, 3, 4, 5, 6, 7, 8}"
      ]
     },
     "execution_count": 170,
     "metadata": {},
     "output_type": "execute_result"
    }
   ],
   "source": [
    "'''Option2 using Set'''\n",
    "\n",
    "arr = set(arr)\n",
    "arr"
   ]
  },
  {
   "cell_type": "code",
   "execution_count": null,
   "metadata": {},
   "outputs": [],
   "source": []
  },
  {
   "cell_type": "code",
   "execution_count": null,
   "metadata": {},
   "outputs": [],
   "source": []
  },
  {
   "cell_type": "code",
   "execution_count": null,
   "metadata": {},
   "outputs": [],
   "source": []
  },
  {
   "cell_type": "code",
   "execution_count": null,
   "metadata": {},
   "outputs": [],
   "source": []
  },
  {
   "cell_type": "code",
   "execution_count": null,
   "metadata": {},
   "outputs": [],
   "source": []
  },
  {
   "cell_type": "code",
   "execution_count": null,
   "metadata": {},
   "outputs": [],
   "source": []
  },
  {
   "cell_type": "code",
   "execution_count": null,
   "metadata": {},
   "outputs": [],
   "source": []
  },
  {
   "cell_type": "code",
   "execution_count": null,
   "metadata": {},
   "outputs": [],
   "source": []
  },
  {
   "cell_type": "code",
   "execution_count": null,
   "metadata": {},
   "outputs": [],
   "source": []
  },
  {
   "cell_type": "code",
   "execution_count": null,
   "metadata": {},
   "outputs": [],
   "source": []
  },
  {
   "cell_type": "code",
   "execution_count": null,
   "metadata": {},
   "outputs": [],
   "source": []
  },
  {
   "cell_type": "code",
   "execution_count": null,
   "metadata": {},
   "outputs": [],
   "source": []
  }
 ],
 "metadata": {
  "kernelspec": {
   "display_name": "Python 3",
   "language": "python",
   "name": "python3"
  },
  "language_info": {
   "codemirror_mode": {
    "name": "ipython",
    "version": 3
   },
   "file_extension": ".py",
   "mimetype": "text/x-python",
   "name": "python",
   "nbconvert_exporter": "python",
   "pygments_lexer": "ipython3",
   "version": "3.8.5"
  }
 },
 "nbformat": 4,
 "nbformat_minor": 4
}
