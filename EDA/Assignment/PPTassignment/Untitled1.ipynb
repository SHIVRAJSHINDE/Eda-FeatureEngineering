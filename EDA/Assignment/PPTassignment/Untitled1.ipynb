{
 "cells": [
  {
   "cell_type": "code",
   "execution_count": 2,
   "metadata": {},
   "outputs": [
    {
     "name": "stdout",
     "output_type": "stream",
     "text": [
      "0\n",
      "1\n",
      "2\n",
      "3\n",
      "4\n",
      "5\n",
      "6\n",
      "7\n",
      "8\n",
      "9\n"
     ]
    }
   ],
   "source": [
    "'''Generators'''\n",
    "\n",
    "def genFunc():\n",
    "    for i in range(10):\n",
    "        yield i\n",
    "        \n",
    "gen = genFunc()\n",
    "for j in gen:\n",
    "    print(j)\n"
   ]
  },
  {
   "cell_type": "code",
   "execution_count": 10,
   "metadata": {},
   "outputs": [
    {
     "data": {
      "text/plain": [
       "[1, 8, 27, 64, 125, 216]"
      ]
     },
     "execution_count": 10,
     "metadata": {},
     "output_type": "execute_result"
    }
   ],
   "source": [
    "'''return cub of each element of the below list'''\n",
    "\n",
    "def cube(x):\n",
    "    return x * x *x\n",
    "\n",
    "list1 = [1,2,3,4,5,6]\n",
    "\n",
    "\n",
    "list2 = list(map(cube,list1))\n",
    "\n",
    "list2"
   ]
  },
  {
   "cell_type": "code",
   "execution_count": 17,
   "metadata": {},
   "outputs": [
    {
     "data": {
      "text/plain": [
       "[1, 8, 27, 64, 125, 216]"
      ]
     },
     "execution_count": 17,
     "metadata": {},
     "output_type": "execute_result"
    }
   ],
   "source": [
    "'''convert below intems list where each element should be in below operation needs to done using map'''\n",
    "\n",
    "x = \"1,8,27,64,125,216\"\n",
    "x = x.split(\",\")\n",
    "x = list(map(int,x))\n",
    "x"
   ]
  },
  {
   "cell_type": "code",
   "execution_count": 25,
   "metadata": {},
   "outputs": [
    {
     "data": {
      "text/plain": [
       "[3, 4, 5, 6]"
      ]
     },
     "execution_count": 25,
     "metadata": {},
     "output_type": "execute_result"
    }
   ],
   "source": [
    "'''print element which are greater than 2 using'''\n",
    "\n",
    "list1 = [1,2,3,4,5,6]\n",
    "\n",
    "def donc(x):\n",
    "    if x > 2:\n",
    "        return x\n",
    "\n",
    "list2 = list(filter(donc,list1))\n",
    "\n",
    "list2"
   ]
  },
  {
   "cell_type": "code",
   "execution_count": 17,
   "metadata": {},
   "outputs": [
    {
     "name": "stdout",
     "output_type": "stream",
     "text": [
      "string\n",
      "a\n",
      "reverse\n",
      "to\n",
      "program\n",
      "Python\n",
      "a\n",
      "Write\n"
     ]
    },
    {
     "data": {
      "text/plain": [
       "'string a reverse to program Python a Write'"
      ]
     },
     "execution_count": 17,
     "metadata": {},
     "output_type": "execute_result"
    }
   ],
   "source": [
    "'''1. Write a Python program to reverse a string without using any built-in string reversal functions.'''\n",
    "\n",
    "abc = 'Write a Python program to reverse a string'\n",
    "reverseAbc = []\n",
    "dd = \"\"\n",
    "\n",
    "abc = abc.split()\n",
    "for i in range(len(abc)-1,-1,-1):\n",
    "    print(abc[i])\n",
    "    reverseAbc.append(abc[i])\n",
    "\n",
    "dd = \" \".join(reverseAbc)\n",
    "\n",
    "dd"
   ]
  },
  {
   "cell_type": "code",
   "execution_count": 32,
   "metadata": {},
   "outputs": [
    {
     "data": {
      "text/plain": [
       "['string', 'a', 'reverse', 'to', 'program', 'Python', 'a', 'Write']"
      ]
     },
     "execution_count": 32,
     "metadata": {},
     "output_type": "execute_result"
    }
   ],
   "source": [
    "abc = 'Write a Python program to reverse a string'\n",
    "abc = abc.split()\n",
    "abc.reverse()\n",
    "abc"
   ]
  },
  {
   "cell_type": "code",
   "execution_count": 39,
   "metadata": {},
   "outputs": [
    {
     "name": "stdout",
     "output_type": "stream",
     "text": [
      "ABCDCBA\n",
      "yes it is Palindrome\n"
     ]
    }
   ],
   "source": [
    "'''2. Implement a function to check if a given string is a palindrome.'''\n",
    "\n",
    "abc = \"ABCDCBA\"\n",
    "new = \"\"\n",
    "\n",
    "for i in range(len(abc)-1,-1,-1):\n",
    "    new  = abc[i] + new\n",
    "\n",
    "    \n",
    "print(new)\n",
    "if new == abc:\n",
    "    print(\"yes it is Palindrome\")\n",
    "\n"
   ]
  },
  {
   "cell_type": "code",
   "execution_count": 45,
   "metadata": {},
   "outputs": [
    {
     "name": "stdout",
     "output_type": "stream",
     "text": [
      "105\n",
      "-2\n"
     ]
    }
   ],
   "source": [
    "'''3. Write a program to find the largest element in a given list.'''\n",
    "\n",
    "ele = [0,2,4,8,3,10,-2,105,12,23,0]\n",
    "\n",
    "maxEle = ele[0]\n",
    "minEle = ele[0]\n",
    "\n",
    "for i in ele:\n",
    "    if maxEle<i:\n",
    "        maxEle = i\n",
    "print(maxEle)\n",
    "\n",
    "for i in ele:\n",
    "    if i<minEle:\n",
    "        minEle= i\n",
    "print(minEle)"
   ]
  },
  {
   "cell_type": "code",
   "execution_count": 46,
   "metadata": {},
   "outputs": [
    {
     "name": "stdout",
     "output_type": "stream",
     "text": [
      "-1\n"
     ]
    }
   ],
   "source": [
    "'''4. Write a program to find the smallest element in a given list.'''\n",
    "\n",
    "ele = [0,2,4,8,3,10,105,12,23,-1]\n",
    "smallEle = ele[0]\n",
    "\n",
    "for i in ele:\n",
    "    if i<smallEle:\n",
    "        smallEle=i\n",
    "print(smallEle)\n",
    "\n"
   ]
  },
  {
   "cell_type": "code",
   "execution_count": 113,
   "metadata": {},
   "outputs": [
    {
     "data": {
      "text/plain": [
       "6"
      ]
     },
     "execution_count": 113,
     "metadata": {},
     "output_type": "execute_result"
    }
   ],
   "source": [
    "'''4. Implement a function to count the occurrence of each element in a list.'''\n",
    "words = ['tomato','apple','tomato','tomato','tomato','banana','banana','banana']\n",
    "dictOne = {}\n",
    "\n",
    "for i in words:\n",
    "    if i in dictOne:\n",
    "        dictOne.update({i:dictOne[i]+1})\n",
    "    else:\n",
    "        dictOne.update({i:1})\n",
    "\n",
    "        \n",
    "len(max(dictOne))\n"
   ]
  },
  {
   "cell_type": "code",
   "execution_count": 123,
   "metadata": {},
   "outputs": [
    {
     "name": "stdout",
     "output_type": "stream",
     "text": [
      "105\n"
     ]
    }
   ],
   "source": [
    "'''5. Write a Python program to find the second largest number in a list.'''\n",
    "'''Option 01'''\n",
    "\n",
    "\n",
    "ele = [1,2,4,8,3,100,105,12,230]\n",
    "maxEle = ele[0]\n",
    "for i in ele:\n",
    "    if i > maxEle:\n",
    "        maxEle = i\n",
    "        \n",
    "secondLaRGES = ele[0]\n",
    "for j in ele:\n",
    "    if (j > secondLaRGES) and (j !=maxEle):\n",
    "        secondLaRGES = j \n",
    "\n",
    "print(secondLaRGES)\n"
   ]
  },
  {
   "cell_type": "code",
   "execution_count": 131,
   "metadata": {},
   "outputs": [
    {
     "name": "stdout",
     "output_type": "stream",
     "text": [
      "105\n"
     ]
    }
   ],
   "source": [
    "'''Option 02'''\n",
    "ele = [1,2,4,8,3,100,105,12,230]\n",
    "maxEle = ele[0]\n",
    "for i in ele:\n",
    "    if i > maxEle:\n",
    "        maxEle = i\n",
    "\n",
    "secondLaRGES = ele[0]\n",
    "\n",
    "ele.remove(maxEle)\n",
    "for j in ele:\n",
    "    if j > secondLaRGES:\n",
    "        secondLaRGES = j\n",
    "\n",
    "print(secondLaRGES)"
   ]
  },
  {
   "cell_type": "code",
   "execution_count": 132,
   "metadata": {},
   "outputs": [
    {
     "data": {
      "text/plain": [
       "{1, 2, 4, 8}"
      ]
     },
     "execution_count": 132,
     "metadata": {},
     "output_type": "execute_result"
    }
   ],
   "source": [
    "'''6. Implement a function to remove duplicate elements from a list.'''\n",
    "'''option one'''\n",
    "list1 = [1,4,8,2,4,8]\n",
    "list2 = set(list1)\n",
    "list2"
   ]
  },
  {
   "cell_type": "code",
   "execution_count": 134,
   "metadata": {},
   "outputs": [
    {
     "data": {
      "text/plain": [
       "[1, 4, 8, 2]"
      ]
     },
     "execution_count": 134,
     "metadata": {},
     "output_type": "execute_result"
    }
   ],
   "source": [
    "'''option Tow'''\n",
    "'''using Loop'''\n",
    "list1 = [1,4,8,2,4,8]\n",
    "list3 = []\n",
    "for i in list1:\n",
    "    if i not in list3:\n",
    "        list3.append(i)\n",
    "\n",
    "list3"
   ]
  },
  {
   "cell_type": "code",
   "execution_count": 138,
   "metadata": {},
   "outputs": [
    {
     "name": "stdout",
     "output_type": "stream",
     "text": [
      "3628800\n"
     ]
    }
   ],
   "source": [
    "'''7. Write a program to calculate the factorial of a given number.'''\n",
    "num = 10 \n",
    "value = 1\n",
    "\n",
    "for i in range(1,10+1):\n",
    "    value = i * value\n",
    "    \n",
    "print(value)\n"
   ]
  },
  {
   "cell_type": "code",
   "execution_count": 143,
   "metadata": {},
   "outputs": [
    {
     "name": "stdout",
     "output_type": "stream",
     "text": [
      "Not Prime\n"
     ]
    }
   ],
   "source": [
    "'''8. Implement a function to check if a given number is prime.'''\n",
    "num  = 20\n",
    "count = 0\n",
    "\n",
    "for i in range(1,num+1):\n",
    "    if num%i == 0:\n",
    "        count = count+1\n",
    "if count == 2:\n",
    "    print(\"Prime no\")\n",
    "else:\n",
    "    print(\"Not Prime\")\n",
    "        "
   ]
  },
  {
   "cell_type": "code",
   "execution_count": 152,
   "metadata": {},
   "outputs": [
    {
     "name": "stdout",
     "output_type": "stream",
     "text": [
      "19 Its a Prime No\n",
      "17 Its a Prime No\n",
      "13 Its a Prime No\n",
      "11 Its a Prime No\n",
      "7 Its a Prime No\n",
      "5 Its a Prime No\n",
      "3 Its a Prime No\n",
      "2 Its a Prime No\n"
     ]
    }
   ],
   "source": [
    "'''8. Implement a function to know how many prime no are there in a range of given No.'''\n",
    "\n",
    "num = 20\n",
    "count = 0\n",
    "\n",
    "for i in range(num,0,-1):\n",
    "    for j in range(1,i+1):\n",
    "        if i%j == 0:\n",
    "            count = count + 1\n",
    "    if count == 2:\n",
    "        print(i ,\"Its a Prime No\")\n",
    "    count = 0\n"
   ]
  },
  {
   "cell_type": "code",
   "execution_count": 154,
   "metadata": {},
   "outputs": [
    {
     "data": {
      "text/plain": [
       "[1, 3, 5, 8, 10]"
      ]
     },
     "execution_count": 154,
     "metadata": {},
     "output_type": "execute_result"
    }
   ],
   "source": [
    "'''9. Write a Python program to sort a list of integers in ascending order.'''\n",
    "\n",
    "'''option one'''\n",
    "\n",
    "my_list = [10, 5, 8, 3, 1]\n",
    "sorted(my_list)\n"
   ]
  },
  {
   "cell_type": "code",
   "execution_count": 160,
   "metadata": {},
   "outputs": [
    {
     "data": {
      "text/plain": [
       "27"
      ]
     },
     "execution_count": 160,
     "metadata": {},
     "output_type": "execute_result"
    }
   ],
   "source": [
    "'''10. Implement a function to find the sum of all numbers in a list.'''\n",
    "'''Option One'''\n",
    "my_list = [10, 5, 8, 3, 1]\n",
    "\n",
    "sum(my_list)"
   ]
  },
  {
   "cell_type": "code",
   "execution_count": 162,
   "metadata": {},
   "outputs": [
    {
     "name": "stdout",
     "output_type": "stream",
     "text": [
      "27\n"
     ]
    }
   ],
   "source": [
    "'''Option One'''\n",
    "value = 0\n",
    "for i in my_list:\n",
    "    value = value+i\n",
    "\n",
    "    \n",
    "print(value)"
   ]
  },
  {
   "cell_type": "code",
   "execution_count": 163,
   "metadata": {},
   "outputs": [
    {
     "data": {
      "text/plain": [
       "[4, 8]"
      ]
     },
     "execution_count": 163,
     "metadata": {},
     "output_type": "execute_result"
    }
   ],
   "source": [
    "'''11. Write a program to find the common elements between two lists.'''\n",
    "list1 = [1,2,4,8]\n",
    "list2 = [4,8,5,10]\n",
    "list3 = []\n",
    "for i in list1:\n",
    "    if i in list2:\n",
    "        list3.append(i)\n",
    "        \n",
    "list3\n"
   ]
  },
  {
   "cell_type": "code",
   "execution_count": 165,
   "metadata": {},
   "outputs": [
    {
     "name": "stdout",
     "output_type": "stream",
     "text": [
      "Not Anagaram\n"
     ]
    }
   ],
   "source": [
    "'''12. Implement a function to check if a given string is an anagram of another string.'''\n",
    "'''Anagaram is a sting which contain same char'''\n",
    "\n",
    "\n",
    "s1 = \"heart\"\n",
    "s2 = \"earth5\"\n",
    "if sorted(s1) == sorted(s2):\n",
    "    print(\"Anagram\")\n",
    "else:\n",
    "    print(\"Not Anagaram\")\n",
    "\n"
   ]
  },
  {
   "cell_type": "code",
   "execution_count": 186,
   "metadata": {},
   "outputs": [
    {
     "name": "stdout",
     "output_type": "stream",
     "text": [
      "['A', 'B', 'C']\n",
      "['A', 'B', 'C']\n"
     ]
    }
   ],
   "source": [
    "'''13. Write a Python program to generate all permutations of a given string.'''\n",
    "\n",
    "s1 = [\"A\",\"B\",\"C\"]\n",
    "temp = [\"A\",\"B\",\"C\"]\n",
    "k=0\n",
    "\n",
    "for i in range(2):\n",
    "    temp[k+i],temp[i] = temp[i],temp[k+i]\n",
    "    print(temp)\n",
    "    "
   ]
  },
  {
   "cell_type": "code",
   "execution_count": 190,
   "metadata": {},
   "outputs": [
    {
     "name": "stdout",
     "output_type": "stream",
     "text": [
      "1\n",
      "2\n",
      "3\n",
      "5\n",
      "8\n",
      "13\n",
      "21\n",
      "34\n",
      "55\n",
      "89\n"
     ]
    }
   ],
   "source": [
    "'''14. Implement a function to calculate the Fibonacci sequence up to a given number of terms.'''\n",
    "\n",
    "'''14. Implement a function to calculate the Fibonacci sequence up to a given number of terms.'''\n",
    "\n",
    "num = 10\n",
    "num1 = 0\n",
    "num2 = 1\n",
    "num3 = 0\n",
    "\n",
    "for i in range(1, num + 1):\n",
    "    num3 = num1 + num2\n",
    "    num1 = num2\n",
    "    num2 = num3\n",
    "    print(num3)"
   ]
  },
  {
   "cell_type": "code",
   "execution_count": null,
   "metadata": {},
   "outputs": [],
   "source": []
  },
  {
   "cell_type": "code",
   "execution_count": null,
   "metadata": {},
   "outputs": [],
   "source": []
  },
  {
   "cell_type": "code",
   "execution_count": null,
   "metadata": {},
   "outputs": [],
   "source": []
  },
  {
   "cell_type": "code",
   "execution_count": null,
   "metadata": {},
   "outputs": [],
   "source": []
  },
  {
   "cell_type": "code",
   "execution_count": null,
   "metadata": {},
   "outputs": [],
   "source": []
  },
  {
   "cell_type": "code",
   "execution_count": null,
   "metadata": {},
   "outputs": [],
   "source": []
  }
 ],
 "metadata": {
  "kernelspec": {
   "display_name": "Python 3",
   "language": "python",
   "name": "python3"
  },
  "language_info": {
   "codemirror_mode": {
    "name": "ipython",
    "version": 3
   },
   "file_extension": ".py",
   "mimetype": "text/x-python",
   "name": "python",
   "nbconvert_exporter": "python",
   "pygments_lexer": "ipython3",
   "version": "3.8.5"
  }
 },
 "nbformat": 4,
 "nbformat_minor": 4
}
