{
 "cells": [
  {
   "cell_type": "code",
   "execution_count": 2,
   "metadata": {},
   "outputs": [
    {
     "name": "stdout",
     "output_type": "stream",
     "text": [
      "0\n",
      "1\n",
      "2\n",
      "3\n",
      "4\n",
      "5\n",
      "6\n",
      "7\n",
      "8\n",
      "9\n"
     ]
    }
   ],
   "source": [
    "'''Generators'''\n",
    "\n",
    "def genFunc():\n",
    "    for i in range(10):\n",
    "        yield i\n",
    "        \n",
    "gen = genFunc()\n",
    "for j in gen:\n",
    "    print(j)\n"
   ]
  },
  {
   "cell_type": "code",
   "execution_count": 10,
   "metadata": {},
   "outputs": [
    {
     "data": {
      "text/plain": [
       "[1, 8, 27, 64, 125, 216]"
      ]
     },
     "execution_count": 10,
     "metadata": {},
     "output_type": "execute_result"
    }
   ],
   "source": [
    "'''return cub of each element of the below list'''\n",
    "\n",
    "def cube(x):\n",
    "    return x * x *x\n",
    "\n",
    "list1 = [1,2,3,4,5,6]\n",
    "\n",
    "\n",
    "list2 = list(map(cube,list1))\n",
    "\n",
    "list2"
   ]
  },
  {
   "cell_type": "code",
   "execution_count": 17,
   "metadata": {},
   "outputs": [
    {
     "data": {
      "text/plain": [
       "[1, 8, 27, 64, 125, 216]"
      ]
     },
     "execution_count": 17,
     "metadata": {},
     "output_type": "execute_result"
    }
   ],
   "source": [
    "'''convert below intems list where each element should be in below operation needs to done using map'''\n",
    "\n",
    "x = \"1,8,27,64,125,216\"\n",
    "x = x.split(\",\")\n",
    "x = list(map(int,x))\n",
    "x"
   ]
  },
  {
   "cell_type": "code",
   "execution_count": 25,
   "metadata": {},
   "outputs": [
    {
     "data": {
      "text/plain": [
       "[3, 4, 5, 6]"
      ]
     },
     "execution_count": 25,
     "metadata": {},
     "output_type": "execute_result"
    }
   ],
   "source": [
    "'''print element which are greater than 2 using'''\n",
    "\n",
    "list1 = [1,2,3,4,5,6]\n",
    "\n",
    "def donc(x):\n",
    "    if x > 2:\n",
    "        return x\n",
    "\n",
    "list2 = list(filter(donc,list1))\n",
    "\n",
    "list2"
   ]
  },
  {
   "cell_type": "code",
   "execution_count": 17,
   "metadata": {},
   "outputs": [
    {
     "name": "stdout",
     "output_type": "stream",
     "text": [
      "string\n",
      "a\n",
      "reverse\n",
      "to\n",
      "program\n",
      "Python\n",
      "a\n",
      "Write\n"
     ]
    },
    {
     "data": {
      "text/plain": [
       "'string a reverse to program Python a Write'"
      ]
     },
     "execution_count": 17,
     "metadata": {},
     "output_type": "execute_result"
    }
   ],
   "source": [
    "'''1. Write a Python program to reverse a string without using any built-in string reversal functions.'''\n",
    "\n",
    "abc = 'Write a Python program to reverse a string'\n",
    "reverseAbc = []\n",
    "dd = \"\"\n",
    "\n",
    "abc = abc.split()\n",
    "for i in range(len(abc)-1,-1,-1):\n",
    "    print(abc[i])\n",
    "    reverseAbc.append(abc[i])\n",
    "\n",
    "dd = \" \".join(reverseAbc)\n",
    "\n",
    "dd"
   ]
  },
  {
   "cell_type": "code",
   "execution_count": 32,
   "metadata": {},
   "outputs": [
    {
     "data": {
      "text/plain": [
       "['string', 'a', 'reverse', 'to', 'program', 'Python', 'a', 'Write']"
      ]
     },
     "execution_count": 32,
     "metadata": {},
     "output_type": "execute_result"
    }
   ],
   "source": [
    "abc = 'Write a Python program to reverse a string'\n",
    "abc = abc.split()\n",
    "abc.reverse()\n",
    "abc"
   ]
  },
  {
   "cell_type": "code",
   "execution_count": 39,
   "metadata": {},
   "outputs": [
    {
     "name": "stdout",
     "output_type": "stream",
     "text": [
      "ABCDCBA\n",
      "yes it is Palindrome\n"
     ]
    }
   ],
   "source": [
    "'''2. Implement a function to check if a given string is a palindrome.'''\n",
    "\n",
    "abc = \"ABCDCBA\"\n",
    "new = \"\"\n",
    "\n",
    "for i in range(len(abc)-1,-1,-1):\n",
    "    new  = abc[i] + new\n",
    "\n",
    "    \n",
    "print(new)\n",
    "if new == abc:\n",
    "    print(\"yes it is Palindrome\")\n",
    "\n"
   ]
  },
  {
   "cell_type": "code",
   "execution_count": 45,
   "metadata": {},
   "outputs": [
    {
     "name": "stdout",
     "output_type": "stream",
     "text": [
      "105\n",
      "-2\n"
     ]
    }
   ],
   "source": [
    "'''3. Write a program to find the largest element in a given list.'''\n",
    "\n",
    "ele = [0,2,4,8,3,10,-2,105,12,23,0]\n",
    "\n",
    "maxEle = ele[0]\n",
    "minEle = ele[0]\n",
    "\n",
    "for i in ele:\n",
    "    if maxEle<i:\n",
    "        maxEle = i\n",
    "print(maxEle)\n",
    "\n",
    "for i in ele:\n",
    "    if i<minEle:\n",
    "        minEle= i\n",
    "print(minEle)"
   ]
  },
  {
   "cell_type": "code",
   "execution_count": 46,
   "metadata": {},
   "outputs": [
    {
     "name": "stdout",
     "output_type": "stream",
     "text": [
      "-1\n"
     ]
    }
   ],
   "source": [
    "'''4. Write a program to find the smallest element in a given list.'''\n",
    "\n",
    "ele = [0,2,4,8,3,10,105,12,23,-1]\n",
    "smallEle = ele[0]\n",
    "\n",
    "for i in ele:\n",
    "    if i<smallEle:\n",
    "        smallEle=i\n",
    "print(smallEle)\n",
    "\n"
   ]
  },
  {
   "cell_type": "code",
   "execution_count": 113,
   "metadata": {},
   "outputs": [
    {
     "data": {
      "text/plain": [
       "6"
      ]
     },
     "execution_count": 113,
     "metadata": {},
     "output_type": "execute_result"
    }
   ],
   "source": [
    "'''4. Implement a function to count the occurrence of each element in a list.'''\n",
    "words = ['tomato','apple','tomato','tomato','tomato','banana','banana','banana']\n",
    "dictOne = {}\n",
    "\n",
    "for i in words:\n",
    "    if i in dictOne:\n",
    "        dictOne.update({i:dictOne[i]+1})\n",
    "    else:\n",
    "        dictOne.update({i:1})\n",
    "\n",
    "        \n",
    "len(max(dictOne))\n"
   ]
  },
  {
   "cell_type": "code",
   "execution_count": 123,
   "metadata": {},
   "outputs": [
    {
     "name": "stdout",
     "output_type": "stream",
     "text": [
      "105\n"
     ]
    }
   ],
   "source": [
    "'''5. Write a Python program to find the second largest number in a list.'''\n",
    "'''Option 01'''\n",
    "\n",
    "\n",
    "ele = [1,2,4,8,3,100,105,12,230]\n",
    "maxEle = ele[0]\n",
    "for i in ele:\n",
    "    if i > maxEle:\n",
    "        maxEle = i\n",
    "        \n",
    "secondLaRGES = ele[0]\n",
    "for j in ele:\n",
    "    if (j > secondLaRGES) and (j !=maxEle):\n",
    "        secondLaRGES = j \n",
    "\n",
    "print(secondLaRGES)\n"
   ]
  },
  {
   "cell_type": "code",
   "execution_count": 131,
   "metadata": {},
   "outputs": [
    {
     "name": "stdout",
     "output_type": "stream",
     "text": [
      "105\n"
     ]
    }
   ],
   "source": [
    "'''Option 02'''\n",
    "ele = [1,2,4,8,3,100,105,12,230]\n",
    "maxEle = ele[0]\n",
    "for i in ele:\n",
    "    if i > maxEle:\n",
    "        maxEle = i\n",
    "\n",
    "secondLaRGES = ele[0]\n",
    "\n",
    "ele.remove(maxEle)\n",
    "for j in ele:\n",
    "    if j > secondLaRGES:\n",
    "        secondLaRGES = j\n",
    "\n",
    "print(secondLaRGES)"
   ]
  },
  {
   "cell_type": "code",
   "execution_count": 132,
   "metadata": {},
   "outputs": [
    {
     "data": {
      "text/plain": [
       "{1, 2, 4, 8}"
      ]
     },
     "execution_count": 132,
     "metadata": {},
     "output_type": "execute_result"
    }
   ],
   "source": [
    "'''6. Implement a function to remove duplicate elements from a list.'''\n",
    "'''option one'''\n",
    "list1 = [1,4,8,2,4,8]\n",
    "list2 = set(list1)\n",
    "list2"
   ]
  },
  {
   "cell_type": "code",
   "execution_count": 134,
   "metadata": {},
   "outputs": [
    {
     "data": {
      "text/plain": [
       "[1, 4, 8, 2]"
      ]
     },
     "execution_count": 134,
     "metadata": {},
     "output_type": "execute_result"
    }
   ],
   "source": [
    "'''option Tow'''\n",
    "'''using Loop'''\n",
    "list1 = [1,4,8,2,4,8]\n",
    "list3 = []\n",
    "for i in list1:\n",
    "    if i not in list3:\n",
    "        list3.append(i)\n",
    "\n",
    "list3"
   ]
  },
  {
   "cell_type": "code",
   "execution_count": 138,
   "metadata": {},
   "outputs": [
    {
     "name": "stdout",
     "output_type": "stream",
     "text": [
      "3628800\n"
     ]
    }
   ],
   "source": [
    "'''7. Write a program to calculate the factorial of a given number.'''\n",
    "num = 10 \n",
    "value = 1\n",
    "\n",
    "for i in range(1,10+1):\n",
    "    value = i * value\n",
    "    \n",
    "print(value)\n"
   ]
  },
  {
   "cell_type": "code",
   "execution_count": 143,
   "metadata": {},
   "outputs": [
    {
     "name": "stdout",
     "output_type": "stream",
     "text": [
      "Not Prime\n"
     ]
    }
   ],
   "source": [
    "'''8. Implement a function to check if a given number is prime.'''\n",
    "num  = 20\n",
    "count = 0\n",
    "\n",
    "for i in range(1,num+1):\n",
    "    if num%i == 0:\n",
    "        count = count+1\n",
    "if count == 2:\n",
    "    print(\"Prime no\")\n",
    "else:\n",
    "    print(\"Not Prime\")\n",
    "        "
   ]
  },
  {
   "cell_type": "code",
   "execution_count": 152,
   "metadata": {},
   "outputs": [
    {
     "name": "stdout",
     "output_type": "stream",
     "text": [
      "19 Its a Prime No\n",
      "17 Its a Prime No\n",
      "13 Its a Prime No\n",
      "11 Its a Prime No\n",
      "7 Its a Prime No\n",
      "5 Its a Prime No\n",
      "3 Its a Prime No\n",
      "2 Its a Prime No\n"
     ]
    }
   ],
   "source": [
    "'''8. Implement a function to know how many prime no are there in a range of given No.'''\n",
    "\n",
    "num = 20\n",
    "count = 0\n",
    "\n",
    "for i in range(num,0,-1):\n",
    "    for j in range(1,i+1):\n",
    "        if i%j == 0:\n",
    "            count = count + 1\n",
    "    if count == 2:\n",
    "        print(i ,\"Its a Prime No\")\n",
    "    count = 0\n"
   ]
  },
  {
   "cell_type": "code",
   "execution_count": 154,
   "metadata": {},
   "outputs": [
    {
     "data": {
      "text/plain": [
       "[1, 3, 5, 8, 10]"
      ]
     },
     "execution_count": 154,
     "metadata": {},
     "output_type": "execute_result"
    }
   ],
   "source": [
    "'''9. Write a Python program to sort a list of integers in ascending order.'''\n",
    "\n",
    "'''option one'''\n",
    "\n",
    "my_list = [10, 5, 8, 3, 1]\n",
    "sorted(my_list)\n"
   ]
  },
  {
   "cell_type": "code",
   "execution_count": 160,
   "metadata": {},
   "outputs": [
    {
     "data": {
      "text/plain": [
       "27"
      ]
     },
     "execution_count": 160,
     "metadata": {},
     "output_type": "execute_result"
    }
   ],
   "source": [
    "'''10. Implement a function to find the sum of all numbers in a list.'''\n",
    "'''Option One'''\n",
    "my_list = [10, 5, 8, 3, 1]\n",
    "\n",
    "sum(my_list)"
   ]
  },
  {
   "cell_type": "code",
   "execution_count": 162,
   "metadata": {},
   "outputs": [
    {
     "name": "stdout",
     "output_type": "stream",
     "text": [
      "27\n"
     ]
    }
   ],
   "source": [
    "'''Option One'''\n",
    "value = 0\n",
    "for i in my_list:\n",
    "    value = value+i\n",
    "\n",
    "    \n",
    "print(value)"
   ]
  },
  {
   "cell_type": "code",
   "execution_count": 163,
   "metadata": {},
   "outputs": [
    {
     "data": {
      "text/plain": [
       "[4, 8]"
      ]
     },
     "execution_count": 163,
     "metadata": {},
     "output_type": "execute_result"
    }
   ],
   "source": [
    "'''11. Write a program to find the common elements between two lists.'''\n",
    "list1 = [1,2,4,8]\n",
    "list2 = [4,8,5,10]\n",
    "list3 = []\n",
    "for i in list1:\n",
    "    if i in list2:\n",
    "        list3.append(i)\n",
    "        \n",
    "list3\n"
   ]
  },
  {
   "cell_type": "code",
   "execution_count": 165,
   "metadata": {},
   "outputs": [
    {
     "name": "stdout",
     "output_type": "stream",
     "text": [
      "Not Anagaram\n"
     ]
    }
   ],
   "source": [
    "'''12. Implement a function to check if a given string is an anagram of another string.'''\n",
    "'''Anagaram is a sting which contain same char'''\n",
    "\n",
    "\n",
    "s1 = \"heart\"\n",
    "s2 = \"earth5\"\n",
    "if sorted(s1) == sorted(s2):\n",
    "    print(\"Anagram\")\n",
    "else:\n",
    "    print(\"Not Anagaram\")\n",
    "\n"
   ]
  },
  {
   "cell_type": "code",
   "execution_count": 41,
   "metadata": {},
   "outputs": [
    {
     "name": "stdout",
     "output_type": "stream",
     "text": [
      "abc\n",
      "acb\n",
      "bac\n",
      "bca\n",
      "cba\n",
      "cab\n"
     ]
    }
   ],
   "source": [
    "'''13. Write a Python program to generate all permutations of a given string.'''\n",
    "\n",
    "'''13. Write a Python program to generate all permutations of a given string.'''\n",
    "\n",
    "def generate_permutations(input_string):\n",
    "    def permute_helper(s, left, right):\n",
    "        if left == right:\n",
    "            # Base case: When the left and right pointers meet,\n",
    "            # we have a permutation to add to the result list.\n",
    "            result.append(''.join(s))\n",
    "        else:\n",
    "            for i in range(left, right + 1):\n",
    "                # Swap characters to create a new permutation\n",
    "                s[left], s[i] = s[i], s[left]\n",
    "                permute_helper(s, left + 1, right)\n",
    "                # Undo the swap to backtrack and explore other permutations\n",
    "                s[left], s[i] = s[i], s[left]\n",
    "\n",
    "    result = []\n",
    "    permute_helper(list(input_string), 0, len(input_string) - 1)\n",
    "    return result\n",
    "\n",
    "input_string = \"abc\"\n",
    "\n",
    "all_permutations = generate_permutations(input_string)\n",
    "for perm in all_permutations:\n",
    "    print(perm)\n"
   ]
  },
  {
   "cell_type": "code",
   "execution_count": 190,
   "metadata": {},
   "outputs": [
    {
     "name": "stdout",
     "output_type": "stream",
     "text": [
      "1\n",
      "2\n",
      "3\n",
      "5\n",
      "8\n",
      "13\n",
      "21\n",
      "34\n",
      "55\n",
      "89\n"
     ]
    }
   ],
   "source": [
    "'''14. Implement a function to calculate the Fibonacci sequence up to a given number of terms.'''\n",
    "\n",
    "'''14. Implement a function to calculate the Fibonacci sequence up to a given number of terms.'''\n",
    "\n",
    "num = 10\n",
    "num1 = 0\n",
    "num2 = 1\n",
    "num3 = 0\n",
    "\n",
    "for i in range(1, num + 1):\n",
    "    num3 = num1 + num2\n",
    "    num1 = num2\n",
    "    num2 = num3\n",
    "    print(num3)"
   ]
  },
  {
   "cell_type": "code",
   "execution_count": 80,
   "metadata": {},
   "outputs": [
    {
     "name": "stdout",
     "output_type": "stream",
     "text": [
      "[1, 2, 3, 4, 5, 6, 7, 8]\n",
      "4 , 5\n",
      "4.5\n"
     ]
    }
   ],
   "source": [
    "'''15. Write a program to find the median of a list of numbers.'''\n",
    "numbers = [5, 2, 8, 1, 6, 3, 7, 4]\n",
    "\n",
    "numbers = sorted(numbers)\n",
    "print(numbers)\n",
    "lenNo = len(numbers)\n",
    "\n",
    "if (lenNo%2)==0:\n",
    "    mid1 = numbers[(lenNo//2)-1]\n",
    "    mid2 = numbers[lenNo//2]\n",
    "    median = (mid1 +mid2)/2\n",
    "    print(median)\n",
    "else:\n",
    "    median = numbers[lenNo//2]\n",
    "    print(median)\n",
    "\n"
   ]
  },
  {
   "cell_type": "code",
   "execution_count": 91,
   "metadata": {},
   "outputs": [
    {
     "name": "stdout",
     "output_type": "stream",
     "text": [
      "List 2 is sorted: False\n",
      "List 1 is sorted: True\n",
      "List 3 is sorted: True\n"
     ]
    }
   ],
   "source": [
    "'''16. Implement a function to check if a given list is sorted in non-decreasing order.'''\n",
    "\n",
    "\n",
    "def is_sorted_non_decreasing(nums):\n",
    "    n = len(nums)\n",
    "    for i in range(n - 1):\n",
    "        if nums[i] > nums[i + 1]:\n",
    "            return False\n",
    "    return True\n",
    "\n",
    "    # Example lists to test the function\n",
    "list2 = [1, 3, 2, 4, 5]\n",
    "list3 = [5, 5, 5, 5, 5]\n",
    "list1 = [1, 2, 3, 4, 5]\n",
    "\n",
    "print(\"List 2 is sorted:\", is_sorted_non_decreasing(list2))  # Output: False\n",
    "print(\"List 1 is sorted:\", is_sorted_non_decreasing(list1))  # Output: True\n",
    "print(\"List 3 is sorted:\", is_sorted_non_decreasing(list3))  # Output: True\n"
   ]
  },
  {
   "cell_type": "code",
   "execution_count": 93,
   "metadata": {},
   "outputs": [
    {
     "data": {
      "text/plain": [
       "[4, 5]"
      ]
     },
     "execution_count": 93,
     "metadata": {},
     "output_type": "execute_result"
    }
   ],
   "source": [
    "'''17. Write a Python program to find the intersection(commong element from two list) of two lists.'''\n",
    "list1 = [1, 2, 3, 4, 5]\n",
    "list2 = [4, 5, 6, 7, 8]\n",
    "intersectionList = []\n",
    "\n",
    "for i in list1:\n",
    "    if i in list2:\n",
    "        intersectionList.append(i)\n",
    "        \n",
    "intersectionList\n"
   ]
  },
  {
   "cell_type": "code",
   "execution_count": 94,
   "metadata": {},
   "outputs": [
    {
     "name": "stdout",
     "output_type": "stream",
     "text": [
      "Maximum subarray sum: 6\n"
     ]
    }
   ],
   "source": [
    "'''18. Implement a function to find the maximum subarray sum in a given list.'''\n",
    "def max_subarray_sum(nums):\n",
    "    max_sum = nums[0]  # Initialize max_sum with the first element\n",
    "    current_sum = nums[0]  # Initialize current_sum with the first element\n",
    "\n",
    "    for num in nums[1:]:\n",
    "        current_sum = max(num, current_sum + num)\n",
    "        max_sum = max(max_sum, current_sum)\n",
    "\n",
    "    return max_sum\n",
    "\n",
    "if __name__ == \"__main__\":\n",
    "    # Example list\n",
    "    nums = [-2, 1, -3, 4, -1, 2, 1, -5, 4]\n",
    "\n",
    "    max_sum = max_subarray_sum(nums)\n",
    "    print(\"Maximum subarray sum:\", max_sum)  # Output: 6 (corresponding to subarray [4, -1, 2, 1])\n"
   ]
  },
  {
   "cell_type": "code",
   "execution_count": 103,
   "metadata": {},
   "outputs": [
    {
     "data": {
      "text/plain": [
       "'Wrt  prgrm t rmv'"
      ]
     },
     "execution_count": 103,
     "metadata": {},
     "output_type": "execute_result"
    }
   ],
   "source": [
    "''' 19 Write a program to remove all vowels from a given string.'''\n",
    "\n",
    "vowels = 'aeioAEIO'\n",
    "\n",
    "s1 = \"Write a program to remove\"\n",
    "for i in s1:\n",
    "    if i in vowels:\n",
    "        s1 = s1.replace(i,\"\")\n",
    "        \n",
    "s1"
   ]
  },
  {
   "cell_type": "code",
   "execution_count": 123,
   "metadata": {},
   "outputs": [
    {
     "data": {
      "text/plain": [
       "'sentence given a in words of order the reverse to function a Implement'"
      ]
     },
     "execution_count": 123,
     "metadata": {},
     "output_type": "execute_result"
    }
   ],
   "source": [
    "'''20. Implement a function to reverse the order of words in a given sentence.'''\n",
    "'''Option One'''\n",
    "\n",
    "abc = \"Implement a function to reverse the order of words in a given sentence\"\n",
    "abc = abc.split()\n",
    "new = \"\"\n",
    "for i in abc:\n",
    "    new = i + \" \"+ new\n",
    "new\n",
    "\n",
    "'''Option One'''\n",
    "\n",
    "abc = \"Implement a function to reverse the order of words in a given sentence\"\n",
    "abc = abc.split()\n",
    "new = []\n",
    "for i in range(len(abc)-1,0,-1):\n",
    "    new.append(abc[i])\n",
    "   \n",
    "newStr = \" \".join(new)\n",
    "newStr\n",
    "\n",
    "'''Option Three'''\n",
    "\n",
    "abc = \"Implement a function to reverse the order of words in a given sentence\"\n",
    "abc = abc.split()\n",
    "\n",
    "abc.reverse()\n",
    "newStr = ' '.join(abc)\n",
    "newStr\n",
    "\n",
    "'''Option Four'''\n",
    "abc = \"Implement a function to reverse the order of words in a given sentence\"\n",
    "abc = abc.split()\n",
    "\n",
    "reverseStr = abc[::-1]\n",
    "reverseStr = \" \".join(reverseStr)\n",
    "reverseStr"
   ]
  },
  {
   "cell_type": "code",
   "execution_count": 127,
   "metadata": {},
   "outputs": [
    {
     "name": "stdout",
     "output_type": "stream",
     "text": [
      "yes it is anagram of each other\n"
     ]
    }
   ],
   "source": [
    "'''21. Write a Python program to check if two strings are anagrams of each other.'''\n",
    "\n",
    "s1 = \"earth\"\n",
    "s2 = \"heart\"\n",
    "\n",
    "if sorted(s1) == sorted(s2):\n",
    "    print(\"yes it is anagram of each other\")\n",
    "else:\n",
    "    print(\"No it is anagram of each other\")\n"
   ]
  },
  {
   "cell_type": "code",
   "execution_count": 132,
   "metadata": {},
   "outputs": [
    {
     "name": "stdout",
     "output_type": "stream",
     "text": [
      "I 1\n"
     ]
    }
   ],
   "source": [
    "'''22. Implement a function to find the first non-repeating character in a string.'''\n",
    "\n",
    "s1 = \"Implmpl\"\n",
    "dict1 = {}\n",
    "for i in s1:\n",
    "    if i in dict1:\n",
    "        dict1[i] = dict1[i] +1\n",
    "    else:\n",
    "        dict1[i] = 1\n",
    "        \n",
    "for key,value in dict1.items():\n",
    "    if value ==1:\n",
    "        print(key,value)\n",
    "        \n",
    "        "
   ]
  },
  {
   "cell_type": "code",
   "execution_count": 139,
   "metadata": {},
   "outputs": [
    {
     "name": "stdout",
     "output_type": "stream",
     "text": [
      "[1, 2, 4, 5]\n"
     ]
    }
   ],
   "source": [
    "'''23. Write a program to find the prime factors of a given number.'''\n",
    "\n",
    "num = 40\n",
    "l1 = []\n",
    "\n",
    "for i in range(1,num+1):\n",
    "    if num%i==0:\n",
    "        l1.append(i)\n",
    "        num=num/i\n",
    "        \n",
    "print(l1)\n"
   ]
  },
  {
   "cell_type": "code",
   "execution_count": 162,
   "metadata": {},
   "outputs": [
    {
     "name": "stdout",
     "output_type": "stream",
     "text": [
      "No It is Not\n"
     ]
    }
   ],
   "source": [
    "'''24. Implement a function to check if a given number is a power of two.'''\n",
    "\n",
    "num = 20\n",
    "while num > 1 and num % 2 == 0:\n",
    "    num = num // 2\n",
    "\n",
    "if num == 1:\n",
    "    print(\"yes\")\n",
    "else:\n",
    "    print(\"No It is Not\")\n",
    "\n",
    "\n",
    "\n",
    "    \n",
    "    \n",
    "    \n",
    "    \n"
   ]
  },
  {
   "cell_type": "code",
   "execution_count": 166,
   "metadata": {},
   "outputs": [
    {
     "data": {
      "text/plain": [
       "[1, 2, 3, 4, 5]"
      ]
     },
     "execution_count": 166,
     "metadata": {},
     "output_type": "execute_result"
    }
   ],
   "source": [
    "'''25. Write a Python program to merge two sorted lists into a single sorted list.'''\n",
    "\n",
    "list1 = [1, 2, 3, 5]\n",
    "list2 = [4, 6, 7, 8,9]\n",
    "list3 = []\n",
    "for i in list1:\n",
    "    for j in list2:\n",
    "        if i < j and i not in list3:\n",
    "            list3.append(i)\n",
    "        elif i > j and i not in list3:\n",
    "            list3.append(j)\n",
    "        \n",
    "\n",
    "list3"
   ]
  },
  {
   "cell_type": "code",
   "execution_count": 180,
   "metadata": {},
   "outputs": [
    {
     "name": "stdout",
     "output_type": "stream",
     "text": [
      "1 4\n"
     ]
    }
   ],
   "source": [
    "'''26. Implement a function to find the mode of a list of numbers.'''\n",
    "l1 = [1,2,3,1,1,14,1,3,6,8]\n",
    "\n",
    "maxEle = 0\n",
    "countOfEle = 0\n",
    "value = 0\n",
    "\n",
    "for i in l1:\n",
    "    countOfEle = l1.count(i)\n",
    "    if countOfEle>maxEle:\n",
    "        maxEle = countOfEle\n",
    "        value = i\n",
    "        \n",
    "print(value,maxEle)"
   ]
  },
  {
   "cell_type": "code",
   "execution_count": null,
   "metadata": {},
   "outputs": [],
   "source": []
  },
  {
   "cell_type": "code",
   "execution_count": null,
   "metadata": {},
   "outputs": [],
   "source": []
  },
  {
   "cell_type": "code",
   "execution_count": null,
   "metadata": {},
   "outputs": [],
   "source": []
  },
  {
   "cell_type": "code",
   "execution_count": null,
   "metadata": {},
   "outputs": [],
   "source": []
  }
 ],
 "metadata": {
  "kernelspec": {
   "display_name": "Python 3",
   "language": "python",
   "name": "python3"
  },
  "language_info": {
   "codemirror_mode": {
    "name": "ipython",
    "version": 3
   },
   "file_extension": ".py",
   "mimetype": "text/x-python",
   "name": "python",
   "nbconvert_exporter": "python",
   "pygments_lexer": "ipython3",
   "version": "3.8.5"
  }
 },
 "nbformat": 4,
 "nbformat_minor": 4
}
