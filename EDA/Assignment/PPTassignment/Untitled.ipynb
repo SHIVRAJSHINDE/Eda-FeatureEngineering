{
 "cells": [
  {
   "cell_type": "code",
   "execution_count": 6,
   "metadata": {},
   "outputs": [
    {
     "name": "stdout",
     "output_type": "stream",
     "text": [
      "['string', 'a', 'reverse', 'to', 'program', 'Python', 'a', 'Write']\n"
     ]
    }
   ],
   "source": [
    "'''1. Write a Python program to reverse a string without using any built-in string reversal functions.'''\n",
    "\n",
    "abc = 'Write a Python program to reverse a string'\n",
    "abc = abc.split()\n",
    "abc\n",
    "revesedString = []\n",
    "abcLen= len(abc)-1\n",
    "i=0\n",
    "while abcLen >= i:\n",
    "    revesedString.append(abc[abcLen])\n",
    "    abcLen -=1\n",
    "    \n",
    "print(revesedString)\n",
    "    \n",
    "    \n"
   ]
  },
  {
   "cell_type": "code",
   "execution_count": 7,
   "metadata": {},
   "outputs": [
    {
     "name": "stdout",
     "output_type": "stream",
     "text": [
      "Its not Palindrome string\n"
     ]
    }
   ],
   "source": [
    "'''2. Implement a function to check if a given string is a palindrome.'''\n",
    "\n",
    "\n",
    "a = \"1882\"\n",
    "b=\"\"\n",
    "\n",
    "for i in a:\n",
    "    b = i + b\n",
    "\n",
    "if a ==b:\n",
    "    print(\"Its a Palindrome string\")\n",
    "else:\n",
    "    print(\"Its not Palindrome string\")\n",
    "    \n",
    "    \n"
   ]
  },
  {
   "cell_type": "code",
   "execution_count": 8,
   "metadata": {},
   "outputs": [
    {
     "name": "stdout",
     "output_type": "stream",
     "text": [
      "105\n"
     ]
    }
   ],
   "source": [
    "'''3. Write a program to find the largest element in a given list.'''\n",
    "\n",
    "ele = [1,2,4,8,3,10,105,12,23]\n",
    "maxEle = ele[0]\n",
    "\n",
    "for i in ele:\n",
    "    if i>maxEle:\n",
    "        maxEle=i\n",
    "print(maxEle)\n",
    "\n"
   ]
  },
  {
   "cell_type": "code",
   "execution_count": 9,
   "metadata": {},
   "outputs": [
    {
     "name": "stdout",
     "output_type": "stream",
     "text": [
      "-1\n"
     ]
    }
   ],
   "source": [
    "'''4. Write a program to find the smallest element in a given list.'''\n",
    "\n",
    "ele = [0,2,4,8,3,10,105,12,23,-1]\n",
    "smallEle = ele[0]\n",
    "\n",
    "for i in ele:\n",
    "    if i<smallEle:\n",
    "        smallEle=i\n",
    "print(smallEle)\n",
    "\n"
   ]
  },
  {
   "cell_type": "code",
   "execution_count": 10,
   "metadata": {},
   "outputs": [
    {
     "name": "stdout",
     "output_type": "stream",
     "text": [
      "{'apple': 1, 'tomato': 1, 'banana': 3}\n",
      "banana 6\n"
     ]
    }
   ],
   "source": [
    "'''4. Implement a function to count the occurrence of each element in a list.'''\n",
    "\n",
    "\n",
    "words = ['apple','tomato','banana','banana','banana']\n",
    "\n",
    "dict1 ={}\n",
    "\n",
    "for i in words:\n",
    "    if i in dict1:\n",
    "        dict1[i] = dict1[i] + 1\n",
    "    else:\n",
    "        dict1[i]= 1\n",
    "print(dict1)\n",
    "\n",
    "maxElement=max(dict1,key=dict1.get)\n",
    "print(maxElement,len(maxElement))\n"
   ]
  },
  {
   "cell_type": "code",
   "execution_count": 11,
   "metadata": {},
   "outputs": [
    {
     "name": "stdout",
     "output_type": "stream",
     "text": [
      "105\n"
     ]
    }
   ],
   "source": [
    "'''5. Write a Python program to find the second largest number in a list.'''\n",
    "\n",
    "ele = [1,2,4,8,3,100,105,12,230]\n",
    "\n",
    "largestElement = ele[0]\n",
    "secondLargestElement = ele[0]\n",
    "\n",
    "\n",
    "for i in ele:\n",
    "    if i>largestElement:\n",
    "        largestElement = i\n",
    "\n",
    "for j in ele:\n",
    "    if j > secondLargestElement and j !=largestElement:\n",
    "        secondLargestElement = j\n",
    "        \n",
    "print(secondLargestElement)\n",
    "        "
   ]
  },
  {
   "cell_type": "code",
   "execution_count": 12,
   "metadata": {},
   "outputs": [
    {
     "data": {
      "text/plain": [
       "{1, 2, 4, 8}"
      ]
     },
     "execution_count": 12,
     "metadata": {},
     "output_type": "execute_result"
    }
   ],
   "source": [
    "'''6. Implement a function to remove duplicate elements from a list.'''\n",
    "'''option one'''\n",
    "list1 = [1,4,8,2,4,8]\n",
    "list2 = set(list1)\n",
    "list2"
   ]
  },
  {
   "cell_type": "code",
   "execution_count": 13,
   "metadata": {},
   "outputs": [
    {
     "name": "stdout",
     "output_type": "stream",
     "text": [
      "[1, 4, 8, 2]\n"
     ]
    }
   ],
   "source": [
    "'''option Two'''\n",
    "\n",
    "list1 = [1,4,8,2,4,8]\n",
    "unique_list = []\n",
    "for i in list1:\n",
    "    if i not in unique_list:\n",
    "        unique_list.append(i)\n",
    "\n",
    "print(unique_list)"
   ]
  },
  {
   "cell_type": "code",
   "execution_count": 14,
   "metadata": {},
   "outputs": [
    {
     "name": "stdout",
     "output_type": "stream",
     "text": [
      "3628800\n"
     ]
    }
   ],
   "source": [
    "'''7. Write a program to calculate the factorial of a given number.'''\n",
    "\n",
    "num = 10 \n",
    "value = 1\n",
    "for i in range(1,num+1):\n",
    "    value = i * value\n",
    "\n",
    "print(value)\n",
    "\n"
   ]
  },
  {
   "cell_type": "code",
   "execution_count": 15,
   "metadata": {},
   "outputs": [
    {
     "name": "stdout",
     "output_type": "stream",
     "text": [
      "its not prime Number\n"
     ]
    }
   ],
   "source": [
    "'''8. Implement a function to check if a given number is prime.'''\n",
    "\n",
    "num = 6\n",
    "count = 0\n",
    "for i in range(1,num+1):\n",
    "    if num%i==0:\n",
    "        count = count+1\n",
    "if count<3:\n",
    "    print(\"its prime Number\")\n",
    "else:\n",
    "    print(\"its not prime Number\")\n",
    "    "
   ]
  },
  {
   "cell_type": "code",
   "execution_count": 16,
   "metadata": {},
   "outputs": [
    {
     "data": {
      "text/plain": [
       "[1, 3, 5, 8, 10]"
      ]
     },
     "execution_count": 16,
     "metadata": {},
     "output_type": "execute_result"
    }
   ],
   "source": [
    "'''9. Write a Python program to sort a list of integers in ascending order.'''\n",
    "\n",
    "'''option one'''\n",
    "my_list = [10, 5, 8, 3, 1]\n",
    "\n",
    "my_list = sorted(my_list)\n",
    "my_list"
   ]
  },
  {
   "cell_type": "code",
   "execution_count": 17,
   "metadata": {},
   "outputs": [
    {
     "data": {
      "text/plain": [
       "27"
      ]
     },
     "execution_count": 17,
     "metadata": {},
     "output_type": "execute_result"
    }
   ],
   "source": [
    "'''10. Implement a function to find the sum of all numbers in a list.'''\n",
    "'''Option One'''\n",
    "my_list = [10, 5, 8, 3, 1]\n",
    "sumVlaue = sum(my_list)\n",
    "sumVlaue"
   ]
  },
  {
   "cell_type": "code",
   "execution_count": 18,
   "metadata": {},
   "outputs": [
    {
     "name": "stdout",
     "output_type": "stream",
     "text": [
      "27\n"
     ]
    }
   ],
   "source": [
    "'''Option Two'''\n",
    "my_list = [10, 5, 8, 3, 1]\n",
    "value = 0\n",
    "for i in my_list:\n",
    "    value = value + i \n",
    "\n",
    "print(value)"
   ]
  },
  {
   "cell_type": "code",
   "execution_count": 19,
   "metadata": {},
   "outputs": [
    {
     "name": "stdout",
     "output_type": "stream",
     "text": [
      "[4, 8]\n"
     ]
    }
   ],
   "source": [
    "'''11. Write a program to find the common elements between two lists.'''\n",
    "list1 = [1,2,4,8]\n",
    "list2 = [4,8,5,10]\n",
    "\n",
    "commonEle = []\n",
    "for i in list1:\n",
    "    if i in list2:\n",
    "        commonEle.append(i)\n",
    "\n",
    "print(commonEle)\n"
   ]
  },
  {
   "cell_type": "code",
   "execution_count": 20,
   "metadata": {},
   "outputs": [
    {
     "name": "stdout",
     "output_type": "stream",
     "text": [
      "yes its ANAGRAM\n"
     ]
    }
   ],
   "source": [
    "'''12. Implement a function to check if a given string is an anagram of another string.'''\n",
    "\n",
    "s1 = \"heart\"\n",
    "s2 = \"earth\"\n",
    "\n",
    "if sorted(s1)==sorted(s2):\n",
    "    print(\"yes its ANAGRAM\")\n"
   ]
  },
  {
   "cell_type": "code",
   "execution_count": 3,
   "metadata": {},
   "outputs": [
    {
     "name": "stdout",
     "output_type": "stream",
     "text": [
      "['ABC', 'ACB', 'BAC', 'BCA', 'CBA', 'CAB']\n"
     ]
    }
   ],
   "source": [
    "'''13. Write a Python program to generate all permutations of a given string.'''\n",
    "\n",
    "result = []\n",
    "\n",
    "def permutation(data, i, n):\n",
    "    if i == n:\n",
    "        result.append(\"\".join(data))\n",
    "    k = n + 1\n",
    "    for j in range(i, k):\n",
    "        data[i], data[j] = data[j], data[i]\n",
    "        permutation(data, i + 1, n)\n",
    "        data[i], data[j] = data[j], data[i]\n",
    "data = \"ABC\"\n",
    "i = 0\n",
    "n = len(data) - 1\n",
    "permutation(list(data), i, n)\n",
    "print(result)"
   ]
  },
  {
   "cell_type": "code",
   "execution_count": 26,
   "metadata": {},
   "outputs": [
    {
     "name": "stdout",
     "output_type": "stream",
     "text": [
      "1\n",
      "2\n",
      "3\n",
      "5\n",
      "8\n",
      "13\n",
      "21\n",
      "34\n",
      "55\n"
     ]
    }
   ],
   "source": [
    "'''14. Implement a function to calculate the Fibonacci sequence up to a given number of terms.'''\n",
    "num = 10\n",
    "num1 = 0 \n",
    "num2 = 1\n",
    "sum = 0\n",
    "for i in range(1,num):\n",
    "    sum = num1 + num2\n",
    "    num1 = num2\n",
    "    num2 = sum\n",
    "    print(sum)\n",
    "\n",
    "    \n",
    "    \n",
    "\n"
   ]
  },
  {
   "cell_type": "code",
   "execution_count": 28,
   "metadata": {},
   "outputs": [
    {
     "name": "stdout",
     "output_type": "stream",
     "text": [
      "Median: 5\n"
     ]
    }
   ],
   "source": [
    "'''15. Write a program to find the median of a list of numbers.'''\n",
    "\n",
    "def find_median(numbers):\n",
    "    sorted_numbers = sorted(numbers)\n",
    "    n = len(sorted_numbers)\n",
    "    if n % 2 == 0:\n",
    "        mid1 = sorted_numbers[n//2 - 1]\n",
    "        mid2 = sorted_numbers[n//2]\n",
    "        median = (mid1 + mid2) / 2\n",
    "    else:\n",
    "        median = sorted_numbers[n//2]\n",
    "    return median\n",
    "\n",
    "# Test the function\n",
    "my_list = [7, 2, 9, 1, 5]\n",
    "result = find_median(my_list)\n",
    "print(\"Median:\", result)\n"
   ]
  },
  {
   "cell_type": "code",
   "execution_count": 4,
   "metadata": {},
   "outputs": [
    {
     "name": "stdout",
     "output_type": "stream",
     "text": [
      "False\n"
     ]
    }
   ],
   "source": [
    "'''16. Implement a function to check if a given list is sorted in non-decreasing order.'''\n",
    "\n",
    "inputlist = [3,1,2,3,4]\n",
    "\n",
    "lenL = len(inputlist)-1\n",
    "\n",
    "k = 0\n",
    "for i in range(lenL):\n",
    "    if (inputlist[i]<=inputlist[i+1]):\n",
    "        pass\n",
    "    else:\n",
    "        k=1\n",
    "        break\n",
    "print(k==0)\n",
    "        \n"
   ]
  },
  {
   "cell_type": "code",
   "execution_count": 1,
   "metadata": {},
   "outputs": [
    {
     "name": "stdout",
     "output_type": "stream",
     "text": [
      "6\n"
     ]
    }
   ],
   "source": [
    "'''18. Implement a function to find the maximum subarray sum in a given list.'''\n",
    "\n",
    "def max_subarray_sum(arr):\n",
    "    if len(arr) == 0:\n",
    "        return 0\n",
    "\n",
    "    current_sum = max_sum = arr[0]\n",
    "\n",
    "    for num in arr[1:]:\n",
    "        current_sum = max(num, current_sum + num)\n",
    "        max_sum = max(max_sum, current_sum)\n",
    "\n",
    "    return max_sum\n",
    "\n",
    "arr = [-2, 1, -3, 4, -1, 2, 1, -5, 4]\n",
    "print(max_subarray_sum(arr))  # Output: 6\n",
    "\n"
   ]
  },
  {
   "cell_type": "code",
   "execution_count": 4,
   "metadata": {},
   "outputs": [
    {
     "name": "stdout",
     "output_type": "stream",
     "text": [
      "Wrt  prgrm\n"
     ]
    }
   ],
   "source": [
    "'''19. Write a program to remove all vowels from a given string.'''\n",
    "\n",
    "vowel_string = \"aeiouAEIOU\"\n",
    "\n",
    "s = \"Write a program\"\n",
    "\n",
    "for i in s:\n",
    "    if i in vowel_string:\n",
    "        s=s.replace(i,\"\")\n",
    "print(s)\n"
   ]
  },
  {
   "cell_type": "code",
   "execution_count": 15,
   "metadata": {},
   "outputs": [
    {
     "name": "stdout",
     "output_type": "stream",
     "text": [
      "['reverse', 'to', 'function', 'a', 'Implement']\n"
     ]
    }
   ],
   "source": [
    "'''20. Implement a function to reverse the order of words in a given sentence.'''\n",
    "\n",
    "'''option One'''\n",
    "\n",
    "s = \"Implement a function to reverse\"\n",
    "s = s.split()\n",
    "s.reverse()\n",
    "print(s)\n",
    "\n",
    "\n"
   ]
  },
  {
   "cell_type": "code",
   "execution_count": 27,
   "metadata": {},
   "outputs": [
    {
     "name": "stdout",
     "output_type": "stream",
     "text": [
      "reverse to function a Implement\n"
     ]
    }
   ],
   "source": [
    "'''option One'''\n",
    "s = \"Implement a function to reverse\"\n",
    "s = s.split()\n",
    "lenS = len(s)-1\n",
    "rev= []\n",
    "\n",
    "i = 0\n",
    "\n",
    "while i <= lenS:\n",
    "    rev.append(s[lenS])\n",
    "    lenS-=1\n",
    "\n",
    "rev = \" \".join(rev)\n",
    "print(rev)"
   ]
  },
  {
   "cell_type": "code",
   "execution_count": 33,
   "metadata": {},
   "outputs": [
    {
     "name": "stdout",
     "output_type": "stream",
     "text": [
      "reverse to function a Implement \n"
     ]
    }
   ],
   "source": [
    "'''option Three'''\n",
    "s = \"Implement a function to reverse\"\n",
    "s = s.split()\n",
    "lenS = len(s)-1\n",
    "rev= []\n",
    "rev1 = \"\"\n",
    "for i in s:\n",
    "    rev1 = i +\" \"+str(rev1)\n",
    "    \n",
    "print(rev1)"
   ]
  },
  {
   "cell_type": "code",
   "execution_count": null,
   "metadata": {},
   "outputs": [],
   "source": [
    "'''21. Write a Python program to check if two strings are anagrams of each other.'''\n",
    "\n",
    "s1 = \"heart\"\n",
    "s2 = \"earth\"\n",
    "\n",
    "if sorted(s1)==sorted(s2):\n",
    "    print(\"yes its ANAGRAM\")\n",
    "\n"
   ]
  },
  {
   "cell_type": "code",
   "execution_count": 46,
   "metadata": {},
   "outputs": [
    {
     "name": "stdout",
     "output_type": "stream",
     "text": [
      "1st Non Repeating Char is:  y\n"
     ]
    }
   ],
   "source": [
    "'''22. Implement a function to find the first non-repeating character in a string.'''\n",
    "\n",
    "l1 = ['a','b','d','y','a','b','c','d']\n",
    "\n",
    "dict1 = {}\n",
    "\n",
    "for i in l1:\n",
    "    if i in dict1:\n",
    "        dict1[i] = dict1[i] +1\n",
    "    else:\n",
    "        dict1[i] = 1\n",
    "        \n",
    "for key,vlaue in dict1.items():\n",
    "    if vlaue == 1:\n",
    "        print(\"1st Non Repeating Char is: \",key)\n",
    "        break\n",
    "        \n",
    "        \n"
   ]
  },
  {
   "cell_type": "code",
   "execution_count": 63,
   "metadata": {},
   "outputs": [
    {
     "name": "stdout",
     "output_type": "stream",
     "text": [
      "[2, 2, 3, 7]\n"
     ]
    }
   ],
   "source": [
    "'''23. Write a program to find the prime factors of a given number.'''\n",
    "\n",
    "n= 84\n",
    "\n",
    "factors = []\n",
    "\n",
    "i = 2\n",
    "\n",
    "while i<=n:\n",
    "    if n%i==0:\n",
    "        factors.append(i)\n",
    "        n=n/i\n",
    "    else:\n",
    "        i = i+1\n",
    "\n",
    "print(factors)\n"
   ]
  },
  {
   "cell_type": "code",
   "execution_count": null,
   "metadata": {},
   "outputs": [],
   "source": [
    "'''24. Implement a function to check if a given number is a power of two.'''\n",
    "\n"
   ]
  },
  {
   "cell_type": "code",
   "execution_count": 68,
   "metadata": {},
   "outputs": [
    {
     "ename": "AttributeError",
     "evalue": "'list' object has no attribute 'val'",
     "output_type": "error",
     "traceback": [
      "\u001b[1;31m---------------------------------------------------------------------------\u001b[0m",
      "\u001b[1;31mAttributeError\u001b[0m                            Traceback (most recent call last)",
      "\u001b[1;32m<ipython-input-68-d94123973c24>\u001b[0m in \u001b[0;36m<module>\u001b[1;34m\u001b[0m\n\u001b[0;32m     33\u001b[0m \u001b[1;33m\u001b[0m\u001b[0m\n\u001b[0;32m     34\u001b[0m \u001b[0msol\u001b[0m \u001b[1;33m=\u001b[0m \u001b[0mSolution\u001b[0m\u001b[1;33m(\u001b[0m\u001b[1;33m)\u001b[0m\u001b[1;33m\u001b[0m\u001b[1;33m\u001b[0m\u001b[0m\n\u001b[1;32m---> 35\u001b[1;33m \u001b[0msol\u001b[0m\u001b[1;33m.\u001b[0m\u001b[0mmergeTowLists\u001b[0m\u001b[1;33m(\u001b[0m\u001b[0ml1\u001b[0m\u001b[1;33m,\u001b[0m\u001b[0ml2\u001b[0m\u001b[1;33m)\u001b[0m\u001b[1;33m\u001b[0m\u001b[1;33m\u001b[0m\u001b[0m\n\u001b[0m",
      "\u001b[1;32m<ipython-input-68-d94123973c24>\u001b[0m in \u001b[0;36mmergeTowLists\u001b[1;34m(self, l1, l2)\u001b[0m\n\u001b[0;32m     12\u001b[0m         \u001b[0mtmp1\u001b[0m\u001b[1;33m,\u001b[0m\u001b[0mtmp2\u001b[0m\u001b[1;33m,\u001b[0m\u001b[0mtmp3\u001b[0m\u001b[1;33m=\u001b[0m \u001b[0ml1\u001b[0m\u001b[1;33m,\u001b[0m\u001b[0ml2\u001b[0m\u001b[1;33m,\u001b[0m\u001b[0mhead\u001b[0m\u001b[1;33m\u001b[0m\u001b[1;33m\u001b[0m\u001b[0m\n\u001b[0;32m     13\u001b[0m         \u001b[1;32mwhile\u001b[0m \u001b[1;33m(\u001b[0m\u001b[0mtmp1\u001b[0m \u001b[1;32mis\u001b[0m \u001b[1;32mnot\u001b[0m \u001b[1;32mNone\u001b[0m \u001b[1;32mand\u001b[0m \u001b[0mtmp2\u001b[0m \u001b[1;32mis\u001b[0m \u001b[1;32mnot\u001b[0m \u001b[1;32mNone\u001b[0m\u001b[1;33m)\u001b[0m\u001b[1;33m:\u001b[0m\u001b[1;33m\u001b[0m\u001b[1;33m\u001b[0m\u001b[0m\n\u001b[1;32m---> 14\u001b[1;33m             \u001b[1;32mif\u001b[0m\u001b[1;33m(\u001b[0m\u001b[0mtmp1\u001b[0m\u001b[1;33m.\u001b[0m\u001b[0mval\u001b[0m\u001b[1;33m<\u001b[0m\u001b[0mtmp2\u001b[0m\u001b[1;33m.\u001b[0m\u001b[0mval\u001b[0m\u001b[1;33m)\u001b[0m\u001b[1;33m:\u001b[0m\u001b[1;33m\u001b[0m\u001b[1;33m\u001b[0m\u001b[0m\n\u001b[0m\u001b[0;32m     15\u001b[0m                 \u001b[0mtmp3\u001b[0m\u001b[1;33m.\u001b[0m\u001b[0mnext\u001b[0m\u001b[1;33m=\u001b[0m \u001b[0mtmp1\u001b[0m\u001b[1;33m\u001b[0m\u001b[1;33m\u001b[0m\u001b[0m\n\u001b[0;32m     16\u001b[0m                 \u001b[0mtmp1\u001b[0m\u001b[1;33m=\u001b[0m\u001b[0mtmp1\u001b[0m\u001b[1;33m.\u001b[0m\u001b[0mnext\u001b[0m\u001b[1;33m\u001b[0m\u001b[1;33m\u001b[0m\u001b[0m\n",
      "\u001b[1;31mAttributeError\u001b[0m: 'list' object has no attribute 'val'"
     ]
    }
   ],
   "source": [
    "'''25. Write a Python program to merge two sorted lists into a single sorted list.'''\n",
    "\n",
    "\n",
    "class ListNode:\n",
    "    def __init__(self,val=0,next=None):\n",
    "        self.val=val\n",
    "        self.next=next\n",
    "\n",
    "class Solution:\n",
    "    def mergeTowLists(self,l1:ListNode,l2:ListNode):\n",
    "        head=ListNode()\n",
    "        tmp1,tmp2,tmp3= l1,l2,head\n",
    "        while (tmp1 is not None and tmp2 is not None):\n",
    "            if(tmp1.val<=tmp2.val):\n",
    "                tmp3.next= tmp1\n",
    "                tmp1=tmp1.next\n",
    "            else:\n",
    "                tmp3.next=tmp2\n",
    "                tmp2=tmp2.next\n",
    "            tmp3=tmp3.next\n",
    "            \n",
    "        if (tmp1 is not None):\n",
    "            tmp3.next=tmp1\n",
    "        elif (tmp2 is not None):\n",
    "            tmp3.next = tmp2\n",
    "            \n",
    "        head=head.next\n",
    "        return head\n",
    "    \n",
    "    \n",
    "l1 = [1,2,3,4] \n",
    "l2 = [1,3,6,8]\n",
    "\n",
    "sol = Solution()\n",
    "sol.mergeTowLists(l1,l2)\n"
   ]
  },
  {
   "cell_type": "code",
   "execution_count": null,
   "metadata": {},
   "outputs": [],
   "source": []
  },
  {
   "cell_type": "code",
   "execution_count": 71,
   "metadata": {},
   "outputs": [
    {
     "name": "stdout",
     "output_type": "stream",
     "text": [
      "1 1 2 3 3 4 6 8 "
     ]
    }
   ],
   "source": [
    "'''25. Write a Python program to merge two sorted lists into a single sorted list.'''\n",
    "\n",
    "class ListNode:\n",
    "    def __init__(self, val=0, next=None):\n",
    "        self.val = val\n",
    "        self.next = next\n",
    "\n",
    "class Solution:\n",
    "    def mergeTwoLists(self, l1: ListNode, l2: ListNode) -> ListNode:\n",
    "        head = ListNode()\n",
    "        tmp1, tmp2, tmp3 = l1, l2, head\n",
    "\n",
    "        while tmp1 is not None and tmp2 is not None:\n",
    "            if tmp1.val <= tmp2.val:\n",
    "                tmp3.next = tmp1\n",
    "                tmp1 = tmp1.next\n",
    "            else:\n",
    "                tmp3.next = tmp2\n",
    "                tmp2 = tmp2.next\n",
    "            tmp3 = tmp3.next\n",
    "\n",
    "        if tmp1 is not None:\n",
    "            tmp3.next = tmp1\n",
    "        elif tmp2 is not None:\n",
    "            tmp3.next = tmp2\n",
    "\n",
    "        head = head.next\n",
    "        return head\n",
    "\n",
    "\n",
    "# Create the linked lists based on the input lists\n",
    "l1 = ListNode(1)\n",
    "l1.next = ListNode(2)\n",
    "l1.next.next = ListNode(3)\n",
    "l1.next.next.next = ListNode(4)\n",
    "\n",
    "l2 = ListNode(1)\n",
    "l2.next = ListNode(3)\n",
    "l2.next.next = ListNode(6)\n",
    "l2.next.next.next = ListNode(8)\n",
    "\n",
    "\n",
    "\n",
    "# Merge the two sorted lists\n",
    "sol = Solution()\n",
    "merged_list = sol.mergeTwoLists(l1, l2)\n",
    "\n",
    "# Print the merged list values\n",
    "while merged_list is not None:\n",
    "    print(merged_list.val, end=' ')\n",
    "    merged_list = merged_list.next\n",
    "\n",
    "# Output: 1 1 2 3 3 4 6 8\n"
   ]
  },
  {
   "cell_type": "code",
   "execution_count": 75,
   "metadata": {},
   "outputs": [
    {
     "name": "stdout",
     "output_type": "stream",
     "text": [
      "1 4\n"
     ]
    }
   ],
   "source": [
    "'''26. Implement a function to find the mode of a list of numbers.'''\n",
    "\n",
    "l1 = [1,2,3,1,1,14,1,3,6,8]\n",
    "\n",
    "maxEle = 0\n",
    "value = 0\n",
    "\n",
    "for i in l1:\n",
    "    count1 = l1.count(i)\n",
    "    if count1>maxEle:\n",
    "        maxEle = count1\n",
    "        value = i\n",
    "\n",
    "print(value,maxEle)\n"
   ]
  },
  {
   "cell_type": "code",
   "execution_count": 83,
   "metadata": {},
   "outputs": [
    {
     "name": "stdout",
     "output_type": "stream",
     "text": [
      "1\n",
      "2\n",
      "5\n",
      "10\n"
     ]
    }
   ],
   "source": [
    "'''27. Write a program to find the greatest common divisor (GCD) of two numbers.'''\n",
    "num1 = 40\n",
    "num2 = 30\n",
    "\n",
    "largeNo = 0\n",
    "\n",
    "if num1>num2:\n",
    "    largeNo=num1\n",
    "else:\n",
    "    largeNo=num2\n",
    "    \n",
    "for i in range(1,largeNo+1):\n",
    "    if num1%i==0 and num2%i==0:\n",
    "        GCD = i\n",
    "    \n",
    "print(GCD)\n"
   ]
  },
  {
   "cell_type": "code",
   "execution_count": 84,
   "metadata": {},
   "outputs": [
    {
     "name": "stdout",
     "output_type": "stream",
     "text": [
      "Enter th no: 64\n",
      "8.0\n"
     ]
    }
   ],
   "source": [
    "'''28. Implement a function to calculate the square root of a given number.'''\n",
    "\n",
    "value = input(\"Enter th no: \")\n",
    "value = int(value)\n",
    "\n",
    "print(value**(0.5))\n"
   ]
  },
  {
   "cell_type": "code",
   "execution_count": 93,
   "metadata": {},
   "outputs": [
    {
     "name": "stdout",
     "output_type": "stream",
     "text": [
      "Enter th string: boob\n",
      "its a Palindrome String\n"
     ]
    }
   ],
   "source": [
    "'''29. Write a Python program to check if a given string is a valid palindrome ignoring non-alphanumeric characters.'''\n",
    "\n",
    "value1 = input(\"Enter th string: \")\n",
    "\n",
    "value2 = value1[-1::-1]\n",
    "if (value2==value1):\n",
    "    print(\"its a Palindrome String\")\n",
    "else:\n",
    "    print(\"its Not a Palindrome String\")\n",
    "    \n"
   ]
  },
  {
   "cell_type": "code",
   "execution_count": 8,
   "metadata": {},
   "outputs": [
    {
     "name": "stdout",
     "output_type": "stream",
     "text": [
      "1\n"
     ]
    }
   ],
   "source": [
    "'''30. Implement a function to find the minimum element in a rotated sorted array.'''\n",
    "nums = [4,5,6,7,8,9,10,12,1,2,3]\n",
    "\n",
    "s = 0\n",
    "e = len(nums)-1\n",
    "while s < e:\n",
    "    m= s+(e-s)/2\n",
    "    m = int(m)\n",
    "    midValue =nums[m]\n",
    "    lastValue = nums[e]\n",
    "    if (midValue>lastValue):\n",
    "        s=m+1\n",
    "    else:\n",
    "        e=m\n",
    "print(nums[s])"
   ]
  },
  {
   "cell_type": "code",
   "execution_count": 17,
   "metadata": {},
   "outputs": [
    {
     "name": "stdout",
     "output_type": "stream",
     "text": [
      "2\n",
      "6\n",
      "12\n",
      "20\n",
      "30\n",
      "30\n"
     ]
    }
   ],
   "source": [
    "'''31. Write a program to find the sum of all even numbers in a list.'''\n",
    "nums = [1,2,3,4,5,6,7,8,9,10]\n",
    "sum = 0\n",
    "\n",
    "for i in nums:\n",
    "    rem = i%2\n",
    "    if rem == 0:\n",
    "        sum = sum+i\n",
    "        print(sum)\n",
    "print(sum)"
   ]
  },
  {
   "cell_type": "code",
   "execution_count": 19,
   "metadata": {},
   "outputs": [
    {
     "data": {
      "text/plain": [
       "32"
      ]
     },
     "execution_count": 19,
     "metadata": {},
     "output_type": "execute_result"
    }
   ],
   "source": [
    "'''32. Implement a function to calculate the power of a number using recursion.'''\n",
    "\n",
    "def powerValue(base,exponent):\n",
    "    if exponent==0:\n",
    "        return 1\n",
    "    elif exponent>0:\n",
    "\n",
    "        return base * powerValue(base,exponent-1)\n",
    "    else:\n",
    "        return  1/powerValue(base,exponent-1)\n",
    "    \n",
    "\n",
    "powerValue(2,5)"
   ]
  },
  {
   "cell_type": "code",
   "execution_count": 23,
   "metadata": {},
   "outputs": [
    {
     "data": {
      "text/plain": [
       "32"
      ]
     },
     "execution_count": 23,
     "metadata": {},
     "output_type": "execute_result"
    }
   ],
   "source": [
    "'''32. Implement a function to calculate the power of a number using recursion.'''\n",
    "\n",
    "def powerValue(base,exponent):\n",
    "    if exponent==0:\n",
    "        return 1\n",
    "    elif exponent>0:\n",
    "        return base * powerValue(base, exponent - 1)\n",
    "    else:\n",
    "        return  1/powerValue(base,exponent-1)\n",
    "\n",
    "\n",
    "powerValue(2,5)"
   ]
  },
  {
   "cell_type": "code",
   "execution_count": 26,
   "metadata": {},
   "outputs": [
    {
     "name": "stdout",
     "output_type": "stream",
     "text": [
      "[10, 20, 30, 40, 50, 60, 70]\n"
     ]
    }
   ],
   "source": [
    "'''33. Write a Python program to remove duplicates from a list while preserving the order.'''\n",
    "nums = [10,20,30,30,40,50,40,50,60,70,60]\n",
    "l2 = []\n",
    "\n",
    "\n",
    "for i in nums:\n",
    "    if i not in l2:\n",
    "        l2.append(i)\n",
    "print(l2)"
   ]
  },
  {
   "cell_type": "code",
   "execution_count": null,
   "metadata": {},
   "outputs": [],
   "source": [
    "'''34. Implement a function to find the longest common prefix among a list of strings.'''"
   ]
  },
  {
   "cell_type": "code",
   "execution_count": 35,
   "metadata": {},
   "outputs": [
    {
     "name": "stdout",
     "output_type": "stream",
     "text": [
      "not Square\n"
     ]
    }
   ],
   "source": [
    "'''35. Write a program to check if a given number is a perfect square.'''\n",
    "\n",
    "num = 10\n",
    "flag=0\n",
    "\n",
    "for i in range(1,num):\n",
    "    if i*i ==num:\n",
    "        flag=1\n",
    "        break\n",
    "if flag==1:\n",
    "    print(\"perfect Square\")\n",
    "else:\n",
    "    print(\"not Square\")\n",
    "        \n"
   ]
  },
  {
   "cell_type": "code",
   "execution_count": 38,
   "metadata": {},
   "outputs": [
    {
     "name": "stdout",
     "output_type": "stream",
     "text": [
      "10\n",
      "200\n",
      "6000\n",
      "180000\n",
      "7200000\n",
      "360000000\n",
      "14400000000\n",
      "720000000000\n",
      "43200000000000\n",
      "3024000000000000\n",
      "181440000000000000\n"
     ]
    }
   ],
   "source": [
    "'''36. Implement a function to calculate the product of all elements in a list.'''\n",
    "nums = [10,20,30,30,40,50,40,50,60,70,60]\n",
    "prod = 1\n",
    "for i in nums:\n",
    "    prod = i * prod\n",
    "    print(prod)\n",
    "\n"
   ]
  },
  {
   "cell_type": "code",
   "execution_count": 44,
   "metadata": {},
   "outputs": [
    {
     "data": {
      "text/plain": [
       "'the reverse to program Python a Write'"
      ]
     },
     "execution_count": 44,
     "metadata": {},
     "output_type": "execute_result"
    }
   ],
   "source": [
    "'''37. Write a Python program to reverse the order of words in a sentence while preserving the word order.'''\n",
    "s = \"Write a Python program to reverse the\"\n",
    "s = s.split()\n",
    "\n",
    "s = s[::-1]\n",
    "s = \" \".join(s)\n",
    "s"
   ]
  },
  {
   "cell_type": "code",
   "execution_count": 46,
   "metadata": {},
   "outputs": [
    {
     "ename": "TypeError",
     "evalue": "'int' object is not callable",
     "output_type": "error",
     "traceback": [
      "\u001b[1;31m---------------------------------------------------------------------------\u001b[0m",
      "\u001b[1;31mTypeError\u001b[0m                                 Traceback (most recent call last)",
      "\u001b[1;32m<ipython-input-46-57065ec58b56>\u001b[0m in \u001b[0;36m<module>\u001b[1;34m\u001b[0m\n\u001b[0;32m     14\u001b[0m \u001b[1;31m# Test the function\u001b[0m\u001b[1;33m\u001b[0m\u001b[1;33m\u001b[0m\u001b[1;33m\u001b[0m\u001b[0m\n\u001b[0;32m     15\u001b[0m \u001b[0mnumbers\u001b[0m \u001b[1;33m=\u001b[0m \u001b[1;33m[\u001b[0m\u001b[1;36m1\u001b[0m\u001b[1;33m,\u001b[0m \u001b[1;36m2\u001b[0m\u001b[1;33m,\u001b[0m \u001b[1;36m3\u001b[0m\u001b[1;33m,\u001b[0m \u001b[1;36m5\u001b[0m\u001b[1;33m,\u001b[0m \u001b[1;36m6\u001b[0m\u001b[1;33m]\u001b[0m\u001b[1;33m\u001b[0m\u001b[1;33m\u001b[0m\u001b[0m\n\u001b[1;32m---> 16\u001b[1;33m \u001b[0mmissing_number\u001b[0m \u001b[1;33m=\u001b[0m \u001b[0mfind_missing_number\u001b[0m\u001b[1;33m(\u001b[0m\u001b[0mnumbers\u001b[0m\u001b[1;33m)\u001b[0m\u001b[1;33m\u001b[0m\u001b[1;33m\u001b[0m\u001b[0m\n\u001b[0m\u001b[0;32m     17\u001b[0m \u001b[0mprint\u001b[0m\u001b[1;33m(\u001b[0m\u001b[1;34mf\"The missing number is: {missing_number}\"\u001b[0m\u001b[1;33m)\u001b[0m\u001b[1;33m\u001b[0m\u001b[1;33m\u001b[0m\u001b[0m\n\u001b[0;32m     18\u001b[0m \u001b[1;33m\u001b[0m\u001b[0m\n",
      "\u001b[1;32m<ipython-input-46-57065ec58b56>\u001b[0m in \u001b[0;36mfind_missing_number\u001b[1;34m(consecutive_list)\u001b[0m\n\u001b[0;32m      7\u001b[0m     \u001b[0mn\u001b[0m \u001b[1;33m=\u001b[0m \u001b[0mlen\u001b[0m\u001b[1;33m(\u001b[0m\u001b[0mconsecutive_list\u001b[0m\u001b[1;33m)\u001b[0m \u001b[1;33m+\u001b[0m \u001b[1;36m1\u001b[0m  \u001b[1;31m# Length of the original consecutive sequence\u001b[0m\u001b[1;33m\u001b[0m\u001b[1;33m\u001b[0m\u001b[0m\n\u001b[0;32m      8\u001b[0m     \u001b[0mexpected_sum\u001b[0m \u001b[1;33m=\u001b[0m \u001b[1;33m(\u001b[0m\u001b[0mn\u001b[0m \u001b[1;33m*\u001b[0m \u001b[1;33m(\u001b[0m\u001b[0mconsecutive_list\u001b[0m\u001b[1;33m[\u001b[0m\u001b[1;36m0\u001b[0m\u001b[1;33m]\u001b[0m \u001b[1;33m+\u001b[0m \u001b[0mconsecutive_list\u001b[0m\u001b[1;33m[\u001b[0m\u001b[1;33m-\u001b[0m\u001b[1;36m1\u001b[0m\u001b[1;33m]\u001b[0m\u001b[1;33m)\u001b[0m\u001b[1;33m)\u001b[0m \u001b[1;33m//\u001b[0m \u001b[1;36m2\u001b[0m\u001b[1;33m\u001b[0m\u001b[1;33m\u001b[0m\u001b[0m\n\u001b[1;32m----> 9\u001b[1;33m     \u001b[0mactual_sum\u001b[0m \u001b[1;33m=\u001b[0m \u001b[0msum\u001b[0m\u001b[1;33m(\u001b[0m\u001b[0mconsecutive_list\u001b[0m\u001b[1;33m)\u001b[0m\u001b[1;33m\u001b[0m\u001b[1;33m\u001b[0m\u001b[0m\n\u001b[0m\u001b[0;32m     10\u001b[0m \u001b[1;33m\u001b[0m\u001b[0m\n\u001b[0;32m     11\u001b[0m     \u001b[0mmissing_number\u001b[0m \u001b[1;33m=\u001b[0m \u001b[0mexpected_sum\u001b[0m \u001b[1;33m-\u001b[0m \u001b[0mactual_sum\u001b[0m\u001b[1;33m\u001b[0m\u001b[1;33m\u001b[0m\u001b[0m\n",
      "\u001b[1;31mTypeError\u001b[0m: 'int' object is not callable"
     ]
    }
   ],
   "source": [
    "'''38. Implement a function to find the missing number in a given list of consecutive numbers.'''\n",
    "\n",
    "def find_missing_number(consecutive_list):\n",
    "    if not consecutive_list:\n",
    "        return None\n",
    "    \n",
    "    n = len(consecutive_list) + 1  # Length of the original consecutive sequence\n",
    "    expected_sum = (n * (consecutive_list[0] + consecutive_list[-1])) // 2\n",
    "    actual_sum = sum(consecutive_list)\n",
    "    \n",
    "    missing_number = expected_sum - actual_sum\n",
    "    return missing_number\n",
    "\n",
    "# Test the function\n",
    "numbers = [1, 2, 3, 5, 6]\n",
    "missing_number = find_missing_number(numbers)\n",
    "print(f\"The missing number is: {missing_number}\")\n",
    "\n"
   ]
  },
  {
   "cell_type": "code",
   "execution_count": 53,
   "metadata": {},
   "outputs": [
    {
     "name": "stdout",
     "output_type": "stream",
     "text": [
      "0\n"
     ]
    }
   ],
   "source": [
    "'''39. Write a program to find the sum of digits of a given number.'''\n",
    "\n",
    "i = 123\n",
    "sum = 0\n",
    "while (i > 0):\n",
    "    modOfi = (i%10)\n",
    "    sum = sum+ modOfi\n",
    "    i = i//10\n",
    "\n",
    "print(sum)"
   ]
  },
  {
   "cell_type": "code",
   "execution_count": 48,
   "metadata": {},
   "outputs": [
    {
     "data": {
      "text/plain": [
       "14"
      ]
     },
     "execution_count": 48,
     "metadata": {},
     "output_type": "execute_result"
    }
   ],
   "source": [
    "'''40. Implement a function to check if a given string is a valid palindrome considering case sensitivity.'''\n",
    "\n",
    "\n"
   ]
  },
  {
   "cell_type": "code",
   "execution_count": null,
   "metadata": {},
   "outputs": [],
   "source": [
    "'''Write a Python program to find the smallest missing positive integer in a list.'''\n",
    "\n",
    "def find_smallest_missing_positive(nums):\n",
    "    n = len(nums)\n",
    "    \n",
    "    # Step 1: Separate positive and non-positive integers\n",
    "    # Move all non-positive elements to the end of the list\n",
    "    j = 0\n",
    "    for i in range(n):\n",
    "        if nums[i] <= 0:\n",
    "            nums[i], nums[j] = nums[j], nums[i]\n",
    "            j += 1\n",
    "\n",
    "    # Consider only the positive integers\n",
    "    nums = nums[j:]\n",
    "\n",
    "    # Step 2: Mark the presence of each positive integer\n",
    "    for num in nums:\n",
    "        idx = abs(num) - 1\n",
    "        if idx < len(nums):\n",
    "            if nums[idx] > 0:\n",
    "                nums[idx] = -nums[idx]\n",
    "\n",
    "    # Step 3: Find the first positive element's index\n",
    "    for i in range(len(nums)):\n",
    "        if nums[i] > 0:\n",
    "            return i + 1\n",
    "\n",
    "    # If all elements are present, return the next positive integer\n",
    "    return len(nums) + 1\n",
    "\n",
    "# Test the function\n",
    "input_list = [3, 4, -1, 1]\n",
    "result = find_smallest_missing_positive(input_list)\n",
    "print(\"The smallest missing positive integer is:\", result)\n"
   ]
  },
  {
   "cell_type": "code",
   "execution_count": null,
   "metadata": {},
   "outputs": [],
   "source": [
    "\n",
    "'''42. Implement a function to find the longest palindrome substring in a given string.'''\n",
    "\n",
    "\n",
    "def longest_palindrome_substring(s):\n",
    "    # Preprocess the string to insert special characters between characters to handle even-length palindromes\n",
    "    processed_str = \"#\".join(\"^{}$\".format(s))\n",
    "    n = len(processed_str)\n",
    "\n",
    "    # Arrays to store the palindrome information\n",
    "    P = [0] * n\n",
    "    C, R = 0, 0  # Center and right boundary of the current longest palindrome\n",
    "\n",
    "    for i in range(1, n - 1):\n",
    "        mirror = 2 * C - i  # Mirror of the current index 'i' with respect to the center 'C'\n",
    "\n",
    "        # If the current index 'i' is within the right boundary 'R'\n",
    "        # update P[i] to the minimum of remaining right boundary and mirror's palindrome length\n",
    "        if i < R:\n",
    "            P[i] = min(R - i, P[mirror])\n",
    "\n",
    "        # Expand around the current index 'i'\n",
    "        while processed_str[i + 1 + P[i]] == processed_str[i - 1 - P[i]]:\n",
    "            P[i] += 1\n",
    "\n",
    "        # Update the center 'C' and right boundary 'R' if a longer palindrome is found\n",
    "        if i + P[i] > R:\n",
    "            C, R = i, i + P[i]\n",
    "\n",
    "    # Find the longest palindrome length and its center index\n",
    "    max_length = max(P)\n",
    "    center_index = P.index(max_length)\n",
    "\n",
    "    # Reconstruct the longest palindrome substring\n",
    "    longest_palindrome = processed_str[center_index - max_length: center_index + max_length + 1]\n",
    "    \n",
    "    # Remove special characters and return the result\n",
    "    return \"\".join(filter(lambda x: x != \"#\", longest_palindrome))\n",
    "\n",
    "# Test the function\n",
    "input_str = \"babad\"\n",
    "result = longest_palindrome_substring(input_str)\n",
    "print(\"Longest palindrome substring:\", result)\n"
   ]
  },
  {
   "cell_type": "code",
   "execution_count": 3,
   "metadata": {},
   "outputs": [
    {
     "name": "stdout",
     "output_type": "stream",
     "text": [
      "2\n"
     ]
    }
   ],
   "source": [
    "'''43. Write a program to find the number of occurrences of a given element in a list.'''\n",
    "nums = [10,20,30,30,40,50,40,50,60,70,60]\n",
    "count = 0\n",
    "ele = 30\n",
    "\n",
    "for i in nums:\n",
    "    if (ele==i):\n",
    "        count = count + 1\n",
    "        \n",
    "print(count)\n",
    "    \n"
   ]
  },
  {
   "cell_type": "code",
   "execution_count": 12,
   "metadata": {},
   "outputs": [
    {
     "name": "stdout",
     "output_type": "stream",
     "text": [
      "Its a perfect Number\n"
     ]
    }
   ],
   "source": [
    "'''44. Implement a function to check if a given number is a perfect number.'''\n",
    "num = 6\n",
    "sum = 0\n",
    "for i in range(1,num):\n",
    "    if num%i == 0:\n",
    "        sum = sum+i\n",
    "if sum == num :\n",
    "    print(\"Its a perfect Number\")\n",
    "else:\n",
    "    print(\"Not a perfect Number\")\n",
    "\n"
   ]
  },
  {
   "cell_type": "code",
   "execution_count": 33,
   "metadata": {},
   "outputs": [
    {
     "name": "stdout",
     "output_type": "stream",
     "text": [
      "abcd\n"
     ]
    }
   ],
   "source": [
    "'''45. Write a Python program to remove all duplicates from a string.'''\n",
    "s = \"aabbccdd\"\n",
    "s1 = \"\"\n",
    "i= 0\n",
    "\n",
    "for x in s:\n",
    "    if s.index(x)== i:\n",
    "        s1 = s1 +x\n",
    "    i = i+1\n",
    "print(s1)\n",
    "    "
   ]
  },
  {
   "cell_type": "code",
   "execution_count": 32,
   "metadata": {},
   "outputs": [
    {
     "name": "stdout",
     "output_type": "stream",
     "text": [
      "\n"
     ]
    }
   ],
   "source": [
    "'''46. Implement a function to find the first missing positive'''\n"
   ]
  },
  {
   "cell_type": "code",
   "execution_count": null,
   "metadata": {},
   "outputs": [],
   "source": [
    "        \n"
   ]
  },
  {
   "cell_type": "code",
   "execution_count": null,
   "metadata": {},
   "outputs": [],
   "source": []
  },
  {
   "cell_type": "code",
   "execution_count": null,
   "metadata": {},
   "outputs": [],
   "source": []
  },
  {
   "cell_type": "code",
   "execution_count": null,
   "metadata": {},
   "outputs": [],
   "source": []
  },
  {
   "cell_type": "code",
   "execution_count": null,
   "metadata": {},
   "outputs": [],
   "source": []
  },
  {
   "cell_type": "code",
   "execution_count": null,
   "metadata": {},
   "outputs": [],
   "source": []
  },
  {
   "cell_type": "code",
   "execution_count": null,
   "metadata": {},
   "outputs": [],
   "source": []
  },
  {
   "cell_type": "code",
   "execution_count": null,
   "metadata": {},
   "outputs": [],
   "source": []
  },
  {
   "cell_type": "code",
   "execution_count": null,
   "metadata": {},
   "outputs": [],
   "source": []
  },
  {
   "cell_type": "code",
   "execution_count": null,
   "metadata": {},
   "outputs": [],
   "source": []
  }
 ],
 "metadata": {
  "kernelspec": {
   "display_name": "Python 3",
   "language": "python",
   "name": "python3"
  },
  "language_info": {
   "codemirror_mode": {
    "name": "ipython",
    "version": 3
   },
   "file_extension": ".py",
   "mimetype": "text/x-python",
   "name": "python",
   "nbconvert_exporter": "python",
   "pygments_lexer": "ipython3",
   "version": "3.8.5"
  }
 },
 "nbformat": 4,
 "nbformat_minor": 4
}
