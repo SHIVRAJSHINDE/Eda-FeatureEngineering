{
 "cells": [
  {
   "cell_type": "code",
   "execution_count": 6,
   "metadata": {},
   "outputs": [
    {
     "name": "stdout",
     "output_type": "stream",
     "text": [
      "['string', 'a', 'reverse', 'to', 'program', 'Python', 'a', 'Write']\n"
     ]
    }
   ],
   "source": [
    "'''1. Write a Python program to reverse a string without using any built-in string reversal functions.'''\n",
    "\n",
    "abc = 'Write a Python program to reverse a string'\n",
    "abc = abc.split()\n",
    "abc\n",
    "revesedString = []\n",
    "abcLen= len(abc)-1\n",
    "i=0\n",
    "while abcLen >= i:\n",
    "    revesedString.append(abc[abcLen])\n",
    "    abcLen -=1\n",
    "    \n",
    "print(revesedString)\n",
    "    \n",
    "    \n"
   ]
  },
  {
   "cell_type": "code",
   "execution_count": 7,
   "metadata": {},
   "outputs": [
    {
     "name": "stdout",
     "output_type": "stream",
     "text": [
      "Its not Palindrome string\n"
     ]
    }
   ],
   "source": [
    "'''2. Implement a function to check if a given string is a palindrome.'''\n",
    "\n",
    "\n",
    "a = \"1882\"\n",
    "b=\"\"\n",
    "\n",
    "for i in a:\n",
    "    b = i + b\n",
    "\n",
    "if a ==b:\n",
    "    print(\"Its a Palindrome string\")\n",
    "else:\n",
    "    print(\"Its not Palindrome string\")\n",
    "    \n",
    "    \n"
   ]
  },
  {
   "cell_type": "code",
   "execution_count": 8,
   "metadata": {},
   "outputs": [
    {
     "name": "stdout",
     "output_type": "stream",
     "text": [
      "105\n"
     ]
    }
   ],
   "source": [
    "'''3. Write a program to find the largest element in a given list.'''\n",
    "\n",
    "ele = [1,2,4,8,3,10,105,12,23]\n",
    "maxEle = ele[0]\n",
    "\n",
    "for i in ele:\n",
    "    if i>maxEle:\n",
    "        maxEle=i\n",
    "print(maxEle)\n",
    "\n"
   ]
  },
  {
   "cell_type": "code",
   "execution_count": 9,
   "metadata": {},
   "outputs": [
    {
     "name": "stdout",
     "output_type": "stream",
     "text": [
      "-1\n"
     ]
    }
   ],
   "source": [
    "'''4. Write a program to find the smallest element in a given list.'''\n",
    "\n",
    "ele = [0,2,4,8,3,10,105,12,23,-1]\n",
    "smallEle = ele[0]\n",
    "\n",
    "for i in ele:\n",
    "    if i<smallEle:\n",
    "        smallEle=i\n",
    "print(smallEle)\n",
    "\n"
   ]
  },
  {
   "cell_type": "code",
   "execution_count": 10,
   "metadata": {},
   "outputs": [
    {
     "name": "stdout",
     "output_type": "stream",
     "text": [
      "{'apple': 1, 'tomato': 1, 'banana': 3}\n",
      "banana 6\n"
     ]
    }
   ],
   "source": [
    "'''4. Implement a function to count the occurrence of each element in a list.'''\n",
    "\n",
    "\n",
    "words = ['apple','tomato','banana','banana','banana']\n",
    "dict1 ={}\n",
    "\n",
    "for i in words:\n",
    "    if i in dict1:\n",
    "        dict1[i] = dict1[i] + 1\n",
    "    else:\n",
    "        dict1[i]= 1\n",
    "print(dict1)\n",
    "\n",
    "maxElement=max(dict1,key=dict1.get)\n",
    "print(maxElement,len(maxElement))\n"
   ]
  },
  {
   "cell_type": "code",
   "execution_count": 11,
   "metadata": {},
   "outputs": [
    {
     "name": "stdout",
     "output_type": "stream",
     "text": [
      "105\n"
     ]
    }
   ],
   "source": [
    "'''5. Write a Python program to find the second largest number in a list.'''\n",
    "\n",
    "ele = [1,2,4,8,3,100,105,12,230]\n",
    "\n",
    "largestElement = ele[0]\n",
    "secondLargestElement = ele[0]\n",
    "\n",
    "\n",
    "for i in ele:\n",
    "    if i>largestElement:\n",
    "        largestElement = i\n",
    "\n",
    "for j in ele:\n",
    "    if j > secondLargestElement and j !=largestElement:\n",
    "        secondLargestElement = j\n",
    "        \n",
    "print(secondLargestElement)\n",
    "        "
   ]
  },
  {
   "cell_type": "code",
   "execution_count": 12,
   "metadata": {},
   "outputs": [
    {
     "data": {
      "text/plain": [
       "{1, 2, 4, 8}"
      ]
     },
     "execution_count": 12,
     "metadata": {},
     "output_type": "execute_result"
    }
   ],
   "source": [
    "'''6. Implement a function to remove duplicate elements from a list.'''\n",
    "'''option one'''\n",
    "list1 = [1,4,8,2,4,8]\n",
    "list2 = set(list1)\n",
    "list2"
   ]
  },
  {
   "cell_type": "code",
   "execution_count": 13,
   "metadata": {},
   "outputs": [
    {
     "name": "stdout",
     "output_type": "stream",
     "text": [
      "[1, 4, 8, 2]\n"
     ]
    }
   ],
   "source": [
    "'''option Two'''\n",
    "\n",
    "list1 = [1,4,8,2,4,8]\n",
    "unique_list = []\n",
    "for i in list1:\n",
    "    if i not in unique_list:\n",
    "        unique_list.append(i)\n",
    "\n",
    "print(unique_list)"
   ]
  },
  {
   "cell_type": "code",
   "execution_count": 14,
   "metadata": {},
   "outputs": [
    {
     "name": "stdout",
     "output_type": "stream",
     "text": [
      "3628800\n"
     ]
    }
   ],
   "source": [
    "'''7. Write a program to calculate the factorial of a given number.'''\n",
    "\n",
    "num = 10 \n",
    "value = 1\n",
    "for i in range(1,num+1):\n",
    "    value = i * value\n",
    "\n",
    "print(value)\n",
    "\n"
   ]
  },
  {
   "cell_type": "code",
   "execution_count": 15,
   "metadata": {},
   "outputs": [
    {
     "name": "stdout",
     "output_type": "stream",
     "text": [
      "its not prime Number\n"
     ]
    }
   ],
   "source": [
    "'''8. Implement a function to check if a given number is prime.'''\n",
    "\n",
    "num = 6\n",
    "count = 0\n",
    "for i in range(1,num+1):\n",
    "    if num%i==0:\n",
    "        count = count+1\n",
    "if count<3:\n",
    "    print(\"its prime Number\")\n",
    "else:\n",
    "    print(\"its not prime Number\")\n",
    "    "
   ]
  },
  {
   "cell_type": "code",
   "execution_count": 16,
   "metadata": {},
   "outputs": [
    {
     "data": {
      "text/plain": [
       "[1, 3, 5, 8, 10]"
      ]
     },
     "execution_count": 16,
     "metadata": {},
     "output_type": "execute_result"
    }
   ],
   "source": [
    "'''9. Write a Python program to sort a list of integers in ascending order.'''\n",
    "\n",
    "'''option one'''\n",
    "my_list = [10, 5, 8, 3, 1]\n",
    "\n",
    "my_list = sorted(my_list)\n",
    "my_list"
   ]
  },
  {
   "cell_type": "code",
   "execution_count": 17,
   "metadata": {},
   "outputs": [
    {
     "data": {
      "text/plain": [
       "27"
      ]
     },
     "execution_count": 17,
     "metadata": {},
     "output_type": "execute_result"
    }
   ],
   "source": [
    "'''10. Implement a function to find the sum of all numbers in a list.'''\n",
    "'''Option One'''\n",
    "my_list = [10, 5, 8, 3, 1]\n",
    "sumVlaue = sum(my_list)\n",
    "sumVlaue"
   ]
  },
  {
   "cell_type": "code",
   "execution_count": 18,
   "metadata": {},
   "outputs": [
    {
     "name": "stdout",
     "output_type": "stream",
     "text": [
      "27\n"
     ]
    }
   ],
   "source": [
    "'''Option Two'''\n",
    "my_list = [10, 5, 8, 3, 1]\n",
    "value = 0\n",
    "for i in my_list:\n",
    "    value = value + i \n",
    "\n",
    "print(value)"
   ]
  },
  {
   "cell_type": "code",
   "execution_count": 19,
   "metadata": {},
   "outputs": [
    {
     "name": "stdout",
     "output_type": "stream",
     "text": [
      "[4, 8]\n"
     ]
    }
   ],
   "source": [
    "'''11. Write a program to find the common elements between two lists.'''\n",
    "list1 = [1,2,4,8]\n",
    "list2 = [4,8,5,10] \n",
    "commonEle = []\n",
    "for i in list1:\n",
    "    if i in list2:\n",
    "        commonEle.append(i)\n",
    "\n",
    "print(commonEle)\n"
   ]
  },
  {
   "cell_type": "code",
   "execution_count": 20,
   "metadata": {},
   "outputs": [
    {
     "name": "stdout",
     "output_type": "stream",
     "text": [
      "yes its ANAGRAM\n"
     ]
    }
   ],
   "source": [
    "'''12. Implement a function to check if a given string is an anagram of another string.'''\n",
    "\n",
    "s1 = \"heart\"\n",
    "s2 = \"earth\"\n",
    "\n",
    "if sorted(s1)==sorted(s2):\n",
    "    print(\"yes its ANAGRAM\")\n"
   ]
  },
  {
   "cell_type": "code",
   "execution_count": 21,
   "metadata": {},
   "outputs": [
    {
     "name": "stdout",
     "output_type": "stream",
     "text": [
      "['ABCD', 'ABDC', 'ACBD', 'ACDB', 'ADCB', 'ADBC', 'BACD', 'BADC', 'BCAD', 'BCDA', 'BDCA', 'BDAC', 'CBAD', 'CBDA', 'CABD', 'CADB', 'CDAB', 'CDBA', 'DBCA', 'DBAC', 'DCBA', 'DCAB', 'DACB', 'DABC']\n"
     ]
    }
   ],
   "source": [
    "'''13. Write a Python program to generate all permutations of a given string.'''\n",
    "result = []\n",
    "def permutation(data, i, n):\n",
    "    if i == n:\n",
    "        result.append(\"\".join(data))\n",
    "    k = n + 1\n",
    "    for j in range(i, k):\n",
    "        data[i], data[j] = data[j], data[i]\n",
    "        permutation(data, i + 1, n)\n",
    "        data[i], data[j] = data[j], data[i]\n",
    "data = \"ABCD\"\n",
    "i = 0\n",
    "n = len(data) - 1\n",
    "permutation(list(data), i, n)\n",
    "print(result)"
   ]
  },
  {
   "cell_type": "code",
   "execution_count": 26,
   "metadata": {},
   "outputs": [
    {
     "name": "stdout",
     "output_type": "stream",
     "text": [
      "1\n",
      "2\n",
      "3\n",
      "5\n",
      "8\n",
      "13\n",
      "21\n",
      "34\n",
      "55\n"
     ]
    }
   ],
   "source": [
    "'''14. Implement a function to calculate the Fibonacci sequence up to a given number of terms.'''\n",
    "num = 10\n",
    "num1 = 0 \n",
    "num2 = 1\n",
    "sum = 0\n",
    "for i in range(1,num):\n",
    "    sum = num1 + num2\n",
    "    num1 = num2\n",
    "    num2 = sum\n",
    "    print(sum)\n",
    "\n",
    "    \n",
    "    \n",
    "\n"
   ]
  },
  {
   "cell_type": "code",
   "execution_count": 28,
   "metadata": {},
   "outputs": [
    {
     "name": "stdout",
     "output_type": "stream",
     "text": [
      "Median: 5\n"
     ]
    }
   ],
   "source": [
    "'''15. Write a program to find the median of a list of numbers.'''\n",
    "\n",
    "def find_median(numbers):\n",
    "    sorted_numbers = sorted(numbers)\n",
    "    n = len(sorted_numbers)\n",
    "    if n % 2 == 0:\n",
    "        mid1 = sorted_numbers[n//2 - 1]\n",
    "        mid2 = sorted_numbers[n//2]\n",
    "        median = (mid1 + mid2) / 2\n",
    "    else:\n",
    "        median = sorted_numbers[n//2]\n",
    "    return median\n",
    "\n",
    "# Test the function\n",
    "my_list = [7, 2, 9, 1, 5]\n",
    "result = find_median(my_list)\n",
    "print(\"Median:\", result)\n"
   ]
  },
  {
   "cell_type": "code",
   "execution_count": 4,
   "metadata": {},
   "outputs": [
    {
     "name": "stdout",
     "output_type": "stream",
     "text": [
      "False\n"
     ]
    }
   ],
   "source": [
    "'''16. Implement a function to check if a given list is sorted in non-decreasing order.'''\n",
    "\n",
    "inputlist = [3,1,2,3,4]\n",
    "\n",
    "lenL = len(inputlist)-1\n",
    "\n",
    "k = 0\n",
    "for i in range(lenL):\n",
    "    if (inputlist[i]<=inputlist[i+1]):\n",
    "        pass\n",
    "    else:\n",
    "        k=1\n",
    "        break\n",
    "print(k==0)\n",
    "        \n"
   ]
  },
  {
   "cell_type": "code",
   "execution_count": 1,
   "metadata": {},
   "outputs": [
    {
     "name": "stdout",
     "output_type": "stream",
     "text": [
      "6\n"
     ]
    }
   ],
   "source": [
    "'''18. Implement a function to find the maximum subarray sum in a given list.'''\n",
    "\n",
    "def max_subarray_sum(arr):\n",
    "    if len(arr) == 0:\n",
    "        return 0\n",
    "\n",
    "    current_sum = max_sum = arr[0]\n",
    "\n",
    "    for num in arr[1:]:\n",
    "        current_sum = max(num, current_sum + num)\n",
    "        max_sum = max(max_sum, current_sum)\n",
    "\n",
    "    return max_sum\n",
    "\n",
    "arr = [-2, 1, -3, 4, -1, 2, 1, -5, 4]\n",
    "print(max_subarray_sum(arr))  # Output: 6\n",
    "\n"
   ]
  },
  {
   "cell_type": "code",
   "execution_count": 4,
   "metadata": {},
   "outputs": [
    {
     "name": "stdout",
     "output_type": "stream",
     "text": [
      "Wrt  prgrm\n"
     ]
    }
   ],
   "source": [
    "'''19. Write a program to remove all vowels from a given string.'''\n",
    "\n",
    "vowel_string = \"aeiouAEIOU\"\n",
    "\n",
    "s = \"Write a program\"\n",
    "\n",
    "for i in s:\n",
    "    if i in vowel_string:\n",
    "        s=s.replace(i,\"\")\n",
    "print(s)\n"
   ]
  },
  {
   "cell_type": "code",
   "execution_count": 15,
   "metadata": {},
   "outputs": [
    {
     "name": "stdout",
     "output_type": "stream",
     "text": [
      "['reverse', 'to', 'function', 'a', 'Implement']\n"
     ]
    }
   ],
   "source": [
    "'''20. Implement a function to reverse the order of words in a given sentence.'''\n",
    "\n",
    "'''option One'''\n",
    "\n",
    "s = \"Implement a function to reverse\"\n",
    "s = s.split()\n",
    "s.reverse()\n",
    "print(s)\n",
    "\n",
    "\n"
   ]
  },
  {
   "cell_type": "code",
   "execution_count": 27,
   "metadata": {},
   "outputs": [
    {
     "name": "stdout",
     "output_type": "stream",
     "text": [
      "reverse to function a Implement\n"
     ]
    }
   ],
   "source": [
    "'''option One'''\n",
    "s = \"Implement a function to reverse\"\n",
    "s = s.split()\n",
    "lenS = len(s)-1\n",
    "rev= []\n",
    "\n",
    "i = 0\n",
    "\n",
    "while i <= lenS:\n",
    "    rev.append(s[lenS])\n",
    "    lenS-=1\n",
    "\n",
    "rev = \" \".join(rev)\n",
    "print(rev)"
   ]
  },
  {
   "cell_type": "code",
   "execution_count": 33,
   "metadata": {},
   "outputs": [
    {
     "name": "stdout",
     "output_type": "stream",
     "text": [
      "reverse to function a Implement \n"
     ]
    }
   ],
   "source": [
    "'''option Three'''\n",
    "s = \"Implement a function to reverse\"\n",
    "s = s.split()\n",
    "lenS = len(s)-1\n",
    "rev= []\n",
    "rev1 = \"\"\n",
    "for i in s:\n",
    "    rev1 = i +\" \"+str(rev1)\n",
    "    \n",
    "print(rev1)"
   ]
  },
  {
   "cell_type": "code",
   "execution_count": null,
   "metadata": {},
   "outputs": [],
   "source": [
    "'''21. Write a Python program to check if two strings are anagrams of each other.'''\n",
    "\n",
    "s1 = \"heart\"\n",
    "s2 = \"earth\"\n",
    "\n",
    "if sorted(s1)==sorted(s2):\n",
    "    print(\"yes its ANAGRAM\")\n",
    "\n"
   ]
  },
  {
   "cell_type": "code",
   "execution_count": 46,
   "metadata": {},
   "outputs": [
    {
     "name": "stdout",
     "output_type": "stream",
     "text": [
      "1st Non Repeating Char is:  y\n"
     ]
    }
   ],
   "source": [
    "'''22. Implement a function to find the first non-repeating character in a string.'''\n",
    "\n",
    "l1 = ['a','b','d','y','a','b','c','d']\n",
    "\n",
    "dict1 = {}\n",
    "\n",
    "for i in l1:\n",
    "    if i in dict1:\n",
    "        dict1[i] = dict1[i] +1\n",
    "    else:\n",
    "        dict1[i] = 1\n",
    "        \n",
    "for key,vlaue in dict1.items():\n",
    "    if vlaue == 1:\n",
    "        print(\"1st Non Repeating Char is: \",key)\n",
    "        break\n",
    "        \n",
    "        \n"
   ]
  },
  {
   "cell_type": "code",
   "execution_count": 63,
   "metadata": {},
   "outputs": [
    {
     "name": "stdout",
     "output_type": "stream",
     "text": [
      "[2, 2, 3, 7]\n"
     ]
    }
   ],
   "source": [
    "'''23. Write a program to find the prime factors of a given number.'''\n",
    "\n",
    "n= 84\n",
    "\n",
    "factors = []\n",
    "\n",
    "i = 2\n",
    "\n",
    "while i<=n:\n",
    "    if n%i==0:\n",
    "        factors.append(i)\n",
    "        n=n/i\n",
    "    else:\n",
    "        i = i+1\n",
    "\n",
    "print(factors)\n"
   ]
  },
  {
   "cell_type": "code",
   "execution_count": null,
   "metadata": {},
   "outputs": [],
   "source": [
    "'''24. Implement a function to check if a given number is a power of two.'''\n",
    "\n"
   ]
  },
  {
   "cell_type": "code",
   "execution_count": null,
   "metadata": {},
   "outputs": [],
   "source": []
  },
  {
   "cell_type": "code",
   "execution_count": null,
   "metadata": {},
   "outputs": [],
   "source": []
  },
  {
   "cell_type": "code",
   "execution_count": null,
   "metadata": {},
   "outputs": [],
   "source": []
  },
  {
   "cell_type": "code",
   "execution_count": null,
   "metadata": {},
   "outputs": [],
   "source": []
  },
  {
   "cell_type": "code",
   "execution_count": null,
   "metadata": {},
   "outputs": [],
   "source": []
  },
  {
   "cell_type": "code",
   "execution_count": null,
   "metadata": {},
   "outputs": [],
   "source": []
  },
  {
   "cell_type": "code",
   "execution_count": null,
   "metadata": {},
   "outputs": [],
   "source": []
  },
  {
   "cell_type": "code",
   "execution_count": null,
   "metadata": {},
   "outputs": [],
   "source": []
  },
  {
   "cell_type": "code",
   "execution_count": null,
   "metadata": {},
   "outputs": [],
   "source": []
  }
 ],
 "metadata": {
  "kernelspec": {
   "display_name": "Python 3",
   "language": "python",
   "name": "python3"
  },
  "language_info": {
   "codemirror_mode": {
    "name": "ipython",
    "version": 3
   },
   "file_extension": ".py",
   "mimetype": "text/x-python",
   "name": "python",
   "nbconvert_exporter": "python",
   "pygments_lexer": "ipython3",
   "version": "3.8.5"
  }
 },
 "nbformat": 4,
 "nbformat_minor": 4
}
