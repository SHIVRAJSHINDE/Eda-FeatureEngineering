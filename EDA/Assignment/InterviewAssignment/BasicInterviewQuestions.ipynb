{
 "cells": [
  {
   "cell_type": "code",
   "execution_count": 30,
   "metadata": {},
   "outputs": [
    {
     "name": "stdout",
     "output_type": "stream",
     "text": [
      "19 Not Prime :  5\n"
     ]
    }
   ],
   "source": [
    "'''Print Prime Numbers'''\n",
    "'''prime number  is a number which is divisible by 1 and itself'''\n",
    "\n",
    "num = 19\n",
    "count = 0\n",
    "\n",
    "num = num+1\n",
    "for i in range(1,num):\n",
    "    if (num%i)==0:\n",
    "        count = count +1\n",
    "    \n",
    "if count > 2:\n",
    "    print(i, \"Not Prime : \",count)\n",
    "else:\n",
    "    print(i, \"Prime: \",count)\n",
    "        "
   ]
  },
  {
   "cell_type": "code",
   "execution_count": 24,
   "metadata": {},
   "outputs": [
    {
     "name": "stdout",
     "output_type": "stream",
     "text": [
      "(1, 'Prime: ', 1)\n",
      "(2, 'Prime: ', 2)\n",
      "(3, 'Prime: ', 2)\n",
      "(4, 'Not Prime : ', 3)\n",
      "(5, 'Prime: ', 2)\n"
     ]
    }
   ],
   "source": [
    "'''Print Prime Numbers for a range'''\n",
    "'''prime number  is a number which is divisible by 1 and itself'''\n",
    "\n",
    "num = 5\n",
    "count = 0\n",
    "num = num+1\n",
    "i=1\n",
    "for j in range(1,num):\n",
    "    for i in range(1,j+1):\n",
    "        if (j%i)==0:\n",
    "            count = count +1\n",
    "\n",
    "    if count > 2:\n",
    "        t =  i, \"Not Prime : \",count\n",
    "        print(t)\n",
    "    else:\n",
    "        k= i, \"Prime: \",count\n",
    "        print(k)\n",
    "    count = 0\n"
   ]
  },
  {
   "cell_type": "code",
   "execution_count": 32,
   "metadata": {},
   "outputs": [
    {
     "name": "stdout",
     "output_type": "stream",
     "text": [
      "3628800\n"
     ]
    }
   ],
   "source": [
    "'''Factorial using loop'''\n",
    "\n",
    "num = 10\n",
    "fact = 1\n",
    "for i in range(1,num+1):\n",
    "    fact=fact*i\n",
    "    \n",
    "print(fact)\n",
    "    "
   ]
  },
  {
   "cell_type": "code",
   "execution_count": 39,
   "metadata": {},
   "outputs": [
    {
     "name": "stdout",
     "output_type": "stream",
     "text": [
      "3628800\n"
     ]
    }
   ],
   "source": [
    "\n",
    "'''Factorial using Recursive Function'''\n",
    "def factorial(n):\n",
    "    if (n ==0 or n==1):\n",
    "        return 1\n",
    "    else:\n",
    "        q = n * factorial(n-1)\n",
    "        return q\n",
    "print(factorial(10))\n",
    "\n"
   ]
  },
  {
   "cell_type": "code",
   "execution_count": 44,
   "metadata": {},
   "outputs": [
    {
     "name": "stdout",
     "output_type": "stream",
     "text": [
      "1\n",
      "2\n",
      "3\n",
      "5\n",
      "8\n",
      "13\n",
      "21\n",
      "34\n",
      "55\n",
      "89\n"
     ]
    }
   ],
   "source": [
    "'''print Fabonacci Series'''\n",
    "n1= 0\n",
    "n2= 1\n",
    "\n",
    "for i in range(0,10):\n",
    "    sum = n1+n2 \n",
    "    print(sum)\n",
    "    n1 = n2\n",
    "    n2=sum\n"
   ]
  },
  {
   "cell_type": "code",
   "execution_count": 51,
   "metadata": {},
   "outputs": [
    {
     "ename": "TypeError",
     "evalue": "'int' object is not callable",
     "output_type": "error",
     "traceback": [
      "\u001b[1;31m---------------------------------------------------------------------------\u001b[0m",
      "\u001b[1;31mTypeError\u001b[0m                                 Traceback (most recent call last)",
      "\u001b[1;32m<ipython-input-51-4b968ffe5e27>\u001b[0m in \u001b[0;36m<module>\u001b[1;34m\u001b[0m\n\u001b[0;32m      1\u001b[0m \u001b[0marr\u001b[0m \u001b[1;33m=\u001b[0m \u001b[1;33m[\u001b[0m\u001b[1;36m1\u001b[0m\u001b[1;33m,\u001b[0m \u001b[1;36m2\u001b[0m\u001b[1;33m,\u001b[0m \u001b[1;36m3\u001b[0m\u001b[1;33m,\u001b[0m \u001b[1;36m4\u001b[0m\u001b[1;33m,\u001b[0m \u001b[1;36m5\u001b[0m\u001b[1;33m,\u001b[0m \u001b[1;36m6\u001b[0m\u001b[1;33m]\u001b[0m\u001b[1;33m\u001b[0m\u001b[1;33m\u001b[0m\u001b[0m\n\u001b[1;32m----> 2\u001b[1;33m \u001b[0mtotal_sum\u001b[0m \u001b[1;33m=\u001b[0m \u001b[0msum\u001b[0m\u001b[1;33m(\u001b[0m\u001b[0marr\u001b[0m\u001b[1;33m)\u001b[0m\u001b[1;33m\u001b[0m\u001b[1;33m\u001b[0m\u001b[0m\n\u001b[0m\u001b[0;32m      3\u001b[0m \u001b[0mprint\u001b[0m\u001b[1;33m(\u001b[0m\u001b[0mtotal_sum\u001b[0m\u001b[1;33m)\u001b[0m\u001b[1;33m\u001b[0m\u001b[1;33m\u001b[0m\u001b[0m\n",
      "\u001b[1;31mTypeError\u001b[0m: 'int' object is not callable"
     ]
    }
   ],
   "source": [
    "arr = [1, 2, 3, 4, 5, 6]\n",
    "total_sum = sum(arr)\n",
    "print(total_sum)"
   ]
  },
  {
   "cell_type": "code",
   "execution_count": 66,
   "metadata": {},
   "outputs": [
    {
     "name": "stdout",
     "output_type": "stream",
     "text": [
      "10\n",
      "-3\n"
     ]
    }
   ],
   "source": [
    "'''Find the Max and Min Value in Array'''\n",
    "\n",
    "abc = [2,7,1, 2,8, 3, 4, 5, 6,10]\n",
    "\n",
    "n = len(abc)\n",
    "maxValue = 0\n",
    "for i in range(n):\n",
    "    n1 = abc[i]\n",
    "    if n1 > maxValue :\n",
    "        maxValue = n1\n",
    "\n",
    "\n",
    "print(maxValue)\n",
    "\n",
    "        \n",
    "abc = [2,7,8,3,4,5,6,-3]\n",
    "\n",
    "\n",
    "n = len(abc)\n",
    "minValue=abc[0]\n",
    "\n",
    "for i in range(n):\n",
    "    n1 = abc[i]\n",
    "    if n1 < minValue :\n",
    "        minValue = n1\n",
    "\n",
    "\n",
    "print(minValue)\n",
    "\n",
    "\n",
    "\n",
    "\n"
   ]
  },
  {
   "cell_type": "code",
   "execution_count": 81,
   "metadata": {},
   "outputs": [
    {
     "data": {
      "text/plain": [
       "[8, 2, 3, 4, 5, 6, 7, 1]"
      ]
     },
     "execution_count": 81,
     "metadata": {},
     "output_type": "execute_result"
    }
   ],
   "source": [
    "'''Swap the Element'''\n",
    "'''Approach 01'''\n",
    "abc = [1,2,3,4,5,6,7,8]\n",
    "abcLength = len(abc)\n",
    "temp = abc[0]\n",
    "abc[0] = abc[abcLength-1]\n",
    "abc[abcLength-1] = temp\n",
    "\n",
    "\n",
    "'''Approach 02'''\n",
    "abc = [1,2,3,4,5,6,7,8]\n",
    "\n",
    "abc[0],abc[-1]=abc[-1],abc[0]\n",
    "abc\n",
    "\n",
    "\n",
    "'''Approach 03 Packing'''\n",
    "abc = [1,2,3,4,5,6,7,8]\n",
    "get=(abc[0],abc[-1])\n",
    "abc[-1],abc[0] = get\n",
    "abc\n",
    "\n",
    "'''Approach 04 Operand'''\n",
    "abc = [1,2,3,4,5,6,7,8]\n",
    "\n",
    "start,*middle,end = abc\n",
    "abc = [end,*middle,start]\n",
    "abc\n",
    "\n",
    "\n",
    "'''Approach 04 Operand'''\n",
    "abc = [1,2,3,4,5,6,7,8]\n",
    "first = abc.pop(0)\n",
    "last = abc.pop(-1)\n",
    "\n",
    "abc.insert(0,last)\n",
    "abc.append(first)\n",
    "abc\n"
   ]
  },
  {
   "cell_type": "code",
   "execution_count": null,
   "metadata": {},
   "outputs": [],
   "source": []
  },
  {
   "cell_type": "code",
   "execution_count": null,
   "metadata": {},
   "outputs": [],
   "source": []
  },
  {
   "cell_type": "code",
   "execution_count": null,
   "metadata": {},
   "outputs": [],
   "source": []
  },
  {
   "cell_type": "code",
   "execution_count": null,
   "metadata": {},
   "outputs": [],
   "source": []
  },
  {
   "cell_type": "code",
   "execution_count": null,
   "metadata": {},
   "outputs": [],
   "source": []
  },
  {
   "cell_type": "code",
   "execution_count": null,
   "metadata": {},
   "outputs": [],
   "source": []
  }
 ],
 "metadata": {
  "kernelspec": {
   "display_name": "Python 3",
   "language": "python",
   "name": "python3"
  },
  "language_info": {
   "codemirror_mode": {
    "name": "ipython",
    "version": 3
   },
   "file_extension": ".py",
   "mimetype": "text/x-python",
   "name": "python",
   "nbconvert_exporter": "python",
   "pygments_lexer": "ipython3",
   "version": "3.8.5"
  }
 },
 "nbformat": 4,
 "nbformat_minor": 4
}
