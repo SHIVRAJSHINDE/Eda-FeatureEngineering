{
 "cells": [
  {
   "cell_type": "code",
   "execution_count": 1,
   "metadata": {},
   "outputs": [
    {
     "name": "stdout",
     "output_type": "stream",
     "text": [
      "Enter 1st String: adsfadsf\n",
      "Enter 2nd String: asdfdsaf\n",
      "{'a', 'f', 's', 'd'}\n",
      "{'a', 'f', 's', 'd'}\n",
      "{'a', 'f', 's', 'd'}\n"
     ]
    }
   ],
   "source": [
    "\n",
    "'''Write a programm to find common letters'''\n",
    "\n",
    "def commonWOrds():\n",
    "    a = input(\"Enter 1st String: \")\n",
    "    b = input(\"Enter 2nd String: \")\n",
    "\n",
    "    a = set(a.lower())\n",
    "    b = set(b.lower())\n",
    "\n",
    "    lst = a & b\n",
    "\n",
    "    print(a)\n",
    "    print(b)\n",
    "    print(lst)\n",
    "\n",
    "commonWOrds()\n",
    "\n",
    "\n",
    "\n",
    "    "
   ]
  },
  {
   "cell_type": "code",
   "execution_count": 26,
   "metadata": {},
   "outputs": [
    {
     "name": "stdout",
     "output_type": "stream",
     "text": [
      "{'write': 3, 'frequency': 2, 'of': 1, 'words': 1, 'aprrearing': 1, 'in': 1, 'string': 1}\n",
      "write\n",
      "5\n"
     ]
    }
   ],
   "source": [
    "'''write write frequency of words aprrearing in string frequency write'''\n",
    "\n",
    "a = \"write write frequency of words aprrearing in string frequency write\"\n",
    "\n",
    "a = a.split()\n",
    "count = 0\n",
    "\n",
    "dict = {}\n",
    "\n",
    "for i in a:\n",
    "    dict[i] = 0\n",
    "\n",
    "for i in a:\n",
    "    if i in dict:\n",
    "        dict[i] = dict[i] + 1\n",
    "    else:\n",
    "        dict[i] = 1\n",
    "        \n",
    "\n",
    "print(dict)\n",
    "maxLen = max(dict)\n",
    "\n",
    "print(maxLen)\n",
    "print(len(maxLen))\n"
   ]
  },
  {
   "cell_type": "code",
   "execution_count": null,
   "metadata": {},
   "outputs": [],
   "source": [
    "'''Convert list to Dict'''\n",
    "\n",
    "a = ['dsfsadf','aadf','csadf']\n",
    "b = [1,1,3]\n",
    "\n",
    "abc = dict(zip(a,b))\n",
    "\n",
    "print(abc)"
   ]
  },
  {
   "cell_type": "code",
   "execution_count": 30,
   "metadata": {},
   "outputs": [
    {
     "name": "stdout",
     "output_type": "stream",
     "text": [
      "[1, 2, 3, 4, 5, 6, 7, 8]\n"
     ]
    }
   ],
   "source": [
    "'''remove duplicate'''\n",
    "\n",
    "arr = [1,2,3,4,5,6,7,8,2,3,4,5]\n",
    "arr2 = []\n",
    "\n",
    "for i in arr:\n",
    "    if i not in arr2:\n",
    "        arr2.append(i)\n",
    "        \n",
    "print(arr2)"
   ]
  },
  {
   "cell_type": "code",
   "execution_count": 31,
   "metadata": {},
   "outputs": [
    {
     "data": {
      "text/plain": [
       "{1, 2, 3, 4, 5, 6, 7, 8}"
      ]
     },
     "execution_count": 31,
     "metadata": {},
     "output_type": "execute_result"
    }
   ],
   "source": [
    "arr3 = set(arr)\n",
    "arr3"
   ]
  },
  {
   "cell_type": "code",
   "execution_count": 115,
   "metadata": {},
   "outputs": [
    {
     "name": "stdout",
     "output_type": "stream",
     "text": [
      "{1, 2, 3, 4, 5, 6, 7, 8}\n"
     ]
    }
   ],
   "source": []
  },
  {
   "cell_type": "code",
   "execution_count": 34,
   "metadata": {},
   "outputs": [
    {
     "name": "stdout",
     "output_type": "stream",
     "text": [
      "10\n"
     ]
    }
   ],
   "source": [
    "'''find the biggest no in List'''\n",
    "\n",
    "abc = [1,8, 2, 3,10, 4, 5, 6, 7]\n",
    "\n",
    "maxValue = abc[0]\n",
    "\n",
    "for i in abc:\n",
    "    if i > maxValue:\n",
    "        maxValue = i\n",
    "\n",
    "print(maxValue)\n"
   ]
  },
  {
   "cell_type": "code",
   "execution_count": 38,
   "metadata": {},
   "outputs": [
    {
     "name": "stdout",
     "output_type": "stream",
     "text": [
      "2\n"
     ]
    }
   ],
   "source": [
    "'''find the smallest no in List'''\n",
    "\n",
    "abc = [8, 2, 3,10, 4, 5, 6, 7]\n",
    "\n",
    "maxValue = abc[0]\n",
    "\n",
    "for i in abc:\n",
    "    if i < maxValue:\n",
    "        maxValue = i\n",
    "\n",
    "print(maxValue)\n"
   ]
  },
  {
   "cell_type": "code",
   "execution_count": 44,
   "metadata": {},
   "outputs": [
    {
     "name": "stdout",
     "output_type": "stream",
     "text": [
      "raj\n",
      "jar\n",
      "No its Not matching\n",
      "rajraj\n"
     ]
    }
   ],
   "source": [
    "''' check the rotated string '''\n",
    "\n",
    "str1 = input()\n",
    "str2 =  input()\n",
    "str1Len = len(str1)\n",
    "str2Len = len(str2)\n",
    "\n",
    "s = str1 + str1\n",
    "\n",
    "if str1Len != str2Len:\n",
    "    print(\"No its Not matching\")\n",
    "else:\n",
    "    if (str2 in s):\n",
    "        print(\"yes its matching\")\n",
    "    else:\n",
    "        print(\"No its Not matching\")\n",
    "\n",
    "print(s)\n"
   ]
  },
  {
   "cell_type": "code",
   "execution_count": 74,
   "metadata": {},
   "outputs": [
    {
     "name": "stdout",
     "output_type": "stream",
     "text": [
      "Sakharam not is raje\n",
      "0\n"
     ]
    }
   ],
   "source": [
    "'''reverse string option 01'''\n",
    "abc = 'raje is not sakharam'\n",
    "\n",
    "abc = abc.split()\n",
    "\n",
    "#abc[::-1]\n",
    "\n",
    "abc.reverse()\n",
    "\n",
    "abc = \" \".join(abc).capitalize()\n",
    "\n"
   ]
  },
  {
   "cell_type": "code",
   "execution_count": 114,
   "metadata": {},
   "outputs": [
    {
     "name": "stdout",
     "output_type": "stream",
     "text": [
      "['sakharam', 'not', 'is', 'raje']\n"
     ]
    }
   ],
   "source": [
    "'''reverse string option 02'''\n",
    "abc = 'raje is not sakharam'\n",
    "abc = list(abc.split())\n",
    "xyz = []\n",
    "lenabc = len(abc)-1\n",
    "\n",
    "i = 0\n",
    "\n",
    "while i <= lenabc:\n",
    "    xyz.append(abc[lenabc])\n",
    "    lenabc = lenabc-1\n",
    "    \n",
    "print(xyz)"
   ]
  },
  {
   "cell_type": "code",
   "execution_count": 119,
   "metadata": {},
   "outputs": [
    {
     "name": "stdout",
     "output_type": "stream",
     "text": [
      "{'n': 1, 'e': 2, 's': 2, 't': 2, 'x': 1, 'o': 1}\n",
      "\n",
      "first not repeating charactor is :  o  and its index is  8\n"
     ]
    }
   ],
   "source": [
    "'''FIRST non repeating charactor'''\n",
    "\n",
    "str_r = \"nestxesto\"\n",
    "abc = {}\n",
    "\n",
    "for i in str_r:\n",
    "    if i in abc:\n",
    "        abc[i] = abc[i] + 1\n",
    "        \n",
    "    else: \n",
    "        abc[i] = 1\n",
    "\n",
    "print(abc)\n",
    "\n",
    "for key, value in abc.items():\n",
    "    if (value==1):\n",
    "        r = key\n",
    "    \n",
    "print()\n",
    "if r in str_r :\n",
    "    print(\"first not repeating charactor is : \" , r , \" and its index is \" , str_r.index(r))\n",
    "            \n",
    "\n"
   ]
  },
  {
   "cell_type": "code",
   "execution_count": 125,
   "metadata": {},
   "outputs": [
    {
     "name": "stdout",
     "output_type": "stream",
     "text": [
      "[6, 12]\n"
     ]
    }
   ],
   "source": [
    "'''Compare two list optiona 01'''\n",
    "\n",
    "list1 = [2,4,6,8,10,12]\n",
    "list2 = [3,6,9,12,15,18]\n",
    "list3 = []\n",
    "\n",
    "for i in list1:\n",
    "    for j in list2:\n",
    "        if i == j:\n",
    "            list3.append(i)\n",
    " \n",
    "print(list3)"
   ]
  },
  {
   "cell_type": "code",
   "execution_count": null,
   "metadata": {},
   "outputs": [],
   "source": []
  },
  {
   "cell_type": "code",
   "execution_count": 6,
   "metadata": {},
   "outputs": [
    {
     "name": "stdout",
     "output_type": "stream",
     "text": [
      "raaaa\n"
     ]
    }
   ],
   "source": [
    "'''Find Logest String'''\n",
    "input_string = \"r9ad45dff\"\n",
    "input_stringleng = len(input_string)\n",
    "currentString = \"\"\n",
    "longestString = \"\"\n",
    "\n",
    "for i in input_string:\n",
    "    if i.isalpha():\n",
    "        currentString = currentString + i\n",
    "    elif i.isalnum() :\n",
    "        if len(currentString)>len(longestString):\n",
    "            longestString = currentString\n",
    "        currentString = \"\"\n",
    "if len(currentString) > len(longestString):\n",
    "    longestString = currentString\n",
    "\n",
    "print(longestString)\n",
    "\n",
    "\n",
    "\n"
   ]
  },
  {
   "cell_type": "code",
   "execution_count": 36,
   "metadata": {},
   "outputs": [
    {
     "name": "stdout",
     "output_type": "stream",
     "text": [
      "Longest substring: qqqqqqqqqqqraj\n"
     ]
    }
   ],
   "source": [
    "'''Finand the postion of string'''\n",
    "abc = 'raje is not sakharam'\n",
    "\n",
    "print(abc.find(\"s\"))\n",
    "print(abc.rfind(\"r\"))\n",
    "print(abc.index(\"s\"))\n"
   ]
  },
  {
   "cell_type": "code",
   "execution_count": null,
   "metadata": {},
   "outputs": [],
   "source": []
  },
  {
   "cell_type": "code",
   "execution_count": null,
   "metadata": {},
   "outputs": [],
   "source": []
  },
  {
   "cell_type": "code",
   "execution_count": null,
   "metadata": {},
   "outputs": [],
   "source": []
  },
  {
   "cell_type": "code",
   "execution_count": null,
   "metadata": {},
   "outputs": [],
   "source": []
  },
  {
   "cell_type": "code",
   "execution_count": null,
   "metadata": {},
   "outputs": [],
   "source": []
  }
 ],
 "metadata": {
  "kernelspec": {
   "display_name": "Python 3",
   "language": "python",
   "name": "python3"
  },
  "language_info": {
   "codemirror_mode": {
    "name": "ipython",
    "version": 3
   },
   "file_extension": ".py",
   "mimetype": "text/x-python",
   "name": "python",
   "nbconvert_exporter": "python",
   "pygments_lexer": "ipython3",
   "version": "3.8.5"
  }
 },
 "nbformat": 4,
 "nbformat_minor": 4
}
