{
 "cells": [
  {
   "cell_type": "code",
   "execution_count": null,
   "metadata": {},
   "outputs": [],
   "source": [
    "\n",
    "# Write a program that takes a string as input, and counts the frequency of each word in the string, there might\n",
    "# be repeated characters in the string. Your task is to find the highest frequency and returns the length of the\n",
    "# highest-frequency word.\n"
   ]
  },
  {
   "cell_type": "code",
   "execution_count": 1,
   "metadata": {},
   "outputs": [
    {
     "name": "stdout",
     "output_type": "stream",
     "text": [
      "write 5 3\n",
      "all 3 1\n",
      "the 3 1\n",
      "number 6 1\n",
      "from 4 3\n",
      "1 1 1\n",
      "to 2 1\n",
      "100 3 1\n"
     ]
    }
   ],
   "source": [
    "\n",
    "#Option 01\n",
    "\n",
    "words = \"write write write all the number from from from 1 to 100\"\n",
    "\n",
    "words = words.split()\n",
    "word_counts = {}\n",
    "\n",
    "for word in words:\n",
    "    if word in word_counts:\n",
    "        word_counts[word] = word_counts[word] + 1\n",
    "\n",
    "        else:\n",
    "        word_counts[word] = 1\n",
    "\n",
    "\n",
    "for key,value in word_counts.items():\n",
    "    print(key,len(key),value)\n"
   ]
  },
  {
   "cell_type": "code",
   "execution_count": 24,
   "metadata": {},
   "outputs": [
    {
     "name": "stdout",
     "output_type": "stream",
     "text": [
      "{'a': 1, 'b': 3, 'c': 4}\n",
      "NO\n"
     ]
    }
   ],
   "source": [
    "'''Question 2: -\n",
    "Consider a string to be valid if all characters of the string appear the same number of times. It is also valid if\n",
    "he can remove just one character at the index in the string, and the remaining characters will occur the same\n",
    "number of times. Given a string, determine if it is valid. If so, return YES , otherwise return NO . '''\n",
    "\n",
    "\n",
    "s = \"abbbcccc\"\n",
    "charDict = {}\n",
    "for i in s:\n",
    "    if i in charDict:\n",
    "        charDict[i] = charDict[i] + 1 \n",
    "    else:\n",
    "        charDict[i] = 1\n",
    "\n",
    "print(charDict)\n",
    "if max(charDict.values()) >2:\n",
    "    print(\"NO\")\n",
    "else:\n",
    "    print(\"YES\")\n"
   ]
  },
  {
   "cell_type": "code",
   "execution_count": null,
   "metadata": {},
   "outputs": [],
   "source": []
  },
  {
   "cell_type": "code",
   "execution_count": null,
   "metadata": {},
   "outputs": [],
   "source": []
  },
  {
   "cell_type": "code",
   "execution_count": null,
   "metadata": {},
   "outputs": [],
   "source": []
  },
  {
   "cell_type": "code",
   "execution_count": null,
   "metadata": {},
   "outputs": [],
   "source": []
  },
  {
   "cell_type": "code",
   "execution_count": null,
   "metadata": {},
   "outputs": [],
   "source": []
  },
  {
   "cell_type": "code",
   "execution_count": null,
   "metadata": {},
   "outputs": [],
   "source": []
  },
  {
   "cell_type": "code",
   "execution_count": null,
   "metadata": {},
   "outputs": [],
   "source": []
  },
  {
   "cell_type": "code",
   "execution_count": null,
   "metadata": {},
   "outputs": [],
   "source": []
  }
 ],
 "metadata": {
  "kernelspec": {
   "display_name": "Python 3",
   "language": "python",
   "name": "python3"
  },
  "language_info": {
   "codemirror_mode": {
    "name": "ipython",
    "version": 3
   },
   "file_extension": ".py",
   "mimetype": "text/x-python",
   "name": "python",
   "nbconvert_exporter": "python",
   "pygments_lexer": "ipython3",
   "version": "3.8.5"
  }
 },
 "nbformat": 4,
 "nbformat_minor": 4
}
