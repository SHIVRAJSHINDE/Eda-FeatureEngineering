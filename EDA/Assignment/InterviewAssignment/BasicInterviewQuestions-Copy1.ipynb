{
 "cells": [
  {
   "cell_type": "code",
   "execution_count": 30,
   "metadata": {},
   "outputs": [
    {
     "name": "stdout",
     "output_type": "stream",
     "text": [
      "19 Not Prime :  5\n"
     ]
    }
   ],
   "source": []
  },
  {
   "cell_type": "code",
   "execution_count": 22,
   "metadata": {},
   "outputs": [
    {
     "name": "stdout",
     "output_type": "stream",
     "text": [
      "6\n",
      "Not Prime Nubmer\n"
     ]
    }
   ],
   "source": [
    "'''Print Prime Numbers'''\n",
    "'''prime number  is a number which is divisible by 1 and itself'''\n",
    "\n",
    "\n",
    "\n",
    "num = 20\n",
    "count = 0\n",
    "for i in range(1,num+1):\n",
    "    if num % i == 0:\n",
    "        count = count + 1\n",
    "    \n",
    "print(count)\n",
    "if count> 3:\n",
    "    print(\"Not Prime Nubmer\")\n",
    "else:\n",
    "    print(\"its prime NuNMBER\")\n"
   ]
  },
  {
   "cell_type": "code",
   "execution_count": 1,
   "metadata": {},
   "outputs": [
    {
     "name": "stdout",
     "output_type": "stream",
     "text": [
      "Prime 1\n",
      "Prime 2\n",
      "Not Prime 3\n",
      "Not Prime 4\n",
      "Not Prime 5\n",
      "Not Prime 6\n"
     ]
    }
   ],
   "source": [
    "'''Print Prime Numbers for a range'''\n",
    "'''prime number  is a number which is divisible by 1 and itself'''\n",
    "\n",
    "num = 6\n",
    "count = 0\n",
    "\n",
    "for i in range(1, num + 1):\n",
    "    # print(i)\n",
    "    for j in range(1, num + 1):\n",
    "        if i % j == 0:\n",
    "            count = count + 1\n",
    "\n",
    "    if count > 3:\n",
    "        print(\"Not Prime\", i)\n",
    "    else:\n",
    "        print(\"Prime\", i)\n",
    "\n",
    "\n",
    "\n",
    "\n",
    "\n",
    "\n",
    "\n",
    "\n"
   ]
  },
  {
   "cell_type": "code",
   "execution_count": 45,
   "metadata": {},
   "outputs": [
    {
     "name": "stdout",
     "output_type": "stream",
     "text": [
      "3628800\n"
     ]
    }
   ],
   "source": [
    "'''Factorial using loop'''\n",
    "num =10\n",
    "fact = 1\n",
    "for i in range(1,num+1):\n",
    "    fact = fact * i\n",
    "\n",
    "print(fact)\n"
   ]
  },
  {
   "cell_type": "code",
   "execution_count": 51,
   "metadata": {},
   "outputs": [
    {
     "name": "stdout",
     "output_type": "stream",
     "text": [
      "120\n"
     ]
    }
   ],
   "source": [
    "\n",
    "'''Factorial using Recursive Function'''\n",
    "\n",
    "def factofNo(n):\n",
    "    if n <=1:\n",
    "        return n\n",
    "    else:\n",
    "        n = n * factofNo(n-1)\n",
    "        return n\n",
    "    \n",
    "\n",
    "print(factofNo(5))\n",
    "\n"
   ]
  },
  {
   "cell_type": "code",
   "execution_count": 71,
   "metadata": {},
   "outputs": [
    {
     "name": "stdout",
     "output_type": "stream",
     "text": [
      "1\n",
      "2\n",
      "3\n",
      "5\n"
     ]
    }
   ],
   "source": [
    "'''print Fabonacci Series'''\n",
    "num = 5\n",
    "num1 = 0 \n",
    "num2 = 1\n",
    "sum = 0\n",
    "for i in range(1,num):\n",
    "    sum = num1 + num2\n",
    "    num1 = num2\n",
    "    num2 = sum\n",
    "    print(sum)\n",
    "    \n",
    "\n"
   ]
  },
  {
   "cell_type": "code",
   "execution_count": null,
   "metadata": {},
   "outputs": [],
   "source": []
  },
  {
   "cell_type": "code",
   "execution_count": null,
   "metadata": {},
   "outputs": [],
   "source": []
  },
  {
   "cell_type": "code",
   "execution_count": 83,
   "metadata": {},
   "outputs": [
    {
     "name": "stdout",
     "output_type": "stream",
     "text": [
      "14\n",
      "-1\n"
     ]
    }
   ],
   "source": [
    "'''Find the Max and Min Value in Array'''\n",
    "\n",
    "abc = [2,7,1,12, 2,8, 3, 4,-1, 5, 6,10,14]\n",
    "\n",
    "maxValue = abc[0]\n",
    "minValue = abc[0]\n",
    "for i in abc:\n",
    "    if i > maxValue:\n",
    "        maxValue = i\n",
    "        \n",
    "    if i < minValue:\n",
    "        minValue = i\n",
    "    \n",
    "print(maxValue)\n",
    "print(minValue)\n"
   ]
  },
  {
   "cell_type": "code",
   "execution_count": 99,
   "metadata": {},
   "outputs": [
    {
     "name": "stdout",
     "output_type": "stream",
     "text": [
      "[4, 2, 3, 1]\n",
      "[1, 2, 3, 4]\n",
      "[4, 2, 3, 1]\n"
     ]
    }
   ],
   "source": [
    "'''Swap the Element'''\n",
    "'''Approach 01'''\n",
    "abc = [1,2,3,4]\n",
    "\n",
    "abc[0]\n",
    "temp = abc[0]\n",
    "abc[0] = abc[3]\n",
    "abc[3] = temp\n",
    "\n",
    "print(abc)\n",
    "'''Approach 02'''\n",
    "\n",
    "abc[0],abc[3] = abc[3],abc[0]\n",
    "\n",
    "print(abc)\n",
    "'''Approach 03 Packing'''\n",
    "get = abc[0],abc[3]\n",
    "abc[3],abc[0] = get\n",
    "print(abc)\n",
    "\n",
    "\n",
    "'''Approach 04 Operand'''\n",
    "abc = [1,2,3,4,5,6,7,8]\n",
    "\n",
    "start,*middle,end = abc\n",
    "abc = [end,*middle,start]\n",
    "abc\n",
    "\n",
    "\n",
    "'''Approach 04 Operand'''\n",
    "abc = [1,2,3,4,5,6,7,8]\n",
    "first = abc.pop(0)\n",
    "last = abc.pop(-1)\n",
    "\n",
    "abc.insert(0,last)\n",
    "abc.append(first)\n",
    "abc\n",
    "\n"
   ]
  },
  {
   "cell_type": "code",
   "execution_count": 1,
   "metadata": {},
   "outputs": [
    {
     "data": {
      "text/plain": [
       "''"
      ]
     },
     "execution_count": 1,
     "metadata": {},
     "output_type": "execute_result"
    }
   ],
   "source": [
    "''''''"
   ]
  },
  {
   "cell_type": "code",
   "execution_count": null,
   "metadata": {},
   "outputs": [],
   "source": []
  },
  {
   "cell_type": "code",
   "execution_count": null,
   "metadata": {},
   "outputs": [],
   "source": []
  },
  {
   "cell_type": "code",
   "execution_count": null,
   "metadata": {},
   "outputs": [],
   "source": []
  },
  {
   "cell_type": "code",
   "execution_count": null,
   "metadata": {},
   "outputs": [],
   "source": []
  },
  {
   "cell_type": "code",
   "execution_count": null,
   "metadata": {},
   "outputs": [],
   "source": []
  }
 ],
 "metadata": {
  "kernelspec": {
   "display_name": "Python 3",
   "language": "python",
   "name": "python3"
  },
  "language_info": {
   "codemirror_mode": {
    "name": "ipython",
    "version": 3
   },
   "file_extension": ".py",
   "mimetype": "text/x-python",
   "name": "python",
   "nbconvert_exporter": "python",
   "pygments_lexer": "ipython3",
   "version": "3.8.5"
  }
 },
 "nbformat": 4,
 "nbformat_minor": 4
}
