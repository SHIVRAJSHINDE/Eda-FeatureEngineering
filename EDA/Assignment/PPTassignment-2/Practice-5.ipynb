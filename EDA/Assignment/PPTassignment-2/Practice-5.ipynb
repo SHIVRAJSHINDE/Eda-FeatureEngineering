{
 "cells": [
  {
   "cell_type": "code",
   "execution_count": 5,
   "metadata": {},
   "outputs": [
    {
     "name": "stdout",
     "output_type": "stream",
     "text": [
      "sentence given a in words of order the reverse to function a Implement \n"
     ]
    }
   ],
   "source": [
    "'''1)Write a Python program to reverse a string without using any built-in string reversal functions.'''\n",
    "'''17)20. Implement a function to reverse the order of words in a given sentence.'''\n",
    "\n",
    "abc = \"Implement a function to reverse the order of words in a given sentence\"\n",
    "\n",
    "\"Option 01\"\n",
    "\n",
    "abc = abc.split()\n",
    "abc\n",
    "revString = \"\"\n",
    "\n",
    "for i in abc:\n",
    "    revString = i +\" \"+  revString\n",
    "    \n",
    "print(revString)\n",
    "    "
   ]
  },
  {
   "cell_type": "code",
   "execution_count": 19,
   "metadata": {},
   "outputs": [
    {
     "data": {
      "text/plain": [
       "'sentence given a in words of order the reverse to function a Implement'"
      ]
     },
     "execution_count": 19,
     "metadata": {},
     "output_type": "execute_result"
    }
   ],
   "source": [
    "\"Option 02\"\n",
    "abc = \"Implement a function to reverse the order of words in a given sentence\"\n",
    "\n",
    "abc = abc.split()\n",
    "abc\n",
    "revString = []\n",
    "\n",
    "for i in range(len(abc)-1,-1,-1):\n",
    "    revString.append(abc[i])\n",
    "\n",
    "    \n",
    "newStr =\" \".join(revString)\n",
    "newStr"
   ]
  },
  {
   "cell_type": "code",
   "execution_count": 27,
   "metadata": {},
   "outputs": [
    {
     "name": "stdout",
     "output_type": "stream",
     "text": [
      "['sentence', 'given', 'a', 'in', 'words', 'of', 'order', 'the', 'reverse', 'to', 'function', 'a', 'Implement']\n"
     ]
    }
   ],
   "source": [
    "\"Option 03\"\n",
    "abc = \"Implement a function to reverse the order of words in a given sentence\"\n",
    "\n",
    "abc = abc.split()\n",
    "\n",
    "abc.reverse()\n",
    "print(abc)\n"
   ]
  },
  {
   "cell_type": "code",
   "execution_count": 31,
   "metadata": {},
   "outputs": [
    {
     "name": "stdout",
     "output_type": "stream",
     "text": [
      "it is not\n"
     ]
    }
   ],
   "source": [
    "'''2)Implement a function to check if a given string is a palindrome.'''\n",
    "\n",
    "'''option 01 using Loop'''\n",
    "\n",
    "word = \"madamaa\"\n",
    "newWord = \"\"\n",
    "\n",
    "for i in word:\n",
    "    newWord = i + newWord\n",
    "    \n",
    "if word == newWord:\n",
    "    print(\"yes it is palindrome\")\n",
    "else:\n",
    "    print(\"it is not\")"
   ]
  },
  {
   "cell_type": "code",
   "execution_count": 33,
   "metadata": {},
   "outputs": [
    {
     "name": "stdout",
     "output_type": "stream",
     "text": [
      "it is not\n"
     ]
    }
   ],
   "source": [
    "'''option 02 using slicing of List'''\n",
    "\n",
    "word = \"madamaa\"\n",
    "newWord = word[::-1]\n",
    "\n",
    "if word == newWord:\n",
    "    print(\"yes it is palindrome\")\n",
    "else:\n",
    "    print(\"it is not\")"
   ]
  },
  {
   "cell_type": "code",
   "execution_count": 37,
   "metadata": {},
   "outputs": [
    {
     "name": "stdout",
     "output_type": "stream",
     "text": [
      "100001\n"
     ]
    }
   ],
   "source": [
    "'''3)Write a program to find the largest element in a given list.'''\n",
    "\n",
    "list1 = [1000, 39, 100001, 20, 400]\n",
    "\n",
    "largestNo = list1[0]\n",
    "SecondLNo = list1[0]\n",
    "\n",
    "for i in list1:\n",
    "    if i > largestNo:\n",
    "        largestNo = i\n",
    "print(largestNo)"
   ]
  },
  {
   "cell_type": "code",
   "execution_count": 42,
   "metadata": {},
   "outputs": [
    {
     "data": {
      "text/plain": [
       "1"
      ]
     },
     "execution_count": 42,
     "metadata": {},
     "output_type": "execute_result"
    }
   ],
   "source": [
    "'''4)Write a program to find the smallest element in a given list.'''\n",
    "\n",
    "list1 = [1, 39, 100001, 20, 4]\n",
    "smallestElement = list1[0]\n",
    "\n",
    "for i in list1:\n",
    "    if i < smallestElement:\n",
    "        smallestElement = i\n",
    "\n",
    "smallestElement"
   ]
  },
  {
   "cell_type": "code",
   "execution_count": 49,
   "metadata": {},
   "outputs": [
    {
     "name": "stdout",
     "output_type": "stream",
     "text": [
      "10\n"
     ]
    }
   ],
   "source": [
    "'''5)Write a Python program to find the second largest number in a list.'''\n",
    "\n",
    "list1 = [10, 39, 1, 2, 4]\n",
    "\n",
    "largestNo = list1[0]\n",
    "SecondLNo = 0\n",
    "\n",
    "for i in list1:\n",
    "    if i > largestNo:\n",
    "        largestNo = i\n",
    "\n",
    "for i in list1:\n",
    "    if i > SecondLNo  and i < largestNo:\n",
    "        SecondLNo = i\n",
    "\n",
    "print(SecondLNo)"
   ]
  },
  {
   "cell_type": "code",
   "execution_count": 4,
   "metadata": {},
   "outputs": [
    {
     "data": {
      "text/plain": [
       "{'Implement', 'a', 'count', 'function', 'the', 'to'}"
      ]
     },
     "execution_count": 4,
     "metadata": {},
     "output_type": "execute_result"
    }
   ],
   "source": [
    "'''6)Implement a function to remove duplicate elements from a list.'''\n",
    "\n",
    "'''option 01 Using Set'''\n",
    "\n",
    "abc = \"Implement a function to remove duplicate elements from a list.\"\n",
    "abc = abc.split(\" \")\n",
    "abc = ['Implement','Implement', 'a', 'function', 'to', 'count', 'the', 'to', 'count', 'the']\n",
    "\n",
    "abc = set(abc)\n",
    "\n",
    "\n",
    "abc"
   ]
  },
  {
   "cell_type": "code",
   "execution_count": 53,
   "metadata": {},
   "outputs": [
    {
     "data": {
      "text/plain": [
       "['Implement', 'a', 'function', 'to', 'count', 'the']"
      ]
     },
     "execution_count": 53,
     "metadata": {},
     "output_type": "execute_result"
    }
   ],
   "source": [
    "'''option 02 Using Loop and list'''\n",
    "abc = ['Implement','Implement', 'a', 'function', 'to', 'count', 'the', 'to', 'count', 'the']\n",
    "newList= []\n",
    "\n",
    "for i in abc:\n",
    "    if not i in newList:\n",
    "        newList.append(i)\n",
    "\n",
    "newList"
   ]
  },
  {
   "cell_type": "code",
   "execution_count": 61,
   "metadata": {},
   "outputs": [
    {
     "data": {
      "text/plain": [
       "dict_keys(['Implement', 'a', 'function', 'to', 'count', 'the'])"
      ]
     },
     "execution_count": 61,
     "metadata": {},
     "output_type": "execute_result"
    }
   ],
   "source": [
    "'''option 03 Using Loop and Dict'''\n",
    "abc = ['Implement','Implement', 'a', 'function', 'to', 'count', 'the', 'to', 'count', 'the']\n",
    "newDict= {}\n",
    "\n",
    "for i in abc:\n",
    "    if i in newDict:\n",
    "        newDict[i] = newDict[i] + 1\n",
    "    else:\n",
    "        newDict[i] =  1\n",
    "\n",
    "newDict.keys()\n"
   ]
  },
  {
   "cell_type": "code",
   "execution_count": 63,
   "metadata": {},
   "outputs": [
    {
     "data": {
      "text/plain": [
       "3628800"
      ]
     },
     "execution_count": 63,
     "metadata": {},
     "output_type": "execute_result"
    }
   ],
   "source": [
    "'''7)Write a program to calculate the factorial of a given number.'''\n",
    "\n",
    "num1 = 10\n",
    "factNum = 1\n",
    "\n",
    "for i in range(1,num1+1):\n",
    "    factNum = factNum * i\n",
    "    \n",
    "factNum"
   ]
  },
  {
   "cell_type": "code",
   "execution_count": 77,
   "metadata": {},
   "outputs": [
    {
     "name": "stdout",
     "output_type": "stream",
     "text": [
      "Its not\n"
     ]
    }
   ],
   "source": [
    "'''8)Implement a function to check if a given number is prime.'''\n",
    "\n",
    "num = 8\n",
    "count = 0\n",
    "\n",
    "\n",
    "for i in range(num,0,-1):\n",
    "    if num%i==0:\n",
    "        count=count+1\n",
    "    \n",
    "\n",
    "if count==2:\n",
    "    print(\"its prime Number\")\n",
    "    \n",
    "else:\n",
    "    print(\"Its not\")"
   ]
  },
  {
   "cell_type": "code",
   "execution_count": 78,
   "metadata": {},
   "outputs": [
    {
     "data": {
      "text/plain": [
       "[10, 20, 39, 40, 50, 51, 100]"
      ]
     },
     "execution_count": 78,
     "metadata": {},
     "output_type": "execute_result"
    }
   ],
   "source": [
    "'''9)Write a Python program to sort a list of integers in ascending order.'''\n",
    "'Option 01 using in build Function'\n",
    "abc = [51,10,39,100,20,50,40]\n",
    "\n",
    "sorted(abc)"
   ]
  },
  {
   "cell_type": "code",
   "execution_count": null,
   "metadata": {},
   "outputs": [],
   "source": [
    "'Option 02 Using LOOP'\n"
   ]
  },
  {
   "cell_type": "code",
   "execution_count": 79,
   "metadata": {},
   "outputs": [
    {
     "data": {
      "text/plain": [
       "310"
      ]
     },
     "execution_count": 79,
     "metadata": {},
     "output_type": "execute_result"
    }
   ],
   "source": [
    "'''10)Implement a function to find the sum of all numbers in a list.'''\n",
    "\n",
    "'Option One'\n",
    "abc = [51,10,39,100,20,50,40]\n",
    "\n",
    "sum(abc)\n"
   ]
  },
  {
   "cell_type": "code",
   "execution_count": 81,
   "metadata": {},
   "outputs": [
    {
     "name": "stdout",
     "output_type": "stream",
     "text": [
      "310\n"
     ]
    }
   ],
   "source": [
    "'Option 01'\n",
    "abc = [51,10,39,100,20,50,40]\n",
    "newSum = 0\n",
    "\n",
    "for i in abc:\n",
    "    newSum = newSum +i\n",
    "    \n",
    "print(newSum)"
   ]
  },
  {
   "cell_type": "code",
   "execution_count": 83,
   "metadata": {},
   "outputs": [
    {
     "name": "stdout",
     "output_type": "stream",
     "text": [
      "[4, 8]\n"
     ]
    }
   ],
   "source": [
    "'''11)Write a program to find the common elements between two lists.'''\n",
    "'''17. Write a Python program to find the intersection(commong element from two list) of two lists.'''\n",
    "\n",
    "list1 = [1,2,4,8]\n",
    "list2 = [4,8,5,10]\n",
    "list3 = []\n",
    "\n",
    "\n",
    "for i in list1:\n",
    "    if i in list2:\n",
    "        list3.append(i)\n",
    "\n",
    "print(list3)"
   ]
  },
  {
   "cell_type": "code",
   "execution_count": 90,
   "metadata": {},
   "outputs": [
    {
     "name": "stdout",
     "output_type": "stream",
     "text": [
      "Yes it\n"
     ]
    }
   ],
   "source": [
    "'''12)Implement a function to check if a given string is an anagram of another string.'''\n",
    "\n",
    "s1 = \"heart\"\n",
    "s2 = \"earth\"\n",
    "\n",
    "s1 = sorted(s1)\n",
    "s2 = sorted(s2)\n",
    "\n",
    "if s1==s2:\n",
    "    print(\"Yes it\")\n",
    "else:\n",
    "    print(\"No\")\n"
   ]
  },
  {
   "cell_type": "code",
   "execution_count": 99,
   "metadata": {},
   "outputs": [
    {
     "name": "stdout",
     "output_type": "stream",
     "text": [
      "1\n",
      "2\n",
      "3\n",
      "5\n",
      "8\n",
      "13\n",
      "21\n",
      "34\n",
      "55\n",
      "89\n"
     ]
    }
   ],
   "source": [
    "'''13)Implement a function to calculate the Fibonacci sequence up to a given number of terms.'''\n",
    "\n",
    "num = 10\n",
    "num3 = 0\n",
    "num1 = 0\n",
    "num2 = 1\n",
    "for i in range(num):\n",
    "    num3 = num1 + num2\n",
    "    num1 = num2\n",
    "    num2 = num3\n",
    "    print(num3)\n",
    "''''''\n",
    "\n"
   ]
  },
  {
   "cell_type": "code",
   "execution_count": 137,
   "metadata": {},
   "outputs": [
    {
     "name": "stdout",
     "output_type": "stream",
     "text": [
      "[10, 20, 39, 40, 50, 51, 100, 101]\n",
      "45.0\n"
     ]
    }
   ],
   "source": [
    "'''14)Write a program to find the median of a list of numbers.'''\n",
    "abc = [51,10,39,100,20,50,40,101]\n",
    "\n",
    "abc = sorted(abc)\n",
    "\n",
    "print(abc)\n",
    "\n",
    "\n",
    "if len(abc)%2 != 0:\n",
    "    print(abc[len(abc)//2])\n",
    "else:\n",
    "    print((abc[len(abc)//2-1] + abc[len(abc)//2])/2)\n",
    "\n",
    "''''''"
   ]
  },
  {
   "cell_type": "code",
   "execution_count": 140,
   "metadata": {},
   "outputs": [
    {
     "data": {
      "text/plain": [
       "'Wrt  prgrm t rmv ll vwls frm  gvn strng'"
      ]
     },
     "execution_count": 140,
     "metadata": {},
     "output_type": "execute_result"
    }
   ],
   "source": [
    "'''16)19. Write a program to remove all vowels from a given string.'''\n",
    "\n",
    "vov = \"aeiouAEIOU\"\n",
    "oneString = \"Write a program to remove all vowels from a given string\"\n",
    "newStr = \"\"\n",
    "\n",
    "for i in oneString:\n",
    "    if i in vov:\n",
    "        oneString = oneString.replace(i,\"\")\n",
    "        \n",
    "oneString"
   ]
  },
  {
   "cell_type": "code",
   "execution_count": null,
   "metadata": {},
   "outputs": [],
   "source": [
    "'''20)23. Write a program to find the prime factors of a given number.'''\n"
   ]
  },
  {
   "cell_type": "code",
   "execution_count": 7,
   "metadata": {},
   "outputs": [
    {
     "name": "stdout",
     "output_type": "stream",
     "text": [
      "16  : is power of 2\n"
     ]
    }
   ],
   "source": [
    "'''21)24. Implement a function to check if a given number is a power of two.'''\n",
    "num1 =16\n",
    "num=num1\n",
    "\n",
    "while num>1 and num%2==0:\n",
    "    num = num//2\n",
    "    \n",
    "if num==1:\n",
    "    print(num1,\" : is power of 2\")\n",
    "else:\n",
    "    print(num1,\" : is NOT power of 2\")\n"
   ]
  },
  {
   "cell_type": "code",
   "execution_count": null,
   "metadata": {},
   "outputs": [],
   "source": [
    "'''28)35. Write a program to check if a given number is a perfect square.'''\n",
    "num=24\n",
    "flag = 0\n",
    "\n",
    "for i in range(num):\n",
    "    if i *i == num:\n",
    "        flag=1\n",
    "if flag==1:\n",
    "    print(\"yes\")\n",
    "else:\n",
    "    print(\"no\")\n",
    "    \n"
   ]
  },
  {
   "cell_type": "code",
   "execution_count": 12,
   "metadata": {},
   "outputs": [
    {
     "name": "stdout",
     "output_type": "stream",
     "text": [
      "20\n",
      "10\n"
     ]
    }
   ],
   "source": [
    "'''23)27. Write a program to find the greatest common divisor (GCD) of two numbers.'''\n",
    "\n",
    "num1 =20\n",
    "num2 = 30\n",
    "gcd = 0\n",
    "\n",
    "if num1<num2:\n",
    "    value = num1\n",
    "else:\n",
    "    value = num2\n",
    "    \n",
    "print(value)\n",
    "    \n",
    "for i in range(value,1,-1):\n",
    "    if num1%i==0 and num2%i==0:\n",
    "        gcd = i\n",
    "        break\n",
    "\n",
    "print(gcd)"
   ]
  },
  {
   "cell_type": "code",
   "execution_count": 161,
   "metadata": {},
   "outputs": [
    {
     "data": {
      "text/plain": [
       "4.0"
      ]
     },
     "execution_count": 161,
     "metadata": {},
     "output_type": "execute_result"
    }
   ],
   "source": [
    "'''24)28. Implement a function to calculate the square root of a given number.'''\n",
    "'''Option 01'''\n",
    "import math as m\n",
    "num1 =16\n",
    "m.sqrt(num)\n"
   ]
  },
  {
   "cell_type": "code",
   "execution_count": 163,
   "metadata": {},
   "outputs": [
    {
     "data": {
      "text/plain": [
       "4.0"
      ]
     },
     "execution_count": 163,
     "metadata": {},
     "output_type": "execute_result"
    }
   ],
   "source": [
    "'''Option 02'''\n",
    "num1 =16\n",
    "\n",
    "num1**0.5"
   ]
  },
  {
   "cell_type": "code",
   "execution_count": 165,
   "metadata": {},
   "outputs": [
    {
     "data": {
      "text/plain": [
       "10"
      ]
     },
     "execution_count": 165,
     "metadata": {},
     "output_type": "execute_result"
    }
   ],
   "source": [
    "'''25)\t31. Write a program to find the sum of all even numbers in a list.'''\n",
    "\n",
    "l1 = [2,1,2,4,2]\n",
    "newSum = 0\n",
    "\n",
    "for i in l1:\n",
    "    if i%2==0:\n",
    "        newSum = newSum +i\n",
    "        \n",
    "newSum"
   ]
  },
  {
   "cell_type": "code",
   "execution_count": 171,
   "metadata": {},
   "outputs": [
    {
     "name": "stdout",
     "output_type": "stream",
     "text": [
      "no\n"
     ]
    }
   ],
   "source": []
  },
  {
   "cell_type": "code",
   "execution_count": 173,
   "metadata": {},
   "outputs": [
    {
     "name": "stdout",
     "output_type": "stream",
     "text": [
      "40320\n"
     ]
    }
   ],
   "source": [
    "\n",
    "'''29)36. Implement a function to calculate the product of all elements in a list.'''\n",
    "\n",
    "list1 = [1, 2, 3, 14, 6, 8, 10]\n",
    "productOfAll = 1\n",
    "\n",
    "for i in list1:\n",
    "    productOfAll = i *productOfAll\n",
    "    \n",
    "print(productOfAll)"
   ]
  },
  {
   "cell_type": "code",
   "execution_count": 31,
   "metadata": {},
   "outputs": [
    {
     "name": "stdout",
     "output_type": "stream",
     "text": [
      "7\n",
      "10.0\n"
     ]
    },
    {
     "data": {
      "text/plain": [
       "3.0"
      ]
     },
     "execution_count": 31,
     "metadata": {},
     "output_type": "execute_result"
    }
   ],
   "source": [
    "'''31)38. Implement a function to find the missing number in a given list of consecutive numbers.'''\n",
    "\n",
    "l = [1,2,4]\n",
    "\n",
    "CurrentSum = sum(l)\n",
    "lenOfL = len(l)+1\n",
    "SumShouldBeWithMissingElement = lenOfL*(lenOfL+1)/2\n",
    "\n",
    "print(CurrentSum)\n",
    "print(SumShouldBeWithMissingElement)\n",
    "missingIterm = SumShouldBeWithMissingElement - CurrentSum\n",
    "missingIterm\n"
   ]
  },
  {
   "cell_type": "code",
   "execution_count": null,
   "metadata": {},
   "outputs": [],
   "source": []
  },
  {
   "cell_type": "code",
   "execution_count": null,
   "metadata": {},
   "outputs": [],
   "source": []
  },
  {
   "cell_type": "code",
   "execution_count": 196,
   "metadata": {},
   "outputs": [
    {
     "name": "stdout",
     "output_type": "stream",
     "text": [
      "456\n",
      "45\n",
      "4\n",
      "15\n"
     ]
    }
   ],
   "source": [
    "'''32)39. Write a program to find the sum of the digits of a given number.'''\n",
    "num = 456\n",
    "SumValue = 0\n",
    "\n",
    "numStr = str(num)\n",
    "for i in numStr:\n",
    "    print(num)\n",
    "    SumValue = SumValue + num%10\n",
    "    num = num//10\n",
    "\n",
    "    \n",
    "print(SumValue)"
   ]
  },
  {
   "cell_type": "code",
   "execution_count": 197,
   "metadata": {},
   "outputs": [
    {
     "data": {
      "text/plain": [
       "2"
      ]
     },
     "execution_count": 197,
     "metadata": {},
     "output_type": "execute_result"
    }
   ],
   "source": [
    "'''33)43. Write a program to find the number of occurrences of a given element in a list.'''\n",
    "'''Optiona 01'''\n",
    "l1 = [1,2,3,4,5,6,7,8,9,10,11,1]\n",
    "\n",
    "giveEle = 1\n",
    "\n",
    "l1.count(giveEle)"
   ]
  },
  {
   "cell_type": "code",
   "execution_count": 199,
   "metadata": {},
   "outputs": [
    {
     "name": "stdout",
     "output_type": "stream",
     "text": [
      "2\n"
     ]
    }
   ],
   "source": [
    "'''Optiona 02'''\n",
    "\n",
    "l1 = [1,2,3,4,5,6,7,8,9,10,11,1]\n",
    "\n",
    "giveEle = 1\n",
    "count = 0\n",
    "\n",
    "for i in l1:\n",
    "    if giveEle == i:\n",
    "        count=count+1\n",
    "        \n",
    "print(count)"
   ]
  },
  {
   "cell_type": "code",
   "execution_count": 205,
   "metadata": {},
   "outputs": [
    {
     "name": "stdout",
     "output_type": "stream",
     "text": [
      "yes it is perfect Nubmer\n"
     ]
    }
   ],
   "source": [
    "'''34)44. Implement a function to check if a given number is a perfect number.'''\n",
    "\n",
    "num = 28\n",
    "sum1 = 0\n",
    "\n",
    "for i in range(1,num):\n",
    "    if num%i==0:\n",
    "        sum1 = sum1 + i\n",
    "        if sum1==num:\n",
    "            print(\"yes it is perfect Nubmer\")\n",
    "            break\n",
    "else:\n",
    "    print(\"No it is Not perfect Nubmer\")\n",
    "\n",
    "\n",
    "        \n"
   ]
  },
  {
   "cell_type": "code",
   "execution_count": 43,
   "metadata": {},
   "outputs": [
    {
     "name": "stdout",
     "output_type": "stream",
     "text": [
      "['a', 'b', 'c', 'd']\n"
     ]
    },
    {
     "data": {
      "text/plain": [
       "'abcd'"
      ]
     },
     "execution_count": 43,
     "metadata": {},
     "output_type": "execute_result"
    }
   ],
   "source": [
    "'''35)45. Write a Python program to remove all duplicates from a string.'''\n",
    "\n",
    "'''Option 01 Using List'''\n",
    "s = \"aabbccdd\"\n",
    "l1 = []\n",
    "\n",
    "for i in s:\n",
    "    if i not in l1:\n",
    "        l1.append(i)\n",
    "print(l1)\n",
    "\"\".join(l1)"
   ]
  },
  {
   "cell_type": "code",
   "execution_count": 209,
   "metadata": {},
   "outputs": [
    {
     "data": {
      "text/plain": [
       "'abcd'"
      ]
     },
     "execution_count": 209,
     "metadata": {},
     "output_type": "execute_result"
    }
   ],
   "source": [
    "'''Option 02 Using stirng'''\n",
    "s = \"aabbccdd\"\n",
    "s1 = ''\n",
    "for i in s:\n",
    "    if i not in s1:\n",
    "        s1 = s1+i\n",
    "s1"
   ]
  },
  {
   "cell_type": "code",
   "execution_count": 26,
   "metadata": {},
   "outputs": [
    {
     "name": "stdout",
     "output_type": "stream",
     "text": [
      "dddddd\n"
     ]
    }
   ],
   "source": [
    "'''Find Logest String'''\n",
    "input_string = \"r9adf45dddddd\"\n",
    "str1 = \"\"\n",
    "str2 = \"\"\n",
    "\n",
    "for i in input_string:\n",
    "    if i.isalpha() == True:\n",
    "        str1 = str1 + i\n",
    "    else:\n",
    "        if len(str1)>len(str2):\n",
    "            str2 = str1\n",
    "            str1 = \"\"\n",
    "\n",
    "if len(str1)>len(str2):\n",
    "    str2 = str1\n",
    "    str1 = \"\"\n",
    "        \n",
    "\n",
    "print(str2)"
   ]
  },
  {
   "cell_type": "code",
   "execution_count": 32,
   "metadata": {},
   "outputs": [
    {
     "data": {
      "text/plain": [
       "11"
      ]
     },
     "execution_count": 32,
     "metadata": {},
     "output_type": "execute_result"
    }
   ],
   "source": [
    "'''Finand the postion of string'''\n",
    "abc = 'Finand the postion of string'\n",
    "abc.find('F')\n",
    "abc.rfind('p')\n",
    "abc.find('p')\n"
   ]
  },
  {
   "cell_type": "code",
   "execution_count": 47,
   "metadata": {},
   "outputs": [
    {
     "name": "stdout",
     "output_type": "stream",
     "text": [
      "takes\n"
     ]
    }
   ],
   "source": [
    "''' Write a program that takes a string as input, and counts the frequency of each word in the string, there might\n",
    "be repeated characters in the string. Your task is to find the highest frequency and returns the length of the\n",
    "highest-frequency word. '''\n",
    "\n",
    "abc = \"Write Write a program that takes takes takes\"\n",
    "abc = abc.split()\n",
    "newDict = {}\n",
    "for i in abc:\n",
    "    if i in newDict:\n",
    "        newDict[i] = newDict[i]+1\n",
    "    else:\n",
    "        newDict[i] = 1\n",
    "\n",
    "print(max(newDict,key=newDict.get))\n"
   ]
  },
  {
   "cell_type": "code",
   "execution_count": 37,
   "metadata": {},
   "outputs": [
    {
     "data": {
      "text/plain": [
       "{'Write': 2, 'a': 1, 'program': 1, 'that': 1, 'takes': 3}"
      ]
     },
     "execution_count": 37,
     "metadata": {},
     "output_type": "execute_result"
    }
   ],
   "source": [
    "newDict"
   ]
  },
  {
   "cell_type": "code",
   "execution_count": 78,
   "metadata": {},
   "outputs": [
    {
     "name": "stdout",
     "output_type": "stream",
     "text": [
      "yes only one char Extra\n"
     ]
    }
   ],
   "source": [
    "'''Question 2: -\n",
    "Consider a string to be valid if all characters of the string appear the same number of times. \n",
    "It is also valid if you remove just one character in the string, and the remaining characters will occur the same\n",
    "number of times. Given a string, determine if it is valid. If so, return YES , otherwise return NO . '''\n",
    "\n",
    "stringOne = \"aabbccc\"\n",
    "newDict = {}\n",
    "\n",
    "for i in stringOne:\n",
    "    if i not in newDict:\n",
    "        newDict[i] = +1\n",
    "    elif i in newDict:\n",
    "        newDict[i] = newDict[i] +1\n",
    "\n",
    "maxValue = max(newDict.values())\n",
    "countOfMaxValue = list(newDict.values()).count(maxValue)\n",
    "minValue = min(newDict.values())\n",
    "countOfminValue = list(newDict.values()).count(minValue)\n",
    "lenOfStr = len(newDict.values())\n",
    "uniqeValues= len(set(newDict.values()))\n",
    "\n",
    "if uniqeValues == 1:\n",
    "    print(\"yes only same char\")\n",
    "elif uniqeValues == 2 and countOfMaxValue==1 and maxValue-minValue ==1:\n",
    "    print(\"yes only one char Extra\")\n",
    "elif uniqeValues == 2 and countOfminValue==1 and maxValue-minValue ==1:\n",
    "    print(\"yes only one char Extra x\")\n",
    "else:\n",
    "    print(\"NO\")\n",
    "\n",
    "    \n"
   ]
  },
  {
   "cell_type": "code",
   "execution_count": 55,
   "metadata": {},
   "outputs": [
    {
     "data": {
      "text/plain": [
       "2"
      ]
     },
     "execution_count": 55,
     "metadata": {},
     "output_type": "execute_result"
    }
   ],
   "source": [
    "print(is_valid_string(\"aabbcd\"))   # Output: YES (Remove 'c' to make all characters have the same frequency)\n",
    "print(is_valid_string(\"aabbccd\"))   # Output: YES (Remove 'c' to make all characters have the same frequency)\n",
    "print(is_valid_string(\"aabbcc\"))   # Output: YES (Remove any character to make all characters have the same frequency)\n",
    "print(is_valid_string(\"aabbccc\")) "
   ]
  },
  {
   "cell_type": "code",
   "execution_count": 64,
   "metadata": {},
   "outputs": [
    {
     "data": {
      "text/plain": [
       "1"
      ]
     },
     "execution_count": 64,
     "metadata": {},
     "output_type": "execute_result"
    }
   ],
   "source": [
    "minValue = min(newDict.values())\n",
    "minValue"
   ]
  },
  {
   "cell_type": "code",
   "execution_count": 86,
   "metadata": {},
   "outputs": [
    {
     "name": "stdout",
     "output_type": "stream",
     "text": [
      "\n",
      "\n",
      "* \n",
      "* * \n",
      "* * * \n",
      "* * * * \n",
      "* * * * * \n",
      "* * * * * * \n",
      "* * * * * * * \n",
      "* * * * * * * * \n"
     ]
    }
   ],
   "source": [
    "num = 10\n",
    "for i in range(0,num):\n",
    "    for j in range(1,i):\n",
    "        print(\"*\",end=\" \")\n",
    "    print()"
   ]
  },
  {
   "cell_type": "code",
   "execution_count": 88,
   "metadata": {},
   "outputs": [
    {
     "data": {
      "text/plain": [
       "[3, 0, 1, 6, 7, 4]"
      ]
     },
     "execution_count": 88,
     "metadata": {},
     "output_type": "execute_result"
    }
   ],
   "source": [
    "'''MAP'''\n",
    "'''return cub of each element of the below list'''\n",
    "\n",
    "def cube(x):\n",
    "    return x^2\n",
    "\n",
    "list1 = [1,2,3,4,5,6]\n",
    "\n",
    "list(map(cube,list1))"
   ]
  },
  {
   "cell_type": "code",
   "execution_count": 31,
   "metadata": {},
   "outputs": [
    {
     "data": {
      "text/plain": [
       "[2, 4, 6]"
      ]
     },
     "execution_count": 31,
     "metadata": {},
     "output_type": "execute_result"
    }
   ],
   "source": [
    "'''reduce'''\n",
    "from functools import reduce\n",
    "\n",
    "list1 = [1,2,3,4,5,6]\n",
    "\n",
    "def re(x):\n",
    "    if x%2==0:\n",
    "        return x\n",
    "\n",
    "list(filter(re,list1))"
   ]
  },
  {
   "cell_type": "code",
   "execution_count": 32,
   "metadata": {},
   "outputs": [
    {
     "data": {
      "text/plain": [
       "[2, 4, 6]"
      ]
     },
     "execution_count": 32,
     "metadata": {},
     "output_type": "execute_result"
    }
   ],
   "source": [
    "from functools import reduce\n",
    "\n",
    "list1 = [1, 2, 3, 4, 5, 6]\n",
    "\n",
    "def re(x, y):\n",
    "    if y % 2 == 0:\n",
    "        x.append(y)\n",
    "    return x\n",
    "\n",
    "reduce(re, list1, [])\n",
    "\n"
   ]
  },
  {
   "cell_type": "code",
   "execution_count": 5,
   "metadata": {},
   "outputs": [
    {
     "name": "stdout",
     "output_type": "stream",
     "text": [
      "Even number\n"
     ]
    }
   ],
   "source": [
    "'''Create a Lambda function which will take a input and print if the same is Even or Odd Number'''\n",
    "\n",
    "num = 5\n",
    "\n",
    "calc = lambda num: \"Even number\" if num % 2 == 0 else \"Odd number\"\n",
    "print(calc(20))\n"
   ]
  },
  {
   "cell_type": "code",
   "execution_count": 6,
   "metadata": {},
   "outputs": [
    {
     "name": "stdout",
     "output_type": "stream",
     "text": [
      "40\n"
     ]
    }
   ],
   "source": [
    "'''multiply a value using lambda function'''\n",
    "\n",
    "double = lambda x:x*2\n",
    "print(double(20))\n"
   ]
  },
  {
   "cell_type": "code",
   "execution_count": 8,
   "metadata": {},
   "outputs": [
    {
     "name": "stdout",
     "output_type": "stream",
     "text": [
      "30\n"
     ]
    }
   ],
   "source": [
    "'''Perform a multiplication using Lambda'''\n",
    "\n",
    "m = lambda a,b: a*b\n",
    "print(m(5,6))"
   ]
  },
  {
   "cell_type": "code",
   "execution_count": 12,
   "metadata": {},
   "outputs": [
    {
     "ename": "SyntaxError",
     "evalue": "invalid syntax (<ipython-input-12-a20b782c5729>, line 2)",
     "output_type": "error",
     "traceback": [
      "\u001b[1;36m  File \u001b[1;32m\"<ipython-input-12-a20b782c5729>\"\u001b[1;36m, line \u001b[1;32m2\u001b[0m\n\u001b[1;33m    classify_number = lambda x: \"Positive\" if x > 0 else \"Negative\" if x < 0\u001b[0m\n\u001b[1;37m                                                                            ^\u001b[0m\n\u001b[1;31mSyntaxError\u001b[0m\u001b[1;31m:\u001b[0m invalid syntax\n"
     ]
    }
   ],
   "source": [
    "'''Check a value if it is +ve or -ve using lambda Function'''\n",
    "classify_number = lambda x: \"Positive\" if x > 0 else \"Negative\" if x < 0 else \"Zero\"\n",
    "\n",
    "print(classify_number(5))    # This will print \"Positive\"\n",
    "print(classify_number(-3))   # This will print \"Negative\"\n",
    "print(classify_number(0))    # This will print \"Zero\"\n",
    "\n"
   ]
  },
  {
   "cell_type": "code",
   "execution_count": 1,
   "metadata": {},
   "outputs": [
    {
     "name": "stdout",
     "output_type": "stream",
     "text": [
      "[4, 16, 36, 64, 100]\n"
     ]
    }
   ],
   "source": [
    "'''List Comprehension'''\n",
    "'''Print if the x is even Number'''\n",
    "original_list = [1, 2, 3, 4, 5, 6, 7, 8, 9, 10]\n",
    "\n",
    "[x for x in original_list if x % 2 == 0]\n"
   ]
  },
  {
   "cell_type": "code",
   "execution_count": 3,
   "metadata": {},
   "outputs": [
    {
     "data": {
      "text/plain": [
       "[2, 4, 6, 8, 10]"
      ]
     },
     "execution_count": 3,
     "metadata": {},
     "output_type": "execute_result"
    }
   ],
   "source": []
  },
  {
   "cell_type": "code",
   "execution_count": 7,
   "metadata": {},
   "outputs": [
    {
     "name": "stdout",
     "output_type": "stream",
     "text": [
      "[4, 16, 36, 64, 100]\n"
     ]
    }
   ],
   "source": [
    "# Using list comprehension to create a new list of squared even numbers\n",
    "original_list = [1, 2, 3, 4, 5, 6, 7, 8, 9, 10]\n",
    "\n",
    "squared_even_numbers = [x**2 for x in original_list if x % 2 == 0]\n",
    "\n",
    "print(squared_even_numbers)\n",
    "\n"
   ]
  },
  {
   "cell_type": "code",
   "execution_count": 10,
   "metadata": {},
   "outputs": [
    {
     "name": "stdout",
     "output_type": "stream",
     "text": [
      "{'Alice': 5, 'Bob': 3, 'Charlie': 7, 'David': 5, 'Eve': 3}\n"
     ]
    }
   ],
   "source": [
    "names = [\"Alice\", \"Bob\", \"Charlie\", \"David\", \"Eve\"]\n",
    "\n",
    "# Using dictionary comprehension to create a dictionary of name lengths\n",
    "\n",
    "name_lengths = {name: len(name) for name in names}\n",
    "\n",
    "print(name_lengths)\n"
   ]
  },
  {
   "cell_type": "code",
   "execution_count": 1,
   "metadata": {},
   "outputs": [
    {
     "name": "stdout",
     "output_type": "stream",
     "text": [
      "0\n",
      "1\n",
      "2\n",
      "3\n",
      "4\n",
      "5\n",
      "6\n",
      "7\n",
      "8\n",
      "9\n"
     ]
    }
   ],
   "source": [
    "'''Generators'''\n",
    "\n",
    "'''Create a Fucntion which will print values until 30 using Generators'''\n",
    "\n",
    "def count_up_to():\n",
    "    i = 1\n",
    "    n=10\n",
    "    for i in range(n):\n",
    "        yield i\n",
    "\n",
    "gen = count_up_to()\n",
    "\n",
    "for i in gen:\n",
    "    print(i)"
   ]
  },
  {
   "cell_type": "code",
   "execution_count": 18,
   "metadata": {},
   "outputs": [
    {
     "name": "stdout",
     "output_type": "stream",
     "text": [
      "2.0\n"
     ]
    }
   ],
   "source": [
    "'''Decorators'''\n",
    "\n",
    "def div(a,b):\n",
    "    c = a/b\n",
    "    print(c)\n",
    "\n",
    "\n",
    "    \n",
    "def smart_dev(func):\n",
    "    def inner(a,b):\n",
    "        if b>a:\n",
    "            a,b = b,a\n",
    "        return func(a,b)\n",
    "    return inner\n",
    "    \n",
    "div = smart_dev(div)\n",
    "\n",
    "div(4,2)\n",
    "\n",
    "\n"
   ]
  },
  {
   "cell_type": "code",
   "execution_count": 22,
   "metadata": {},
   "outputs": [
    {
     "name": "stdout",
     "output_type": "stream",
     "text": [
      "5.0\n"
     ]
    }
   ],
   "source": [
    "'''Decorators'''\n",
    "   \n",
    "def smart_dev(func):\n",
    "    def inner(a,b):\n",
    "        if b>a:\n",
    "            a,b = b,a\n",
    "        return func(a,b)\n",
    "    return inner\n",
    "    \n",
    "@smart_dev\n",
    "def div(a,b):\n",
    "    c = a/b\n",
    "    print(c)\n",
    "\n",
    "    \n",
    "div(2,10)\n"
   ]
  },
  {
   "cell_type": "code",
   "execution_count": 1,
   "metadata": {},
   "outputs": [
    {
     "ename": "SyntaxError",
     "evalue": "invalid syntax (<ipython-input-1-b4a112951f68>, line 3)",
     "output_type": "error",
     "traceback": [
      "\u001b[1;36m  File \u001b[1;32m\"<ipython-input-1-b4a112951f68>\"\u001b[1;36m, line \u001b[1;32m3\u001b[0m\n\u001b[1;33m    xdef greet():\u001b[0m\n\u001b[1;37m         ^\u001b[0m\n\u001b[1;31mSyntaxError\u001b[0m\u001b[1;31m:\u001b[0m invalid syntax\n"
     ]
    }
   ],
   "source": [
    "'''Recursion'''\n",
    "'''A function calling itself'''\n",
    "xdef greet():\n",
    "    print(\"Hellow\")\n",
    "    greet()\n",
    "\n",
    "\n",
    "    "
   ]
  },
  {
   "cell_type": "code",
   "execution_count": 13,
   "metadata": {},
   "outputs": [
    {
     "name": "stdout",
     "output_type": "stream",
     "text": [
      "1\n",
      "2\n",
      "3\n",
      "4\n",
      "5\n",
      "6\n",
      "7\n",
      "8\n",
      "9\n",
      "10\n"
     ]
    }
   ],
   "source": [
    "'''Print 1 to 10  using Recursion'''\n",
    "\n",
    "def printNumber(i,k):\n",
    "    print(i)\n",
    "    if i==k:\n",
    "        return\n",
    "    i=i+1\n",
    "    printNumber(i,k)\n",
    "\n",
    "\n",
    "printNumber(1,10)\n"
   ]
  },
  {
   "cell_type": "code",
   "execution_count": 26,
   "metadata": {},
   "outputs": [
    {
     "name": "stdout",
     "output_type": "stream",
     "text": [
      "3628800\n"
     ]
    }
   ],
   "source": [
    "'''Print Factorial of a number using Recursion'''\n",
    "\n",
    "result = 1\n",
    "def factOfNumber(i,k):\n",
    "    global result  # Declare 'result' as a global variable\n",
    "\n",
    "    result = result * i\n",
    "    if i == k:\n",
    "        return\n",
    "    i = i+1\n",
    "    factOfNumber(i,k)\n",
    "factOfNumber(1,10)\n",
    "print(result)\n",
    "\n"
   ]
  },
  {
   "cell_type": "code",
   "execution_count": null,
   "metadata": {},
   "outputs": [],
   "source": []
  },
  {
   "cell_type": "code",
   "execution_count": null,
   "metadata": {},
   "outputs": [],
   "source": []
  },
  {
   "cell_type": "code",
   "execution_count": null,
   "metadata": {},
   "outputs": [],
   "source": []
  },
  {
   "cell_type": "code",
   "execution_count": null,
   "metadata": {},
   "outputs": [],
   "source": []
  },
  {
   "cell_type": "code",
   "execution_count": null,
   "metadata": {},
   "outputs": [],
   "source": []
  },
  {
   "cell_type": "code",
   "execution_count": null,
   "metadata": {},
   "outputs": [],
   "source": []
  },
  {
   "cell_type": "code",
   "execution_count": null,
   "metadata": {},
   "outputs": [],
   "source": []
  },
  {
   "cell_type": "code",
   "execution_count": null,
   "metadata": {},
   "outputs": [],
   "source": []
  },
  {
   "cell_type": "code",
   "execution_count": null,
   "metadata": {},
   "outputs": [],
   "source": []
  },
  {
   "cell_type": "code",
   "execution_count": null,
   "metadata": {},
   "outputs": [],
   "source": []
  },
  {
   "cell_type": "code",
   "execution_count": null,
   "metadata": {},
   "outputs": [],
   "source": []
  },
  {
   "cell_type": "code",
   "execution_count": null,
   "metadata": {},
   "outputs": [],
   "source": []
  },
  {
   "cell_type": "code",
   "execution_count": null,
   "metadata": {},
   "outputs": [],
   "source": []
  },
  {
   "cell_type": "code",
   "execution_count": null,
   "metadata": {},
   "outputs": [],
   "source": []
  },
  {
   "cell_type": "code",
   "execution_count": null,
   "metadata": {},
   "outputs": [],
   "source": []
  },
  {
   "cell_type": "code",
   "execution_count": null,
   "metadata": {},
   "outputs": [],
   "source": []
  },
  {
   "cell_type": "code",
   "execution_count": null,
   "metadata": {},
   "outputs": [],
   "source": []
  },
  {
   "cell_type": "code",
   "execution_count": null,
   "metadata": {},
   "outputs": [],
   "source": []
  },
  {
   "cell_type": "code",
   "execution_count": null,
   "metadata": {},
   "outputs": [],
   "source": []
  },
  {
   "cell_type": "code",
   "execution_count": null,
   "metadata": {},
   "outputs": [],
   "source": []
  }
 ],
 "metadata": {
  "kernelspec": {
   "display_name": "Python 3",
   "language": "python",
   "name": "python3"
  },
  "language_info": {
   "codemirror_mode": {
    "name": "ipython",
    "version": 3
   },
   "file_extension": ".py",
   "mimetype": "text/x-python",
   "name": "python",
   "nbconvert_exporter": "python",
   "pygments_lexer": "ipython3",
   "version": "3.8.5"
  }
 },
 "nbformat": 4,
 "nbformat_minor": 4
}
