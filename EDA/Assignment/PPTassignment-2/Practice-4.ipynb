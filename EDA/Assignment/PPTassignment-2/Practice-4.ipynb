{
 "cells": [
  {
   "cell_type": "code",
   "execution_count": 11,
   "metadata": {},
   "outputs": [
    {
     "name": "stdout",
     "output_type": "stream",
     "text": [
      "7\n",
      "string a reverse to program Python a\n"
     ]
    }
   ],
   "source": [
    "'''1)Write a Python program to reverse a string without using any built-in string reversal functions.'''\n",
    "'''17)20. Implement a function to reverse the order of words in a given sentence.'''\n",
    "\n",
    "'''option 01'''\n",
    "\n",
    "abc = \"Write a Python program to reverse a string\"\n",
    "abc = abc.split()\n",
    "reversedString = []\n",
    "lenofAbc = len(abc)-1\n",
    "print(lenofAbc)\n",
    "\n",
    "for i in range(lenofAbc, 0, -1):\n",
    "    reversedString.append(abc[i])\n",
    "\n",
    "xyz = \" \".join(reversedString)\n",
    "print(xyz)"
   ]
  },
  {
   "cell_type": "code",
   "execution_count": 15,
   "metadata": {},
   "outputs": [
    {
     "name": "stdout",
     "output_type": "stream",
     "text": [
      "string a reverse to program Python a Write \n"
     ]
    }
   ],
   "source": [
    "'''option 02'''\n",
    "\n",
    "abc = \"Write a Python program to reverse a string\"\n",
    "abc = abc.split()\n",
    "newStr = \"\"\n",
    "\n",
    "for i in abc:\n",
    "    newStr = i + \" \" +  newStr  \n",
    "    \n",
    "print(newStr)\n",
    "\n"
   ]
  },
  {
   "cell_type": "code",
   "execution_count": 17,
   "metadata": {},
   "outputs": [
    {
     "name": "stdout",
     "output_type": "stream",
     "text": [
      "yes\n"
     ]
    }
   ],
   "source": [
    "'''2)Implement a function to check if a given string is a palindrome.'''\n",
    "\n",
    "'''option 01 using Loop'''\n",
    "\n",
    "abc = \"madam\"\n",
    "newStr = \"\"\n",
    "\n",
    "for i in abc:\n",
    "    newStr = i + newStr\n",
    "\n",
    "if abc == newStr:\n",
    "    print(\"yes\")\n",
    "else:\n",
    "    print(\"Its Not\")\n"
   ]
  },
  {
   "cell_type": "code",
   "execution_count": 20,
   "metadata": {},
   "outputs": [
    {
     "name": "stdout",
     "output_type": "stream",
     "text": [
      "no\n"
     ]
    }
   ],
   "source": [
    "'''option 02 using slicing of List'''\n",
    "\n",
    "abc = \"madama\"\n",
    "newStr = \"\"\n",
    "\n",
    "newStr= abc[::-1]\n",
    "newStr\n",
    "\n",
    "if abc==newStr:\n",
    "    print(\"yes\")\n",
    "else:\n",
    "    print(\"no\")"
   ]
  },
  {
   "cell_type": "code",
   "execution_count": 26,
   "metadata": {},
   "outputs": [
    {
     "name": "stdout",
     "output_type": "stream",
     "text": [
      "maxEle :  10\n"
     ]
    }
   ],
   "source": [
    "'''3)Write a program to find the largest element in a given list.'''\n",
    "\n",
    "list1 = [10, 39, 100, 20, 400]\n",
    "\n",
    "maxEle = list1[0]\n",
    "for i in list1:\n",
    "    if i > maxEle:\n",
    "        maxEle = i\n",
    "\n",
    "#if i > maxEle:\n",
    "#    maxEle = i\n",
    "\n",
    "\n",
    "print(\"maxEle : \", maxEle)\n"
   ]
  },
  {
   "cell_type": "code",
   "execution_count": 29,
   "metadata": {},
   "outputs": [
    {
     "name": "stdout",
     "output_type": "stream",
     "text": [
      "smallEle :  4\n"
     ]
    }
   ],
   "source": [
    "'''4)Write a program to find the smallest element in a given list.'''\n",
    "\n",
    "list1 = [10, 39, 100, 20, 4]\n",
    "smallEle = list1[0]\n",
    "for i in list1:\n",
    "    if i < smallEle:\n",
    "        smallEle = i\n",
    "\n",
    "#if i > maxEle:\n",
    "#    maxEle = i\n",
    "\n",
    "\n",
    "print(\"smallEle : \", smallEle)\n"
   ]
  },
  {
   "cell_type": "code",
   "execution_count": 36,
   "metadata": {},
   "outputs": [
    {
     "name": "stdout",
     "output_type": "stream",
     "text": [
      "{'Implement': 2, 'a': 1, 'function': 1, 'to': 2, 'count': 2, 'the': 2}\n"
     ]
    }
   ],
   "source": [
    "'''4)Implement a function to count the occurrence of each element in a list.'''\n",
    "abc = ['Implement','Implement', 'a', 'function', 'to', 'count', 'the', 'to', 'count', 'the']\n",
    "newDict = {}\n",
    "\n",
    "for i in abc:\n",
    "    if i in newDict:\n",
    "        newDict[i] = newDict[i] + 1\n",
    "    else:\n",
    "        newDict[i] = 1\n",
    "        \n",
    "print(newDict)\n",
    "\n"
   ]
  },
  {
   "cell_type": "code",
   "execution_count": 46,
   "metadata": {},
   "outputs": [
    {
     "name": "stdout",
     "output_type": "stream",
     "text": [
      "39\n"
     ]
    }
   ],
   "source": [
    "'''5)Write a Python program to find the second largest number in a list.'''\n",
    "list1 = [10, 39, 100, 20, 4]\n",
    "maxEle = list1[0]\n",
    "secondLargest = list1[0]\n",
    "for i in list1:\n",
    "    if i > maxEle:\n",
    "        maxEle = i\n",
    "\n",
    "for j in list1:\n",
    "    if j > secondLargest and j < maxEle:\n",
    "        secondLargest = j\n",
    "\n",
    "print(secondLargest)"
   ]
  },
  {
   "cell_type": "code",
   "execution_count": 48,
   "metadata": {},
   "outputs": [
    {
     "data": {
      "text/plain": [
       "{'Implement', 'a', 'count', 'function', 'the', 'to'}"
      ]
     },
     "execution_count": 48,
     "metadata": {},
     "output_type": "execute_result"
    }
   ],
   "source": [
    "'''6)Implement a function to remove duplicate elements from a list.'''\n",
    "\n",
    "'''option one Using Set'''\n",
    "abc = ['Implement','Implement', 'a', 'function', 'to', 'count', 'the', 'to', 'count', 'the']\n",
    "\n",
    "noDupeabc = set(abc)\n",
    "noDupeabc\n",
    "\n"
   ]
  },
  {
   "cell_type": "code",
   "execution_count": 50,
   "metadata": {},
   "outputs": [
    {
     "data": {
      "text/plain": [
       "['Implement', 'a', 'function', 'to', 'count', 'the']"
      ]
     },
     "execution_count": 50,
     "metadata": {},
     "output_type": "execute_result"
    }
   ],
   "source": [
    "'''option one Using Set'''\n",
    "abc = ['Implement','Implement', 'a', 'function', 'to', 'count', 'the', 'to', 'count', 'the']\n",
    "notDupeList = []\n",
    "\n",
    "for i in abc:\n",
    "    if i not in notDupeList:\n",
    "        notDupeList.append(i)\n",
    "    \n",
    "notDupeList"
   ]
  },
  {
   "cell_type": "code",
   "execution_count": 55,
   "metadata": {},
   "outputs": [
    {
     "name": "stdout",
     "output_type": "stream",
     "text": [
      "3628800\n"
     ]
    }
   ],
   "source": [
    "'''7)Write a program to calculate the factorial of a given number.'''\n",
    "num1 = 10\n",
    "factOfNumber = 1\n",
    "\n",
    "for i in range(1,num1+1):\n",
    "    factOfNumber = i * factOfNumber\n",
    "    \n",
    "print(factOfNumber)\n"
   ]
  },
  {
   "cell_type": "code",
   "execution_count": 59,
   "metadata": {},
   "outputs": [
    {
     "name": "stdout",
     "output_type": "stream",
     "text": [
      "yes\n"
     ]
    }
   ],
   "source": [
    "'''8)Implement a function to check if a given number is prime.'''\n",
    "\n",
    "num = 7\n",
    "count = 0\n",
    "\n",
    "for i in range(1,num+1):\n",
    "    if num%i==0:\n",
    "        count=count+1\n",
    "\n",
    "        \n",
    "if count==2:\n",
    "    print(\"yes\")\n",
    "else:\n",
    "    print(\"No\")\n",
    "    "
   ]
  },
  {
   "cell_type": "code",
   "execution_count": 60,
   "metadata": {},
   "outputs": [
    {
     "data": {
      "text/plain": [
       "[10, 20, 39, 40, 50, 51, 100]"
      ]
     },
     "execution_count": 60,
     "metadata": {},
     "output_type": "execute_result"
    }
   ],
   "source": [
    "'''9)Write a Python program to sort a list of integers in ascending order.'''\n",
    "abc = [51,10,39,100,20,50,40]\n",
    "\n",
    "sorted(abc)"
   ]
  },
  {
   "cell_type": "code",
   "execution_count": 80,
   "metadata": {},
   "outputs": [
    {
     "name": "stdout",
     "output_type": "stream",
     "text": [
      "Elements of array sorted in ascending order: \n",
      "5 2 8 7 1 "
     ]
    }
   ],
   "source": [
    "'''Optiona 02 using Loop'''\n",
    "# Initialize array\n",
    "l1 = [5, 2, 8, 7, 1];\n",
    "temp = 0;\n",
    "\n",
    "# Sort the array in ascending order\n",
    "for i in range(0, len(l1)):\n",
    "    for j in range(i + 1, len(l1)):\n",
    "        firstEle=l1[i]\n",
    "        secondEle=l1[j]\n",
    "        if firstEle > secondEle :\n",
    "            temp = l1[i]\n",
    "            l1[i] = l1[j]\n",
    "            l1[j] = temp\n",
    "\n",
    "print(\"Elements of array sorted in ascending order: \");\n",
    "for i in range(0, len(l1)):\n",
    "    print(l1[i], end=\" \");"
   ]
  },
  {
   "cell_type": "code",
   "execution_count": 82,
   "metadata": {},
   "outputs": [
    {
     "name": "stdout",
     "output_type": "stream",
     "text": [
      "310\n"
     ]
    }
   ],
   "source": [
    "'''10)Implement a function to find the sum of all numbers in a list.'''\n",
    "abc = [51,10,39,100,20,50,40]\n",
    "sum(abc)\n",
    "sum1 = 0\n",
    "for i in abc:\n",
    "    sum1 = i +sum1\n",
    "    \n",
    "print(sum1)\n"
   ]
  },
  {
   "cell_type": "code",
   "execution_count": 84,
   "metadata": {},
   "outputs": [
    {
     "data": {
      "text/plain": [
       "[4, 8]"
      ]
     },
     "execution_count": 84,
     "metadata": {},
     "output_type": "execute_result"
    }
   ],
   "source": [
    "'''11)Write a program to find the common elements between two lists.'''\n",
    "'''17. Write a Python program to find the intersection(commong element from two list) of two lists.'''\n",
    "list1 = [1,2,4,8]\n",
    "list2 = [4,8,5,10]\n",
    "list3 = []\n",
    "\n",
    "for i in list1:\n",
    "    if i in list2:\n",
    "        list3.append(i)\n",
    "        \n",
    "\n",
    "list3"
   ]
  },
  {
   "cell_type": "code",
   "execution_count": 87,
   "metadata": {},
   "outputs": [
    {
     "name": "stdout",
     "output_type": "stream",
     "text": [
      "No\n"
     ]
    }
   ],
   "source": [
    "'''12)Implement a function to check if a given string is an anagram of another string.'''\n",
    "\n",
    "s1 = \"heart\"\n",
    "s2 = \"earth1\"\n",
    "\n",
    "s1 = sorted(s1)\n",
    "s2 = sorted(s2)\n",
    "\n",
    "if s1 == s2:\n",
    "    print(\"yes\")\n",
    "else:\n",
    "    print(\"No\")\n",
    "    "
   ]
  },
  {
   "cell_type": "code",
   "execution_count": 96,
   "metadata": {},
   "outputs": [
    {
     "name": "stdout",
     "output_type": "stream",
     "text": [
      "1\n",
      "2\n",
      "3\n",
      "5\n",
      "8\n",
      "13\n",
      "21\n",
      "34\n",
      "55\n",
      "89\n"
     ]
    }
   ],
   "source": [
    "'''13)Implement a function to calculate the Fibonacci sequence up to a given number of terms.'''\n",
    "\n",
    "num=10\n",
    "num1=0\n",
    "num2=1\n",
    "num3=0\n",
    "for i in range(num):\n",
    "    num3 = num1 + num2\n",
    "    num1 = num2\n",
    "    num2 = num3\n",
    "    print(num3)\n",
    "\n"
   ]
  },
  {
   "cell_type": "code",
   "execution_count": 122,
   "metadata": {},
   "outputs": [
    {
     "name": "stdout",
     "output_type": "stream",
     "text": [
      "50\n",
      "yes\n"
     ]
    }
   ],
   "source": [
    "'''14)Write a program to find the median of a list of numbers.'''\n",
    "abc = [51,10,39,100,20,50,40,101,102]\n",
    "abc = sorted(abc)\n",
    "lenabc= len(abc)\n",
    "median = 0\n",
    "\n",
    "if lenabc%2==0:\n",
    "    median = (abc[(lenabc//2)]+abc[(lenabc//2)-1])/2\n",
    "    print(median)\n",
    "    print(\"yes\")\n",
    "else:\n",
    "    median = abc[(lenabc//2)]\n",
    "    print(median)\n",
    "    print(\"yes\")\n",
    "\n"
   ]
  },
  {
   "cell_type": "code",
   "execution_count": 128,
   "metadata": {},
   "outputs": [
    {
     "name": "stdout",
     "output_type": "stream",
     "text": [
      "Wrt  prgrm t rmv ll vwls frm  gvn strng\n"
     ]
    }
   ],
   "source": [
    "'''16)19. Write a program to remove all vowels from a given string.'''\n",
    "\n",
    "vov = \"aeiouAEIOU\"\n",
    "oneString = \"Write a program to remove all vowels from a given string\"\n",
    "\n",
    "for i in oneString:\n",
    "    if i in vov:\n",
    "        oneString = oneString.replace(i,\"\")\n",
    "print(oneString)"
   ]
  },
  {
   "cell_type": "code",
   "execution_count": 134,
   "metadata": {},
   "outputs": [
    {
     "name": "stdout",
     "output_type": "stream",
     "text": [
      "[50, 2]\n"
     ]
    }
   ],
   "source": [
    "'''20)23. Write a program to find the prime factors of a given number.'''\n",
    "\n",
    "num = 100\n",
    "primeFact = []\n",
    "for i in range(num-1,1,-1):\n",
    "    if num%i == 0:\n",
    "        primeFact.append(i)\n",
    "        num = num/i\n",
    "print(primeFact)"
   ]
  },
  {
   "cell_type": "code",
   "execution_count": 133,
   "metadata": {},
   "outputs": [
    {
     "name": "stdout",
     "output_type": "stream",
     "text": [
      "50\n",
      "25\n",
      "20\n",
      "10\n",
      "5\n",
      "4\n",
      "2\n"
     ]
    }
   ],
   "source": [
    "'''21)24. Implement a function to check if a given number is a power of two.'''\n"
   ]
  },
  {
   "cell_type": "code",
   "execution_count": null,
   "metadata": {},
   "outputs": [],
   "source": []
  },
  {
   "cell_type": "code",
   "execution_count": null,
   "metadata": {},
   "outputs": [],
   "source": []
  },
  {
   "cell_type": "code",
   "execution_count": null,
   "metadata": {},
   "outputs": [],
   "source": []
  },
  {
   "cell_type": "code",
   "execution_count": null,
   "metadata": {},
   "outputs": [],
   "source": []
  },
  {
   "cell_type": "code",
   "execution_count": null,
   "metadata": {},
   "outputs": [],
   "source": []
  },
  {
   "cell_type": "code",
   "execution_count": null,
   "metadata": {},
   "outputs": [],
   "source": []
  },
  {
   "cell_type": "code",
   "execution_count": null,
   "metadata": {},
   "outputs": [],
   "source": []
  },
  {
   "cell_type": "code",
   "execution_count": null,
   "metadata": {},
   "outputs": [],
   "source": []
  },
  {
   "cell_type": "code",
   "execution_count": null,
   "metadata": {},
   "outputs": [],
   "source": []
  },
  {
   "cell_type": "code",
   "execution_count": null,
   "metadata": {},
   "outputs": [],
   "source": []
  },
  {
   "cell_type": "code",
   "execution_count": null,
   "metadata": {},
   "outputs": [],
   "source": []
  },
  {
   "cell_type": "code",
   "execution_count": null,
   "metadata": {},
   "outputs": [],
   "source": []
  },
  {
   "cell_type": "code",
   "execution_count": null,
   "metadata": {},
   "outputs": [],
   "source": []
  },
  {
   "cell_type": "code",
   "execution_count": null,
   "metadata": {},
   "outputs": [],
   "source": []
  }
 ],
 "metadata": {
  "kernelspec": {
   "display_name": "Python 3",
   "language": "python",
   "name": "python3"
  },
  "language_info": {
   "codemirror_mode": {
    "name": "ipython",
    "version": 3
   },
   "file_extension": ".py",
   "mimetype": "text/x-python",
   "name": "python",
   "nbconvert_exporter": "python",
   "pygments_lexer": "ipython3",
   "version": "3.8.5"
  }
 },
 "nbformat": 4,
 "nbformat_minor": 4
}
