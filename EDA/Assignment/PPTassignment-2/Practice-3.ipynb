{
 "cells": [
  {
   "cell_type": "code",
   "execution_count": 13,
   "metadata": {},
   "outputs": [
    {
     "data": {
      "text/plain": [
       "'a reverse to program Python a'"
      ]
     },
     "execution_count": 13,
     "metadata": {},
     "output_type": "execute_result"
    }
   ],
   "source": [
    "'''1)Write a Python program to reverse a string without using any built-in string reversal functions.'''\n",
    "\n",
    "'''option 01'''\n",
    "abc = \"Write a Python program to reverse a\"\n",
    "abc = abc.split()\n",
    "reverseString = []\n",
    "abcLen = len(abc)-1\n",
    "for i in range(abcLen,0,-1):\n",
    "    reverseString.append(abc[i])\n",
    "    \n",
    "abc = \" \".join(reverseString)\n",
    "abc"
   ]
  },
  {
   "cell_type": "code",
   "execution_count": 17,
   "metadata": {},
   "outputs": [
    {
     "data": {
      "text/plain": [
       "'a reverse to program Python a Write '"
      ]
     },
     "execution_count": 17,
     "metadata": {},
     "output_type": "execute_result"
    }
   ],
   "source": [
    "'''option 02'''\n",
    "abc = \"Write a Python program to reverse a\"\n",
    "abc = abc.split()\n",
    "reverseString = \"\"\n",
    "\n",
    "for i in abc:\n",
    "    reverseString = i +\" \"+reverseString\n",
    "\n",
    "reverseString"
   ]
  },
  {
   "cell_type": "code",
   "execution_count": 21,
   "metadata": {},
   "outputs": [
    {
     "name": "stdout",
     "output_type": "stream",
     "text": [
      "No\n"
     ]
    }
   ],
   "source": [
    "'''2)Implement a function to check if a given string is a palindrome.'''\n",
    "\n",
    "'''option 01 using Loop'''\n",
    "num = 162\n",
    "num = str(num)\n",
    "newNUM = \"\"\n",
    "for i in num:\n",
    "    newNUM = i+newNUM\n",
    "    \n",
    "if newNUM == num:\n",
    "    print(\"yes\")\n",
    "else:\n",
    "    print(\"No\")"
   ]
  },
  {
   "cell_type": "code",
   "execution_count": 25,
   "metadata": {},
   "outputs": [
    {
     "name": "stdout",
     "output_type": "stream",
     "text": [
      "No\n"
     ]
    }
   ],
   "source": [
    "'''option 01 using Loop'''\n",
    "num = 162\n",
    "num = str(num)\n",
    "newNUM = \"\"\n",
    "\n",
    "newNUM = num[::-1]\n",
    "if newNUM == num:\n",
    "    print(\"yes\")\n",
    "else:\n",
    "    print(\"No\")\n"
   ]
  },
  {
   "cell_type": "code",
   "execution_count": 28,
   "metadata": {},
   "outputs": [
    {
     "name": "stdout",
     "output_type": "stream",
     "text": [
      "100\n"
     ]
    }
   ],
   "source": [
    "'''3)Write a program to find the largest element in a given list.'''\n",
    "\n",
    "list1 = [10,39,100,20,40]\n",
    "maxEle = list1[0]\n",
    "\n",
    "for i in list1:\n",
    "    if i > maxEle:\n",
    "        maxEle = i\n",
    "print(maxEle)"
   ]
  },
  {
   "cell_type": "code",
   "execution_count": 36,
   "metadata": {},
   "outputs": [
    {
     "data": {
      "text/plain": [
       "2"
      ]
     },
     "execution_count": 36,
     "metadata": {},
     "output_type": "execute_result"
    }
   ],
   "source": [
    "'''4)Implement a function to count the occurrence of each element in a list.'''\n",
    "abc = ['Implement','Implement', 'a', 'function', 'to', 'count', 'the', 'to', 'count', 'the']\n",
    "\n",
    "dict1 ={}\n",
    "for i in abc:\n",
    "    if i in dict1:\n",
    "        dict1[i] = dict1[i] +1\n",
    "    else:\n",
    "        dict1[i] = 1\n",
    "len(max(dict1))"
   ]
  },
  {
   "cell_type": "code",
   "execution_count": 55,
   "metadata": {},
   "outputs": [
    {
     "name": "stdout",
     "output_type": "stream",
     "text": [
      "51\n"
     ]
    }
   ],
   "source": [
    "'''5)Write a Python program to find the second largest number in a list.'''\n",
    "abc = [51,10,39,100,20,50,40]\n",
    "maxEle = abc[0]\n",
    "secondMax = abc[0]\n",
    "\n",
    "for i in abc:\n",
    "    if i > maxEle:\n",
    "        maxEle = i\n",
    "\n",
    "for i in abc:\n",
    "    if i > secondMax and i < maxEle:\n",
    "        secondMax = i\n",
    "        \n",
    "print(secondMax)\n"
   ]
  },
  {
   "cell_type": "code",
   "execution_count": 56,
   "metadata": {},
   "outputs": [
    {
     "data": {
      "text/plain": [
       "{'Implement', 'a', 'count', 'function', 'the', 'to'}"
      ]
     },
     "execution_count": 56,
     "metadata": {},
     "output_type": "execute_result"
    }
   ],
   "source": [
    "'''6)Implement a function to remove duplicate elements from a list.'''\n",
    "\n",
    "'''option one'''\n",
    "abc = ['Implement','Implement', 'a', 'function', 'to', 'count', 'the', 'to', 'count', 'the']\n",
    "abc = set(abc)\n",
    "abc"
   ]
  },
  {
   "cell_type": "code",
   "execution_count": 58,
   "metadata": {},
   "outputs": [
    {
     "data": {
      "text/plain": [
       "['Implement', 'a', 'function', 'to', 'count', 'the']"
      ]
     },
     "execution_count": 58,
     "metadata": {},
     "output_type": "execute_result"
    }
   ],
   "source": [
    "'''option two using loop'''\n",
    "abc = ['Implement','Implement', 'a', 'function', 'to', 'count', 'the', 'to', 'count', 'the']\n",
    "uniqueList = []\n",
    "\n",
    "for i in abc:\n",
    "    if i not in uniqueList:\n",
    "        uniqueList.append(i)\n",
    "\n",
    "uniqueList"
   ]
  },
  {
   "cell_type": "code",
   "execution_count": 62,
   "metadata": {},
   "outputs": [
    {
     "data": {
      "text/plain": [
       "3628800"
      ]
     },
     "execution_count": 62,
     "metadata": {},
     "output_type": "execute_result"
    }
   ],
   "source": [
    "'''7)Write a program to calculate the factorial of a given number.'''\n",
    "\n",
    "num = 10\n",
    "temp = 1\n",
    "for i in range(1,num+1):\n",
    "    temp = i * temp\n",
    "\n",
    "temp"
   ]
  },
  {
   "cell_type": "code",
   "execution_count": 69,
   "metadata": {},
   "outputs": [
    {
     "name": "stdout",
     "output_type": "stream",
     "text": [
      "yes 2\n"
     ]
    }
   ],
   "source": [
    "'''8)Implement a function to check if a given number is prime.'''\n",
    "\n",
    "num = 7\n",
    "count = 0\n",
    "for i in range(1,num+1):\n",
    "    if num%i == 0:\n",
    "        count = count+1\n",
    "\n",
    "if count >2:\n",
    "    print(\"not\",count)\n",
    "else:\n",
    "    print(\"yes\",count)\n",
    "    "
   ]
  },
  {
   "cell_type": "code",
   "execution_count": 70,
   "metadata": {},
   "outputs": [
    {
     "data": {
      "text/plain": [
       "[10, 20, 39, 40, 50, 51, 100]"
      ]
     },
     "execution_count": 70,
     "metadata": {},
     "output_type": "execute_result"
    }
   ],
   "source": [
    "'''9)Write a Python program to sort a list of integers in ascending order.'''\n",
    "abc = [51,10,39,100,20,50,40]\n",
    "sorted(abc)\n"
   ]
  },
  {
   "cell_type": "code",
   "execution_count": 73,
   "metadata": {},
   "outputs": [
    {
     "data": {
      "text/plain": [
       "310"
      ]
     },
     "execution_count": 73,
     "metadata": {},
     "output_type": "execute_result"
    }
   ],
   "source": [
    "'''10)Implement a function to find the sum of all numbers in a list.'''\n",
    "abc = [51,10,39,100,20,50,40]\n",
    "sum(abc)\n",
    "sumAll = 0\n",
    "for i in abc:\n",
    "    sumAll = sumAll + i\n",
    "sumAll"
   ]
  },
  {
   "cell_type": "code",
   "execution_count": 76,
   "metadata": {},
   "outputs": [
    {
     "data": {
      "text/plain": [
       "[4, 8]"
      ]
     },
     "execution_count": 76,
     "metadata": {},
     "output_type": "execute_result"
    }
   ],
   "source": [
    "'''11)Write a program to find the common elements between two lists.'''\n",
    "list1 = [1,2,4,8]\n",
    "list2 = [4,8,5,10]\n",
    "list3 = []\n",
    "\n",
    "for i in list1:\n",
    "    if i in list2:\n",
    "        list3.append(i)\n",
    "        \n",
    "list3\n",
    "\n"
   ]
  },
  {
   "cell_type": "code",
   "execution_count": null,
   "metadata": {},
   "outputs": [],
   "source": [
    "'''12)Implement a function to check if a given string is an anagram of another string.'''"
   ]
  },
  {
   "cell_type": "code",
   "execution_count": 88,
   "metadata": {},
   "outputs": [
    {
     "name": "stdout",
     "output_type": "stream",
     "text": [
      "no\n",
      "heart earth1\n"
     ]
    }
   ],
   "source": [
    "s1 = \"heart\"\n",
    "s2 = \"earth1\"\n",
    "\n",
    "if sorted(s1) == sorted(s2):\n",
    "    print(\"yes\")\n",
    "    print(s1,s2)\n",
    "else:\n",
    "    print(\"no\")\n",
    "    print(s1,s2)\n"
   ]
  },
  {
   "cell_type": "code",
   "execution_count": 98,
   "metadata": {},
   "outputs": [
    {
     "name": "stdout",
     "output_type": "stream",
     "text": [
      "1\n",
      "2\n",
      "3\n",
      "5\n",
      "8\n",
      "13\n",
      "21\n",
      "34\n",
      "55\n",
      "89\n",
      "89\n"
     ]
    }
   ],
   "source": [
    "'''13)Implement a function to calculate the Fibonacci sequence up to a given number of terms.'''\n",
    "\n",
    "num = 10\n",
    "num1 = 0\n",
    "num2 = 1\n",
    "num3 = 0\n",
    "for i in range(1,num+1):\n",
    "    num3 = num1 + num2\n",
    "    num1 = num2\n",
    "    num2 = num3\n",
    "    print(num3)\n",
    "\n",
    "print(num3)"
   ]
  },
  {
   "cell_type": "code",
   "execution_count": 134,
   "metadata": {},
   "outputs": [
    {
     "name": "stdout",
     "output_type": "stream",
     "text": [
      "45.0\n"
     ]
    },
    {
     "data": {
      "text/plain": [
       "[10, 20, 39, 40, 50, 51, 100, 101]"
      ]
     },
     "execution_count": 134,
     "metadata": {},
     "output_type": "execute_result"
    }
   ],
   "source": [
    "'''14)Write a program to find the median of a list of numbers.'''\n",
    "abc = [51,10,39,100,20,50,40,101]\n",
    "abc = sorted(abc)\n",
    "median1 = 0\n",
    "ind1 = 0\n",
    "ind2 = 0\n",
    "\n",
    "len(abc)\n",
    "if len(abc)%2==0:\n",
    "    ind1 = (len(abc)//2)\n",
    "    ind2 = (len(abc)//2)-1\n",
    "    median1 = (abc[ind2]+abc[ind1])/2\n",
    "    print(median1)\n",
    "else:\n",
    "    ind1 = (len(abc)//2)\n",
    "    median1 = (abc[ind1])\n",
    "    print(median1)\n",
    "\n",
    "abc"
   ]
  },
  {
   "cell_type": "code",
   "execution_count": 136,
   "metadata": {},
   "outputs": [
    {
     "data": {
      "text/plain": [
       "[4, 5]"
      ]
     },
     "execution_count": 136,
     "metadata": {},
     "output_type": "execute_result"
    }
   ],
   "source": [
    "'''17. Write a Python program to find the intersection(commong element from two list) of two lists.'''\n",
    "list1 = [1, 2, 3, 4, 5]\n",
    "list2 = [4, 5, 6, 7, 8]\n",
    "intersectionList = []\n",
    "\n",
    "\n",
    "for i in list1:\n",
    "    if i in list2:\n",
    "        intersectionList.append(i)\n",
    "\n",
    "intersectionList"
   ]
  },
  {
   "cell_type": "code",
   "execution_count": 143,
   "metadata": {},
   "outputs": [
    {
     "data": {
      "text/plain": [
       "'Wrt  prgrm t rmv'"
      ]
     },
     "execution_count": 143,
     "metadata": {},
     "output_type": "execute_result"
    }
   ],
   "source": [
    "'''16)19. Write a program to remove all vowels from a given string.'''\n",
    "\n",
    "vov = \"aeiouAEIOU\"\n",
    "abc = \"Write a program to remove\"\n",
    "\n",
    "for i in abc:\n",
    "    if i in vov:\n",
    "        abc = abc.replace(i,\"\")\n",
    "abc"
   ]
  },
  {
   "cell_type": "code",
   "execution_count": null,
   "metadata": {},
   "outputs": [],
   "source": [
    "'''17)20. Implement a function to reverse the order of words in a given sentence.'''\n",
    "'''option 01'''\n",
    "abc = \"Write a Python program to reverse a\"\n",
    "abc = abc.split()\n",
    "reverseString = []\n",
    "abcLen = len(abc)-1\n",
    "for i in range(abcLen,0,-1):\n",
    "    reverseString.append(abc[i])\n",
    "    \n",
    "abc = \" \".join(reverseString)\n",
    "abc\n"
   ]
  },
  {
   "cell_type": "code",
   "execution_count": null,
   "metadata": {},
   "outputs": [],
   "source": [
    "'''18)21. Write a Python program to check if two strings are anagrams of each other.'''\n",
    "\n",
    "s1 = \"heart\"\n",
    "s2 = \"earth1\"\n",
    "\n",
    "if sorted(s1) == sorted(s2):\n",
    "    print(\"yes\")\n",
    "    print(s1,s2)\n",
    "else:\n",
    "    print(\"no\")\n",
    "    print(s1,s2)\n"
   ]
  },
  {
   "cell_type": "code",
   "execution_count": 147,
   "metadata": {},
   "outputs": [
    {
     "name": "stdout",
     "output_type": "stream",
     "text": [
      "p 1\n"
     ]
    }
   ],
   "source": [
    "'''19)22. Implement a function to find the first non-repeating character in a string.'''\n",
    "\n",
    "abc = \"ImplIml\"\n",
    "dict1 ={}\n",
    "for i in abc:\n",
    "    if i in dict1:\n",
    "        dict1[i] = dict1[i]+1\n",
    "    else:\n",
    "        dict1[i] = 1\n",
    "\n",
    "for key, value in dict1.items():\n",
    "    if value ==1:\n",
    "        print(key,value)"
   ]
  },
  {
   "cell_type": "code",
   "execution_count": 161,
   "metadata": {},
   "outputs": [
    {
     "data": {
      "text/plain": [
       "[50]"
      ]
     },
     "execution_count": 161,
     "metadata": {},
     "output_type": "execute_result"
    }
   ],
   "source": [
    "'''20)23. Write a program to find the prime factors of a given number.'''\n",
    "\n",
    "num = 50\n",
    "primeFact = []\n",
    "for i in range(num,2,-1):\n",
    "    if num%i == 0:\n",
    "        primeFact.append(i)\n",
    "        num = num/i\n",
    "primeFact"
   ]
  },
  {
   "cell_type": "code",
   "execution_count": 169,
   "metadata": {},
   "outputs": [
    {
     "name": "stdout",
     "output_type": "stream",
     "text": [
      "yes\n"
     ]
    }
   ],
   "source": [
    "'''21)24. Implement a function to check if a given number is a power of two.'''\n",
    "\n",
    "num = 64\n",
    "\n",
    "while num > 1 and num%2==0:\n",
    "    num = num//2\n",
    "\n",
    "if num==1:\n",
    "    print(\"yes\")\n",
    "else:\n",
    "    print(\"no\")"
   ]
  },
  {
   "cell_type": "code",
   "execution_count": 176,
   "metadata": {},
   "outputs": [
    {
     "name": "stdout",
     "output_type": "stream",
     "text": [
      "10 4\n"
     ]
    }
   ],
   "source": [
    "'''22)\t26. Implement a function to find the mode of a list of numbers.'''\n",
    "\n",
    "l1 = [1,2,3,1,14,1,3,6,8,10,10,10,10]\n",
    "maxEle = 0\n",
    "countEle = 0\n",
    "value = 0\n",
    "for i in l1:\n",
    "    countEle = l1.count(i)\n",
    "    if countEle > maxEle:\n",
    "        maxEle = countEle\n",
    "        value = i\n",
    "        \n",
    "print(value,maxEle)"
   ]
  },
  {
   "cell_type": "code",
   "execution_count": 187,
   "metadata": {},
   "outputs": [
    {
     "name": "stdout",
     "output_type": "stream",
     "text": [
      "10\n"
     ]
    }
   ],
   "source": [
    "'''23)27. Write a program to find the greatest common divisor (GCD) of two numbers.'''\n",
    "\n",
    "num1 =30\n",
    "num2 = 40\n",
    "maxValue = 0\n",
    "if num1>num2:\n",
    "    maxEel = num1\n",
    "else:\n",
    "    maxEel = num2\n",
    "    \n",
    "for i in range(maxEel,1,-1):\n",
    "    if num1%i == 0 and num2%i==0:\n",
    "        print(i)\n",
    "        break\n",
    "        "
   ]
  },
  {
   "cell_type": "code",
   "execution_count": 189,
   "metadata": {},
   "outputs": [
    {
     "data": {
      "text/plain": [
       "8.0"
      ]
     },
     "execution_count": 189,
     "metadata": {},
     "output_type": "execute_result"
    }
   ],
   "source": [
    "'''24)28. Implement a function to calculate the square root of a given number.'''\n",
    "\n",
    "import math\n",
    "numx = 64\n",
    "\n",
    "math.sqrt(numx)"
   ]
  },
  {
   "cell_type": "code",
   "execution_count": 190,
   "metadata": {},
   "outputs": [
    {
     "data": {
      "text/plain": [
       "8.0"
      ]
     },
     "execution_count": 190,
     "metadata": {},
     "output_type": "execute_result"
    }
   ],
   "source": [
    "numx = 64\n",
    "\n",
    "numx**0.5"
   ]
  },
  {
   "cell_type": "code",
   "execution_count": 197,
   "metadata": {},
   "outputs": [
    {
     "name": "stdout",
     "output_type": "stream",
     "text": [
      "10\n"
     ]
    }
   ],
   "source": [
    "'''25)\t31. Write a program to find the sum of all even numbers in a list.'''\n",
    "\n",
    "l1 = [2,1,2,4,2]\n",
    "value = 0\n",
    "for i in l1:\n",
    "    if i%2==0:\n",
    "        value = value + i\n",
    "print(value)\n"
   ]
  },
  {
   "cell_type": "code",
   "execution_count": 205,
   "metadata": {},
   "outputs": [
    {
     "data": {
      "text/plain": [
       "32"
      ]
     },
     "execution_count": 205,
     "metadata": {},
     "output_type": "execute_result"
    }
   ],
   "source": [
    "'''26)32. Implement a function to calculate the power of a number using recursion.'''\n",
    "\n",
    "num =2\n",
    "exp = 5\n",
    "\n",
    "    \n",
    "def power1(num,exp):\n",
    "    if exp==0:\n",
    "        return 1\n",
    "    else:\n",
    "        num = num * power1(num,exp-1)\n",
    "        return num\n",
    "    \n",
    "power1(2,5)"
   ]
  },
  {
   "cell_type": "code",
   "execution_count": 2,
   "metadata": {},
   "outputs": [
    {
     "data": {
      "text/plain": [
       "[1, 2, 3, 14, 6, 8, 10]"
      ]
     },
     "execution_count": 2,
     "metadata": {},
     "output_type": "execute_result"
    }
   ],
   "source": [
    "'''27)33. Write a Python program to remove duplicates from a list while preserving the order.'''\n",
    "\n",
    "l1 = [1,2,3,1,14,1,3,6,8,10,10,10,10]\n",
    "l2 = []\n",
    "for i in l1:\n",
    "    if i not in l2:\n",
    "        l2.append(i)\n",
    "        \n",
    "        \n",
    "l2\n",
    "\n"
   ]
  },
  {
   "cell_type": "code",
   "execution_count": 10,
   "metadata": {},
   "outputs": [
    {
     "name": "stdout",
     "output_type": "stream",
     "text": [
      "yes\n"
     ]
    }
   ],
   "source": [
    "'''28)35. Write a program to check if a given number is a perfect square.'''\n",
    "\n",
    "\n",
    "num =81\n",
    "flag = 0\n",
    "for i in range(1,num+1):\n",
    "    if i*i==num:\n",
    "        flag = 1\n",
    "        break\n",
    "if flag==1:\n",
    "    print(\"yes\")\n",
    "else:\n",
    "    print(\"No\")\n",
    "\n"
   ]
  },
  {
   "cell_type": "code",
   "execution_count": 12,
   "metadata": {},
   "outputs": [
    {
     "name": "stdout",
     "output_type": "stream",
     "text": [
      "40320\n"
     ]
    }
   ],
   "source": [
    "'''29)36. Implement a function to calculate the product of all elements in a list.'''\n",
    "\n",
    "list1 = [1, 2, 3, 14, 6, 8, 10]\n",
    "value = 1\n",
    "for i in list1:\n",
    "    value = value *i\n",
    "    \n",
    "print(value)\n"
   ]
  },
  {
   "cell_type": "code",
   "execution_count": null,
   "metadata": {},
   "outputs": [],
   "source": [
    "'''30)\t37. Write a Python program to reverse the order of words in a sentence while preserving the word order.'''"
   ]
  },
  {
   "cell_type": "code",
   "execution_count": 16,
   "metadata": {},
   "outputs": [
    {
     "data": {
      "text/plain": [
       "'a reverse to program Python a'"
      ]
     },
     "execution_count": 16,
     "metadata": {},
     "output_type": "execute_result"
    }
   ],
   "source": [
    "'''option 01'''\n",
    "abc = \"Write a Python program to reverse a\"\n",
    "abc = abc.split()\n",
    "reverseString = []\n",
    "abcLen = len(abc)-1\n",
    "for i in range(abcLen,0,-1):\n",
    "    reverseString.append(abc[i])\n",
    "    \n",
    "abc = \" \".join(reverseString)\n",
    "abc"
   ]
  },
  {
   "cell_type": "code",
   "execution_count": 15,
   "metadata": {},
   "outputs": [
    {
     "data": {
      "text/plain": [
       "'a reverse to program Python a'"
      ]
     },
     "execution_count": 15,
     "metadata": {},
     "output_type": "execute_result"
    }
   ],
   "source": [
    "'''option 02'''\n",
    "abc = \"Write a Python program to reverse a\"\n",
    "abc = abc.split()\n",
    "reverseString = []\n",
    "abcLen = len(abc)-1\n",
    "for i in range(abcLen,0,-1):\n",
    "    reverseString.append(abc[i])\n",
    "    \n",
    "abc = \" \".join(reverseString)\n",
    "abc"
   ]
  },
  {
   "cell_type": "code",
   "execution_count": 17,
   "metadata": {},
   "outputs": [
    {
     "data": {
      "text/plain": [
       "'order the reverse to program Python a Write'"
      ]
     },
     "execution_count": 17,
     "metadata": {},
     "output_type": "execute_result"
    }
   ],
   "source": [
    "'''option 03'''\n",
    "abc = \"Write a Python program to reverse the order\"\n",
    "abc  =abc.split()\n",
    "abc = abc[::-1]\n",
    "abc = \" \".join(abc)\n",
    "abc"
   ]
  },
  {
   "cell_type": "code",
   "execution_count": 36,
   "metadata": {},
   "outputs": [
    {
     "name": "stdout",
     "output_type": "stream",
     "text": [
      "66\n",
      "12\n",
      "78.0\n",
      "12.0\n"
     ]
    }
   ],
   "source": [
    "'''31)38. Implement a function to find the missing number in a given list of consecutive numbers.'''\n",
    "\n",
    "l1 = [1,2,3,4,5,6,7,8,9,10,11]\n",
    "CurrentSum = sum(l1)\n",
    "print(CurrentSum)\n",
    "lenL1 = len(l1)+1\n",
    "print(lenL1)\n",
    "ActualSumShouldBe = lenL1*(lenL1+1)/2\n",
    "print(ActualSumShouldBe)\n",
    "missingElement = ActualSumShouldBe-CurrentSum\n",
    "print(missingElement)\n"
   ]
  },
  {
   "cell_type": "code",
   "execution_count": 51,
   "metadata": {},
   "outputs": [
    {
     "name": "stdout",
     "output_type": "stream",
     "text": [
      "7\n"
     ]
    }
   ],
   "source": [
    "'''32)39. Write a program to find the sum of the digits of a given number.'''\n",
    "num = 12211\n",
    "numlen = len(str(num))\n",
    "value = 0\n",
    "for i in range(numlen):\n",
    "    value = value + num%10 \n",
    "    num = num//10\n",
    "\n",
    "    \n",
    "print(value)"
   ]
  },
  {
   "cell_type": "code",
   "execution_count": 60,
   "metadata": {},
   "outputs": [
    {
     "data": {
      "text/plain": [
       "2"
      ]
     },
     "execution_count": 60,
     "metadata": {},
     "output_type": "execute_result"
    }
   ],
   "source": [
    "'''33)43. Write a program to find the number of occurrences of a given element in a list.'''\n",
    "'''Optiona 01'''\n",
    "l1 = [1,2,3,4,5,6,7,8,9,10,11,1]\n",
    "givenElement = 1\n",
    "l1.count(givenElement)\n"
   ]
  },
  {
   "cell_type": "code",
   "execution_count": 62,
   "metadata": {},
   "outputs": [
    {
     "name": "stdout",
     "output_type": "stream",
     "text": [
      "2\n"
     ]
    }
   ],
   "source": [
    "'''Optiona 02'''\n",
    "givenElement = 1\n",
    "l1.count(1)\n",
    "count = 0\n",
    "for i in l1:\n",
    "    if (givenElement==i):\n",
    "        count = count +1\n",
    "        \n",
    "        \n",
    "print(count)\n"
   ]
  },
  {
   "cell_type": "code",
   "execution_count": 66,
   "metadata": {},
   "outputs": [
    {
     "name": "stdout",
     "output_type": "stream",
     "text": [
      "yes it is a perfect Number\n"
     ]
    }
   ],
   "source": [
    "'''34)44. Implement a function to check if a given number is a perfect number.'''\n",
    "num = 6\n",
    "sum1 = 0\n",
    "for i in range(1,num):\n",
    "    if num%i == 0:\n",
    "        sum1 = sum1 +i\n",
    "        \n",
    "if sum1 == num:\n",
    "    print(\"yes it is a perfect Number\")\n",
    "else:\n",
    "    print(\"NO it is a perfect Number\")\n"
   ]
  },
  {
   "cell_type": "code",
   "execution_count": 77,
   "metadata": {},
   "outputs": [
    {
     "name": "stdout",
     "output_type": "stream",
     "text": [
      "1               No\n",
      "2               No\n",
      "3               No\n",
      "4               No\n",
      "5               No\n",
      "6 yes\n",
      "7               No\n",
      "8               No\n",
      "9               No\n",
      "10               No\n",
      "11               No\n",
      "12               No\n",
      "13               No\n",
      "14               No\n",
      "15               No\n",
      "16               No\n",
      "17               No\n",
      "18               No\n",
      "19               No\n",
      "20               No\n",
      "21               No\n",
      "22               No\n",
      "23               No\n",
      "24               No\n",
      "25               No\n",
      "26               No\n",
      "27               No\n",
      "28 yes\n",
      "29               No\n"
     ]
    }
   ],
   "source": [
    "num = 30\n",
    "sum1 = 0\n",
    "for i in range(1,num):\n",
    "    for j in range(1,i):\n",
    "        if i%j == 0:\n",
    "            sum1 = sum1 +j\n",
    "    if sum1 == i:\n",
    "        print(i,\"yes\")\n",
    "    else:\n",
    "        print(i,\"              No\")\n",
    "    sum1 = 0\n"
   ]
  },
  {
   "cell_type": "code",
   "execution_count": 80,
   "metadata": {},
   "outputs": [
    {
     "name": "stdout",
     "output_type": "stream",
     "text": [
      "abcd\n"
     ]
    }
   ],
   "source": [
    "'''35)45. Write a Python program to remove all duplicates from a string.'''\n",
    "\n",
    "s = \"aabbccdd\"\n",
    "s1 = ''\n",
    "\n",
    "for i in s:\n",
    "    if i not in s1:\n",
    "        s1 = s1 +i\n",
    "\n",
    "print(s1)\n"
   ]
  },
  {
   "cell_type": "code",
   "execution_count": 100,
   "metadata": {},
   "outputs": [
    {
     "name": "stdout",
     "output_type": "stream",
     "text": [
      "adf\n"
     ]
    }
   ],
   "source": [
    "'''Find Logest String'''\n",
    "input_string = \"r9adf45dffffff\"\n",
    "\n",
    "newsStr = \"\"\n",
    "longestStr = \"\"\n",
    "for i in input_string:\n",
    "    if i.isalpha():\n",
    "        newsStr = newsStr + i\n",
    "    else:\n",
    "        if len(newsStr) > len(longestStr):\n",
    "            longestStr = newsStr\n",
    "        newsStr = \"\"\n",
    "\n",
    "        \n",
    "print(longestStr)"
   ]
  },
  {
   "cell_type": "code",
   "execution_count": 107,
   "metadata": {},
   "outputs": [
    {
     "data": {
      "text/plain": [
       "19"
      ]
     },
     "execution_count": 107,
     "metadata": {},
     "output_type": "execute_result"
    }
   ],
   "source": [
    "'''Finand the postion of string'''\n",
    "abc = 'raje is not sakharam'\n",
    "\n",
    "abc.find(\"m\")\n",
    "abc.rfind(\"m\")\n",
    "abc.index(\"m\")"
   ]
  },
  {
   "cell_type": "code",
   "execution_count": 108,
   "metadata": {},
   "outputs": [
    {
     "data": {
      "text/plain": [
       "4"
      ]
     },
     "execution_count": 108,
     "metadata": {},
     "output_type": "execute_result"
    }
   ],
   "source": [
    "''' Write a program that takes a string as input, and counts the frequency of each word in the string, there might\n",
    "be repeated characters in the string. Your task is to find the highest frequency and returns the length of the\n",
    "highest-frequency word. '''\n",
    "\n",
    "abc = \"Write Write a program that takes takes takes\"\n",
    "\n",
    "abc = abc.split()\n",
    "\n",
    "dict1 ={}\n",
    "\n",
    "for i in abc:\n",
    "    if i in dict1:\n",
    "        dict1[i] = dict1[i] +1\n",
    "    else:\n",
    "        dict1[i] = 1\n",
    "\n",
    "len(max(dict1))\n",
    "\n",
    "print(is_valid_string(\"aabbcd\"))   # Output: YES (Remove 'c' to make all characters have the same frequency)\n",
    "print(is_valid_string(\"aabbccd\"))   # Output: YES (Remove 'c' to make all characters have the same frequency)\n",
    "print(is_valid_string(\"aabbcc\"))   # Output: YES (Remove any character to make all characters have the same frequency)\n",
    "print(is_valid_string(\"aabbccc\"))  # Output: NO (Removing any character won't make all characters have the same frequency)\n"
   ]
  },
  {
   "cell_type": "code",
   "execution_count": 149,
   "metadata": {},
   "outputs": [
    {
     "name": "stdout",
     "output_type": "stream",
     "text": [
      "dictOne {'a': 2, 'b': 2, 'c': 3}\n",
      "values [2, 2, 3]\n",
      "lenOfValues 2\n",
      "uniqueSet {2, 3}\n",
      "maxValue 3\n",
      "minValue 2\n",
      "MaxCount 1\n",
      "MinCount 2\n",
      "diff 1\n",
      "Yes!! we can remove the one char\n"
     ]
    }
   ],
   "source": [
    "'''Question 2: -\n",
    "Consider a string to be valid if all characters of the string appear the same number of times. It is also valid if\n",
    "he can remove just one character in the string, and the remaining characters will occur the same\n",
    "number of times. Given a string, determine if it is valid. If so, return YES , otherwise return NO . '''\n",
    "\n",
    "stringOne = \"aabbccc\"\n",
    "dictOne = {}\n",
    "for i in stringOne:\n",
    "    if i in dictOne:\n",
    "        dictOne[i] = dictOne[i]+1\n",
    "    else:\n",
    "        dictOne[i] = +1\n",
    "\n",
    "        \n",
    "values = list(dictOne.values())\n",
    "uniqueSet = set(values)\n",
    "lenOfValues = len(uniqueSet)\n",
    "maxValue = max(values)\n",
    "minValue = min(values)\n",
    "MaxCount = values.count(maxValue)\n",
    "MinCount = values.count(minValue)\n",
    "diff = maxValue - minValue\n",
    "\n",
    "print(\"dictOne\",dictOne)\n",
    "print(\"values\",values)\n",
    "print(\"lenOfValues\",lenOfValues)\n",
    "print(\"uniqueSet\",uniqueSet)\n",
    "print(\"maxValue\",maxValue)\n",
    "print(\"minValue\",minValue)\n",
    "print(\"MaxCount\",MaxCount)\n",
    "print(\"MinCount\",MinCount)\n",
    "print(\"diff\",diff)\n",
    "\n",
    "if lenOfValues ==1:\n",
    "    print(\"Yes!! All char are appearing at the same time\")\n",
    "    \n",
    "if lenOfValues==2 and  diff == 1 and MaxCount==1:\n",
    "    print(\"Yes!! we can remove the one char\")\n",
    "elif lenOfValues==2 and minValue==1 and MinCount==1:\n",
    "    print(\"Yes!! 1 char can be removed\")\n",
    "else:\n",
    "    print(\"No\")\n",
    "\n",
    "    \n",
    "    "
   ]
  },
  {
   "cell_type": "code",
   "execution_count": 154,
   "metadata": {},
   "outputs": [
    {
     "name": "stdout",
     "output_type": "stream",
     "text": [
      "\n",
      "* \n",
      "* * \n",
      "* * * \n",
      "* * * * \n",
      "* * * * * \n",
      "* * * * * * \n",
      "* * * * * * * \n",
      "* * * * * * * * \n"
     ]
    }
   ],
   "source": [
    "num = 10\n",
    "for i in range(1,10):\n",
    "    for j in range(1,i):\n",
    "        print(\"*\",end=\" \")\n",
    "    print()\n"
   ]
  },
  {
   "cell_type": "code",
   "execution_count": 155,
   "metadata": {},
   "outputs": [
    {
     "name": "stdout",
     "output_type": "stream",
     "text": [
      "* * * * * * * * * \n",
      "* * * * * * * * \n",
      "* * * * * * * \n",
      "* * * * * * \n",
      "* * * * * \n",
      "* * * * \n",
      "* * * \n",
      "* * \n",
      "* \n"
     ]
    }
   ],
   "source": [
    "num = 10\n",
    "for i in range(10,1,-1):\n",
    "    for j in range(i,1,-1):\n",
    "        print(\"*\",end=\" \")\n",
    "    print()\n"
   ]
  },
  {
   "cell_type": "code",
   "execution_count": 158,
   "metadata": {},
   "outputs": [
    {
     "name": "stdout",
     "output_type": "stream",
     "text": [
      "                \n",
      "              * \n",
      "            * * \n",
      "          * * * \n",
      "        * * * * \n",
      "      * * * * * \n",
      "    * * * * * * \n",
      "  * * * * * * * \n",
      "* * * * * * * * \n"
     ]
    }
   ],
   "source": [
    "num = 10\n",
    "for i in range(1,num):\n",
    "    for j in range(1,(num-i)):\n",
    "        print(\" \",end=\" \")\n",
    "    for k in range(1,i):\n",
    "        print(\"*\",end=\" \")\n",
    "    print()\n",
    "    \n",
    "    \n",
    "    \n",
    "    "
   ]
  },
  {
   "cell_type": "code",
   "execution_count": 2,
   "metadata": {},
   "outputs": [
    {
     "name": "stdout",
     "output_type": "stream",
     "text": [
      "<generator object genFunc at 0x00000228CADAE430>\n"
     ]
    }
   ],
   "source": [
    "'''Generators'''\n",
    "\n",
    "def genFunc():\n",
    "    for i in range(10):\n",
    "        yield i\n",
    "        \n",
    "gen = genFunc()\n",
    "print(gen)\n"
   ]
  },
  {
   "cell_type": "code",
   "execution_count": null,
   "metadata": {},
   "outputs": [],
   "source": [
    "for j in gen:\n",
    "    print(j)\n"
   ]
  },
  {
   "cell_type": "code",
   "execution_count": 8,
   "metadata": {},
   "outputs": [
    {
     "name": "stdout",
     "output_type": "stream",
     "text": [
      "5\n",
      "6\n",
      "7\n",
      "8\n",
      "9\n",
      "10\n"
     ]
    }
   ],
   "source": [
    "'''Generators'''\n",
    "\n",
    "\n",
    "def gen(a,b):\n",
    "    while a<=b:\n",
    "        yield a\n",
    "        a = a+1\n",
    "\n",
    "abc = gen(5,10)\n",
    "\n",
    "for i in abc:\n",
    "    print(i)"
   ]
  },
  {
   "cell_type": "code",
   "execution_count": 12,
   "metadata": {},
   "outputs": [
    {
     "data": {
      "text/plain": [
       "(1, 8, 27, 64, 125, 216)"
      ]
     },
     "execution_count": 12,
     "metadata": {},
     "output_type": "execute_result"
    }
   ],
   "source": [
    "'''MAP'''\n",
    "'''return cub of each element of the below list'''\n",
    "\n",
    "def cub(x):\n",
    "    return x*x*x\n",
    "\n",
    "\n",
    "list1 = [1,2,3,4,5,6]\n",
    "\n",
    "tuple(map(cub,list1))\n"
   ]
  },
  {
   "cell_type": "code",
   "execution_count": 16,
   "metadata": {},
   "outputs": [
    {
     "data": {
      "text/plain": [
       "[1, 8, 27, 64, 125, 216]"
      ]
     },
     "execution_count": 16,
     "metadata": {},
     "output_type": "execute_result"
    }
   ],
   "source": [
    "'''MAP'''\n",
    "'''convert below intems in to list, where each element should be int and same needs to done using map'''\n",
    "\n",
    "x = \"1,8,27,64,125,216\"\n",
    "x = x.split(\",\")\n",
    "\n",
    "list(map(int,x))\n"
   ]
  },
  {
   "cell_type": "code",
   "execution_count": 24,
   "metadata": {},
   "outputs": [
    {
     "data": {
      "text/plain": [
       "[3, 4, 5, 6]"
      ]
     },
     "execution_count": 24,
     "metadata": {},
     "output_type": "execute_result"
    }
   ],
   "source": [
    "'''filter'''\n",
    "'''print element which are greater than 2 using Reduce'''\n",
    "\n",
    "list1 = [1,2,3,4,5,6]\n",
    "\n",
    "def printvalue(x):\n",
    "    if x>2:\n",
    "        return x\n",
    "        \n",
    "list(filter(printvalue,list1))\n"
   ]
  },
  {
   "cell_type": "code",
   "execution_count": null,
   "metadata": {},
   "outputs": [],
   "source": [
    "'''print Number devicible by 2 '''\n",
    "\n",
    "l1 = [1,2,3,4,5,6]\n",
    "def NumberDevicibleby2(x):\n",
    "    if x%2==0:\n",
    "        return x\n",
    "    \n",
    "list(filter(NumberDevicibleby2,l1))\n"
   ]
  },
  {
   "cell_type": "code",
   "execution_count": 23,
   "metadata": {},
   "outputs": [
    {
     "name": "stdout",
     "output_type": "stream",
     "text": [
      "[]\n",
      "[]\n",
      "[]\n"
     ]
    }
   ],
   "source": [
    "\n",
    "str1 = \"ABC\"\n",
    "str1 = ['A','B','C']\n",
    "\n",
    "newStr = []\n",
    "\n",
    "for i in range(0,len(str1)):\n",
    "    print(newStr)\n"
   ]
  },
  {
   "cell_type": "code",
   "execution_count": 62,
   "metadata": {},
   "outputs": [
    {
     "ename": "TypeError",
     "evalue": "'<' not supported between instances of 'str' and 'int'",
     "output_type": "error",
     "traceback": [
      "\u001b[1;31m---------------------------------------------------------------------------\u001b[0m",
      "\u001b[1;31mTypeError\u001b[0m                                 Traceback (most recent call last)",
      "\u001b[1;32m<ipython-input-62-041b1382c1c0>\u001b[0m in \u001b[0;36m<module>\u001b[1;34m\u001b[0m\n\u001b[0;32m      1\u001b[0m \u001b[0mstr1\u001b[0m \u001b[1;33m=\u001b[0m \u001b[1;33m[\u001b[0m\u001b[1;34m'A'\u001b[0m\u001b[1;33m,\u001b[0m\u001b[1;34m'B'\u001b[0m\u001b[1;33m,\u001b[0m\u001b[1;34m'C'\u001b[0m\u001b[1;33m]\u001b[0m\u001b[1;33m\u001b[0m\u001b[1;33m\u001b[0m\u001b[0m\n\u001b[0;32m      2\u001b[0m \u001b[1;33m\u001b[0m\u001b[0m\n\u001b[1;32m----> 3\u001b[1;33m \u001b[1;32mwhile\u001b[0m \u001b[0mi\u001b[0m \u001b[1;33m<\u001b[0m \u001b[0mlen\u001b[0m\u001b[1;33m(\u001b[0m\u001b[0mstr1\u001b[0m\u001b[1;33m)\u001b[0m\u001b[1;33m-\u001b[0m\u001b[1;36m1\u001b[0m\u001b[1;33m:\u001b[0m\u001b[1;33m\u001b[0m\u001b[1;33m\u001b[0m\u001b[0m\n\u001b[0m\u001b[0;32m      4\u001b[0m     \u001b[0mstr1\u001b[0m\u001b[1;33m[\u001b[0m\u001b[0mi\u001b[0m\u001b[1;33m]\u001b[0m\u001b[1;33m,\u001b[0m\u001b[0mstr1\u001b[0m\u001b[1;33m[\u001b[0m\u001b[0mi\u001b[0m\u001b[1;33m+\u001b[0m\u001b[1;36m1\u001b[0m\u001b[1;33m]\u001b[0m \u001b[1;33m=\u001b[0m \u001b[0mstr1\u001b[0m\u001b[1;33m[\u001b[0m\u001b[0mi\u001b[0m\u001b[1;33m+\u001b[0m\u001b[1;36m1\u001b[0m\u001b[1;33m]\u001b[0m\u001b[1;33m,\u001b[0m\u001b[0mstr1\u001b[0m\u001b[1;33m[\u001b[0m\u001b[0mi\u001b[0m\u001b[1;33m]\u001b[0m\u001b[1;33m\u001b[0m\u001b[1;33m\u001b[0m\u001b[0m\n\u001b[0;32m      5\u001b[0m     \u001b[0mprint\u001b[0m\u001b[1;33m(\u001b[0m\u001b[0mstr1\u001b[0m\u001b[1;33m)\u001b[0m\u001b[1;33m\u001b[0m\u001b[1;33m\u001b[0m\u001b[0m\n",
      "\u001b[1;31mTypeError\u001b[0m: '<' not supported between instances of 'str' and 'int'"
     ]
    }
   ],
   "source": [
    "str1 = ['A','B','C']\n",
    "\n",
    "while i < len(str1)-1:\n",
    "    str1[i],str1[i+1] = str1[i+1],str1[i]\n",
    "    print(str1)\n",
    "    "
   ]
  },
  {
   "cell_type": "code",
   "execution_count": 59,
   "metadata": {},
   "outputs": [
    {
     "name": "stdout",
     "output_type": "stream",
     "text": [
      "[['A', 'B'], ['A', 'B']]\n",
      "A\n",
      "B\n",
      "A\n",
      "B\n"
     ]
    }
   ],
   "source": [
    "str1 = ['A','B']\n",
    "\n",
    "new = []\n",
    "\n",
    "for i in str1:\n",
    "    new.append(str1)\n",
    "print(new)\n",
    "    \n",
    "for j in new:\n",
    "    for k in j:\n",
    "        print(k)"
   ]
  },
  {
   "cell_type": "code",
   "execution_count": 71,
   "metadata": {},
   "outputs": [
    {
     "data": {
      "text/plain": [
       "'Not'"
      ]
     },
     "execution_count": 71,
     "metadata": {},
     "output_type": "execute_result"
    }
   ],
   "source": [
    "'''36)\tImplement a function to check if a given list is sorted in non-decreasing order.'''\n",
    "\n",
    "def checked(l1):\n",
    "    for i in range(0,len(sorted_list)-1):\n",
    "        if l1[i]>l1[i+1]:\n",
    "            return \"Not\"\n",
    "        return \"Yes\"\n",
    "\n",
    "        \n",
    "l1 = [1, 2, 3, 4, 5]\n",
    "l2 = [3, 1, 4, 2, 5]\n",
    "checked(l2)\n"
   ]
  },
  {
   "cell_type": "code",
   "execution_count": 75,
   "metadata": {},
   "outputs": [
    {
     "name": "stdout",
     "output_type": "stream",
     "text": [
      "6\n"
     ]
    }
   ],
   "source": [
    "'''Implement a function to find the maximum subarray sum in a given list.'''\n",
    "\n",
    "L2 = [4,-2,-3,4,-1,-2,1,5,-3]\n",
    "L1 = [-2,1,-3,4,-1,2,1,-5,4]\n",
    "\n",
    "\n",
    "maxValue = 0 \n",
    "maxEnd = 0\n",
    "\n",
    "for i in L1:\n",
    "    maxEnd = maxEnd + i\n",
    "    \n",
    "    if maxValue<maxEnd:\n",
    "        maxValue=maxEnd\n",
    "    if maxEnd<0:\n",
    "        maxEnd=0\n",
    "    \n",
    "print(maxValue)\n",
    "\n",
    "    "
   ]
  },
  {
   "cell_type": "code",
   "execution_count": null,
   "metadata": {},
   "outputs": [],
   "source": []
  },
  {
   "cell_type": "code",
   "execution_count": null,
   "metadata": {},
   "outputs": [],
   "source": []
  },
  {
   "cell_type": "code",
   "execution_count": null,
   "metadata": {},
   "outputs": [],
   "source": []
  },
  {
   "cell_type": "code",
   "execution_count": null,
   "metadata": {},
   "outputs": [],
   "source": []
  },
  {
   "cell_type": "code",
   "execution_count": null,
   "metadata": {},
   "outputs": [],
   "source": []
  },
  {
   "cell_type": "code",
   "execution_count": null,
   "metadata": {},
   "outputs": [],
   "source": []
  },
  {
   "cell_type": "code",
   "execution_count": null,
   "metadata": {},
   "outputs": [],
   "source": []
  },
  {
   "cell_type": "code",
   "execution_count": null,
   "metadata": {},
   "outputs": [],
   "source": []
  },
  {
   "cell_type": "code",
   "execution_count": null,
   "metadata": {},
   "outputs": [],
   "source": []
  },
  {
   "cell_type": "code",
   "execution_count": null,
   "metadata": {},
   "outputs": [],
   "source": []
  }
 ],
 "metadata": {
  "kernelspec": {
   "display_name": "Python 3",
   "language": "python",
   "name": "python3"
  },
  "language_info": {
   "codemirror_mode": {
    "name": "ipython",
    "version": 3
   },
   "file_extension": ".py",
   "mimetype": "text/x-python",
   "name": "python",
   "nbconvert_exporter": "python",
   "pygments_lexer": "ipython3",
   "version": "3.8.5"
  }
 },
 "nbformat": 4,
 "nbformat_minor": 4
}
