{
 "cells": [
  {
   "cell_type": "code",
   "execution_count": 6,
   "id": "5cc41702",
   "metadata": {},
   "outputs": [
    {
     "data": {
      "text/plain": [
       "'ecnetnes nevig a ni sdrow fo redro eht esrever ot noitcnuf a tnemelpmI'"
      ]
     },
     "execution_count": 6,
     "metadata": {},
     "output_type": "execute_result"
    }
   ],
   "source": [
    "'''1)Write a Python program to reverse a string without using any built-in string reversal functions.'''\n",
    "'''17)20. Implement a function to reverse the order of words in a given sentence.'''\n",
    "\n",
    "abc = \"Implement a function to reverse the order of words in a given sentence\"\n",
    "\n",
    "\"Option 01\"\n",
    "\n",
    "abc[::-1]\n"
   ]
  },
  {
   "cell_type": "code",
   "execution_count": 31,
   "id": "81aaa420",
   "metadata": {},
   "outputs": [
    {
     "name": "stdout",
     "output_type": "stream",
     "text": [
      "13\n"
     ]
    },
    {
     "data": {
      "text/plain": [
       "'sentence given a in words of order the reverse to function a Implement'"
      ]
     },
     "execution_count": 31,
     "metadata": {},
     "output_type": "execute_result"
    }
   ],
   "source": [
    "\"Option 02\"\n",
    "abc = \"Implement a function to reverse the order of words in a given sentence\"\n",
    "\n",
    "abc = abc.split()\n",
    "lenABC = len(abc)\n",
    "print(lenABC)\n",
    "revStrging = []\n",
    "\n",
    "for i in range(lenABC-1,-1,-1):\n",
    "    revStrging.append(abc[i])\n",
    "\n",
    "\" \".join(revStrging)"
   ]
  },
  {
   "cell_type": "code",
   "execution_count": 33,
   "id": "0c15eb84",
   "metadata": {},
   "outputs": [
    {
     "data": {
      "text/plain": [
       "'sentence given a in words of order the reverse to function a Implement '"
      ]
     },
     "execution_count": 33,
     "metadata": {},
     "output_type": "execute_result"
    }
   ],
   "source": [
    "\"Option 03\"\n",
    "abc = \"Implement a function to reverse the order of words in a given sentence\"\n",
    "\n",
    "abc = abc.split()\n",
    "newSTR = \"\"\n",
    "for i in abc:\n",
    "    newSTR = i + \" \" + newSTR\n",
    "\n",
    "newSTR"
   ]
  },
  {
   "cell_type": "code",
   "execution_count": 34,
   "id": "be95bee1",
   "metadata": {},
   "outputs": [
    {
     "name": "stdout",
     "output_type": "stream",
     "text": [
      "madam\n",
      "yes it is palindrome Number\n"
     ]
    }
   ],
   "source": [
    "'''2)Implement a function to check if a given string is a palindrome.'''\n",
    "\n",
    "'''option 01 using Loop'''\n",
    "word = \"madam\"\n",
    "newWord = \"\"\n",
    "for i in word:\n",
    "    newWord = i +newWord\n",
    "    \n",
    "print(newWord)\n",
    "if newWord == word:\n",
    "    print(\"yes it is palindrome Number\")\n",
    "else:\n",
    "    print(\"No it is not\")"
   ]
  },
  {
   "cell_type": "code",
   "execution_count": 35,
   "id": "10d0a546",
   "metadata": {},
   "outputs": [
    {
     "name": "stdout",
     "output_type": "stream",
     "text": [
      "Amadam\n",
      "No it is not\n"
     ]
    }
   ],
   "source": [
    "'''Using slicing'''\n",
    "word = \"madamA\"\n",
    "newWord = word[::-1]\n",
    "print(newWord)\n",
    "if newWord == word:\n",
    "    print(\"yes it is palindrome Number\")\n",
    "else:\n",
    "    print(\"No it is not\")"
   ]
  },
  {
   "cell_type": "code",
   "execution_count": 41,
   "id": "3cb48e9a",
   "metadata": {},
   "outputs": [
    {
     "data": {
      "text/plain": [
       "100001"
      ]
     },
     "execution_count": 41,
     "metadata": {},
     "output_type": "execute_result"
    }
   ],
   "source": [
    "'''3)Write a program to find the largest element in a given list.'''\n",
    "\n",
    "list1 = [1000, 39,  20, 400,100001]\n",
    "largeElement = list1[0]\n",
    "for i in list1:\n",
    "    if i > largeElement:\n",
    "        largeElement = i\n",
    "        \n",
    "largeElement"
   ]
  },
  {
   "cell_type": "code",
   "execution_count": 42,
   "id": "e4b1a357",
   "metadata": {},
   "outputs": [
    {
     "data": {
      "text/plain": [
       "20"
      ]
     },
     "execution_count": 42,
     "metadata": {},
     "output_type": "execute_result"
    }
   ],
   "source": [
    "'''4)Write a program to find the smallest element in a given list.'''\n",
    "list1 = [1000, 39,  20, 400,100001]\n",
    "smallestElement = list1[0]\n",
    "for i in list1:\n",
    "    if i < smallestElement:\n",
    "        smallestElement = i\n",
    "        \n",
    "smallestElement"
   ]
  },
  {
   "cell_type": "code",
   "execution_count": 48,
   "id": "41c6d1b9",
   "metadata": {},
   "outputs": [
    {
     "data": {
      "text/plain": [
       "38"
      ]
     },
     "execution_count": 48,
     "metadata": {},
     "output_type": "execute_result"
    }
   ],
   "source": [
    "'''5)Write a Python program to find the second largest number in a list.'''\n",
    "\n",
    "list1 = [10, 39, 11, 2, 38]\n",
    "largestElement = list1[0]\n",
    "secondLargestElement = list1[0]\n",
    "for i in list1:\n",
    "    if i > largestElement:\n",
    "        largestElement = i\n",
    "    \n",
    "for i in list1:\n",
    "    if i > secondLargestElement and i < largestElement: \n",
    "        secondLargestElement = i\n",
    "        \n",
    "secondLargestElement        "
   ]
  },
  {
   "cell_type": "code",
   "execution_count": 53,
   "id": "0f3a216a",
   "metadata": {},
   "outputs": [
    {
     "data": {
      "text/plain": [
       "['Implement', 'a', 'function', 'to', 'count', 'the']"
      ]
     },
     "execution_count": 53,
     "metadata": {},
     "output_type": "execute_result"
    }
   ],
   "source": [
    "'''6)Implement a function to remove duplicate elements from a list.'''\n",
    "\n",
    "'''option 01 Using Set'''\n",
    "\n",
    "abc = ['Implement','Implement', 'a', 'function', 'to', 'count', 'the', 'to', 'count', 'the']\n",
    "newList=[]\n",
    "for i in abc:\n",
    "    if i not in newList:\n",
    "       newList.append(i) \n",
    "\n",
    "newList"
   ]
  },
  {
   "cell_type": "code",
   "execution_count": 56,
   "id": "1996cbc6",
   "metadata": {},
   "outputs": [
    {
     "data": {
      "text/plain": [
       "'Implement Implement a function to count the to count the'"
      ]
     },
     "execution_count": 56,
     "metadata": {},
     "output_type": "execute_result"
    }
   ],
   "source": [
    "'''option 01 Using Set'''\n",
    "\n",
    "abc = ['Implement','Implement', 'a', 'function', 'to', 'count', 'the', 'to', 'count', 'the']\n",
    "set(abc)\n",
    "abc = \" \".join(abc)\n",
    "abc"
   ]
  },
  {
   "cell_type": "code",
   "execution_count": 57,
   "id": "71fb313e",
   "metadata": {},
   "outputs": [
    {
     "data": {
      "text/plain": [
       "dict_keys(['Implement', 'a', 'function', 'to', 'count', 'the'])"
      ]
     },
     "execution_count": 57,
     "metadata": {},
     "output_type": "execute_result"
    }
   ],
   "source": [
    "'''option 03 Using Loop and Dict'''\n",
    "abc = ['Implement','Implement', 'a', 'function', 'to', 'count', 'the', 'to', 'count', 'the']\n",
    "newDict= {}\n",
    "\n",
    "for i in abc:\n",
    "    if i in newDict:\n",
    "        newDict[i] = newDict[i] + 1\n",
    "    else:\n",
    "        newDict[i] =  1\n",
    "\n",
    "newDict.keys()\n"
   ]
  },
  {
   "cell_type": "code",
   "execution_count": 64,
   "id": "b2a7c9f3",
   "metadata": {},
   "outputs": [
    {
     "data": {
      "text/plain": [
       "3628800"
      ]
     },
     "execution_count": 64,
     "metadata": {},
     "output_type": "execute_result"
    }
   ],
   "source": [
    "'''7)Write a program to calculate the factorial of a given number.'''\n",
    "num1 = 10\n",
    "factNum = 1\n",
    "\n",
    "for i in range(1,num1+1):\n",
    "    factNum = i * factNum\n",
    "    \n",
    "factNum"
   ]
  },
  {
   "cell_type": "code",
   "execution_count": 71,
   "id": "b9ff784b",
   "metadata": {},
   "outputs": [
    {
     "name": "stdout",
     "output_type": "stream",
     "text": [
      "NO it is NOT a prime Number\n"
     ]
    }
   ],
   "source": [
    "'''8)Implement a function to check if a given number is prime.'''\n",
    "'''if a number is devisible by 1 and itsel is caled prime Number'''\n",
    "num = 4\n",
    "count = 0\n",
    "\n",
    "for i in range(1,num+1):\n",
    "    if num%i==0:\n",
    "        count = count + 1\n",
    "    if count>=3:\n",
    "        break\n",
    "        \n",
    "if count==2:\n",
    "    print(\"yes it is a prime Number\")\n",
    "else:\n",
    "    print(\"NO it is NOT a prime Number\")"
   ]
  },
  {
   "cell_type": "code",
   "execution_count": 72,
   "id": "d4ddb1ac",
   "metadata": {},
   "outputs": [
    {
     "data": {
      "text/plain": [
       "[10, 20, 39, 40, 50, 51, 100]"
      ]
     },
     "execution_count": 72,
     "metadata": {},
     "output_type": "execute_result"
    }
   ],
   "source": [
    "'''9)Write a Python program to sort a list of integers in ascending order.'''\n",
    "'Option 01 using in build Function'\n",
    "abc = [51,10,39,100,20,50,40]\n",
    "\n",
    "sorted(abc)"
   ]
  },
  {
   "cell_type": "code",
   "execution_count": 73,
   "id": "712aa0f5",
   "metadata": {},
   "outputs": [
    {
     "data": {
      "text/plain": [
       "310"
      ]
     },
     "execution_count": 73,
     "metadata": {},
     "output_type": "execute_result"
    }
   ],
   "source": [
    "'''10)Implement a function to find the sum of all numbers in a list.'''\n",
    "\n",
    "'Option One'\n",
    "abc = [51,10,39,100,20,50,40]\n",
    "\n",
    "sum(abc)\n"
   ]
  },
  {
   "cell_type": "code",
   "execution_count": 74,
   "id": "30870b49",
   "metadata": {},
   "outputs": [
    {
     "name": "stdout",
     "output_type": "stream",
     "text": [
      "310\n"
     ]
    }
   ],
   "source": [
    "'Option 02'\n",
    "abc = [51,10,39,100,20,50,40]\n",
    "newSum = 0\n",
    "for i in abc:\n",
    "    newSum = i+newSum\n",
    "print(newSum)"
   ]
  },
  {
   "cell_type": "code",
   "execution_count": 76,
   "id": "3346bdb8",
   "metadata": {},
   "outputs": [
    {
     "data": {
      "text/plain": [
       "[4, 8]"
      ]
     },
     "execution_count": 76,
     "metadata": {},
     "output_type": "execute_result"
    }
   ],
   "source": [
    "'''11)Write a program to find the common elements between two lists.'''\n",
    "'''17. Write a Python program to find the intersection(commong element from two list) of two lists.'''\n",
    "\n",
    "list1 = [1,2,4,8]\n",
    "list2 = [4,8,5,10]\n",
    "list3 = []\n",
    "\n",
    "\n",
    "for i in list1:\n",
    "    if i in list2:\n",
    "        list3.append(i)\n",
    "        \n",
    "        \n",
    "list3"
   ]
  },
  {
   "cell_type": "code",
   "execution_count": 79,
   "id": "f2e4d47a",
   "metadata": {},
   "outputs": [
    {
     "name": "stdout",
     "output_type": "stream",
     "text": [
      "anagram string\n"
     ]
    }
   ],
   "source": [
    "'''12)Implement a function to check if a given string is an anagram of another string.'''\n",
    "'''if sorted string match with each other'''\n",
    "\n",
    "\n",
    "s1 = \"heart\"\n",
    "s2 = \"earth\"\n",
    "s1 = sorted(s1)\n",
    "s2 = sorted(s2)\n",
    "\n",
    "if s1 == s2:\n",
    "    print(\"anagram string\")\n",
    "else:\n",
    "    print(\"Not anagram string\")\n"
   ]
  },
  {
   "cell_type": "code",
   "execution_count": 90,
   "id": "ebffdc02",
   "metadata": {},
   "outputs": [
    {
     "name": "stdout",
     "output_type": "stream",
     "text": [
      "1\n",
      "1\n",
      "2\n",
      "3\n",
      "5\n",
      "8\n",
      "13\n",
      "21\n",
      "34\n",
      "55\n"
     ]
    }
   ],
   "source": [
    "'''13)Implement a function to calculate the Fibonacci sequence up to a given number of terms.'''\n",
    "num =10 \n",
    "num1 = 1\n",
    "num2 = 0\n",
    "\n",
    "for i in range(0,num):\n",
    "    num3 = num1 + num2\n",
    "    num1 = num2\n",
    "    num2 = num3\n",
    "    print(num3)"
   ]
  },
  {
   "cell_type": "code",
   "execution_count": 91,
   "id": "14f44073",
   "metadata": {},
   "outputs": [
    {
     "name": "stdout",
     "output_type": "stream",
     "text": [
      "[10, 20, 39, 40, 50, 51, 100, 101]\n",
      "45.0\n"
     ]
    },
    {
     "data": {
      "text/plain": [
       "''"
      ]
     },
     "execution_count": 91,
     "metadata": {},
     "output_type": "execute_result"
    }
   ],
   "source": [
    "'''14)Write a program to find the median of a list of numbers.'''\n",
    "abc = [51,10,39,100,20,50,40,101]\n",
    "\n",
    "abc = sorted(abc)\n",
    "\n",
    "print(abc)\n",
    "\n",
    "\n",
    "if len(abc)%2 != 0:\n",
    "    print(abc[len(abc)//2])\n",
    "else:\n",
    "    print((abc[len(abc)//2-1] + abc[len(abc)//2])/2)\n",
    "\n",
    "''''''"
   ]
  },
  {
   "cell_type": "code",
   "execution_count": 92,
   "id": "8b5d516e",
   "metadata": {},
   "outputs": [
    {
     "data": {
      "text/plain": [
       "'Wrt  prgrm t rmv ll vwls frm  gvn strng'"
      ]
     },
     "execution_count": 92,
     "metadata": {},
     "output_type": "execute_result"
    }
   ],
   "source": [
    "'''16)19. Write a program to remove all vowels from a given string.'''\n",
    "\n",
    "vov = \"aeiouAEIOU\"\n",
    "oneString = \"Write a program to remove all vowels from a given string\"\n",
    "newStr = \"\"\n",
    "\n",
    "for i in oneString:\n",
    "    if i in vov:\n",
    "        oneString = oneString.replace(i,\"\")\n",
    "        \n",
    "oneString"
   ]
  },
  {
   "cell_type": "code",
   "execution_count": 96,
   "id": "149aecb5",
   "metadata": {},
   "outputs": [
    {
     "ename": "KeyboardInterrupt",
     "evalue": "",
     "output_type": "error",
     "traceback": [
      "\u001b[1;31m---------------------------------------------------------------------------\u001b[0m",
      "\u001b[1;31mKeyboardInterrupt\u001b[0m                         Traceback (most recent call last)",
      "Cell \u001b[1;32mIn[96], line 6\u001b[0m\n\u001b[0;32m      2\u001b[0m num\u001b[38;5;241m=\u001b[39m\u001b[38;5;241m6\u001b[39m\n\u001b[0;32m      3\u001b[0m num1\u001b[38;5;241m=\u001b[39mnum\n\u001b[1;32m----> 6\u001b[0m \u001b[38;5;28;01mwhile\u001b[39;00m num1 \u001b[38;5;241m>\u001b[39m \u001b[38;5;241m1\u001b[39m \u001b[38;5;129;01mand\u001b[39;00m num1\u001b[38;5;241m%\u001b[39m\u001b[38;5;241m2\u001b[39m\u001b[38;5;241m==\u001b[39m\u001b[38;5;241m0\u001b[39m:\n\u001b[0;32m      7\u001b[0m     num1\u001b[38;5;241m/\u001b[39m\u001b[38;5;241m/\u001b[39m\u001b[38;5;241m2\u001b[39m\n\u001b[0;32m      9\u001b[0m \u001b[38;5;28;01mif\u001b[39;00m num1\u001b[38;5;241m==\u001b[39m\u001b[38;5;241m1\u001b[39m:\n",
      "\u001b[1;31mKeyboardInterrupt\u001b[0m: "
     ]
    }
   ],
   "source": [
    "'''21)24. Implement a function to check if a given number is a power of two.'''\n",
    "num=6\n",
    "num1=num\n",
    "\n",
    "\n",
    "while num1 > 1 and num1%2==0:\n",
    "    num1//2\n",
    "    \n",
    "if num1==1:\n",
    "    print(num1,\" : is power of 2\")\n",
    "else:\n",
    "    print(num1,\" : is NOT power of 2\")\n",
    "    \n"
   ]
  },
  {
   "cell_type": "code",
   "execution_count": 6,
   "id": "f5557a4c",
   "metadata": {},
   "outputs": [
    {
     "name": "stdout",
     "output_type": "stream",
     "text": [
      "its not\n"
     ]
    }
   ],
   "source": [
    "'''28)35. Write a program to check if a given number is a perfect square.'''\n",
    "num=6\n",
    "flag = 0\n",
    "\n",
    "for i in range(1,num+1):\n",
    "    if i*i==num:\n",
    "        print(\"it is a perfect Square\")\n",
    "        break\n",
    "else:\n",
    "    print(\"its not\")\n"
   ]
  },
  {
   "cell_type": "code",
   "execution_count": 14,
   "id": "0c5eb00d",
   "metadata": {},
   "outputs": [
    {
     "name": "stdout",
     "output_type": "stream",
     "text": [
      "10\n"
     ]
    }
   ],
   "source": [
    "'''23)27. Write a program to find the greatest common divisor (GCD) of two numbers.'''\n",
    "num1 =20\n",
    "num2 = 30\n",
    "bigNumber = 0\n",
    "\n",
    "if num1>num2:\n",
    "    bigNumber=num1\n",
    "else:\n",
    "    bigNumber=num2\n",
    "\n",
    "for i in range(bigNumber,-1,-1):\n",
    "    if num1%i==0 and num2%i==0:\n",
    "        break\n",
    "print(i)        "
   ]
  },
  {
   "cell_type": "code",
   "execution_count": 15,
   "id": "8560347e",
   "metadata": {},
   "outputs": [
    {
     "data": {
      "text/plain": [
       "2.449489742783178"
      ]
     },
     "execution_count": 15,
     "metadata": {},
     "output_type": "execute_result"
    }
   ],
   "source": [
    "'''24)28. Implement a function to calculate the square root of a given number.'''\n",
    "'''Option 01'''\n",
    "\n",
    "import math as m\n",
    "num1 =16\n",
    "m.sqrt(num)\n"
   ]
  },
  {
   "cell_type": "code",
   "execution_count": 16,
   "id": "bc03123e",
   "metadata": {},
   "outputs": [
    {
     "data": {
      "text/plain": [
       "4.0"
      ]
     },
     "execution_count": 16,
     "metadata": {},
     "output_type": "execute_result"
    }
   ],
   "source": [
    "'''Option 02'''\n",
    "num1 =16\n",
    "\n",
    "num1**0.5"
   ]
  },
  {
   "cell_type": "code",
   "execution_count": 17,
   "id": "57567c70",
   "metadata": {},
   "outputs": [
    {
     "name": "stdout",
     "output_type": "stream",
     "text": [
      "10\n"
     ]
    }
   ],
   "source": [
    "'''25)\t31. Write a program to find the sum of all even numbers in a list.'''\n",
    "l1 = [2,1,2,4,2]\n",
    "newSum = 0\n",
    "\n",
    "for i in l1:\n",
    "    if i%2==0:\n",
    "        newSum = i + newSum\n",
    "    \n",
    "print(newSum)"
   ]
  },
  {
   "cell_type": "code",
   "execution_count": 18,
   "id": "bf057d9e",
   "metadata": {},
   "outputs": [
    {
     "name": "stdout",
     "output_type": "stream",
     "text": [
      "40320\n"
     ]
    }
   ],
   "source": [
    "\n",
    "'''29)36. Implement a function to calculate the product of all elements in a list.'''\n",
    "list1 = [1, 2, 3, 14, 6, 8, 10]\n",
    "productOfAll = 1\n",
    "for i in list1:\n",
    "    productOfAll = i * productOfAll\n",
    "    \n",
    "print(productOfAll)\n"
   ]
  },
  {
   "cell_type": "code",
   "execution_count": 21,
   "id": "163b3b86",
   "metadata": {},
   "outputs": [
    {
     "data": {
      "text/plain": [
       "3"
      ]
     },
     "execution_count": 21,
     "metadata": {},
     "output_type": "execute_result"
    }
   ],
   "source": [
    "'''32)39. Write a program to find the sum of the digits of a given number.'''\n",
    "'''option One'''\n",
    "num1 = 111\n",
    "num2 = str(111)\n",
    "sumOne = 0\n",
    "\n",
    "for i in num2:\n",
    "    sumOne = int(i)+sumOne\n",
    "    \n",
    "sumOne"
   ]
  },
  {
   "cell_type": "code",
   "execution_count": 35,
   "id": "d6446f00",
   "metadata": {},
   "outputs": [
    {
     "name": "stdout",
     "output_type": "stream",
     "text": [
      "9\n"
     ]
    }
   ],
   "source": [
    "'''option Two'''\n",
    "num1 = 123\n",
    "num2 = str(num1)\n",
    "sumOne = 0\n",
    "\n",
    "for i in range(len(num2)):\n",
    "    sumOne = num1%10 + sumOne\n",
    "    num1//10\n",
    "    \n",
    "print(sumOne)"
   ]
  },
  {
   "cell_type": "code",
   "execution_count": 36,
   "id": "30893f20",
   "metadata": {},
   "outputs": [
    {
     "data": {
      "text/plain": [
       "2"
      ]
     },
     "execution_count": 36,
     "metadata": {},
     "output_type": "execute_result"
    }
   ],
   "source": [
    "'''33)43. Write a program to find the number of occurrences of a given element in a list.'''\n",
    "'''Optiona 01'''\n",
    "l1 = [1,2,3,4,5,6,7,8,9,10,11,1]\n",
    "num = 1\n",
    "\n",
    "l1.count(num)"
   ]
  },
  {
   "cell_type": "code",
   "execution_count": 37,
   "id": "0b556630",
   "metadata": {},
   "outputs": [
    {
     "name": "stdout",
     "output_type": "stream",
     "text": [
      "2\n"
     ]
    }
   ],
   "source": [
    "'''Optiona 01'''\n",
    "l1 = [1,2,3,4,5,6,7,8,9,10,11,1]\n",
    "num = 1\n",
    "count=0\n",
    "for i in l1:\n",
    "    if i==num:\n",
    "        count = count+1\n",
    "    \n",
    "    \n",
    "print(count)\n"
   ]
  },
  {
   "cell_type": "code",
   "execution_count": 4,
   "id": "f59a043b",
   "metadata": {},
   "outputs": [
    {
     "name": "stdout",
     "output_type": "stream",
     "text": [
      "7 NO\n"
     ]
    }
   ],
   "source": [
    "'''34)44. Implement a function to check if a given number is a perfect number.'''\n",
    "\n",
    "num = 8\n",
    "sum1 = 0\n",
    "\n",
    "for i in range(1,num):\n",
    "    if num%i==0:\n",
    "        sum1 = i + sum1\n",
    "        \n",
    "        \n",
    "if sum1==num:\n",
    "    print(sum1,\"YES\")\n",
    "else:\n",
    "    print(sum1,\"NO\")\n",
    "    "
   ]
  },
  {
   "cell_type": "code",
   "execution_count": 7,
   "id": "4c27bde4",
   "metadata": {},
   "outputs": [
    {
     "data": {
      "text/plain": [
       "['a', 'b', 'c', 'd']"
      ]
     },
     "execution_count": 7,
     "metadata": {},
     "output_type": "execute_result"
    }
   ],
   "source": [
    "'''35)45. Write a Python program to remove all duplicates from a string.'''\n",
    "\n",
    "'''Option 01 Using List'''\n",
    "s = \"aabbccdd\"\n",
    "newList = []\n",
    "\n",
    "for i in s:\n",
    "    if i not in newList:\n",
    "        newList.append(i)\n",
    "        \n",
    "        \n",
    "newList"
   ]
  },
  {
   "cell_type": "code",
   "execution_count": 12,
   "id": "700572ce",
   "metadata": {},
   "outputs": [
    {
     "data": {
      "text/plain": [
       "'dcba'"
      ]
     },
     "execution_count": 12,
     "metadata": {},
     "output_type": "execute_result"
    }
   ],
   "source": [
    "'''Option 02 Using stirng'''\n",
    "s = \"aabbccdd\"\n",
    "newStr = \"\"\n",
    "for i in s:\n",
    "    if i not in newStr:\n",
    "        newStr=i+newStr\n",
    "        \n",
    "newStr"
   ]
  },
  {
   "cell_type": "code",
   "execution_count": 39,
   "id": "29a6ffe8",
   "metadata": {},
   "outputs": [
    {
     "name": "stdout",
     "output_type": "stream",
     "text": [
      "addddddd\n"
     ]
    }
   ],
   "source": [
    "'''Find Logest String'''\n",
    "input_string = \"rdddddd9add45ddddd9\"\n",
    "str1 = \"\" \n",
    "str2 = \"\"\n",
    "\n",
    "for i in input_string:\n",
    "    if i.isalpha():\n",
    "        str1 = str1+i\n",
    "    elif i.isnumeric():\n",
    "        if len(str1) > len(str2):\n",
    "            str2=str1 \n",
    "            str1 = \"\"\n",
    "\n",
    "if len(str1) > len(str2):\n",
    "        str2=str1 \n",
    "        \n",
    "print(str2)"
   ]
  },
  {
   "cell_type": "code",
   "execution_count": 40,
   "id": "3a134273",
   "metadata": {},
   "outputs": [
    {
     "data": {
      "text/plain": [
       "11"
      ]
     },
     "execution_count": 40,
     "metadata": {},
     "output_type": "execute_result"
    }
   ],
   "source": [
    "'''Finand the postion of string'''\n",
    "abc = 'Finand the postion of string'\n",
    "abc.find('F')\n",
    "abc.rfind('p')\n",
    "abc.find('p')\n"
   ]
  },
  {
   "cell_type": "code",
   "execution_count": 61,
   "id": "16955e41",
   "metadata": {},
   "outputs": [
    {
     "name": "stdout",
     "output_type": "stream",
     "text": [
      "{'Write': 2, 'a': 1, 'program': 1, 'that': 1, 'takes': 3}\n",
      "takes 3\n",
      "5\n",
      "takes\n"
     ]
    }
   ],
   "source": [
    "''' Write a program that takes a string as input, and counts the frequency of each word in the string, there might\n",
    "be repeated characters in the string. Your task is to find the highest frequency and returns the length of the\n",
    "highest-frequency word. '''\n",
    "\n",
    "abc = \"Write Write a program that takes takes takes\"\n",
    "abc =abc.split()\n",
    "newDict = {}\n",
    "\n",
    "for i in abc:\n",
    "    if i in newDict:\n",
    "        newDict[i] = newDict[i] +1\n",
    "    else:\n",
    "        newDict[i] = + 1\n",
    "\n",
    "    \n",
    "print(newDict)\n",
    "maxCount = max(newDict.values())\n",
    "for key,value in newDict.items():\n",
    "    if maxCount == value:\n",
    "        print(key,value)\n",
    "        print(len(key))\n",
    "        \n",
    "        \n",
    "print(max(newDict,key=newDict.get))\n"
   ]
  },
  {
   "cell_type": "code",
   "execution_count": 54,
   "id": "dab9fc0c",
   "metadata": {},
   "outputs": [
    {
     "data": {
      "text/plain": [
       "{'Write': 2, 'a': 1, 'program': 1, 'that': 1, 'takes': 3}"
      ]
     },
     "execution_count": 54,
     "metadata": {},
     "output_type": "execute_result"
    }
   ],
   "source": [
    "newDict"
   ]
  },
  {
   "cell_type": "code",
   "execution_count": 63,
   "id": "ae785b5a",
   "metadata": {},
   "outputs": [
    {
     "name": "stdout",
     "output_type": "stream",
     "text": [
      "yes only one char Extra\n"
     ]
    }
   ],
   "source": [
    "'''Question 2: -\n",
    "Consider a string to be valid if all characters of the string appear the same number of times. \n",
    "It is also valid if you remove just one character in the string, and the remaining characters will occur the same\n",
    "number of times. Given a string, determine if it is valid. If so, return YES , otherwise return NO . '''\n",
    "\n",
    "stringOne = \"aabbccc\"\n",
    "\n",
    "newDict = {}\n",
    "\n",
    "for i in stringOne:\n",
    "    if i not in newDict:\n",
    "        newDict[i] = +1\n",
    "    elif i in newDict:\n",
    "        newDict[i] = newDict[i] +1\n",
    "\n",
    "newDict\n",
    "\n",
    "maxValue = max(newDict.values())\n",
    "countOfMaxValue = list(newDict.values()).count(maxValue)\n",
    "minValue = min(newDict.values())\n",
    "countOfminValue = list(newDict.values()).count(minValue)\n",
    "lenOfStr = len(newDict.values())\n",
    "uniqeValues= len(set(newDict.values()))\n",
    "\n",
    "if uniqeValues == 1:\n",
    "    print(\"yes only same char\")\n",
    "elif uniqeValues == 2 and countOfMaxValue==1 and maxValue-minValue ==1:\n",
    "    print(\"yes only one char Extra\")\n",
    "elif uniqeValues == 2 and countOfminValue==1 and maxValue-minValue ==1:\n",
    "    print(\"yes only one char Extra x\")\n",
    "else:\n",
    "    print(\"NO\")\n",
    "\n",
    "    \n"
   ]
  },
  {
   "cell_type": "code",
   "execution_count": 68,
   "id": "2864cd4d",
   "metadata": {},
   "outputs": [
    {
     "data": {
      "text/plain": [
       "[1, 4, 27, 256, 3125, 46656]"
      ]
     },
     "execution_count": 68,
     "metadata": {},
     "output_type": "execute_result"
    }
   ],
   "source": [
    "'''MAP'''\n",
    "'''return cub of each element of the below list'''\n",
    "\n",
    "list1 = [1,2,3,4,5,6]\n",
    "\n",
    "def cube(x):\n",
    "    return x**x\n",
    "\n",
    "\n",
    "list(map(cube,list1))"
   ]
  },
  {
   "cell_type": "code",
   "execution_count": 70,
   "id": "fd893397",
   "metadata": {},
   "outputs": [
    {
     "data": {
      "text/plain": [
       "[2, 4, 6]"
      ]
     },
     "execution_count": 70,
     "metadata": {},
     "output_type": "execute_result"
    }
   ],
   "source": [
    "'''filter'''\n",
    "'''print square of only those element which are devisible by 2'''\n",
    "\n",
    "list1 = [1,2,3,4,5,6]\n",
    "\n",
    "def devide(x):\n",
    "    if x%2==0:\n",
    "        return x*2\n",
    "list(filter(devide,list1))"
   ]
  },
  {
   "cell_type": "code",
   "execution_count": 71,
   "id": "1b3ca91d",
   "metadata": {},
   "outputs": [
    {
     "data": {
      "text/plain": [
       "[2, 4, 6]"
      ]
     },
     "execution_count": 71,
     "metadata": {},
     "output_type": "execute_result"
    }
   ],
   "source": [
    "'''reduce'''\n",
    "'''print only those element which are devisible by 2'''\n",
    "\n",
    "from functools import reduce\n",
    "\n",
    "list1 = [1, 2, 3, 4, 5, 6]\n",
    "\n",
    "\n",
    "def divBy2(x,y):\n",
    "    if y % 2 == 0:\n",
    "        x.append(y) \n",
    "    return x\n",
    "reduce(divBy2,list1,[])"
   ]
  },
  {
   "cell_type": "code",
   "execution_count": 72,
   "id": "52c0ecf3",
   "metadata": {},
   "outputs": [
    {
     "data": {
      "text/plain": [
       "21"
      ]
     },
     "execution_count": 72,
     "metadata": {},
     "output_type": "execute_result"
    }
   ],
   "source": [
    "'''Reduce'''\n",
    "'''Print sum of all the element'''\n",
    "list1 = [1, 2, 3, 4, 5, 6]\n",
    "\n",
    "def addAll(a,b):\n",
    "    c = a+b\n",
    "    return c\n",
    "\n",
    "reduce(addAll,list1)\n"
   ]
  },
  {
   "cell_type": "code",
   "execution_count": null,
   "id": "6d5cba7c",
   "metadata": {},
   "outputs": [],
   "source": []
  },
  {
   "cell_type": "code",
   "execution_count": null,
   "id": "2b40d1e8",
   "metadata": {},
   "outputs": [],
   "source": []
  },
  {
   "cell_type": "code",
   "execution_count": null,
   "id": "8cf50d67",
   "metadata": {},
   "outputs": [],
   "source": []
  },
  {
   "cell_type": "code",
   "execution_count": null,
   "id": "dfbb0930",
   "metadata": {},
   "outputs": [],
   "source": []
  },
  {
   "cell_type": "code",
   "execution_count": null,
   "id": "45970e01",
   "metadata": {},
   "outputs": [],
   "source": []
  },
  {
   "cell_type": "code",
   "execution_count": null,
   "id": "d32056a6",
   "metadata": {},
   "outputs": [],
   "source": []
  },
  {
   "cell_type": "code",
   "execution_count": null,
   "id": "e9cbd386",
   "metadata": {},
   "outputs": [],
   "source": []
  },
  {
   "cell_type": "code",
   "execution_count": null,
   "id": "c394d12a",
   "metadata": {},
   "outputs": [],
   "source": []
  },
  {
   "cell_type": "code",
   "execution_count": null,
   "id": "1f40155f",
   "metadata": {},
   "outputs": [],
   "source": []
  },
  {
   "cell_type": "code",
   "execution_count": null,
   "id": "89747139",
   "metadata": {},
   "outputs": [],
   "source": []
  }
 ],
 "metadata": {
  "kernelspec": {
   "display_name": "Python 3 (ipykernel)",
   "language": "python",
   "name": "python3"
  },
  "language_info": {
   "codemirror_mode": {
    "name": "ipython",
    "version": 3
   },
   "file_extension": ".py",
   "mimetype": "text/x-python",
   "name": "python",
   "nbconvert_exporter": "python",
   "pygments_lexer": "ipython3",
   "version": "3.11.5"
  }
 },
 "nbformat": 4,
 "nbformat_minor": 5
}
