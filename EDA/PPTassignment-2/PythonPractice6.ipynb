{
 "cells": [
  {
   "cell_type": "code",
   "execution_count": 1,
   "metadata": {},
   "outputs": [
    {
     "name": "stdout",
     "output_type": "stream",
     "text": [
      "sentence given a in words of order the reverse to function a Implement \n"
     ]
    }
   ],
   "source": [
    "'''1)Write a Python program to reverse a string without using any built-in string reversal functions.'''\n",
    "'''17)20. Implement a function to reverse the order of words in a given sentence.'''\n",
    "\n",
    "abc = \"Implement a function to reverse the order of words in a given sentence\"\n",
    "\n",
    "\"Option 01\"\n",
    "abc = abc.split()\n",
    "abc\n",
    "revString = \"\"\n",
    "\n",
    "for i in abc:\n",
    "    revString = i +\" \"+  revString\n",
    "    \n",
    "print(revString)\n",
    "    "
   ]
  },
  {
   "cell_type": "code",
   "execution_count": 2,
   "metadata": {},
   "outputs": [
    {
     "data": {
      "text/plain": [
       "'sentence given a in words of order the reverse to function a Implement'"
      ]
     },
     "execution_count": 2,
     "metadata": {},
     "output_type": "execute_result"
    }
   ],
   "source": [
    "\"Option 02\"\n",
    "abc = \"Implement a function to reverse the order of words in a given sentence\"\n",
    "\n",
    "abc = abc.split()\n",
    "abc\n",
    "revString = []\n",
    "\n",
    "for i in range(len(abc)-1,-1,-1):\n",
    "    revString.append(abc[i])\n",
    "\n",
    "    \n",
    "newStr =\" \".join(revString)\n",
    "newStr"
   ]
  },
  {
   "cell_type": "code",
   "execution_count": 3,
   "metadata": {},
   "outputs": [
    {
     "name": "stdout",
     "output_type": "stream",
     "text": [
      "['sentence', 'given', 'a', 'in', 'words', 'of', 'order', 'the', 'reverse', 'to', 'function', 'a', 'Implement']\n",
      "sentence given a in words of order the reverse to function a Implement\n"
     ]
    }
   ],
   "source": [
    "\"Option 03\"\n",
    "abc = \"Implement a function to reverse the order of words in a given sentence\"\n",
    "\n",
    "abc = abc.split()\n",
    "\n",
    "abc.reverse()\n",
    "print(abc)\n",
    "newStr =\" \".join(revString)\n",
    "print(newStr)"
   ]
  },
  {
   "cell_type": "code",
   "execution_count": 4,
   "metadata": {},
   "outputs": [
    {
     "name": "stdout",
     "output_type": "stream",
     "text": [
      "madam\n",
      "yes it is palindrome Number\n"
     ]
    }
   ],
   "source": [
    "'''2)Implement a function to check if a given string is a palindrome.'''\n",
    "\n",
    "'''option 01 using Loop'''\n",
    "word = \"madam\"\n",
    "newWord = \"\"\n",
    "for i in word:\n",
    "    newWord = i +newWord\n",
    "    \n",
    "print(newWord)\n",
    "if newWord == word:\n",
    "    print(\"yes it is palindrome Number\")\n",
    "else:\n",
    "    print(\"No it is not\")"
   ]
  },
  {
   "cell_type": "code",
   "execution_count": 5,
   "metadata": {},
   "outputs": [
    {
     "name": "stdout",
     "output_type": "stream",
     "text": [
      "Amadam\n",
      "No it is not\n"
     ]
    }
   ],
   "source": [
    "'''Using slicing'''\n",
    "word = \"madamA\"\n",
    "newWord = word[::-1]\n",
    "print(newWord)\n",
    "if newWord == word:\n",
    "    print(\"yes it is palindrome Number\")\n",
    "else:\n",
    "    print(\"No it is not\")"
   ]
  },
  {
   "cell_type": "code",
   "execution_count": 6,
   "metadata": {},
   "outputs": [
    {
     "name": "stdout",
     "output_type": "stream",
     "text": [
      "100001\n"
     ]
    }
   ],
   "source": [
    "'''3)Write a program to find the largest element in a given list.'''\n",
    "\n",
    "list1 = [1000, 39, 100001, 20, 400]\n",
    "maxElement = list1[0]\n",
    "\n",
    "for i in list1:\n",
    "    if i > maxElement:\n",
    "        maxElement = i\n",
    "        \n",
    "        \n",
    "        \n",
    "print(maxElement)\n"
   ]
  },
  {
   "cell_type": "code",
   "execution_count": 7,
   "metadata": {},
   "outputs": [
    {
     "data": {
      "text/plain": [
       "1"
      ]
     },
     "execution_count": 7,
     "metadata": {},
     "output_type": "execute_result"
    }
   ],
   "source": [
    "'''4)Write a program to find the smallest element in a given list.'''\n",
    "\n",
    "list1 = [1, 39, 100001, 20, 4]\n",
    "smallestElement = list1[0]\n",
    "\n",
    "for i in list1:\n",
    "    if i < smallestElement:\n",
    "        smallestElement = i\n",
    "\n",
    "smallestElement"
   ]
  },
  {
   "cell_type": "code",
   "execution_count": 8,
   "metadata": {},
   "outputs": [
    {
     "name": "stdout",
     "output_type": "stream",
     "text": [
      "10\n"
     ]
    }
   ],
   "source": [
    "'''5)Write a Python program to find the second largest number in a list.'''\n",
    "\n",
    "list1 = [10, 39, 1, 2, 4]\n",
    "maxElement = list1[0]\n",
    "secondLargest= 0\n",
    "\n",
    "for i in list1:\n",
    "    if i> maxElement:\n",
    "        maxElement = i\n",
    "\n",
    "for i in list1:\n",
    "    if i > secondLargest and i<maxElement:\n",
    "        secondLargest=i\n",
    "\n",
    "        \n",
    "print(secondLargest)"
   ]
  },
  {
   "cell_type": "code",
   "execution_count": 9,
   "metadata": {},
   "outputs": [
    {
     "data": {
      "text/plain": [
       "'function count a the Implement to'"
      ]
     },
     "execution_count": 9,
     "metadata": {},
     "output_type": "execute_result"
    }
   ],
   "source": [
    "'''6)Implement a function to remove duplicate elements from a list.'''\n",
    "\n",
    "'''option 01 Using Set'''\n",
    "\n",
    "abc = ['Implement','Implement', 'a', 'function', 'to', 'count', 'the', 'to', 'count', 'the']\n",
    "\n",
    "\n",
    "\n",
    "\n",
    "abc = set(abc)\n",
    "abc = \" \".join(abc)\n",
    "abc"
   ]
  },
  {
   "cell_type": "code",
   "execution_count": 10,
   "metadata": {},
   "outputs": [
    {
     "data": {
      "text/plain": [
       "['Implement', 'a', 'function', 'to', 'count', 'the']"
      ]
     },
     "execution_count": 10,
     "metadata": {},
     "output_type": "execute_result"
    }
   ],
   "source": [
    "'''Optoina Two using loop'''\n",
    "abc = ['Implement','Implement', 'a', 'function', 'to', 'count', 'the', 'to', 'count', 'the']\n",
    "newList = []\n",
    "for i in abc:\n",
    "    if i not in newList:\n",
    "        newList.append(i)\n",
    "newList"
   ]
  },
  {
   "cell_type": "code",
   "execution_count": 11,
   "metadata": {},
   "outputs": [
    {
     "data": {
      "text/plain": [
       "dict_keys(['Implement', 'a', 'function', 'to', 'count', 'the'])"
      ]
     },
     "execution_count": 11,
     "metadata": {},
     "output_type": "execute_result"
    }
   ],
   "source": [
    "'''option 03 Using Loop and Dict'''\n",
    "abc = ['Implement','Implement', 'a', 'function', 'to', 'count', 'the', 'to', 'count', 'the']\n",
    "newDict= {}\n",
    "\n",
    "for i in abc:\n",
    "    if i in newDict:\n",
    "        newDict[i] = newDict[i] + 1\n",
    "    else:\n",
    "        newDict[i] =  1\n",
    "\n",
    "newDict.keys()\n"
   ]
  },
  {
   "cell_type": "code",
   "execution_count": 12,
   "metadata": {},
   "outputs": [
    {
     "name": "stdout",
     "output_type": "stream",
     "text": [
      "3628800\n"
     ]
    }
   ],
   "source": [
    "'''7)Write a program to calculate the factorial of a given number.'''\n",
    "\n",
    "num1 = 10\n",
    "factNum = 1\n",
    "\n",
    "for i in range(1,num1+1):\n",
    "    factNum = i *factNum\n",
    "print(factNum)    \n",
    "\n",
    "\n"
   ]
  },
  {
   "cell_type": "code",
   "execution_count": 13,
   "metadata": {},
   "outputs": [
    {
     "name": "stdout",
     "output_type": "stream",
     "text": [
      "yes it is a prime Number\n"
     ]
    }
   ],
   "source": [
    "'''8)Implement a function to check if a given number is prime.'''\n",
    "'''if a number is devisible by 1 and itsel is caled prime Number'''\n",
    "num = 3\n",
    "count = 0\n",
    "\n",
    "for i in range(1,num+1):\n",
    "    if num%i==0:\n",
    "        count=count+1\n",
    "        if count>=3:\n",
    "            break\n",
    "if count==2:\n",
    "    print(\"yes it is a prime Number\")\n",
    "else:\n",
    "    print(\"NO it is NOT a prime Number\")"
   ]
  },
  {
   "cell_type": "code",
   "execution_count": 14,
   "metadata": {},
   "outputs": [
    {
     "data": {
      "text/plain": [
       "[10, 20, 39, 40, 50, 51, 100]"
      ]
     },
     "execution_count": 14,
     "metadata": {},
     "output_type": "execute_result"
    }
   ],
   "source": [
    "'''9)Write a Python program to sort a list of integers in ascending order.'''\n",
    "'Option 01 using in build Function'\n",
    "abc = [51,10,39,100,20,50,40]\n",
    "\n",
    "sorted(abc)"
   ]
  },
  {
   "cell_type": "code",
   "execution_count": 15,
   "metadata": {},
   "outputs": [
    {
     "data": {
      "text/plain": [
       "'Option 02 Using LOOP'"
      ]
     },
     "execution_count": 15,
     "metadata": {},
     "output_type": "execute_result"
    }
   ],
   "source": [
    "'Option 02 Using LOOP'\n"
   ]
  },
  {
   "cell_type": "code",
   "execution_count": 16,
   "metadata": {},
   "outputs": [
    {
     "data": {
      "text/plain": [
       "310"
      ]
     },
     "execution_count": 16,
     "metadata": {},
     "output_type": "execute_result"
    }
   ],
   "source": [
    "'''10)Implement a function to find the sum of all numbers in a list.'''\n",
    "\n",
    "'Option One'\n",
    "abc = [51,10,39,100,20,50,40]\n",
    "\n",
    "sum(abc)\n"
   ]
  },
  {
   "cell_type": "code",
   "execution_count": 17,
   "metadata": {},
   "outputs": [
    {
     "name": "stdout",
     "output_type": "stream",
     "text": [
      "310\n"
     ]
    }
   ],
   "source": [
    "'Option 02'\n",
    "abc = [51,10,39,100,20,50,40]\n",
    "newSum = 0\n",
    "for i in abc:\n",
    "    newSum = i+newSum\n",
    "print(newSum)"
   ]
  },
  {
   "cell_type": "code",
   "execution_count": 18,
   "metadata": {},
   "outputs": [
    {
     "name": "stdout",
     "output_type": "stream",
     "text": [
      "[4, 8]\n"
     ]
    }
   ],
   "source": [
    "'''11)Write a program to find the common elements between two lists.'''\n",
    "'''17. Write a Python program to find the intersection(commong element from two list) of two lists.'''\n",
    "\n",
    "list1 = [1,2,4,8]\n",
    "list2 = [4,8,5,10]\n",
    "list3 = []\n",
    "\n",
    "\n",
    "for i in list1:\n",
    "    if i in list2:\n",
    "        list3.append(i)\n",
    "\n",
    "print(list3)"
   ]
  },
  {
   "cell_type": "code",
   "execution_count": 19,
   "metadata": {},
   "outputs": [
    {
     "name": "stdout",
     "output_type": "stream",
     "text": [
      "anagram string\n"
     ]
    }
   ],
   "source": [
    "'''12)Implement a function to check if a given string is an anagram of another string.'''\n",
    "'''if sorted string match with each other'''\n",
    "\n",
    "\n",
    "s1 = \"heart\"\n",
    "s2 = \"earth\"\n",
    "s1 = sorted(s1)\n",
    "s2 = sorted(s2)\n",
    "\n",
    "if s1 == s2:\n",
    "    print(\"anagram string\")\n",
    "else:\n",
    "    print(\"Not anagram string\")\n"
   ]
  },
  {
   "cell_type": "code",
   "execution_count": 20,
   "metadata": {},
   "outputs": [
    {
     "name": "stdout",
     "output_type": "stream",
     "text": [
      "1\n",
      "1\n",
      "2\n",
      "3\n",
      "5\n",
      "8\n",
      "13\n",
      "21\n",
      "34\n",
      "55\n"
     ]
    }
   ],
   "source": [
    "'''13)Implement a function to calculate the Fibonacci sequence up to a given number of terms.'''\n",
    "num =10 \n",
    "num1 = 1\n",
    "num2 = 0\n",
    "sum = 0\n",
    "for i in range(1,num+1):\n",
    "    sum = num1 + num2\n",
    "    num1 = num2\n",
    "    num2 = sum\n",
    "    print(sum)"
   ]
  },
  {
   "cell_type": "code",
   "execution_count": 21,
   "metadata": {},
   "outputs": [
    {
     "name": "stdout",
     "output_type": "stream",
     "text": [
      "[10, 20, 39, 40, 50, 51, 100, 101]\n",
      "45.0\n"
     ]
    },
    {
     "data": {
      "text/plain": [
       "''"
      ]
     },
     "execution_count": 21,
     "metadata": {},
     "output_type": "execute_result"
    }
   ],
   "source": [
    "'''14)Write a program to find the median of a list of numbers.'''\n",
    "abc = [51,10,39,100,20,50,40,101]\n",
    "\n",
    "abc = sorted(abc)\n",
    "\n",
    "print(abc)\n",
    "\n",
    "\n",
    "if len(abc)%2 != 0:\n",
    "    print(abc[len(abc)//2])\n",
    "else:\n",
    "    print((abc[len(abc)//2-1] + abc[len(abc)//2])/2)\n",
    "\n",
    "''''''"
   ]
  },
  {
   "cell_type": "code",
   "execution_count": 22,
   "metadata": {},
   "outputs": [
    {
     "data": {
      "text/plain": [
       "'Wrt  prgrm t rmv ll vwls frm  gvn strng'"
      ]
     },
     "execution_count": 22,
     "metadata": {},
     "output_type": "execute_result"
    }
   ],
   "source": [
    "'''16)19. Write a program to remove all vowels from a given string.'''\n",
    "\n",
    "vov = \"aeiouAEIOU\"\n",
    "oneString = \"Write a program to remove all vowels from a given string\"\n",
    "newStr = \"\"\n",
    "\n",
    "for i in oneString:\n",
    "    if i in vov:\n",
    "        oneString = oneString.replace(i,\"\")\n",
    "        \n",
    "oneString"
   ]
  },
  {
   "cell_type": "code",
   "execution_count": 68,
   "metadata": {},
   "outputs": [
    {
     "name": "stdout",
     "output_type": "stream",
     "text": [
      "6  : is NOT power of 2\n"
     ]
    }
   ],
   "source": [
    "'''21)24. Implement a function to check if a given number is a power of two.'''\n",
    "num=6\n",
    "num1=num\n",
    "while num>1 and num%2==0:\n",
    "    num = num//2\n",
    "    \n",
    "if num==1:\n",
    "    print(num1,\" : is power of 2\")\n",
    "else:\n",
    "    print(num1,\" : is NOT power of 2\")\n",
    "    \n",
    "    "
   ]
  },
  {
   "cell_type": "code",
   "execution_count": 24,
   "metadata": {},
   "outputs": [
    {
     "name": "stdout",
     "output_type": "stream",
     "text": [
      "YES\n"
     ]
    }
   ],
   "source": [
    "'''28)35. Write a program to check if a given number is a perfect square.'''\n",
    "num=4\n",
    "flag = 0\n",
    "\n",
    "for i in range(num):\n",
    "    if i *i ==num:\n",
    "        flag=1\n",
    "        break\n",
    "\n",
    "if flag==1:\n",
    "    print(\"YES\")\n",
    "else:\n",
    "    print(\"NO\")\n",
    "    \n"
   ]
  },
  {
   "cell_type": "code",
   "execution_count": 25,
   "metadata": {},
   "outputs": [
    {
     "name": "stdout",
     "output_type": "stream",
     "text": [
      "10\n"
     ]
    }
   ],
   "source": [
    "'''23)27. Write a program to find the greatest common divisor (GCD) of two numbers.'''\n",
    "num1 =20\n",
    "num2 = 30\n",
    "gcd = 0\n",
    "if num1<num2:\n",
    "   gcd = num1\n",
    "else:\n",
    "    gcd = num2\n",
    "\n",
    "for i in range(gcd,-1,-1):\n",
    "    if num1%i==0 and num2%i==0:\n",
    "        gcd = i\n",
    "        break\n",
    "print(gcd)\n"
   ]
  },
  {
   "cell_type": "code",
   "execution_count": 26,
   "metadata": {},
   "outputs": [
    {
     "data": {
      "text/plain": [
       "2.0"
      ]
     },
     "execution_count": 26,
     "metadata": {},
     "output_type": "execute_result"
    }
   ],
   "source": [
    "'''24)28. Implement a function to calculate the square root of a given number.'''\n",
    "'''Option 01'''\n",
    "\n",
    "import math as m\n",
    "num1 =16\n",
    "m.sqrt(num)\n"
   ]
  },
  {
   "cell_type": "code",
   "execution_count": 27,
   "metadata": {},
   "outputs": [
    {
     "data": {
      "text/plain": [
       "4.0"
      ]
     },
     "execution_count": 27,
     "metadata": {},
     "output_type": "execute_result"
    }
   ],
   "source": [
    "'''Option 02'''\n",
    "num1 =16\n",
    "\n",
    "num1**0.5"
   ]
  },
  {
   "cell_type": "code",
   "execution_count": 28,
   "metadata": {},
   "outputs": [
    {
     "name": "stdout",
     "output_type": "stream",
     "text": [
      "10\n"
     ]
    }
   ],
   "source": [
    "'''25)\t31. Write a program to find the sum of all even numbers in a list.'''\n",
    "l1 = [2,1,2,4,2]\n",
    "newSum = 0\n",
    "\n",
    "for i in l1:\n",
    "    if i%2==0:\n",
    "        newSum = i + newSum\n",
    "    \n",
    "print(newSum)"
   ]
  },
  {
   "cell_type": "code",
   "execution_count": 29,
   "metadata": {},
   "outputs": [
    {
     "name": "stdout",
     "output_type": "stream",
     "text": [
      "40320\n"
     ]
    }
   ],
   "source": [
    "\n",
    "'''29)36. Implement a function to calculate the product of all elements in a list.'''\n",
    "list1 = [1, 2, 3, 14, 6, 8, 10]\n",
    "productOfAll = 1\n",
    "for i in list1:\n",
    "    productOfAll = i * productOfAll\n",
    "    \n",
    "print(productOfAll)\n"
   ]
  },
  {
   "cell_type": "code",
   "execution_count": 1,
   "metadata": {},
   "outputs": [
    {
     "name": "stdout",
     "output_type": "stream",
     "text": [
      "3\n"
     ]
    }
   ],
   "source": [
    "'''32)39. Write a program to find the sum of the digits of a given number.'''\n",
    "'''option One'''\n",
    "num = 111\n",
    "SumValue = 0\n",
    "num = str(num) \n",
    "for i in num:\n",
    "    SumValue = int(i) + SumValue\n",
    "\n",
    "print(SumValue)"
   ]
  },
  {
   "cell_type": "code",
   "execution_count": 31,
   "metadata": {},
   "outputs": [
    {
     "name": "stdout",
     "output_type": "stream",
     "text": [
      "6\n"
     ]
    }
   ],
   "source": [
    "'''option Two'''\n",
    "num = 123\n",
    "SumValue = 0\n",
    "numStr = str(num) \n",
    "for i in numStr:\n",
    "    SumValue = num%10 + SumValue \n",
    "    num = num//10\n",
    "print(SumValue)"
   ]
  },
  {
   "cell_type": "code",
   "execution_count": 32,
   "metadata": {},
   "outputs": [
    {
     "data": {
      "text/plain": [
       "2"
      ]
     },
     "execution_count": 32,
     "metadata": {},
     "output_type": "execute_result"
    }
   ],
   "source": [
    "'''33)43. Write a program to find the number of occurrences of a given element in a list.'''\n",
    "'''Optiona 01'''\n",
    "l1 = [1,2,3,4,5,6,7,8,9,10,11,1]\n",
    "num = 1\n",
    "\n",
    "l1.count(num)"
   ]
  },
  {
   "cell_type": "code",
   "execution_count": 33,
   "metadata": {},
   "outputs": [
    {
     "name": "stdout",
     "output_type": "stream",
     "text": [
      "2\n"
     ]
    }
   ],
   "source": [
    "'''Optiona 01'''\n",
    "l1 = [1,2,3,4,5,6,7,8,9,10,11,1]\n",
    "num = 1\n",
    "count=0\n",
    "for i in l1:\n",
    "    if i==num:\n",
    "        count = count+1\n",
    "    \n",
    "    \n",
    "print(count)\n"
   ]
  },
  {
   "cell_type": "code",
   "execution_count": 34,
   "metadata": {},
   "outputs": [
    {
     "name": "stdout",
     "output_type": "stream",
     "text": [
      "1\n",
      "3\n",
      "7\n",
      "14\n",
      "28\n",
      "28 YES\n"
     ]
    }
   ],
   "source": [
    "'''34)44. Implement a function to check if a given number is a perfect number.'''\n",
    "\n",
    "num = 28\n",
    "sum1 = 0\n",
    "\n",
    "for i in range(1,num):\n",
    "    if num%i==0:\n",
    "        sum1=sum1+i\n",
    "        print(sum1)\n",
    "        \n",
    "if sum1==num:\n",
    "    print(sum1,\"YES\")\n",
    "else:\n",
    "    print(sum1,\"NO\")\n",
    "    \n",
    "\n",
    "    \n"
   ]
  },
  {
   "cell_type": "code",
   "execution_count": 35,
   "metadata": {},
   "outputs": [
    {
     "data": {
      "text/plain": [
       "['a', 'b', 'c', 'd']"
      ]
     },
     "execution_count": 35,
     "metadata": {},
     "output_type": "execute_result"
    }
   ],
   "source": [
    "'''35)45. Write a Python program to remove all duplicates from a string.'''\n",
    "\n",
    "'''Option 01 Using List'''\n",
    "s = \"aabbccdd\"\n",
    "l1 = []\n",
    "\n",
    "for i in s:\n",
    "    if i not in l1:\n",
    "        l1.append(i)\n",
    "\n",
    "l1"
   ]
  },
  {
   "cell_type": "code",
   "execution_count": 36,
   "metadata": {},
   "outputs": [
    {
     "name": "stdout",
     "output_type": "stream",
     "text": [
      "abcd\n"
     ]
    }
   ],
   "source": [
    "'''Option 02 Using stirng'''\n",
    "s = \"aabbccdd\"\n",
    "newStr = \"\"\n",
    "for i in s:\n",
    "    if i not in newStr:\n",
    "        newStr = newStr + i\n",
    "        \n",
    "print(newStr) "
   ]
  },
  {
   "cell_type": "code",
   "execution_count": 37,
   "metadata": {},
   "outputs": [
    {
     "name": "stdout",
     "output_type": "stream",
     "text": [
      "ddfffff\n"
     ]
    }
   ],
   "source": [
    "'''Find Logest String'''\n",
    "input_string = \"rw9adfd45fffffdd\"\n",
    "str1 = \"\" \n",
    "str2 = \"\"\n",
    "\n",
    "\n",
    "\n",
    "\n",
    "for i in input_string:\n",
    "    if i.isalpha():\n",
    "        str1 = i + str1\n",
    "\n",
    "    else:\n",
    "        if len(str1)>len(str2):\n",
    "              str2 = str1\n",
    "              str1=\"\"\n",
    "if len(str1)>len(str2):\n",
    "        str2 = str1\n",
    "   \n",
    "   \n",
    "print(str2)"
   ]
  },
  {
   "cell_type": "code",
   "execution_count": 38,
   "metadata": {},
   "outputs": [
    {
     "data": {
      "text/plain": [
       "11"
      ]
     },
     "execution_count": 38,
     "metadata": {},
     "output_type": "execute_result"
    }
   ],
   "source": [
    "'''Finand the postion of string'''\n",
    "abc = 'Finand the postion of string'\n",
    "abc.find('F')\n",
    "abc.rfind('p')\n",
    "abc.find('p')\n"
   ]
  },
  {
   "cell_type": "code",
   "execution_count": 39,
   "metadata": {},
   "outputs": [
    {
     "name": "stdout",
     "output_type": "stream",
     "text": [
      "{'Write': 2, 'a': 1, 'program': 1, 'that': 1, 'takes': 3}\n",
      "takes 3\n",
      "5\n",
      "takes\n"
     ]
    }
   ],
   "source": [
    "''' Write a program that takes a string as input, and counts the frequency of each word in the string, there might\n",
    "be repeated characters in the string. Your task is to find the highest frequency and returns the length of the\n",
    "highest-frequency word. '''\n",
    "\n",
    "abc = \"Write Write a program that takes takes takes\"\n",
    "abc = abc.split()\n",
    "newDcit = {}\n",
    "\n",
    "for i in abc:\n",
    "    if i in newDcit:\n",
    "        newDcit[i] = newDcit[i]+1\n",
    "    else:\n",
    "        newDcit[i] = +1\n",
    "    \n",
    "print(newDcit)\n",
    "maxCount = max(newDcit.values())\n",
    "for key,value in newDcit.items():\n",
    "    if maxCount == value:\n",
    "        print(key,value)\n",
    "        print(len(key))\n",
    "        \n",
    "        \n",
    "print(max(newDcit,key=newDcit.get))\n"
   ]
  },
  {
   "cell_type": "code",
   "execution_count": 40,
   "metadata": {},
   "outputs": [],
   "source": [
    "'''Question 2: -\n",
    "Consider a string to be valid if all characters of the string appear the same number of times. \n",
    "It is also valid if you remove just one character in the string, and the remaining characters will occur the same\n",
    "number of times. Given a string, determine if it is valid. If so, return YES , otherwise return NO . '''\n",
    "\n",
    "stringOne = \"aabbccc\"\n",
    "\n",
    "newDict = {}\n",
    "\n",
    "for i in stringOne:\n",
    "    if i not in newDict:\n",
    "        newDict[i] = +1\n",
    "    elif i in newDict:\n",
    "        newDict[i] = newDict[i] +1\n",
    "\n",
    "maxValue = max(newDict.values())\n",
    "countOfMaxValue = list(newDict.values()).count(maxValue)\n",
    "minValue = min(newDict.values())\n",
    "countOfminValue = list(newDict.values()).count(minValue)\n",
    "lenOfStr = len(newDict.values())\n",
    "uniqeValues= len(set(newDict.values()))\n",
    "\n",
    "if uniqeValues == 1:\n",
    "    print(\"yes only same char\")\n",
    "elif uniqeValues == 2 and countOfMaxValue==1 and maxValue-minValue ==1:\n",
    "    print(\"yes only one char Extra\")\n",
    "elif uniqeValues == 2 and countOfminValue==1 and maxValue-minValue ==1:\n",
    "    print(\"yes only one char Extra x\")\n",
    "else:\n",
    "    print(\"NO\")\n",
    "\n",
    "    \n"
   ]
  },
  {
   "cell_type": "code",
   "execution_count": 41,
   "metadata": {},
   "outputs": [
    {
     "data": {
      "text/plain": [
       "[1, 4, 9, 16, 25, 36]"
      ]
     },
     "execution_count": 41,
     "metadata": {},
     "output_type": "execute_result"
    }
   ],
   "source": [
    "'''MAP'''\n",
    "'''return cub of each element of the below list'''\n",
    "\n",
    "list1 = [1,2,3,4,5,6]\n",
    "\n",
    "def cube1(x):\n",
    "    return x**2\n",
    "\n",
    "list(map(cube1,list1))\n"
   ]
  },
  {
   "cell_type": "code",
   "execution_count": 42,
   "metadata": {},
   "outputs": [
    {
     "data": {
      "text/plain": [
       "[2, 4, 6]"
      ]
     },
     "execution_count": 42,
     "metadata": {},
     "output_type": "execute_result"
    }
   ],
   "source": [
    "'''filter'''\n",
    "'''print only those element which are devisible by 2'''\n",
    "\n",
    "list1 = [1,2,3,4,5,6]\n",
    "\n",
    "\n",
    "def divBy2(x):\n",
    "    if x%2==0:\n",
    "        return x\n",
    "\n",
    "list(filter(divBy2,list1))"
   ]
  },
  {
   "cell_type": "code",
   "execution_count": 43,
   "metadata": {},
   "outputs": [
    {
     "data": {
      "text/plain": [
       "[2, 4, 6]"
      ]
     },
     "execution_count": 43,
     "metadata": {},
     "output_type": "execute_result"
    }
   ],
   "source": [
    "'''reduce'''\n",
    "'''print only those element which are devisible by 2'''\n",
    "\n",
    "from functools import reduce\n",
    "\n",
    "list1 = [1, 2, 3, 4, 5, 6]\n",
    "\n",
    "\n",
    "def divBy2(x,y):\n",
    "    if y % 2 == 0:\n",
    "        x.append(y) \n",
    "    return x\n",
    "reduce(divBy2,list1,[])"
   ]
  },
  {
   "cell_type": "code",
   "execution_count": 44,
   "metadata": {},
   "outputs": [
    {
     "data": {
      "text/plain": [
       "21"
      ]
     },
     "execution_count": 44,
     "metadata": {},
     "output_type": "execute_result"
    }
   ],
   "source": [
    "'''Reduce'''\n",
    "'''Print sum of all the element'''\n",
    "list1 = [1, 2, 3, 4, 5, 6]\n",
    "\n",
    "def addAll(a,b):\n",
    "    c = a+b\n",
    "    return c\n",
    "\n",
    "reduce(addAll,list1)\n"
   ]
  },
  {
   "cell_type": "code",
   "execution_count": 45,
   "metadata": {},
   "outputs": [
    {
     "name": "stdout",
     "output_type": "stream",
     "text": [
      "GEEKSFORGEEKS\n"
     ]
    }
   ],
   "source": [
    "str1 = 'GeeksforGeeks'\n",
    " \n",
    "upper = lambda string: string.upper()\n",
    "print(upper(str1))\n",
    "\n"
   ]
  },
  {
   "cell_type": "code",
   "execution_count": 46,
   "metadata": {},
   "outputs": [
    {
     "name": "stdout",
     "output_type": "stream",
     "text": [
      "1000\n"
     ]
    }
   ],
   "source": [
    "\n",
    "lambda_cube = lambda y: y*y*y\n",
    "print(lambda_cube(10))\n"
   ]
  },
  {
   "cell_type": "code",
   "execution_count": 47,
   "metadata": {},
   "outputs": [
    {
     "name": "stdout",
     "output_type": "stream",
     "text": [
      "[<function <listcomp>.<lambda> at 0x00000294479780E0>, <function <listcomp>.<lambda> at 0x0000029447978360>, <function <listcomp>.<lambda> at 0x0000029447978400>, <function <listcomp>.<lambda> at 0x00000294479784A0>, <function <listcomp>.<lambda> at 0x0000029447978540>, <function <listcomp>.<lambda> at 0x00000294479785E0>, <function <listcomp>.<lambda> at 0x0000029447978680>, <function <listcomp>.<lambda> at 0x0000029447978720>, <function <listcomp>.<lambda> at 0x00000294479787C0>, <function <listcomp>.<lambda> at 0x0000029447978860>]\n"
     ]
    }
   ],
   "source": [
    "list1 = [5, 7, 22, 97, 54, 62, 77, 23, 73, 61]\n",
    "\n",
    "\n",
    "is_even_list = [lambda arg = x: arg * 10 for x in list1]\n",
    "\n",
    "print(is_even_list)"
   ]
  },
  {
   "cell_type": "code",
   "execution_count": 48,
   "metadata": {},
   "outputs": [
    {
     "name": "stdout",
     "output_type": "stream",
     "text": [
      "10\n"
     ]
    }
   ],
   "source": [
    "'''print the largest Element'''\n",
    "\n",
    "Max = lambda a, b : a if(a > b) else b\n",
    "print(Max(10,5))\n",
    "\n"
   ]
  },
  {
   "cell_type": "code",
   "execution_count": 49,
   "metadata": {},
   "outputs": [
    {
     "name": "stdout",
     "output_type": "stream",
     "text": [
      "[22, 54, 62]\n"
     ]
    }
   ],
   "source": [
    "\n",
    "li = [5, 7, 22, 97, 54, 62, 77, 23, 73, 61]\n",
    " \n",
    "final_list = list(filter(lambda x: (x % 2 == 0), li))\n",
    "print(final_list)\n"
   ]
  },
  {
   "cell_type": "code",
   "execution_count": 50,
   "metadata": {},
   "outputs": [
    {
     "data": {
      "text/plain": [
       "[22, 54, 62]"
      ]
     },
     "execution_count": 50,
     "metadata": {},
     "output_type": "execute_result"
    }
   ],
   "source": [
    "list1 = [5, 7, 22, 97, 54, 62, 77, 23, 73, 61]\n",
    "\n",
    "list(filter(lambda x: x if x%2==0 else \"\",list1))\n"
   ]
  },
  {
   "cell_type": "code",
   "execution_count": 51,
   "metadata": {},
   "outputs": [
    {
     "name": "stdout",
     "output_type": "stream",
     "text": [
      "Positive\n",
      "Negative\n",
      "Zero\n"
     ]
    }
   ],
   "source": [
    "'''Check a value if it is +ve or -ve using lambda Function'''\n",
    "classify_number = lambda x: \"Positive\" if x > 0 else \"Negative\" if x < 0 else \"Zero\"\n",
    "\n",
    "print(classify_number(5))    # This will print \"Positive\"\n",
    "print(classify_number(-3))   # This will print \"Negative\"\n",
    "print(classify_number(0))    # This will print \"Zero\"\n",
    "\n"
   ]
  },
  {
   "cell_type": "code",
   "execution_count": 52,
   "metadata": {},
   "outputs": [
    {
     "name": "stdout",
     "output_type": "stream",
     "text": [
      "Odd\n"
     ]
    }
   ],
   "source": [
    "'''Create a Lambda function which will take a input and print if the same is Even or Odd Number'''\n",
    "\n",
    "\n",
    "\n",
    "abc =lambda num : \"Even\" if num%2==0 else \"Odd\"\n",
    "print(abc(5))\n"
   ]
  },
  {
   "cell_type": "code",
   "execution_count": 53,
   "metadata": {},
   "outputs": [
    {
     "name": "stdout",
     "output_type": "stream",
     "text": [
      "8\n"
     ]
    }
   ],
   "source": [
    "'''multiply a value using lambda function'''\n",
    "\n",
    "multy = lambda x :x*2\n",
    "\n",
    "print(multy(4))\n"
   ]
  },
  {
   "cell_type": "code",
   "execution_count": 54,
   "metadata": {},
   "outputs": [
    {
     "name": "stdout",
     "output_type": "stream",
     "text": [
      "16\n"
     ]
    }
   ],
   "source": [
    "'''multiply a value using lambda function'''\n",
    "\n",
    "multy2 = lambda a,b :a*b\n",
    "\n",
    "print(multy2(4,4))\n"
   ]
  },
  {
   "cell_type": "code",
   "execution_count": 55,
   "metadata": {},
   "outputs": [
    {
     "name": "stdout",
     "output_type": "stream",
     "text": [
      "+ve\n",
      "-VE\n",
      "ZERO\n"
     ]
    }
   ],
   "source": [
    "'''Check a if the given number if it is +ve or -ve using lambda Function'''\n",
    "\n",
    "classify_number  = lambda a : \"+ve\" if a>0  else \"-VE\"  if a<0 else \"ZERO\" \n",
    "\n",
    "print(classify_number(5))    # This will print \"Positive\"\n",
    "print(classify_number(-3))   # This will print \"Negative\"\n",
    "print(classify_number(0))    # This will print \"Zero\"\n"
   ]
  },
  {
   "cell_type": "code",
   "execution_count": 56,
   "metadata": {},
   "outputs": [
    {
     "data": {
      "text/plain": [
       "[1, 4, 9, 16, 25, 36, 49, 64, 81, 100]"
      ]
     },
     "execution_count": 56,
     "metadata": {},
     "output_type": "execute_result"
    }
   ],
   "source": [
    "'''List Comprehension'''\n",
    "# Using list comprehension to create a new list of square of all Numbers\n",
    "original_list = [1, 2, 3, 4, 5, 6, 7, 8, 9, 10]\n",
    "\n",
    "[x**2 for x in original_list]\n"
   ]
  },
  {
   "cell_type": "code",
   "execution_count": 57,
   "metadata": {},
   "outputs": [
    {
     "data": {
      "text/plain": [
       "[2, 4, 6, 8, 10]"
      ]
     },
     "execution_count": 57,
     "metadata": {},
     "output_type": "execute_result"
    }
   ],
   "source": [
    "# Using list comprehension to create a new list of squared of only even numbers\n",
    "original_list = [1, 2, 3, 4, 5, 6, 7, 8, 9, 10]\n",
    "\n",
    "[x for x in original_list if x%2==0]\n"
   ]
  },
  {
   "cell_type": "code",
   "execution_count": 58,
   "metadata": {},
   "outputs": [
    {
     "data": {
      "text/plain": [
       "[2, 4, 6, 8, 10]"
      ]
     },
     "execution_count": 58,
     "metadata": {},
     "output_type": "execute_result"
    }
   ],
   "source": [
    "'''List Comprehension'''\n",
    "'''Print if the x is even Number'''\n",
    "\n",
    "original_list = [1, 2, 3, 4, 5, 6, 7, 8, 9, 10]\n",
    "\n",
    "[x for x in original_list if x%2==0]\n"
   ]
  },
  {
   "cell_type": "code",
   "execution_count": 59,
   "metadata": {},
   "outputs": [
    {
     "data": {
      "text/plain": [
       "{'Alice': 5, 'Bob': 3, 'Charlie': 7, 'David': 5, 'Eve': 3}"
      ]
     },
     "execution_count": 59,
     "metadata": {},
     "output_type": "execute_result"
    }
   ],
   "source": [
    "# Using dictionary comprehension to create a dictionary of name lengths\n",
    "names = [\"Alice\", \"Bob\", \"Charlie\", \"David\", \"Eve\"]\n",
    "\n",
    "{x:len(x) for x in names}"
   ]
  },
  {
   "cell_type": "code",
   "execution_count": 60,
   "metadata": {},
   "outputs": [
    {
     "name": "stdout",
     "output_type": "stream",
     "text": [
      "1\n",
      "2\n",
      "\n",
      "3\n",
      "4\n",
      "5\n",
      "6\n",
      "7\n",
      "8\n",
      "9\n"
     ]
    }
   ],
   "source": [
    "'''Generators'''\n",
    "'''Create a Fucntion which will print values until 30 using Generators'''\n",
    "\n",
    "def countUpTo(num1,num2):\n",
    "\n",
    "    for i in range(num1,num2):\n",
    "        yield i\n",
    "        \n",
    "count = countUpTo(1,10)\n",
    "print(count.__next__())\n",
    "print(count.__next__())\n",
    "print()\n",
    "for i in count:\n",
    "    print(i)"
   ]
  },
  {
   "cell_type": "code",
   "execution_count": 61,
   "metadata": {},
   "outputs": [
    {
     "name": "stdout",
     "output_type": "stream",
     "text": [
      "5.0\n"
     ]
    }
   ],
   "source": [
    "'''Decorators'''\n",
    "   \n",
    "def smart_dev(func):\n",
    "    def inner(a,b):\n",
    "        if b>a:\n",
    "            a,b = b,a\n",
    "        return func(a,b)\n",
    "    return inner\n",
    "    \n",
    "@smart_dev\n",
    "def div(a,b):\n",
    "    c = a/b\n",
    "    print(c)\n",
    "\n",
    "    \n",
    "div(2,10)\n"
   ]
  },
  {
   "cell_type": "code",
   "execution_count": 62,
   "metadata": {},
   "outputs": [
    {
     "name": "stdout",
     "output_type": "stream",
     "text": [
      "2.0\n"
     ]
    }
   ],
   "source": [
    "'''Decorators'''\n",
    "\n",
    "def div(a,b):\n",
    "    c = a/b\n",
    "    print(c)\n",
    "\n",
    "  \n",
    "def smart_dev(func):\n",
    "    def swapNumbers(a,b):\n",
    "        if b>a:\n",
    "            a,b = b,a\n",
    "        return func(a,b)\n",
    "    return swapNumbers\n",
    "    \n",
    "newDiv = smart_dev(div)\n",
    "\n",
    "newDiv(4,2)\n",
    "\n",
    "\n"
   ]
  },
  {
   "cell_type": "code",
   "execution_count": null,
   "metadata": {},
   "outputs": [],
   "source": []
  },
  {
   "cell_type": "code",
   "execution_count": 63,
   "metadata": {},
   "outputs": [
    {
     "name": "stdout",
     "output_type": "stream",
     "text": [
      "1\n",
      "2\n",
      "3\n",
      "4\n",
      "5\n",
      "6\n",
      "7\n",
      "8\n",
      "9\n",
      "10\n"
     ]
    }
   ],
   "source": [
    "'''Print 1 to 10  using Recursion'''\n",
    "\n",
    "def printNumber(i,k):\n",
    "    print(i)\n",
    "    if i==k:\n",
    "        return\n",
    "    i=i+1\n",
    "    printNumber(i,k)\n",
    "    \n",
    "printNumber(1,10)"
   ]
  },
  {
   "cell_type": "code",
   "execution_count": 64,
   "metadata": {},
   "outputs": [
    {
     "name": "stdout",
     "output_type": "stream",
     "text": [
      "3628800\n"
     ]
    }
   ],
   "source": [
    "'''Print Factorial of a number using Recursion'''\n",
    "def factOfNumber(i, k, result):\n",
    "    result = result * i\n",
    "    if i == k:\n",
    "        return result\n",
    "    return factOfNumber(i + 1, k, result)\n",
    "\n",
    "result = factOfNumber(1, 10, 1)\n",
    "print(result)\n"
   ]
  },
  {
   "cell_type": "code",
   "execution_count": 65,
   "metadata": {},
   "outputs": [
    {
     "name": "stdout",
     "output_type": "stream",
     "text": [
      "* * * * * * * * * \n",
      "* * * * * * * * \n",
      "* * * * * * * \n",
      "* * * * * * \n",
      "* * * * * \n",
      "* * * * \n",
      "* * * \n",
      "* * \n",
      "* \n"
     ]
    }
   ],
   "source": [
    "num = 10\n",
    "for i in range(10,1,-1):\n",
    "    for j in range(i,1,-1):\n",
    "        print(\"*\",end=\" \")\n",
    "    print()\n"
   ]
  },
  {
   "cell_type": "code",
   "execution_count": 66,
   "metadata": {},
   "outputs": [
    {
     "name": "stdout",
     "output_type": "stream",
     "text": [
      "                \n",
      "              * * \n",
      "            * * * * \n",
      "          * * * * * * \n",
      "        * * * * * * * * \n",
      "      * * * * * * * * * * \n",
      "    * * * * * * * * * * * * \n",
      "  * * * * * * * * * * * * * * \n",
      "* * * * * * * * * * * * * * * * \n",
      "                \n",
      "              * * \n",
      "            * * * * \n",
      "          * * * * * * \n",
      "        * * * * * * * * \n",
      "      * * * * * * * * * * \n",
      "    * * * * * * * * * * * * \n",
      "  * * * * * * * * * * * * * * \n",
      "* * * * * * * * * * * * * * * * \n"
     ]
    }
   ],
   "source": [
    "num = 10\n",
    "for i in range(1,num):\n",
    "    for j in range(1,(num-i)):\n",
    "        print(\" \",end=\" \")\n",
    "    for k in range(1,i):\n",
    "        print(\"*\",end=\" \")\n",
    "    for t in range(1,i):\n",
    "        print(\"*\",end=\" \")\n",
    "    print()\n",
    "\n",
    "for i in range(1,num):\n",
    "    for j in range(1,(num-i)):\n",
    "        print(\" \",end=\" \")\n",
    "    for k in range(1,i):\n",
    "        print(\"*\",end=\" \")\n",
    "    for t in range(1,i):\n",
    "        print(\"*\",end=\" \")\n",
    "    print()\n",
    "\n",
    "    \n",
    "    \n",
    "    "
   ]
  },
  {
   "cell_type": "code",
   "execution_count": 67,
   "metadata": {},
   "outputs": [
    {
     "ename": "NameError",
     "evalue": "name 'sorted_list' is not defined",
     "output_type": "error",
     "traceback": [
      "\u001b[1;31m---------------------------------------------------------------------------\u001b[0m",
      "\u001b[1;31mNameError\u001b[0m                                 Traceback (most recent call last)",
      "Cell \u001b[1;32mIn[67], line 12\u001b[0m\n\u001b[0;32m     10\u001b[0m l1 \u001b[38;5;241m=\u001b[39m [\u001b[38;5;241m1\u001b[39m, \u001b[38;5;241m2\u001b[39m, \u001b[38;5;241m3\u001b[39m, \u001b[38;5;241m4\u001b[39m, \u001b[38;5;241m5\u001b[39m]\n\u001b[0;32m     11\u001b[0m l2 \u001b[38;5;241m=\u001b[39m [\u001b[38;5;241m3\u001b[39m, \u001b[38;5;241m1\u001b[39m, \u001b[38;5;241m4\u001b[39m, \u001b[38;5;241m2\u001b[39m, \u001b[38;5;241m5\u001b[39m]\n\u001b[1;32m---> 12\u001b[0m checked(l2)\n",
      "Cell \u001b[1;32mIn[67], line 4\u001b[0m, in \u001b[0;36mchecked\u001b[1;34m(l1)\u001b[0m\n\u001b[0;32m      3\u001b[0m \u001b[38;5;28;01mdef\u001b[39;00m \u001b[38;5;21mchecked\u001b[39m(l1):\n\u001b[1;32m----> 4\u001b[0m     \u001b[38;5;28;01mfor\u001b[39;00m i \u001b[38;5;129;01min\u001b[39;00m \u001b[38;5;28mrange\u001b[39m(\u001b[38;5;241m0\u001b[39m,\u001b[38;5;28mlen\u001b[39m(sorted_list)\u001b[38;5;241m-\u001b[39m\u001b[38;5;241m1\u001b[39m):\n\u001b[0;32m      5\u001b[0m         \u001b[38;5;28;01mif\u001b[39;00m l1[i]\u001b[38;5;241m>\u001b[39ml1[i\u001b[38;5;241m+\u001b[39m\u001b[38;5;241m1\u001b[39m]:\n\u001b[0;32m      6\u001b[0m             \u001b[38;5;28;01mreturn\u001b[39;00m \u001b[38;5;124m\"\u001b[39m\u001b[38;5;124mNot\u001b[39m\u001b[38;5;124m\"\u001b[39m\n",
      "\u001b[1;31mNameError\u001b[0m: name 'sorted_list' is not defined"
     ]
    }
   ],
   "source": [
    "'''36)\tImplement a function to check if a given list is sorted in non-decreasing order.'''\n",
    "\n",
    "def checked(l1):\n",
    "    for i in range(0,len(sorted_list)-1):\n",
    "        if l1[i]>l1[i+1]:\n",
    "            return \"Not\"\n",
    "        return \"Yes\"\n",
    "\n",
    "        \n",
    "l1 = [1, 2, 3, 4, 5]\n",
    "l2 = [3, 1, 4, 2, 5]\n",
    "checked(l2)\n"
   ]
  },
  {
   "cell_type": "code",
   "execution_count": null,
   "metadata": {},
   "outputs": [],
   "source": [
    "'''Implement a function to find the maximum subarray sum in a given list.'''\n",
    "\n",
    "L2 = [4,-2,-3,4,-1,-2,1,5,-3]\n",
    "L1 = [-2,1,-3,4,-1,2,1,-5,4]\n",
    "\n",
    "\n",
    "maxValue = 0 \n",
    "maxEnd = 0\n",
    "\n",
    "for i in L1:\n",
    "    maxEnd = maxEnd + i\n",
    "    \n",
    "    if maxValue<maxEnd:\n",
    "        maxValue=maxEnd\n",
    "    if maxEnd<0:\n",
    "        maxEnd=0\n",
    "    \n",
    "print(maxValue)\n",
    "\n",
    "    "
   ]
  },
  {
   "cell_type": "code",
   "execution_count": null,
   "metadata": {},
   "outputs": [],
   "source": []
  },
  {
   "cell_type": "code",
   "execution_count": null,
   "metadata": {},
   "outputs": [],
   "source": []
  },
  {
   "cell_type": "code",
   "execution_count": null,
   "metadata": {},
   "outputs": [],
   "source": []
  }
 ],
 "metadata": {
  "kernelspec": {
   "display_name": "Python 3 (ipykernel)",
   "language": "python",
   "name": "python3"
  },
  "language_info": {
   "codemirror_mode": {
    "name": "ipython",
    "version": 3
   },
   "file_extension": ".py",
   "mimetype": "text/x-python",
   "name": "python",
   "nbconvert_exporter": "python",
   "pygments_lexer": "ipython3",
   "version": "3.11.5"
  }
 },
 "nbformat": 4,
 "nbformat_minor": 4
}
