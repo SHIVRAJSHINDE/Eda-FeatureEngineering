{
 "cells": [
  {
   "cell_type": "code",
   "execution_count": 6,
   "id": "edc0970c-d1a3-483c-bd82-aa44e7051ea3",
   "metadata": {},
   "outputs": [
    {
     "data": {
      "text/plain": [
       "'sentence given a in words of order the reverse to function a Implement '"
      ]
     },
     "execution_count": 6,
     "metadata": {},
     "output_type": "execute_result"
    }
   ],
   "source": [
    "'''1)Write a Python program to reverse a string without using any built-in string reversal functions.'''\n",
    "'''17)20. Implement a function to reverse the order of words in a given sentence.'''\n",
    "\n",
    "# Optional 01\n",
    "\n",
    "abc = \"Implement a function to reverse the order of words in a given sentence\"\n",
    "\n",
    "abc = abc.split()\n",
    "newStr = \"\"\n",
    "for i in abc:\n",
    "    newStr = i + \" \" +  newStr \n",
    "\n",
    "newStr\n"
   ]
  },
  {
   "cell_type": "code",
   "execution_count": 27,
   "id": "f01c144a-d5c9-46a5-b40f-9de369d18601",
   "metadata": {},
   "outputs": [
    {
     "data": {
      "text/plain": [
       "'sentence given a in words of order the reverse to function a Implement'"
      ]
     },
     "execution_count": 27,
     "metadata": {},
     "output_type": "execute_result"
    }
   ],
   "source": [
    "# Optional 02\n",
    "abc = \"Implement a function to reverse the order of words in a given sentence\"\n",
    "\n",
    "abc = abc.split()\n",
    "abc.reverse()\n",
    "\n",
    "\" \".join(abc)\n"
   ]
  },
  {
   "cell_type": "code",
   "execution_count": 25,
   "id": "cc94991f-7bc2-46ae-91fa-1b9fe1d2c074",
   "metadata": {},
   "outputs": [
    {
     "data": {
      "text/plain": [
       "'sentence given a in words of order the reverse to function a Implement'"
      ]
     },
     "execution_count": 25,
     "metadata": {},
     "output_type": "execute_result"
    }
   ],
   "source": [
    "# Optional 03\n",
    "abc = \"Implement a function to reverse the order of words in a given sentence\"\n",
    "\n",
    "abc = abc.split()\n",
    "\n",
    "abc = list(reversed(abc))\n",
    "abc = \" \".join(abc)\n",
    "abc\n"
   ]
  },
  {
   "cell_type": "code",
   "execution_count": 22,
   "id": "085d4971-844c-4f36-b0ad-da86c16d632b",
   "metadata": {},
   "outputs": [
    {
     "data": {
      "text/plain": [
       "'ecnetnes nevig a ni sdrow fo redro eht esrever ot noitcnuf a tnemelpmI'"
      ]
     },
     "execution_count": 22,
     "metadata": {},
     "output_type": "execute_result"
    }
   ],
   "source": [
    "\"Option 03\"\n",
    "abc = \"Implement a function to reverse the order of words in a given sentence\"\n",
    "\n",
    "abc = abc[::-1]\n",
    "abc\n"
   ]
  },
  {
   "cell_type": "code",
   "execution_count": 34,
   "id": "d93f49f2-1bc5-427d-b596-ae0bced8eb9e",
   "metadata": {},
   "outputs": [
    {
     "name": "stdout",
     "output_type": "stream",
     "text": [
      "Palindrome Number\n"
     ]
    }
   ],
   "source": [
    "'''2)Implement a function to check if a given string is a palindrome.'''\n",
    "# original string and reverse of same string are same.\n",
    "word = \"madam\"\n",
    "newWord = \"\"\n",
    "\n",
    "for i in word:\n",
    "    newWord = i+newWord\n",
    "\n",
    "if word == newWord:\n",
    "    print(\"Palindrome Name\")\n",
    "else:\n",
    "    print(\"Not Palindrome\")\n",
    "    "
   ]
  },
  {
   "cell_type": "code",
   "execution_count": 35,
   "id": "76d3b337-9e86-42e9-8766-e4d16d47e0cc",
   "metadata": {},
   "outputs": [
    {
     "name": "stdout",
     "output_type": "stream",
     "text": [
      "Palindrome Number\n"
     ]
    }
   ],
   "source": [
    "'''option 02 using slicing of List'''\n",
    "\n",
    "newWord = word[::-1]\n",
    "\n",
    "if word == newWord:\n",
    "    print(\"Palindrome Number\")\n",
    "else:\n",
    "    print(\"Not Palindrome\")\n"
   ]
  },
  {
   "cell_type": "code",
   "execution_count": 49,
   "id": "43935922-6448-4901-85b4-9d7e740a3212",
   "metadata": {},
   "outputs": [
    {
     "name": "stdout",
     "output_type": "stream",
     "text": [
      "400000\n"
     ]
    }
   ],
   "source": [
    "'''3)Write a program to find the largest element in a given list.'''\n",
    "\n",
    "list1 = [1000, 39, 101, 20, 400000]\n",
    "\n",
    "largestNumber = list1[0]\n",
    "\n",
    "for i in list1:\n",
    "    if i>largestNumber:\n",
    "        largestNumber=i\n",
    "\n",
    "print(largestNumber)\n",
    "\n"
   ]
  },
  {
   "cell_type": "code",
   "execution_count": 53,
   "id": "f16b7df9-f1b9-414b-859e-f75454f62a45",
   "metadata": {},
   "outputs": [
    {
     "name": "stdout",
     "output_type": "stream",
     "text": [
      "-4\n"
     ]
    }
   ],
   "source": [
    "'''4)Write a program to find the smallest element in a given list.'''\n",
    "\n",
    "list1 = [1, 39, 100001, 20, -4]\n",
    "\n",
    "smallestNumber = list1[0]\n",
    "\n",
    "for i in list1:\n",
    "    if i<smallestNumber:\n",
    "        smallestNumber=i\n",
    "\n",
    "print(smallestNumber)\n"
   ]
  },
  {
   "cell_type": "code",
   "execution_count": 73,
   "id": "9f8f3f15-62ad-4de9-8b3e-32da526b57a1",
   "metadata": {},
   "outputs": [
    {
     "name": "stdout",
     "output_type": "stream",
     "text": [
      "9\n"
     ]
    }
   ],
   "source": [
    "# -----------------------------------------\n",
    "\n",
    "'''5)Write a Python program to find the second largest number in a list.'''\n",
    "\n",
    "list1 = [10, 9, 1, 2, 4]\n",
    "\n",
    "largestNumber = list1[0]\n",
    "secondLargNum = 0\n",
    "\n",
    "for i in list1:\n",
    "    if i>largestNumber:\n",
    "        largestNumber=i\n",
    "\n",
    "\n",
    "for i in list1:\n",
    "    if i>secondLargNum and i<largestNumber:\n",
    "        secondLargNum=i\n",
    "\n",
    "print(secondLargNum)\n",
    "    "
   ]
  },
  {
   "cell_type": "code",
   "execution_count": 74,
   "id": "7785e6a4-1083-4bfd-a60b-397daa4617ec",
   "metadata": {},
   "outputs": [
    {
     "data": {
      "text/plain": [
       "{'Implement', 'a', 'count', 'function', 'the', 'to'}"
      ]
     },
     "execution_count": 74,
     "metadata": {},
     "output_type": "execute_result"
    }
   ],
   "source": [
    "'''6)Implement a function to remove duplicate elements from a list.'''\n",
    "\n",
    "'''option 01 Using Set'''\n",
    "abc = ['Implement','Implement', 'a', 'function', 'to', 'count', 'the', 'to', 'count', 'the']\n",
    "\n",
    "abc = set(abc)\n",
    "\n",
    "abc\n"
   ]
  },
  {
   "cell_type": "code",
   "execution_count": 77,
   "id": "1b733560-20c9-4afe-a82b-86fe665b931c",
   "metadata": {},
   "outputs": [
    {
     "name": "stdout",
     "output_type": "stream",
     "text": [
      "['Implement', 'a', 'function', 'to', 'count', 'the']\n"
     ]
    }
   ],
   "source": [
    "'''Option 02 using Loop'''\n",
    "abc = ['Implement','Implement', 'a', 'function', 'to', 'count', 'the', 'to', 'count', 'the']\n",
    "uniqueList = []\n",
    "for i in abc:\n",
    "    if i not in uniqueList:\n",
    "        uniqueList.append(i)\n",
    "\n",
    "print(uniqueList)\n"
   ]
  },
  {
   "cell_type": "code",
   "execution_count": 85,
   "id": "84adecd9-cdef-44bf-9558-bec642c47a3d",
   "metadata": {},
   "outputs": [
    {
     "data": {
      "text/plain": [
       "['Implement', 'a', 'function', 'to', 'count', 'the']"
      ]
     },
     "execution_count": 85,
     "metadata": {},
     "output_type": "execute_result"
    }
   ],
   "source": [
    "'''Option 03 using Dictionary'''\n",
    "abc = ['Implement','Implement', 'a', 'function', 'to', 'count', 'the', 'to', 'count', 'the']\n",
    "newDict={}\n",
    "\n",
    "\n",
    "for i in abc:\n",
    "    if i not in newDict:\n",
    "        newDict[i]=1\n",
    "    else:\n",
    "        newDict[i]=newDict[i]+1\n",
    "\n",
    "list(newDict.keys())\n"
   ]
  },
  {
   "cell_type": "code",
   "execution_count": 90,
   "id": "75c7cb23-7c7f-4699-9982-19166e37ca94",
   "metadata": {},
   "outputs": [
    {
     "name": "stdout",
     "output_type": "stream",
     "text": [
      "1\n",
      "2\n",
      "6\n",
      "24\n",
      "120\n",
      "720\n",
      "5040\n",
      "40320\n",
      "362880\n",
      "3628800\n"
     ]
    }
   ],
   "source": [
    "'''7)Write a program to calculate the factorial of a given number.'''\n",
    "\n",
    "num = 10\n",
    "factNum = 1\n",
    "for i in range(1,num+1):\n",
    "    factNum=i*factNum\n",
    "    print(factNum)\n",
    "    \n"
   ]
  },
  {
   "cell_type": "code",
   "execution_count": 94,
   "id": "c3afba61-9fd3-41f3-8090-430c68f9dab0",
   "metadata": {},
   "outputs": [
    {
     "name": "stdout",
     "output_type": "stream",
     "text": [
      "its a prime number\n"
     ]
    }
   ],
   "source": [
    "'''8)Implement a function to check if a given number is prime.'''\n",
    "num = 5\n",
    "count = 0\n",
    "for i in range(1,num+1):\n",
    "    if num%i==0:\n",
    "        count=count+1\n",
    "    if count>2:\n",
    "        print(\"Not Prime\")\n",
    "        break\n",
    "        \n",
    "if count==2:\n",
    "    print(\"its a prime number\")\n"
   ]
  },
  {
   "cell_type": "code",
   "execution_count": 97,
   "id": "784d0ad8-646d-475f-bed8-d9f0efe33e3a",
   "metadata": {},
   "outputs": [
    {
     "name": "stdout",
     "output_type": "stream",
     "text": [
      "[10, 20, 39, 40, 50, 51, 100]\n"
     ]
    }
   ],
   "source": [
    "'''9)Write a Python program to sort a list of integers in ascending order.'''\n",
    "'Option 01 using in build Function'\n",
    "abc = [51,10,39,100,20,50,40]\n",
    "\n",
    "abc.sort()\n",
    "print(abc)\n"
   ]
  },
  {
   "cell_type": "code",
   "execution_count": 100,
   "id": "66d1a282-62e6-4693-9bb0-e86abf51c533",
   "metadata": {},
   "outputs": [
    {
     "data": {
      "text/plain": [
       "[10, 20, 39, 40, 50, 51, 100]"
      ]
     },
     "execution_count": 100,
     "metadata": {},
     "output_type": "execute_result"
    }
   ],
   "source": [
    "'Option 02 using in build Function'\n",
    "abc = [51,10,39,100,20,50,40]\n",
    "\n",
    "newAbc = sorted(abc)\n",
    "newAbc\n"
   ]
  },
  {
   "cell_type": "code",
   "execution_count": null,
   "id": "5e7496f4-4121-46d9-abcf-3dccfc4c577c",
   "metadata": {},
   "outputs": [],
   "source": [
    "'Option 03 Using LOOP'\n",
    "\n",
    "\n"
   ]
  },
  {
   "cell_type": "code",
   "execution_count": 104,
   "id": "0ba462b5-ef7a-4edc-8490-e7eab83ecdf9",
   "metadata": {},
   "outputs": [
    {
     "name": "stdout",
     "output_type": "stream",
     "text": [
      "310\n"
     ]
    }
   ],
   "source": [
    "'''10)Implement a function to find the sum of all numbers in a list.'''\n",
    "\n",
    "'Option One'\n",
    "abc = [51,10,39,100,20,50,40]\n",
    "newSum = 0\n",
    "\n",
    "for i in abc:\n",
    "    newSum=newSum+i\n",
    "\n",
    "print(newSum)\n"
   ]
  },
  {
   "cell_type": "code",
   "execution_count": 103,
   "id": "201d2dbb-4613-40aa-bde0-0b7ccad2297c",
   "metadata": {},
   "outputs": [
    {
     "data": {
      "text/plain": [
       "310"
      ]
     },
     "execution_count": 103,
     "metadata": {},
     "output_type": "execute_result"
    }
   ],
   "source": [
    "sum(abc)\n"
   ]
  },
  {
   "cell_type": "code",
   "execution_count": 107,
   "id": "4f1b5c71-63a8-4252-b108-cf43700944f5",
   "metadata": {},
   "outputs": [
    {
     "data": {
      "text/plain": [
       "[4, 8]"
      ]
     },
     "execution_count": 107,
     "metadata": {},
     "output_type": "execute_result"
    }
   ],
   "source": [
    "'''11)Write a program to find the common elements between two lists.'''\n",
    "'''17. Write a Python program to find the intersection(commong element from two list) of two lists.'''\n",
    "\n",
    "list1 = [1,2,4,8]\n",
    "list2 = [4,8,5,10]\n",
    "commonList = []\n",
    "\n",
    "for i in list1:\n",
    "    for j in list2:\n",
    "        if i==j:\n",
    "            commonList.append(i)\n",
    "\n",
    "\n",
    "commonList"
   ]
  },
  {
   "cell_type": "code",
   "execution_count": 116,
   "id": "e75237c8-3c58-4c2b-845d-0e1a09e26ac5",
   "metadata": {},
   "outputs": [
    {
     "name": "stdout",
     "output_type": "stream",
     "text": [
      "Anagram\n"
     ]
    }
   ],
   "source": [
    "'''12)Implement a function to check if a given string is an anagram of another string.'''\n",
    "\n",
    "# Option One\n",
    "strOne = \"listen\"\n",
    "strTwo = 'silent'\n",
    "if len(strOne)!=len(strTwo):\n",
    "    print(\"Not Anagram\")\n",
    "else:\n",
    "    \" \".join(sorted(strOne)) == \" \".join(sorted(strTwo))\n",
    "    print(\"Anagram\")\n"
   ]
  },
  {
   "cell_type": "code",
   "execution_count": 111,
   "id": "f8578247-0727-4bce-90c3-8c5dcc338e18",
   "metadata": {},
   "outputs": [
    {
     "data": {
      "text/plain": [
       "['e', 'i', 'l', 'n', 's', 't']"
      ]
     },
     "execution_count": 111,
     "metadata": {},
     "output_type": "execute_result"
    }
   ],
   "source": [
    "# Option Two\n",
    "strOne = \"listen\"\n",
    "strTwo = 'silent'\n",
    "if len(strOne)!=len(strTwo):\n",
    "    print(\"Not Anagram\")\n",
    "else:\n",
    "    \" \".join(sorted(strOne)) == \" \".join(sorted(strTwo))\n",
    "    print(\"Anagram\")\n"
   ]
  },
  {
   "cell_type": "code",
   "execution_count": 129,
   "id": "905d2c89-70a8-412b-b9e9-e53283486b17",
   "metadata": {},
   "outputs": [
    {
     "name": "stdout",
     "output_type": "stream",
     "text": [
      "1\n",
      "2\n",
      "3\n",
      "5\n",
      "8\n",
      "13\n",
      "21\n",
      "34\n",
      "55\n",
      "89\n"
     ]
    }
   ],
   "source": [
    "'''13)Implement a function to calculate the Fibonacci sequence up to a given number of terms.'''\n",
    "\n",
    "num = 10\n",
    "NumOne=0\n",
    "NumTwo=1\n",
    "NumThree=3\n",
    "\n",
    "for i in range(1,num+1):\n",
    "    NumThree = NumOne + NumTwo\n",
    "    NumOne = NumTwo\n",
    "    NumTwo = NumThree\n",
    "    \n",
    "    print(NumThree)\n"
   ]
  },
  {
   "cell_type": "code",
   "execution_count": 130,
   "id": "61ea569d-b724-46c8-8594-5036d131c1be",
   "metadata": {},
   "outputs": [
    {
     "name": "stdout",
     "output_type": "stream",
     "text": [
      "[10, 20, 39, 40, 50, 51, 100, 101]\n",
      "45.0\n"
     ]
    },
    {
     "data": {
      "text/plain": [
       "''"
      ]
     },
     "execution_count": 130,
     "metadata": {},
     "output_type": "execute_result"
    }
   ],
   "source": [
    "'''14)Write a program to find the median of a list of numbers.'''\n",
    "abc = [51,10,39,100,20,50,40,101]\n",
    "\n",
    "abc = sorted(abc)\n",
    "\n",
    "print(abc)\n",
    "\n",
    "\n",
    "if len(abc)%2 != 0:\n",
    "    print(abc[len(abc)//2])\n",
    "else:\n",
    "    print((abc[len(abc)//2-1] + abc[len(abc)//2])/2)\n",
    "\n",
    "''''''\n"
   ]
  },
  {
   "cell_type": "code",
   "execution_count": 134,
   "id": "a8abcd48-3169-4c53-b472-1f07844d99fb",
   "metadata": {},
   "outputs": [
    {
     "data": {
      "text/plain": [
       "'Wr_t_ _ pr_gr_m t_ r_m_v_ _ll v_w_ls fr_m _ g_v_n str_ng'"
      ]
     },
     "execution_count": 134,
     "metadata": {},
     "output_type": "execute_result"
    }
   ],
   "source": [
    "'''16)19. Write a program to remove all vowels from a given string.'''\n",
    "\n",
    "vovels = 'aeiouAEIOU'\n",
    "oneString = \"Write a program to remove all vowels from a given string\"\n",
    "\n",
    "for i in oneString:\n",
    "    if i in vovels:\n",
    "        oneString = oneString.replace(i,\"_\")\n",
    "\n",
    "oneString\n"
   ]
  },
  {
   "cell_type": "code",
   "execution_count": 139,
   "id": "2a3f92d7-100c-47d6-929a-ce0c0bcf8019",
   "metadata": {},
   "outputs": [
    {
     "name": "stdout",
     "output_type": "stream",
     "text": [
      "10\n",
      "5\n",
      "20 is Not power of 2\n"
     ]
    }
   ],
   "source": [
    "'''21)24. Implement a function to check if a given number is a power of two.'''\n",
    "\n",
    "numOne = 20\n",
    "numTwo = numOne\n",
    "\n",
    "while numTwo>1 and numTwo%2==0:\n",
    "    numTwo=numTwo//2\n",
    "    print(numTwo)\n",
    "\n",
    "if numTwo==1:\n",
    "    print(numOne,\"is a power of 2\")\n",
    "else:\n",
    "    print(numOne,\"is Not power of 2\")\n",
    "\n"
   ]
  },
  {
   "cell_type": "code",
   "execution_count": 146,
   "id": "65aafaf9-97b7-42d2-982d-74721293aaff",
   "metadata": {},
   "outputs": [
    {
     "name": "stdout",
     "output_type": "stream",
     "text": [
      "10  : is Not a perfect Square\n"
     ]
    }
   ],
   "source": [
    "'''28)35. Write a program to check if a given number is a perfect square.'''\n",
    "num=10\n",
    "\n",
    "for i in range(num):\n",
    "    if i * i ==num:\n",
    "        print(num,\" : is a perfect Square\")\n",
    "        break\n",
    "    \n",
    "else:\n",
    "    print(num,\" : is Not a perfect Square\")\n"
   ]
  },
  {
   "cell_type": "code",
   "execution_count": 156,
   "id": "9f46191c-1d8d-44f0-9661-1c798d4f64c7",
   "metadata": {},
   "outputs": [
    {
     "name": "stdout",
     "output_type": "stream",
     "text": [
      "GCD is:  10\n"
     ]
    }
   ],
   "source": [
    "'''23)27. Write a program to find the greatest common divisor (GCD) of two numbers.'''\n",
    "\n",
    "num1 = 20\n",
    "num2 = 30\n",
    "newValue = 0\n",
    "\n",
    "if num1<num1:\n",
    "    newValue=num1\n",
    "else:\n",
    "    newValue=num2\n",
    "\n",
    "\n",
    "for i in range(newValue,1,-1):\n",
    "    if num1%i==0 and num2%i==0:\n",
    "        print(\"GCD is: \",i)\n",
    "        break\n",
    "\n"
   ]
  },
  {
   "cell_type": "code",
   "execution_count": 158,
   "id": "cb0ebccd-23ef-4cd6-8931-fa118c5ef5c9",
   "metadata": {},
   "outputs": [
    {
     "data": {
      "text/plain": [
       "4.0"
      ]
     },
     "execution_count": 158,
     "metadata": {},
     "output_type": "execute_result"
    }
   ],
   "source": [
    "'''24)28. Implement a function to calculate the square root of a given number.'''\n",
    "'''Option 01'''\n",
    "\n",
    "\n",
    "import math as m\n",
    "num =16\n",
    "m.sqrt(num)\n",
    "\n"
   ]
  },
  {
   "cell_type": "code",
   "execution_count": 159,
   "id": "a64523c6-0345-4880-91c3-754a39cb3be4",
   "metadata": {},
   "outputs": [
    {
     "data": {
      "text/plain": [
       "4.0"
      ]
     },
     "execution_count": 159,
     "metadata": {},
     "output_type": "execute_result"
    }
   ],
   "source": [
    "'''Option 02'''\n",
    "num1 =16\n",
    "\n",
    "num1**0.5\n"
   ]
  },
  {
   "cell_type": "code",
   "execution_count": 163,
   "id": "ebebb19a-d2d5-4169-8c6d-3a39e75fa713",
   "metadata": {},
   "outputs": [
    {
     "data": {
      "text/plain": [
       "10"
      ]
     },
     "execution_count": 163,
     "metadata": {},
     "output_type": "execute_result"
    }
   ],
   "source": [
    "'''25)\t31. Write a program to find the sum of all even numbers in a list.'''\n",
    "# Option One\n",
    "\n",
    "l1 = [2,1,2,4,2]\n",
    "newSum = 0\n",
    "for i in l1:\n",
    "    if i%2==0:\n",
    "        newSum = newSum+i\n",
    "newSum\n",
    "\n"
   ]
  },
  {
   "cell_type": "code",
   "execution_count": 180,
   "id": "231533b5-b132-4ef6-912c-95395ec5fe11",
   "metadata": {},
   "outputs": [
    {
     "name": "stdout",
     "output_type": "stream",
     "text": [
      "21\n"
     ]
    }
   ],
   "source": [
    "# Option Two\n",
    "\n",
    "from functools import reduce\n",
    "\n",
    "# Define a function that takes two arguments: accumulator and current item\n",
    "def process_numbers(acc, x):\n",
    "    if x % 2 == 0:\n",
    "        x = x + x  # Double the number if it's even\n",
    "    return acc + x  # Add the processed number to the accumulator\n",
    "\n",
    "l1 = [2, 1, 2, 4, 2]\n",
    "\n",
    "\n",
    "result = reduce(process_numbers, l1, 0)  \n",
    "print(result)  \n",
    "\n"
   ]
  },
  {
   "cell_type": "code",
   "execution_count": 176,
   "id": "617978b1-d8e6-413f-b2bc-274f8a835826",
   "metadata": {},
   "outputs": [
    {
     "name": "stdout",
     "output_type": "stream",
     "text": [
      "40320\n"
     ]
    }
   ],
   "source": [
    "\n",
    "'''29)36. Implement a function to calculate the product of all elements in a list.'''\n",
    "# Option One\n",
    "list1 = [1, 2, 3, 14, 6, 8, 10]\n",
    "newSum = 1\n",
    "\n",
    "for i in list1:\n",
    "    newSum = i * newSum\n",
    "\n",
    "print(newSum)\n"
   ]
  },
  {
   "cell_type": "code",
   "execution_count": 178,
   "id": "d7099c21-ee33-4c29-b155-87486ba35407",
   "metadata": {},
   "outputs": [
    {
     "data": {
      "text/plain": [
       "40320"
      ]
     },
     "execution_count": 178,
     "metadata": {},
     "output_type": "execute_result"
    }
   ],
   "source": [
    "# Option Two\n",
    "from functools import reduce\n",
    "def prodOfElement(x,y):\n",
    "    return x * y\n",
    "    \n",
    "list1 = [1, 2, 3, 14, 6, 8, 10]\n",
    "\n",
    "reduce(prodOfElement,list1)\n"
   ]
  },
  {
   "cell_type": "code",
   "execution_count": null,
   "id": "54c3e227-ba5f-4081-ad52-5792dc6e71ba",
   "metadata": {},
   "outputs": [],
   "source": [
    "'''31)38. Implement a function to find the missing number in a given list of consecutive numbers.'''\n",
    "\n",
    "l = [1,2,4]\n",
    "\n",
    "CurrentSum = sum(l)\n",
    "lenOfL = len(l)+1\n",
    "SumShouldBeWithMissingElement = lenOfL*(lenOfL+1)/2\n",
    "\n",
    "print(CurrentSum)\n",
    "print(SumShouldBeWithMissingElement)\n",
    "missingIterm = SumShouldBeWithMissingElement - CurrentSum\n",
    "missingIterm\n"
   ]
  },
  {
   "cell_type": "code",
   "execution_count": 186,
   "id": "3e1be38b-a8fd-4104-b38e-91262308c313",
   "metadata": {},
   "outputs": [
    {
     "name": "stdout",
     "output_type": "stream",
     "text": [
      "15\n"
     ]
    }
   ],
   "source": [
    "'''32)39. Write a program to find the sum of the digits of a given number.'''\n",
    "# Option One\n",
    "num = 456\n",
    "newNum = str(num)\n",
    "sumNew = 0\n",
    "\n",
    "for i in newNum:\n",
    "    sumNew = int(i) + sumNew\n",
    "\n",
    "print(sumNew)\n"
   ]
  },
  {
   "cell_type": "code",
   "execution_count": 195,
   "id": "46ba45b7-ebf7-480e-9b99-0a946b47e5d2",
   "metadata": {},
   "outputs": [
    {
     "name": "stdout",
     "output_type": "stream",
     "text": [
      "15\n"
     ]
    }
   ],
   "source": [
    "# Option Two\n",
    "num = 456\n",
    "newNum = str(num)\n",
    "sumNew = 0\n",
    "\n",
    "\n",
    "for i in newNum:\n",
    "    sumNew = sumNew + num%10\n",
    "    num = num//10\n",
    "\n",
    "print(sumNew)\n"
   ]
  },
  {
   "cell_type": "code",
   "execution_count": 197,
   "id": "b5c0d601-0167-453a-8993-62694c4b5ba4",
   "metadata": {},
   "outputs": [
    {
     "data": {
      "text/plain": [
       "2"
      ]
     },
     "execution_count": 197,
     "metadata": {},
     "output_type": "execute_result"
    }
   ],
   "source": [
    "'''33)43. Write a program to find the number of occurrences of a given element in a list.'''\n",
    "'''Optiona 01'''\n",
    "l1 = [1,2,3,4,5,6,7,8,9,10,11,1]\n",
    "giveEle = 1\n",
    "\n",
    "l1.count(giveEle)\n"
   ]
  },
  {
   "cell_type": "code",
   "execution_count": 199,
   "id": "05318b37-878f-43ca-98d5-4f0d7a6126c3",
   "metadata": {},
   "outputs": [
    {
     "name": "stdout",
     "output_type": "stream",
     "text": [
      "2\n"
     ]
    }
   ],
   "source": [
    "'''Optiona 02'''\n",
    "count = 0\n",
    "giveEle = 1\n",
    "\n",
    "for i in l1:\n",
    "    if giveEle==i:\n",
    "        count = count+1\n",
    "\n",
    "print(count)\n",
    "    \n",
    "    "
   ]
  },
  {
   "cell_type": "code",
   "execution_count": 209,
   "id": "fcc45d9d-a13e-4d1c-a431-6f417d3ed3ac",
   "metadata": {},
   "outputs": [
    {
     "name": "stdout",
     "output_type": "stream",
     "text": [
      "Yes\n"
     ]
    }
   ],
   "source": [
    "'''34)44. Implement a function to check if a given number is a perfect number.'''\n",
    "\n",
    "num = 28\n",
    "sum1 = 0\n",
    "\n",
    "for i in range(1,num):\n",
    "    if num%i==0:\n",
    "        sum1 = sum1 + i\n",
    "    if sum1==num:\n",
    "        print(\"yes it is perfect Nubmer\")\n",
    "        break\n",
    "else:\n",
    "    print(\"No it is Not perfect Nubmer\")\n",
    "\n"
   ]
  },
  {
   "cell_type": "code",
   "execution_count": 211,
   "id": "7ee8a0c1-2417-4a97-ad1f-6a295c1ef43d",
   "metadata": {},
   "outputs": [
    {
     "data": {
      "text/plain": [
       "'dcba'"
      ]
     },
     "execution_count": 211,
     "metadata": {},
     "output_type": "execute_result"
    }
   ],
   "source": [
    "'''35)45. Write a Python program to remove all duplicates from a string.'''\n",
    "# Option One using string and Loop\n",
    "\n",
    "s = \"aabbccdd\"\n",
    "newStr = \"\"\n",
    "\n",
    "for i in s:\n",
    "    if i not in newStr:\n",
    "        newStr = i + newStr\n",
    "\n",
    "newStr\n"
   ]
  },
  {
   "cell_type": "code",
   "execution_count": 215,
   "id": "fdd1fd4b-4393-4439-9807-db9ddb17d92a",
   "metadata": {},
   "outputs": [
    {
     "data": {
      "text/plain": [
       "'abcd'"
      ]
     },
     "execution_count": 215,
     "metadata": {},
     "output_type": "execute_result"
    }
   ],
   "source": [
    "# Option Two using List\n",
    "s = \"aabbccdd\"\n",
    "newList = []\n",
    "for i in s:\n",
    "    if i not in newList:\n",
    "        newList.append(i)\n",
    "        \n",
    "\"\".join(newList)\n"
   ]
  },
  {
   "cell_type": "code",
   "execution_count": null,
   "id": "5ca5cd7b-11c5-4e7b-b04c-3203c437bba6",
   "metadata": {},
   "outputs": [],
   "source": [
    "# Option Three using List\n",
    "s = \"aabbccdd\"\n",
    "newList = []\n",
    "for i in s:\n",
    "    if i not in newList:\n",
    "        newList.append(i)\n",
    "        \n",
    "\"\".join(newList)\n"
   ]
  },
  {
   "cell_type": "code",
   "execution_count": 230,
   "id": "b193fc5d-44d2-4682-8f8a-85f2118115b6",
   "metadata": {},
   "outputs": [
    {
     "name": "stdout",
     "output_type": "stream",
     "text": [
      "adfff\n"
     ]
    }
   ],
   "source": [
    "'''Find Logest String'''\n",
    "input_string = \"rrr9adfff45\"\n",
    "oneString = \"\"\n",
    "twoString = \"\"\n",
    "for i in input_string:\n",
    "    if i.isalpha() == True:\n",
    "        oneString = oneString+i\n",
    "    else:\n",
    "        if len(oneString)>len(twoString):\n",
    "            twoString = oneString\n",
    "            oneString = \"\"\n",
    "if len(twoString)>len(oneString):\n",
    "    print(twoString)\n",
    "else:\n",
    "    print(oneString)\n"
   ]
  }
 ],
 "metadata": {
  "kernelspec": {
   "display_name": "Python 3 (ipykernel)",
   "language": "python",
   "name": "python3"
  },
  "language_info": {
   "codemirror_mode": {
    "name": "ipython",
    "version": 3
   },
   "file_extension": ".py",
   "mimetype": "text/x-python",
   "name": "python",
   "nbconvert_exporter": "python",
   "pygments_lexer": "ipython3",
   "version": "3.11.7"
  }
 },
 "nbformat": 4,
 "nbformat_minor": 5
}
