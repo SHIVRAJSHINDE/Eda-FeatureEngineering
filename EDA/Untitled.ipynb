{
 "cells": [
  {
   "cell_type": "code",
   "execution_count": 29,
   "metadata": {},
   "outputs": [
    {
     "data": {
      "text/plain": [
       "'g'"
      ]
     },
     "execution_count": 29,
     "metadata": {},
     "output_type": "execute_result"
    }
   ],
   "source": [
    "class car:\n",
    "    def __init__(self,body,engin,tyre):\n",
    "        self.body = body\n",
    "        self.engin = engin\n",
    "        self.tyre = tyre\n",
    "    \n",
    "    def milage(self):\n",
    "        return \"mileage of this car\"\n",
    "\n",
    "\n",
    "c = car(\"g\",\"b\",\"t\")\n",
    "#print(c)\n",
    "        \n",
    "class tata(car):\n",
    "    pass\n",
    "\n",
    "t = tata(\"v\",\"g\",\"b\")\n",
    "\n",
    "t.engin"
   ]
  },
  {
   "cell_type": "code",
   "execution_count": 30,
   "metadata": {},
   "outputs": [
    {
     "data": {
      "text/plain": [
       "'artifacts\\\\data.csv'"
      ]
     },
     "execution_count": 30,
     "metadata": {},
     "output_type": "execute_result"
    }
   ],
   "source": [
    "import os\n",
    "\n",
    "train_data_path:str = os.path.join('artifacts',\"train.csv\")\n",
    "test_data_path:str = os.path.join('artifacts',\"test.csv\")\n",
    "raw_data_path:str = os.path.join('artifacts',\"data.csv\")\n",
    "\n",
    "raw_data_path"
   ]
  },
  {
   "cell_type": "code",
   "execution_count": 31,
   "metadata": {},
   "outputs": [],
   "source": [
    "import os\n",
    "import sys\n",
    "\n",
    "import pandas as pd\n",
    "\n",
    "from sklearn.model_selection import train_test_split\n",
    "from dataclasses import dataclass\n"
   ]
  },
  {
   "cell_type": "code",
   "execution_count": 32,
   "metadata": {},
   "outputs": [],
   "source": [
    "import pandas as pd"
   ]
  },
  {
   "cell_type": "code",
   "execution_count": 33,
   "metadata": {},
   "outputs": [],
   "source": [
    "df = pd.read_csv(\"notebook/data/insurance.csv\")\n",
    "#logging.info('Read the ataset as dataframe')\n",
    "os.makedirs(os.path.dirname(train_data_path),exist_ok=True)\n",
    "df.to_csv(raw_data_path,index=False,header=True)\n",
    "\n",
    "train_set,test_set = train_test_split(df,test_size=0.2,random_state=42)\n",
    "train_set.to_csv(train_data_path,index=False,header=True)\n",
    "test_set.to_csv(test_data_path,index=False,header=True)\n",
    "#logging.info(\"Ingestion of the data is completed\")\n"
   ]
  },
  {
   "cell_type": "code",
   "execution_count": null,
   "metadata": {},
   "outputs": [],
   "source": []
  },
  {
   "cell_type": "code",
   "execution_count": null,
   "metadata": {},
   "outputs": [],
   "source": []
  },
  {
   "cell_type": "code",
   "execution_count": null,
   "metadata": {},
   "outputs": [],
   "source": []
  },
  {
   "cell_type": "code",
   "execution_count": null,
   "metadata": {},
   "outputs": [],
   "source": []
  },
  {
   "cell_type": "code",
   "execution_count": null,
   "metadata": {},
   "outputs": [],
   "source": []
  }
 ],
 "metadata": {
  "kernelspec": {
   "display_name": "Python 3",
   "language": "python",
   "name": "python3"
  },
  "language_info": {
   "codemirror_mode": {
    "name": "ipython",
    "version": 3
   },
   "file_extension": ".py",
   "mimetype": "text/x-python",
   "name": "python",
   "nbconvert_exporter": "python",
   "pygments_lexer": "ipython3",
   "version": "3.8.5"
  }
 },
 "nbformat": 4,
 "nbformat_minor": 4
}
