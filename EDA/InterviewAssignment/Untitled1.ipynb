{
 "cells": [
  {
   "cell_type": "code",
   "execution_count": 111,
   "metadata": {},
   "outputs": [
    {
     "name": "stdout",
     "output_type": "stream",
     "text": [
      "Enter 1st String: ddd\n",
      "Enter 2nd String: ff\n",
      "{'d'}\n",
      "{'f'}\n",
      "set()\n"
     ]
    }
   ],
   "source": [
    "\n",
    "\n",
    "\n",
    "'''Write a programm to find common letters'''\n",
    "\n",
    "def commonWOrds():\n",
    "    a = input(\"Enter 1st String: \")\n",
    "    b = input(\"Enter 2nd String: \")\n",
    "\n",
    "    a = set(a.lower())\n",
    "    b = set(b.lower())fff\n",
    "\n",
    "    lst = a & b\n",
    "\n",
    "    print(a)\n",
    "    print(b)\n",
    "    print(lst)\n",
    "commonWOrds()\n",
    "\n",
    "\n"
   ]
  },
  {
   "cell_type": "code",
   "execution_count": 112,
   "metadata": {},
   "outputs": [
    {
     "name": "stdout",
     "output_type": "stream",
     "text": [
      "{'write': 2, 'frequency': 2, 'of': 1, 'words': 1, 'aprrearing': 1, 'in': 1, 'string': 1}\n"
     ]
    }
   ],
   "source": [
    "''' write the prgram to count the frequency of words aprrearing in string '''\n",
    "\n",
    "a = \"write write frequency of words aprrearing in string frequency\"\n",
    "\n",
    "a = a.split()\n",
    "dictOne = {}\n",
    "for i in a:\n",
    "    if i in dictOne.keys():\n",
    "        dictOne[i] = dictOne[i]+ 1\n",
    "    else:\n",
    "        dictOne[i] = 1\n",
    "\n",
    "print(dictOne)"
   ]
  },
  {
   "cell_type": "code",
   "execution_count": 113,
   "metadata": {},
   "outputs": [
    {
     "data": {
      "text/plain": [
       "{'dsfsadf': 1, 'aadf': 1, 'csadf': 3}"
      ]
     },
     "execution_count": 113,
     "metadata": {},
     "output_type": "execute_result"
    }
   ],
   "source": [
    "'''Convert list to Dict'''\n",
    "\n",
    "a = ['dsfsadf','aadf','csadf']\n",
    "b = [1,1,3]\n",
    "\n",
    "abc = dict(zip(a,b))\n",
    "\n",
    "abc"
   ]
  },
  {
   "cell_type": "code",
   "execution_count": 114,
   "metadata": {},
   "outputs": [
    {
     "data": {
      "text/plain": [
       "[1, 2, 3, 4, 5, 6, 7, 8]"
      ]
     },
     "execution_count": 114,
     "metadata": {},
     "output_type": "execute_result"
    }
   ],
   "source": [
    "'''remove duplicate'''\n",
    "\n",
    "arr = [1,2,3,4,5,6,7,8,2,3,4,5]\n",
    "arr2 = []\n",
    "\n",
    "for i in arr:\n",
    "    if (i not in arr2):\n",
    "        arr2.append(i)\n",
    "        \n",
    "arr2"
   ]
  },
  {
   "cell_type": "code",
   "execution_count": null,
   "metadata": {},
   "outputs": [],
   "source": []
  },
  {
   "cell_type": "code",
   "execution_count": 115,
   "metadata": {},
   "outputs": [
    {
     "name": "stdout",
     "output_type": "stream",
     "text": [
      "{1, 2, 3, 4, 5, 6, 7, 8}\n"
     ]
    }
   ],
   "source": [
    "removeDuplicate = lambda arr: set(arr)\n",
    "print(removeDuplicate(arr))"
   ]
  },
  {
   "cell_type": "code",
   "execution_count": 116,
   "metadata": {},
   "outputs": [
    {
     "name": "stdout",
     "output_type": "stream",
     "text": [
      "10\n"
     ]
    }
   ],
   "source": [
    "'''find the biggest no in List'''\n",
    "\n",
    "abc = [1,8, 2, 3,10, 4, 5, 6, 7]\n",
    "\n",
    "\n",
    "length = (len(abc)-1)\n",
    "for i in range(0,length):\n",
    "    if abc[i]>abc[i+1]:\n",
    "        t = abc[i]\n",
    "print(t)"
   ]
  },
  {
   "cell_type": "code",
   "execution_count": 117,
   "metadata": {},
   "outputs": [
    {
     "name": "stdout",
     "output_type": "stream",
     "text": [
      "gg\n",
      "yy\n",
      "No its Not matching\n"
     ]
    }
   ],
   "source": [
    "''' check the rotated string '''\n",
    "\n",
    "str1 = input()\n",
    "str2 =  input()\n",
    "str1Len = len(str1)\n",
    "str2Len = len(str2)\n",
    "\n",
    "s = str1 + str1\n",
    "\n",
    "if str1Len != str2Len:\n",
    "    print(\"No its Not matching\")\n",
    "else:\n",
    "    if (str2 in s):\n",
    "        print(\"yes its matching\")\n",
    "    else:\n",
    "        print(\"No its Not matching\")\n",
    "\n",
    "\n"
   ]
  },
  {
   "cell_type": "code",
   "execution_count": 121,
   "metadata": {},
   "outputs": [
    {
     "name": "stdout",
     "output_type": "stream",
     "text": [
      "['sakharam', 'not', 'is', 'is', 'raje']\n"
     ]
    }
   ],
   "source": [
    "'''reverse string option 01'''\n",
    "abc = 'raje is is not sakharam'\n",
    "\n",
    "abc = abc.split()\n",
    "\n",
    "#abc[::-1]\n",
    "\n",
    "abc.reverse()\n",
    "print(abc)"
   ]
  },
  {
   "cell_type": "code",
   "execution_count": 151,
   "metadata": {},
   "outputs": [
    {
     "name": "stdout",
     "output_type": "stream",
     "text": [
      "sakharam not is raje\n"
     ]
    }
   ],
   "source": [
    "'''reverse string option 02'''\n",
    "abc = 'raje is not sakharam'\n",
    "abc = list(abc.split())\n",
    "xyz = [] \n",
    "\n",
    "abclen = (len(abc)-1)\n",
    "i=0\n",
    "while i <= abclen:\n",
    "    xyz.append(abc[abclen])\n",
    "    abclen = abclen-1\n",
    "a=\" \".join(xyz)\n",
    "print(a)"
   ]
  },
  {
   "cell_type": "code",
   "execution_count": 180,
   "metadata": {},
   "outputs": [
    {
     "name": "stdout",
     "output_type": "stream",
     "text": [
      "{'n': 2, 'e': 2, 's': 2, 't': 2, 'o': 1}\n",
      "index of:  o  is  8\n"
     ]
    }
   ],
   "source": [
    "'''FIRST non repeating charactor'''\n",
    "\n",
    "str_r = \"nestnesto\"\n",
    "abc = {}\n",
    "\n",
    "for i in str_r:\n",
    "    if i in abc:\n",
    "        abc[i] = abc[i] + 1\n",
    "        \n",
    "    else: \n",
    "        abc[i] = 1\n",
    "\n",
    "print(abc)\n",
    "\n",
    "for key, value in abc.items():\n",
    "    if (value==1):\n",
    "        r = key\n",
    "    \n",
    "\n",
    "if r in str_r :\n",
    "    print(\"index of: \" , r , \" is \" , str_r.index(r))\n",
    "            \n",
    "\n"
   ]
  },
  {
   "cell_type": "code",
   "execution_count": 2,
   "metadata": {},
   "outputs": [
    {
     "name": "stdout",
     "output_type": "stream",
     "text": [
      "[6, 12]\n"
     ]
    }
   ],
   "source": [
    "'''Compare two list optiona 01'''\n",
    "list1 = [2,4,6,8,10,12]\n",
    "list2 = [3,6,9,12,15,18]\n",
    "list3 = []\n",
    "\n",
    "for i in list1:\n",
    "    for j in list2:\n",
    "        if i==j:\n",
    "            list3.append(j)\n",
    "print(list3)\n",
    "            \n",
    "\n",
    "\n"
   ]
  },
  {
   "cell_type": "code",
   "execution_count": 27,
   "metadata": {},
   "outputs": [
    {
     "name": "stdout",
     "output_type": "stream",
     "text": [
      "{2: 1, 4: 1, 6: 1, 8: 1, 10: 1, 12: 1}\n",
      "6\n",
      "12\n"
     ]
    }
   ],
   "source": [
    "'''Compare two list optiona 02'''\n",
    "list1 = [2,4,6,8,10,12]\n",
    "list2 = [3,6,9,12,15,18]\n",
    "dict1 = {}\n",
    "\n",
    "for i in list1:\n",
    "    if i in dict1:\n",
    "        dict1[i] = dict1[i] + 1\n",
    "    else:\n",
    "        dict1[i] =  + 1\n",
    "\n",
    "print(dict1)\n",
    "\n",
    "for i in list2:\n",
    "    if dict1.get(i)!= None:\n",
    "        print(i)\n",
    "    \n"
   ]
  },
  {
   "cell_type": "code",
   "execution_count": 52,
   "metadata": {},
   "outputs": [
    {
     "name": "stdout",
     "output_type": "stream",
     "text": [
      "rajrajrajrajrakj\n"
     ]
    }
   ],
   "source": [
    "input_string = \"ra9ash45rajr\"\n",
    "current_String = ''\n",
    "longest_String = ''\n",
    "\n",
    "for i in input_string:\n",
    "    if i.isalpha():\n",
    "        current_String = current_String + i\n",
    "    else:\n",
    "        if len(current_String) > len(longest_String):\n",
    "            longest_String = current_String\n",
    "\n",
    "        current_String = ''\n",
    "if len(current_String) > len(longest_String):\n",
    "    longest_String = current_String\n",
    "\n",
    "\n",
    "\n",
    "print(longest_String)"
   ]
  },
  {
   "cell_type": "code",
   "execution_count": 36,
   "metadata": {},
   "outputs": [
    {
     "name": "stdout",
     "output_type": "stream",
     "text": [
      "Longest substring: qqqqqqqqqqqraj\n"
     ]
    }
   ],
   "source": []
  },
  {
   "cell_type": "code",
   "execution_count": null,
   "metadata": {},
   "outputs": [],
   "source": []
  },
  {
   "cell_type": "code",
   "execution_count": null,
   "metadata": {},
   "outputs": [],
   "source": []
  },
  {
   "cell_type": "code",
   "execution_count": null,
   "metadata": {},
   "outputs": [],
   "source": []
  },
  {
   "cell_type": "code",
   "execution_count": null,
   "metadata": {},
   "outputs": [],
   "source": []
  },
  {
   "cell_type": "code",
   "execution_count": null,
   "metadata": {},
   "outputs": [],
   "source": []
  }
 ],
 "metadata": {
  "kernelspec": {
   "display_name": "Python 3",
   "language": "python",
   "name": "python3"
  },
  "language_info": {
   "codemirror_mode": {
    "name": "ipython",
    "version": 3
   },
   "file_extension": ".py",
   "mimetype": "text/x-python",
   "name": "python",
   "nbconvert_exporter": "python",
   "pygments_lexer": "ipython3",
   "version": "3.8.5"
  }
 },
 "nbformat": 4,
 "nbformat_minor": 4
}
